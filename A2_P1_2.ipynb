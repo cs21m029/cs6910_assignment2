{
 "cells": [
  {
   "cell_type": "code",
   "execution_count": 1,
   "id": "4a3f4254-c364-4a70-87d4-380ade89b591",
   "metadata": {},
   "outputs": [],
   "source": [
    "import tensorflow as tf\n",
    "from tensorflow import keras\n",
    "\n",
    "no_of_filters = [8, 16, 16, 32, 32]\n",
    "kernel_size =   [3 , 5 , 5 , 5 , 5]\n",
    "activation  =   tf.nn.relu\n",
    "dense_layer = 100\n",
    "image_size = 200\n",
    "batch_size = 50\n",
    "epochs = 10"
   ]
  },
  {
   "cell_type": "code",
   "execution_count": 2,
   "id": "6e7234d4-0530-4e8c-be31-83bbcd212adc",
   "metadata": {},
   "outputs": [],
   "source": [
    "#TensorFlow - Building the Model\n",
    "modeltf = keras.Sequential([\n",
    "    \n",
    "    # layer1\n",
    "    keras.layers.Conv2D(input_shape=(image_size, image_size, 3), \n",
    "                filters=no_of_filters[0], kernel_size=kernel_size[0], strides=1, padding=\"same\", activation=activation),\n",
    "    keras.layers.AveragePooling2D(pool_size=2, strides=2),\n",
    "    \n",
    "    # layer2\n",
    "    keras.layers.Conv2D(no_of_filters[1], kernel_size=kernel_size[1], strides=1, padding=\"same\", activation=activation),\n",
    "    keras.layers.AveragePooling2D(pool_size=2, strides=2),\n",
    "    \n",
    "    # layer3\n",
    "    keras.layers.Conv2D(no_of_filters[2], kernel_size=kernel_size[2], strides=1, padding=\"same\", activation=activation),\n",
    "    keras.layers.AveragePooling2D(pool_size=2, strides=2),\n",
    "    \n",
    "    # layer4\n",
    "    keras.layers.Conv2D(no_of_filters[3], kernel_size=kernel_size[3], strides=1, padding=\"same\", activation=activation),\n",
    "    keras.layers.AveragePooling2D(pool_size=2, strides=2),\n",
    "    \n",
    "    # layer5\n",
    "    keras.layers.Conv2D(no_of_filters[4], kernel_size=kernel_size[4], strides=1, padding=\"same\", activation=activation),\n",
    "    keras.layers.AveragePooling2D(pool_size=2, strides=2),\n",
    "    \n",
    "    keras.layers.Flatten(),\n",
    "    \n",
    "    # dense layer\n",
    "    keras.layers.Dense(dense_layer, activation=activation),\n",
    "    \n",
    "    # output layer\n",
    "    keras.layers.Dense(10, activation=tf.nn.softmax)\n",
    "])"
   ]
  },
  {
   "cell_type": "code",
   "execution_count": 3,
   "id": "ffb0196c-cb11-4882-a66d-17dd6305f92b",
   "metadata": {},
   "outputs": [
    {
     "name": "stdout",
     "output_type": "stream",
     "text": [
      "Model: \"sequential\"\n",
      "_________________________________________________________________\n",
      "Layer (type)                 Output Shape              Param #   \n",
      "=================================================================\n",
      "conv2d (Conv2D)              (None, 200, 200, 8)       224       \n",
      "_________________________________________________________________\n",
      "average_pooling2d (AveragePo (None, 100, 100, 8)       0         \n",
      "_________________________________________________________________\n",
      "conv2d_1 (Conv2D)            (None, 100, 100, 16)      3216      \n",
      "_________________________________________________________________\n",
      "average_pooling2d_1 (Average (None, 50, 50, 16)        0         \n",
      "_________________________________________________________________\n",
      "conv2d_2 (Conv2D)            (None, 50, 50, 16)        6416      \n",
      "_________________________________________________________________\n",
      "average_pooling2d_2 (Average (None, 25, 25, 16)        0         \n",
      "_________________________________________________________________\n",
      "conv2d_3 (Conv2D)            (None, 25, 25, 32)        12832     \n",
      "_________________________________________________________________\n",
      "average_pooling2d_3 (Average (None, 12, 12, 32)        0         \n",
      "_________________________________________________________________\n",
      "conv2d_4 (Conv2D)            (None, 12, 12, 32)        25632     \n",
      "_________________________________________________________________\n",
      "average_pooling2d_4 (Average (None, 6, 6, 32)          0         \n",
      "_________________________________________________________________\n",
      "flatten (Flatten)            (None, 1152)              0         \n",
      "_________________________________________________________________\n",
      "dense (Dense)                (None, 100)               115300    \n",
      "_________________________________________________________________\n",
      "dense_1 (Dense)              (None, 10)                1010      \n",
      "=================================================================\n",
      "Total params: 164,630\n",
      "Trainable params: 164,630\n",
      "Non-trainable params: 0\n",
      "_________________________________________________________________\n"
     ]
    }
   ],
   "source": [
    "#TensorFlow - Visualizing the Model\n",
    "modeltf.compile(loss=keras.losses.categorical_crossentropy,\n",
    "                optimizer='adam',\n",
    "                metrics=['accuracy'])\n",
    "modeltf.summary()"
   ]
  },
  {
   "cell_type": "code",
   "execution_count": 4,
   "id": "57e599a9-5b55-4c43-a9be-6803569b327b",
   "metadata": {},
   "outputs": [
    {
     "name": "stdout",
     "output_type": "stream",
     "text": [
      "Found 9000 images belonging to 10 classes.\n",
      "Found 999 images belonging to 10 classes.\n",
      "Epoch 1/10\n",
      "180/180 [==============================] - 74s 370ms/step - loss: 2.2737 - accuracy: 0.1778 - val_loss: 2.1583 - val_accuracy: 0.2082\n",
      "Epoch 2/10\n",
      "180/180 [==============================] - 64s 353ms/step - loss: 2.0936 - accuracy: 0.2486 - val_loss: 2.1261 - val_accuracy: 0.2272\n",
      "Epoch 3/10\n",
      "180/180 [==============================] - 64s 355ms/step - loss: 2.0217 - accuracy: 0.2790 - val_loss: 2.0529 - val_accuracy: 0.2643\n",
      "Epoch 4/10\n",
      "180/180 [==============================] - 64s 356ms/step - loss: 1.9875 - accuracy: 0.2909 - val_loss: 2.0158 - val_accuracy: 0.2703\n",
      "Epoch 5/10\n",
      "180/180 [==============================] - 64s 353ms/step - loss: 1.9128 - accuracy: 0.3249 - val_loss: 2.0019 - val_accuracy: 0.2983\n",
      "Epoch 6/10\n",
      "180/180 [==============================] - 64s 353ms/step - loss: 1.8594 - accuracy: 0.3392 - val_loss: 1.9930 - val_accuracy: 0.3073\n",
      "Epoch 7/10\n",
      "180/180 [==============================] - 64s 353ms/step - loss: 1.7913 - accuracy: 0.3692 - val_loss: 1.9733 - val_accuracy: 0.3213\n",
      "Epoch 8/10\n",
      "180/180 [==============================] - 64s 353ms/step - loss: 1.7237 - accuracy: 0.3982 - val_loss: 2.0186 - val_accuracy: 0.2963\n",
      "Epoch 9/10\n",
      "180/180 [==============================] - 67s 373ms/step - loss: 1.6432 - accuracy: 0.4268 - val_loss: 2.0772 - val_accuracy: 0.2723\n",
      "Epoch 10/10\n",
      "180/180 [==============================] - 64s 354ms/step - loss: 1.5362 - accuracy: 0.4592 - val_loss: 2.0388 - val_accuracy: 0.3253\n"
     ]
    },
    {
     "data": {
      "text/plain": [
       "<keras.callbacks.History at 0x1c4cce2bcd0>"
      ]
     },
     "execution_count": 4,
     "metadata": {},
     "output_type": "execute_result"
    }
   ],
   "source": [
    "from keras.preprocessing.image import ImageDataGenerator\n",
    "\n",
    "\n",
    "\n",
    "train_datagen = ImageDataGenerator(validation_split=0.1)\n",
    "train_generator = train_datagen.flow_from_directory(\n",
    "        'inaturalist_12K/train',\n",
    "        target_size=(image_size, image_size),\n",
    "        batch_size= batch_size,\n",
    "        class_mode='categorical',\n",
    "        subset='training')\n",
    "\n",
    "validation_generator = train_datagen.flow_from_directory(\n",
    "        'inaturalist_12K/train',\n",
    "        target_size=(image_size, image_size),\n",
    "        batch_size= batch_size,\n",
    "        class_mode='categorical',\n",
    "        subset='validation')\n",
    "\n",
    "modeltf.fit(\n",
    "        train_generator,\n",
    "        steps_per_epoch=9000//batch_size,\n",
    "        epochs=epochs,\n",
    "        validation_data=validation_generator,\n",
    "        validation_steps=1000//batch_size)"
   ]
  },
  {
   "cell_type": "code",
   "execution_count": null,
   "id": "57cc5e72-c7f9-4e48-a6af-c7d060e33207",
   "metadata": {},
   "outputs": [],
   "source": []
  }
 ],
 "metadata": {
  "kernelspec": {
   "display_name": "Python 3 (ipykernel)",
   "language": "python",
   "name": "python3"
  },
  "language_info": {
   "codemirror_mode": {
    "name": "ipython",
    "version": 3
   },
   "file_extension": ".py",
   "mimetype": "text/x-python",
   "name": "python",
   "nbconvert_exporter": "python",
   "pygments_lexer": "ipython3",
   "version": "3.9.7"
  }
 },
 "nbformat": 4,
 "nbformat_minor": 5
}

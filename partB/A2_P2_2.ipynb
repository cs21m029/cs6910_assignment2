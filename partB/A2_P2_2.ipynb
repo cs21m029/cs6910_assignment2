{
 "cells": [
  {
   "cell_type": "code",
   "execution_count": 1,
   "id": "b328d40a-8690-4f28-ac71-3b5d00240746",
   "metadata": {},
   "outputs": [
    {
     "name": "stdout",
     "output_type": "stream",
     "text": [
      "Requirement already satisfied: wandb in c:\\users\\keyur\\anaconda3\\envs\\tf-gpu\\lib\\site-packages (0.12.14)\n",
      "Requirement already satisfied: sentry-sdk>=1.0.0 in c:\\users\\keyur\\anaconda3\\envs\\tf-gpu\\lib\\site-packages (from wandb) (1.5.8)\n",
      "Requirement already satisfied: promise<3,>=2.0 in c:\\users\\keyur\\anaconda3\\envs\\tf-gpu\\lib\\site-packages (from wandb) (2.3)\n",
      "Requirement already satisfied: PyYAML in c:\\users\\keyur\\anaconda3\\envs\\tf-gpu\\lib\\site-packages (from wandb) (6.0)\n",
      "Requirement already satisfied: GitPython>=1.0.0 in c:\\users\\keyur\\anaconda3\\envs\\tf-gpu\\lib\\site-packages (from wandb) (3.1.27)\n",
      "Requirement already satisfied: protobuf>=3.12.0 in c:\\users\\keyur\\anaconda3\\envs\\tf-gpu\\lib\\site-packages (from wandb) (3.17.2)\n",
      "Requirement already satisfied: pathtools in c:\\users\\keyur\\anaconda3\\envs\\tf-gpu\\lib\\site-packages (from wandb) (0.1.2)\n",
      "Requirement already satisfied: requests<3,>=2.0.0 in c:\\users\\keyur\\anaconda3\\envs\\tf-gpu\\lib\\site-packages (from wandb) (2.27.1)\n",
      "Requirement already satisfied: docker-pycreds>=0.4.0 in c:\\users\\keyur\\anaconda3\\envs\\tf-gpu\\lib\\site-packages (from wandb) (0.4.0)\n",
      "Requirement already satisfied: six>=1.13.0 in c:\\users\\keyur\\anaconda3\\envs\\tf-gpu\\lib\\site-packages (from wandb) (1.16.0)\n",
      "Requirement already satisfied: setproctitle in c:\\users\\keyur\\anaconda3\\envs\\tf-gpu\\lib\\site-packages (from wandb) (1.2.2)\n",
      "Requirement already satisfied: shortuuid>=0.5.0 in c:\\users\\keyur\\anaconda3\\envs\\tf-gpu\\lib\\site-packages (from wandb) (1.0.8)\n",
      "Requirement already satisfied: Click!=8.0.0,>=7.0 in c:\\users\\keyur\\anaconda3\\envs\\tf-gpu\\lib\\site-packages (from wandb) (8.0.4)\n",
      "Requirement already satisfied: python-dateutil>=2.6.1 in c:\\users\\keyur\\anaconda3\\envs\\tf-gpu\\lib\\site-packages (from wandb) (2.8.2)\n",
      "Requirement already satisfied: psutil>=5.0.0 in c:\\users\\keyur\\anaconda3\\envs\\tf-gpu\\lib\\site-packages (from wandb) (5.9.0)\n",
      "Requirement already satisfied: colorama in c:\\users\\keyur\\anaconda3\\envs\\tf-gpu\\lib\\site-packages (from Click!=8.0.0,>=7.0->wandb) (0.4.4)\n",
      "Requirement already satisfied: gitdb<5,>=4.0.1 in c:\\users\\keyur\\anaconda3\\envs\\tf-gpu\\lib\\site-packages (from GitPython>=1.0.0->wandb) (4.0.9)\n",
      "Requirement already satisfied: smmap<6,>=3.0.1 in c:\\users\\keyur\\anaconda3\\envs\\tf-gpu\\lib\\site-packages (from gitdb<5,>=4.0.1->GitPython>=1.0.0->wandb) (5.0.0)\n",
      "Requirement already satisfied: urllib3<1.27,>=1.21.1 in c:\\users\\keyur\\anaconda3\\envs\\tf-gpu\\lib\\site-packages (from requests<3,>=2.0.0->wandb) (1.26.8)\n",
      "Requirement already satisfied: idna<4,>=2.5 in c:\\users\\keyur\\anaconda3\\envs\\tf-gpu\\lib\\site-packages (from requests<3,>=2.0.0->wandb) (3.3)\n",
      "Requirement already satisfied: charset-normalizer~=2.0.0 in c:\\users\\keyur\\anaconda3\\envs\\tf-gpu\\lib\\site-packages (from requests<3,>=2.0.0->wandb) (2.0.4)\n",
      "Requirement already satisfied: certifi>=2017.4.17 in c:\\users\\keyur\\anaconda3\\envs\\tf-gpu\\lib\\site-packages (from requests<3,>=2.0.0->wandb) (2021.10.8)\n",
      "Requirement already satisfied: wandb in c:\\users\\keyur\\anaconda3\\envs\\tf-gpu\\lib\\site-packages (0.12.14)\n",
      "Requirement already satisfied: pathtools in c:\\users\\keyur\\anaconda3\\envs\\tf-gpu\\lib\\site-packages (from wandb) (0.1.2)\n",
      "Requirement already satisfied: requests<3,>=2.0.0 in c:\\users\\keyur\\anaconda3\\envs\\tf-gpu\\lib\\site-packages (from wandb) (2.27.1)\n",
      "Requirement already satisfied: PyYAML in c:\\users\\keyur\\anaconda3\\envs\\tf-gpu\\lib\\site-packages (from wandb) (6.0)\n",
      "Requirement already satisfied: GitPython>=1.0.0 in c:\\users\\keyur\\anaconda3\\envs\\tf-gpu\\lib\\site-packages (from wandb) (3.1.27)\n",
      "Requirement already satisfied: python-dateutil>=2.6.1 in c:\\users\\keyur\\anaconda3\\envs\\tf-gpu\\lib\\site-packages (from wandb) (2.8.2)\n",
      "Requirement already satisfied: setproctitle in c:\\users\\keyur\\anaconda3\\envs\\tf-gpu\\lib\\site-packages (from wandb) (1.2.2)\n",
      "Requirement already satisfied: Click!=8.0.0,>=7.0 in c:\\users\\keyur\\anaconda3\\envs\\tf-gpu\\lib\\site-packages (from wandb) (8.0.4)\n",
      "Requirement already satisfied: six>=1.13.0 in c:\\users\\keyur\\anaconda3\\envs\\tf-gpu\\lib\\site-packages (from wandb) (1.16.0)\n",
      "Requirement already satisfied: shortuuid>=0.5.0 in c:\\users\\keyur\\anaconda3\\envs\\tf-gpu\\lib\\site-packages (from wandb) (1.0.8)\n",
      "Requirement already satisfied: psutil>=5.0.0 in c:\\users\\keyur\\anaconda3\\envs\\tf-gpu\\lib\\site-packages (from wandb) (5.9.0)\n",
      "Requirement already satisfied: protobuf>=3.12.0 in c:\\users\\keyur\\anaconda3\\envs\\tf-gpu\\lib\\site-packages (from wandb) (3.17.2)\n",
      "Requirement already satisfied: promise<3,>=2.0 in c:\\users\\keyur\\anaconda3\\envs\\tf-gpu\\lib\\site-packages (from wandb) (2.3)\n",
      "Requirement already satisfied: sentry-sdk>=1.0.0 in c:\\users\\keyur\\anaconda3\\envs\\tf-gpu\\lib\\site-packages (from wandb) (1.5.8)\n",
      "Requirement already satisfied: docker-pycreds>=0.4.0 in c:\\users\\keyur\\anaconda3\\envs\\tf-gpu\\lib\\site-packages (from wandb) (0.4.0)\n",
      "Requirement already satisfied: colorama in c:\\users\\keyur\\anaconda3\\envs\\tf-gpu\\lib\\site-packages (from Click!=8.0.0,>=7.0->wandb) (0.4.4)\n",
      "Requirement already satisfied: gitdb<5,>=4.0.1 in c:\\users\\keyur\\anaconda3\\envs\\tf-gpu\\lib\\site-packages (from GitPython>=1.0.0->wandb) (4.0.9)\n",
      "Requirement already satisfied: smmap<6,>=3.0.1 in c:\\users\\keyur\\anaconda3\\envs\\tf-gpu\\lib\\site-packages (from gitdb<5,>=4.0.1->GitPython>=1.0.0->wandb) (5.0.0)\n",
      "Requirement already satisfied: idna<4,>=2.5 in c:\\users\\keyur\\anaconda3\\envs\\tf-gpu\\lib\\site-packages (from requests<3,>=2.0.0->wandb) (3.3)\n",
      "Requirement already satisfied: certifi>=2017.4.17 in c:\\users\\keyur\\anaconda3\\envs\\tf-gpu\\lib\\site-packages (from requests<3,>=2.0.0->wandb) (2021.10.8)\n",
      "Requirement already satisfied: charset-normalizer~=2.0.0 in c:\\users\\keyur\\anaconda3\\envs\\tf-gpu\\lib\\site-packages (from requests<3,>=2.0.0->wandb) (2.0.4)\n",
      "Requirement already satisfied: urllib3<1.27,>=1.21.1 in c:\\users\\keyur\\anaconda3\\envs\\tf-gpu\\lib\\site-packages (from requests<3,>=2.0.0->wandb) (1.26.8)\n"
     ]
    }
   ],
   "source": [
    "import random\n",
    "random.seed(10)\n",
    "\n",
    "import os\n",
    "import glob\n",
    "\n",
    "import tensorflow as tf\n",
    "from tensorflow import keras\n",
    "from tensorflow.keras.preprocessing.image import ImageDataGenerator\n",
    "from tensorflow.keras.models import Sequential, Model\n",
    "from tensorflow.keras.layers import Dense, Flatten, Conv2D, AveragePooling2D, MaxPooling2D, Activation, Dropout, BatchNormalization\n",
    "from keras import regularizers\n",
    "from keras.models import Sequential\n",
    "from keras.utils import np_utils\n",
    "#from keras.applications import InceptionV3, ResNet50, InceptionResNetV2, Xception\n",
    "from keras.layers import Dense, Flatten, Conv2D, BatchNormalization, Dropout, MaxPooling2D, Activation\n",
    "from keras.callbacks import  Callback, EarlyStopping\n",
    "\n",
    "!pip install wandb\n",
    "import wandb\n",
    "from wandb.keras import WandbCallback\n",
    "!pip install wandb --upgrade"
   ]
  },
  {
   "cell_type": "code",
   "execution_count": 2,
   "id": "ac7cf816-56e1-4c74-8642-0bd2c97ee20e",
   "metadata": {},
   "outputs": [],
   "source": [
    "# Prepare the dataset for training and testing\n",
    "def prepare_dataset(DATA_DIR=\"inaturalist_12K\", augment_data=False, batch_size=100):\n",
    "    train_dir = os.path.join(DATA_DIR, \"train\")\n",
    "    test_dir = os.path.join(DATA_DIR, \"val\")\n",
    "\n",
    "    if augment_data:\n",
    "        train_datagen = ImageDataGenerator(rescale=1./255,\n",
    "                                          rotation_range=90,\n",
    "                                          zoom_range=0.2,\n",
    "                                          shear_range=0.2,\n",
    "                                          validation_split=0.1,\n",
    "                                          horizontal_flip=True)\n",
    "        test_datagen = ImageDataGenerator(rescale=1./255)\n",
    "\n",
    "    else:\n",
    "        train_datagen = ImageDataGenerator(rescale=1./255, validation_split=0.1)\n",
    "        test_datagen = ImageDataGenerator(rescale=1./255)\n",
    "\n",
    "    train_generator = train_datagen.flow_from_directory(train_dir, target_size=(image_size, image_size), batch_size=batch_size, class_mode='categorical', subset=\"training\")\n",
    "    val_generator = train_datagen.flow_from_directory(train_dir, target_size=(image_size, image_size), batch_size=batch_size, class_mode='categorical', subset=\"validation\")\n",
    "    test_generator = test_datagen.flow_from_directory(test_dir, target_size=(image_size, image_size), batch_size=batch_size)\n",
    "    \n",
    "    return train_generator, val_generator, test_generator"
   ]
  },
  {
   "cell_type": "code",
   "execution_count": 3,
   "id": "1c841b2d-a53a-4be8-b924-87df64ce1269",
   "metadata": {},
   "outputs": [],
   "source": [
    "input_shape = (224,224,3)\n",
    "image_size = input_shape[0]\n",
    "# Comment the next line if you want to sweep over different models\n",
    "# base_model =  InceptionResNetV2(input_shape = input_shape, include_top = False, weights = 'imagenet')\n",
    "\n",
    "def train():\n",
    "    \n",
    "    config_defaults = {\n",
    "        'freeze_before' : 50,\n",
    "        'models' : 'IV3',\n",
    "        'dropout': 0.2,\n",
    "        'batch_size': 64,\n",
    "        'dense_size': 100,\n",
    "        'num_classes': 10,\n",
    "        'epochs' : 5,\n",
    "        'augment_data': True,\n",
    "        'lr': 0.001\n",
    "    }\n",
    "\n",
    "    # Initialize a new wandb run\n",
    "    wandb.init(config=config_defaults)\n",
    "    \n",
    "    config = wandb.config\n",
    "    \n",
    "    \n",
    "    # Defining models and run-name\n",
    "    if config.models == 'IV3':\n",
    "        base_model =  keras.applications.InceptionV3(input_shape = input_shape, include_top = False, weights = 'imagenet')\n",
    "        wandb.run.name = 'model_IncV3__num_dense_'+ str(config.dense_size)+'__bs_'+str(config.batch_size)\n",
    "    elif config.models == 'IRNV2':\n",
    "        base_model =  keras.applications.InceptionResNetV2(input_shape = input_shape, include_top = False, weights = 'imagenet')\n",
    "        wandb.run.name = 'model_IncResNetV2__num_dense_'+ str(config.dense_size)+'__bs_'+str(config.batch_size)\n",
    "    elif config.models == 'RN50':\n",
    "        base_model =  keras.applications.ResNet50(input_shape = input_shape, include_top = False, weights = 'imagenet')\n",
    "        wandb.run.name = 'model_ResNet50__num_dense_'+ str(config.dense_size)+'__bs_'+str(config.batch_size)\n",
    "    elif config.models == 'XCP':\n",
    "        base_model =  keras.applications.Xception(input_shape = input_shape, include_top = False, weights = 'imagenet')\n",
    "        wandb.run.name = 'model_Xception__num_dense_'+ str(config.dense_size)+'__bs_'+str(config.batch_size)\n",
    "\n",
    "        \n",
    "    base_model.trainable = False\n",
    "\n",
    "    stack_model = Sequential()\n",
    "    stack_model.add(base_model)\n",
    "    stack_model.add(Flatten())\n",
    "    stack_model.add(Dense(config.dense_size, activation='relu'))\n",
    "    stack_model.add(Dropout(config.dropout))\n",
    "    stack_model.add(Dense(config.num_classes, activation='softmax'))\n",
    "    \n",
    "    final_model = stack_model\n",
    "    final_model.compile(optimizer=keras.optimizers.Adam(config.lr), loss=\"categorical_crossentropy\", metrics=\"accuracy\")\n",
    "    \n",
    "    train_generator, val_generator, test_generator = prepare_dataset(augment_data=config.augment_data, batch_size=config.batch_size)\n",
    "    \n",
    "    final_model.fit(train_generator,\n",
    "                    batch_size = config.batch_size,\n",
    "                    epochs=config.epochs,\n",
    "                    validation_data=val_generator,\n",
    "                    callbacks=[WandbCallback(),keras.callbacks.EarlyStopping(patience=10, restore_best_weights=True)])\n",
    "\n",
    "    base_model.trainable = True\n",
    "\n",
    "    # Freeze layers\n",
    "    freeze_point = len(base_model.layers) - config.freeze_before\n",
    "    for layer in base_model.layers[:freeze_point]:\n",
    "        layer.trainable = False\n",
    "    \n",
    "    final_model.compile(optimizer=keras.optimizers.Adam(config.lr), loss=\"categorical_crossentropy\", metrics=\"accuracy\")\n",
    "\n",
    "    final_model.fit(train_generator,\n",
    "                    batch_size = config.batch_size,\n",
    "                    epochs = 7,\n",
    "                    validation_data=val_generator,\n",
    "                    callbacks = [WandbCallback(),keras.callbacks.EarlyStopping(patience=10, restore_best_weights=True)])"
   ]
  },
  {
   "cell_type": "code",
   "execution_count": 7,
   "id": "d1a890fa-3dba-4bbd-9727-0bae97843e28",
   "metadata": {},
   "outputs": [
    {
     "name": "stdout",
     "output_type": "stream",
     "text": [
      "Create sweep with ID: 4pxgyjqv\n",
      "Sweep URL: https://wandb.ai/cs21m029_keyur_raval/DL_CS6910_Assignment2/sweeps/4pxgyjqv\n"
     ]
    }
   ],
   "source": [
    "sweep_config = {\n",
    "    'method': 'bayes', \n",
    "    'metric': {\n",
    "      'name': 'val_accuracy',\n",
    "      'goal': 'maximize'   \n",
    "    },\n",
    "    'parameters': {\n",
    "        \n",
    "        'freeze_before' : {\n",
    "            'values': [50, 70, 100]\n",
    "        },\n",
    "        'models' :{\n",
    "            'values' : ['IV3','IRNV2', 'RN50', 'XCP']\n",
    "        },\n",
    "        'dropout': {\n",
    "            'values': [0, 0.1, 0.2, 0.3]\n",
    "        },     \n",
    "        'batch_size': {\n",
    "            'values': [32, 64]\n",
    "        },\n",
    "        'dense_size':{\n",
    "            'values': [64, 100, 128]\n",
    "        },\n",
    "        'augment_data': {\n",
    "            \"values\": [False, True]\n",
    "        },\n",
    "        'epochs': {\n",
    "            \"values\": [5]\n",
    "        },\n",
    "        'lr': {\n",
    "            \"values\": [0.005, 0.001, 0.0001]\n",
    "        }\n",
    "    }\n",
    "}\n",
    "\n",
    "sweep_id = wandb.sweep(sweep_config, project=\"DL_CS6910_Assignment2\")"
   ]
  },
  {
   "cell_type": "code",
   "execution_count": 8,
   "id": "2ba7a15b-b39a-4b8d-9964-6e7e42d4013f",
   "metadata": {},
   "outputs": [
    {
     "name": "stderr",
     "output_type": "stream",
     "text": [
      "\u001b[34m\u001b[1mwandb\u001b[0m: Agent Starting Run: cltbbdao with config:\n",
      "\u001b[34m\u001b[1mwandb\u001b[0m: \taugment_data: True\n",
      "\u001b[34m\u001b[1mwandb\u001b[0m: \tbatch_size: 64\n",
      "\u001b[34m\u001b[1mwandb\u001b[0m: \tdense_size: 64\n",
      "\u001b[34m\u001b[1mwandb\u001b[0m: \tdropout: 0.1\n",
      "\u001b[34m\u001b[1mwandb\u001b[0m: \tepochs: 5\n",
      "\u001b[34m\u001b[1mwandb\u001b[0m: \tfreeze_before: 70\n",
      "\u001b[34m\u001b[1mwandb\u001b[0m: \tlr: 0.0001\n",
      "\u001b[34m\u001b[1mwandb\u001b[0m: \tmodels: IRNV2\n"
     ]
    },
    {
     "data": {
      "text/html": [
       "Tracking run with wandb version 0.12.14"
      ],
      "text/plain": [
       "<IPython.core.display.HTML object>"
      ]
     },
     "metadata": {},
     "output_type": "display_data"
    },
    {
     "data": {
      "text/html": [
       "Run data is saved locally in <code>C:\\Users\\Keyur\\Documents\\DL\\A2\\P1\\wandb\\run-20220409_204159-cltbbdao</code>"
      ],
      "text/plain": [
       "<IPython.core.display.HTML object>"
      ]
     },
     "metadata": {},
     "output_type": "display_data"
    },
    {
     "data": {
      "text/html": [
       "Syncing run <strong><a href=\"https://wandb.ai/cs21m029_keyur_raval/DL_CS6910_Assignment2/runs/cltbbdao\" target=\"_blank\">wild-sweep-1</a></strong> to <a href=\"https://wandb.ai/cs21m029_keyur_raval/DL_CS6910_Assignment2\" target=\"_blank\">Weights & Biases</a> (<a href=\"https://wandb.me/run\" target=\"_blank\">docs</a>)<br/>Sweep page:  <a href=\"https://wandb.ai/cs21m029_keyur_raval/DL_CS6910_Assignment2/sweeps/4pxgyjqv\" target=\"_blank\">https://wandb.ai/cs21m029_keyur_raval/DL_CS6910_Assignment2/sweeps/4pxgyjqv</a>"
      ],
      "text/plain": [
       "<IPython.core.display.HTML object>"
      ]
     },
     "metadata": {},
     "output_type": "display_data"
    },
    {
     "name": "stdout",
     "output_type": "stream",
     "text": [
      "Found 9000 images belonging to 10 classes.\n",
      "Found 999 images belonging to 10 classes.\n",
      "Found 2000 images belonging to 10 classes.\n",
      "Epoch 1/5\n",
      "141/141 [==============================] - 148s 962ms/step - loss: 1.2509 - accuracy: 0.6058 - val_loss: 1.0079 - val_accuracy: 0.6727\n",
      "Epoch 2/5\n",
      "141/141 [==============================] - 131s 927ms/step - loss: 1.0127 - accuracy: 0.6694 - val_loss: 1.0108 - val_accuracy: 0.6577\n",
      "Epoch 3/5\n",
      "141/141 [==============================] - 132s 938ms/step - loss: 0.9949 - accuracy: 0.6793 - val_loss: 0.9458 - val_accuracy: 0.7087\n",
      "Epoch 4/5\n",
      "141/141 [==============================] - 133s 943ms/step - loss: 0.9384 - accuracy: 0.6936 - val_loss: 1.0335 - val_accuracy: 0.6697\n",
      "Epoch 5/5\n",
      "141/141 [==============================] - 133s 941ms/step - loss: 0.8975 - accuracy: 0.7053 - val_loss: 0.8972 - val_accuracy: 0.7087\n",
      "Epoch 1/7\n",
      "141/141 [==============================] - 147s 970ms/step - loss: 0.9077 - accuracy: 0.7069 - val_loss: 0.8444 - val_accuracy: 0.7287\n",
      "Epoch 2/7\n",
      "141/141 [==============================] - 134s 948ms/step - loss: 0.7737 - accuracy: 0.7443 - val_loss: 0.8130 - val_accuracy: 0.7397\n",
      "Epoch 3/7\n",
      "141/141 [==============================] - 134s 950ms/step - loss: 0.6811 - accuracy: 0.7742 - val_loss: 0.8227 - val_accuracy: 0.7287\n",
      "Epoch 4/7\n",
      "141/141 [==============================] - 133s 942ms/step - loss: 0.6365 - accuracy: 0.7901 - val_loss: 0.8102 - val_accuracy: 0.7558\n",
      "Epoch 5/7\n",
      "141/141 [==============================] - 133s 943ms/step - loss: 0.5563 - accuracy: 0.8157 - val_loss: 0.7719 - val_accuracy: 0.7568\n",
      "Epoch 6/7\n",
      "141/141 [==============================] - 134s 949ms/step - loss: 0.5183 - accuracy: 0.8204 - val_loss: 0.8057 - val_accuracy: 0.7497\n",
      "Epoch 7/7\n",
      "141/141 [==============================] - 134s 946ms/step - loss: 0.4687 - accuracy: 0.8429 - val_loss: 0.7620 - val_accuracy: 0.7728\n",
      "\n"
     ]
    },
    {
     "data": {
      "text/html": [
       "Waiting for W&B process to finish... <strong style=\"color:green\">(success).</strong>"
      ],
      "text/plain": [
       "<IPython.core.display.HTML object>"
      ]
     },
     "metadata": {},
     "output_type": "display_data"
    },
    {
     "data": {
      "text/html": [
       "<style>\n",
       "    table.wandb td:nth-child(1) { padding: 0 10px; text-align: right }\n",
       "    .wandb-row { display: flex; flex-direction: row; flex-wrap: wrap; width: 100% }\n",
       "    .wandb-col { display: flex; flex-direction: column; flex-basis: 100%; flex: 1; padding: 10px; }\n",
       "    </style>\n",
       "<div class=\"wandb-row\"><div class=\"wandb-col\"><h3>Run history:</h3><br/><table class=\"wandb\"><tr><td>accuracy</td><td>▁▃▃▄▄▄▅▆▆▇▇█</td></tr><tr><td>epoch</td><td>▁▂▃▅▆▁▂▃▅▆▇█</td></tr><tr><td>loss</td><td>█▆▆▅▅▅▄▃▃▂▁▁</td></tr><tr><td>val_accuracy</td><td>▂▁▄▂▄▅▆▅▇▇▇█</td></tr><tr><td>val_loss</td><td>▇▇▆█▄▃▂▃▂▁▂▁</td></tr></table><br/></div><div class=\"wandb-col\"><h3>Run summary:</h3><br/><table class=\"wandb\"><tr><td>accuracy</td><td>0.84289</td></tr><tr><td>best_epoch</td><td>6</td></tr><tr><td>best_val_loss</td><td>0.76197</td></tr><tr><td>epoch</td><td>6</td></tr><tr><td>loss</td><td>0.46868</td></tr><tr><td>val_accuracy</td><td>0.77277</td></tr><tr><td>val_loss</td><td>0.76197</td></tr></table><br/></div></div>"
      ],
      "text/plain": [
       "<IPython.core.display.HTML object>"
      ]
     },
     "metadata": {},
     "output_type": "display_data"
    },
    {
     "data": {
      "text/html": [
       "Synced <strong style=\"color:#cdcd00\">wild-sweep-1</strong>: <a href=\"https://wandb.ai/cs21m029_keyur_raval/DL_CS6910_Assignment2/runs/cltbbdao\" target=\"_blank\">https://wandb.ai/cs21m029_keyur_raval/DL_CS6910_Assignment2/runs/cltbbdao</a><br/>Synced 6 W&B file(s), 1 media file(s), 0 artifact file(s) and 1 other file(s)"
      ],
      "text/plain": [
       "<IPython.core.display.HTML object>"
      ]
     },
     "metadata": {},
     "output_type": "display_data"
    },
    {
     "data": {
      "text/html": [
       "Find logs at: <code>.\\wandb\\run-20220409_204159-cltbbdao\\logs</code>"
      ],
      "text/plain": [
       "<IPython.core.display.HTML object>"
      ]
     },
     "metadata": {},
     "output_type": "display_data"
    },
    {
     "name": "stderr",
     "output_type": "stream",
     "text": [
      "\u001b[34m\u001b[1mwandb\u001b[0m: Agent Starting Run: zbkeq4rf with config:\n",
      "\u001b[34m\u001b[1mwandb\u001b[0m: \taugment_data: True\n",
      "\u001b[34m\u001b[1mwandb\u001b[0m: \tbatch_size: 64\n",
      "\u001b[34m\u001b[1mwandb\u001b[0m: \tdense_size: 64\n",
      "\u001b[34m\u001b[1mwandb\u001b[0m: \tdropout: 0\n",
      "\u001b[34m\u001b[1mwandb\u001b[0m: \tepochs: 5\n",
      "\u001b[34m\u001b[1mwandb\u001b[0m: \tfreeze_before: 100\n",
      "\u001b[34m\u001b[1mwandb\u001b[0m: \tlr: 0.0001\n",
      "\u001b[34m\u001b[1mwandb\u001b[0m: \tmodels: IV3\n"
     ]
    },
    {
     "data": {
      "text/html": [
       "Tracking run with wandb version 0.12.14"
      ],
      "text/plain": [
       "<IPython.core.display.HTML object>"
      ]
     },
     "metadata": {},
     "output_type": "display_data"
    },
    {
     "data": {
      "text/html": [
       "Run data is saved locally in <code>C:\\Users\\Keyur\\Documents\\DL\\A2\\P1\\wandb\\run-20220409_211004-zbkeq4rf</code>"
      ],
      "text/plain": [
       "<IPython.core.display.HTML object>"
      ]
     },
     "metadata": {},
     "output_type": "display_data"
    },
    {
     "data": {
      "text/html": [
       "Syncing run <strong><a href=\"https://wandb.ai/cs21m029_keyur_raval/DL_CS6910_Assignment2/runs/zbkeq4rf\" target=\"_blank\">classic-sweep-2</a></strong> to <a href=\"https://wandb.ai/cs21m029_keyur_raval/DL_CS6910_Assignment2\" target=\"_blank\">Weights & Biases</a> (<a href=\"https://wandb.me/run\" target=\"_blank\">docs</a>)<br/>Sweep page:  <a href=\"https://wandb.ai/cs21m029_keyur_raval/DL_CS6910_Assignment2/sweeps/4pxgyjqv\" target=\"_blank\">https://wandb.ai/cs21m029_keyur_raval/DL_CS6910_Assignment2/sweeps/4pxgyjqv</a>"
      ],
      "text/plain": [
       "<IPython.core.display.HTML object>"
      ]
     },
     "metadata": {},
     "output_type": "display_data"
    },
    {
     "name": "stdout",
     "output_type": "stream",
     "text": [
      "Found 9000 images belonging to 10 classes.\n",
      "Found 999 images belonging to 10 classes.\n",
      "Found 2000 images belonging to 10 classes.\n",
      "Epoch 1/5\n",
      "141/141 [==============================] - 138s 940ms/step - loss: 1.3597 - accuracy: 0.5680 - val_loss: 1.1464 - val_accuracy: 0.6236\n",
      "Epoch 2/5\n",
      "141/141 [==============================] - 130s 922ms/step - loss: 1.0388 - accuracy: 0.6579 - val_loss: 1.0387 - val_accuracy: 0.6547\n",
      "Epoch 3/5\n",
      "141/141 [==============================] - 127s 903ms/step - loss: 0.9810 - accuracy: 0.6779 - val_loss: 1.0640 - val_accuracy: 0.6476\n",
      "Epoch 4/5\n",
      "141/141 [==============================] - 126s 895ms/step - loss: 0.9434 - accuracy: 0.6852 - val_loss: 1.0971 - val_accuracy: 0.6547\n",
      "Epoch 5/5\n",
      "141/141 [==============================] - 126s 896ms/step - loss: 0.8755 - accuracy: 0.7064 - val_loss: 1.0237 - val_accuracy: 0.6617\n",
      "Epoch 1/7\n",
      "141/141 [==============================] - 135s 913ms/step - loss: 0.9706 - accuracy: 0.6778 - val_loss: 0.9433 - val_accuracy: 0.6887\n",
      "Epoch 2/7\n",
      "141/141 [==============================] - 126s 894ms/step - loss: 0.7577 - accuracy: 0.7520 - val_loss: 0.8796 - val_accuracy: 0.7227\n",
      "Epoch 3/7\n",
      "141/141 [==============================] - 127s 899ms/step - loss: 0.6402 - accuracy: 0.7834 - val_loss: 0.9254 - val_accuracy: 0.7147\n",
      "Epoch 4/7\n",
      "141/141 [==============================] - 127s 897ms/step - loss: 0.5424 - accuracy: 0.8184 - val_loss: 0.9652 - val_accuracy: 0.7287\n",
      "Epoch 5/7\n",
      "141/141 [==============================] - 127s 899ms/step - loss: 0.4701 - accuracy: 0.8412 - val_loss: 0.8931 - val_accuracy: 0.7267\n",
      "Epoch 6/7\n",
      "141/141 [==============================] - 127s 899ms/step - loss: 0.4011 - accuracy: 0.8660 - val_loss: 0.9420 - val_accuracy: 0.7287\n",
      "Epoch 7/7\n",
      "141/141 [==============================] - 130s 920ms/step - loss: 0.3602 - accuracy: 0.8800 - val_loss: 1.0177 - val_accuracy: 0.7357\n",
      "\n"
     ]
    },
    {
     "data": {
      "text/html": [
       "Waiting for W&B process to finish... <strong style=\"color:green\">(success).</strong>"
      ],
      "text/plain": [
       "<IPython.core.display.HTML object>"
      ]
     },
     "metadata": {},
     "output_type": "display_data"
    },
    {
     "data": {
      "text/html": [
       "<style>\n",
       "    table.wandb td:nth-child(1) { padding: 0 10px; text-align: right }\n",
       "    .wandb-row { display: flex; flex-direction: row; flex-wrap: wrap; width: 100% }\n",
       "    .wandb-col { display: flex; flex-direction: column; flex-basis: 100%; flex: 1; padding: 10px; }\n",
       "    </style>\n",
       "<div class=\"wandb-row\"><div class=\"wandb-col\"><h3>Run history:</h3><br/><table class=\"wandb\"><tr><td>accuracy</td><td>▁▃▃▄▄▃▅▆▇▇██</td></tr><tr><td>epoch</td><td>▁▂▃▅▆▁▂▃▅▆▇█</td></tr><tr><td>loss</td><td>█▆▅▅▅▅▄▃▂▂▁▁</td></tr><tr><td>val_accuracy</td><td>▁▃▂▃▃▅▇▇█▇██</td></tr><tr><td>val_loss</td><td>█▅▆▇▅▃▁▂▃▁▃▅</td></tr></table><br/></div><div class=\"wandb-col\"><h3>Run summary:</h3><br/><table class=\"wandb\"><tr><td>accuracy</td><td>0.88</td></tr><tr><td>best_epoch</td><td>1</td></tr><tr><td>best_val_loss</td><td>0.8796</td></tr><tr><td>epoch</td><td>6</td></tr><tr><td>loss</td><td>0.36018</td></tr><tr><td>val_accuracy</td><td>0.73574</td></tr><tr><td>val_loss</td><td>1.01774</td></tr></table><br/></div></div>"
      ],
      "text/plain": [
       "<IPython.core.display.HTML object>"
      ]
     },
     "metadata": {},
     "output_type": "display_data"
    },
    {
     "data": {
      "text/html": [
       "Synced <strong style=\"color:#cdcd00\">classic-sweep-2</strong>: <a href=\"https://wandb.ai/cs21m029_keyur_raval/DL_CS6910_Assignment2/runs/zbkeq4rf\" target=\"_blank\">https://wandb.ai/cs21m029_keyur_raval/DL_CS6910_Assignment2/runs/zbkeq4rf</a><br/>Synced 6 W&B file(s), 1 media file(s), 0 artifact file(s) and 1 other file(s)"
      ],
      "text/plain": [
       "<IPython.core.display.HTML object>"
      ]
     },
     "metadata": {},
     "output_type": "display_data"
    },
    {
     "data": {
      "text/html": [
       "Find logs at: <code>.\\wandb\\run-20220409_211004-zbkeq4rf\\logs</code>"
      ],
      "text/plain": [
       "<IPython.core.display.HTML object>"
      ]
     },
     "metadata": {},
     "output_type": "display_data"
    },
    {
     "name": "stderr",
     "output_type": "stream",
     "text": [
      "\u001b[34m\u001b[1mwandb\u001b[0m: Agent Starting Run: hfzyk75v with config:\n",
      "\u001b[34m\u001b[1mwandb\u001b[0m: \taugment_data: True\n",
      "\u001b[34m\u001b[1mwandb\u001b[0m: \tbatch_size: 64\n",
      "\u001b[34m\u001b[1mwandb\u001b[0m: \tdense_size: 100\n",
      "\u001b[34m\u001b[1mwandb\u001b[0m: \tdropout: 0.1\n",
      "\u001b[34m\u001b[1mwandb\u001b[0m: \tepochs: 5\n",
      "\u001b[34m\u001b[1mwandb\u001b[0m: \tfreeze_before: 50\n",
      "\u001b[34m\u001b[1mwandb\u001b[0m: \tlr: 0.001\n",
      "\u001b[34m\u001b[1mwandb\u001b[0m: \tmodels: XCP\n"
     ]
    },
    {
     "data": {
      "text/html": [
       "Tracking run with wandb version 0.12.14"
      ],
      "text/plain": [
       "<IPython.core.display.HTML object>"
      ]
     },
     "metadata": {},
     "output_type": "display_data"
    },
    {
     "data": {
      "text/html": [
       "Run data is saved locally in <code>C:\\Users\\Keyur\\Documents\\DL\\A2\\P1\\wandb\\run-20220409_213630-hfzyk75v</code>"
      ],
      "text/plain": [
       "<IPython.core.display.HTML object>"
      ]
     },
     "metadata": {},
     "output_type": "display_data"
    },
    {
     "data": {
      "text/html": [
       "Syncing run <strong><a href=\"https://wandb.ai/cs21m029_keyur_raval/DL_CS6910_Assignment2/runs/hfzyk75v\" target=\"_blank\">royal-sweep-3</a></strong> to <a href=\"https://wandb.ai/cs21m029_keyur_raval/DL_CS6910_Assignment2\" target=\"_blank\">Weights & Biases</a> (<a href=\"https://wandb.me/run\" target=\"_blank\">docs</a>)<br/>Sweep page:  <a href=\"https://wandb.ai/cs21m029_keyur_raval/DL_CS6910_Assignment2/sweeps/4pxgyjqv\" target=\"_blank\">https://wandb.ai/cs21m029_keyur_raval/DL_CS6910_Assignment2/sweeps/4pxgyjqv</a>"
      ],
      "text/plain": [
       "<IPython.core.display.HTML object>"
      ]
     },
     "metadata": {},
     "output_type": "display_data"
    },
    {
     "name": "stdout",
     "output_type": "stream",
     "text": [
      "Found 9000 images belonging to 10 classes.\n",
      "Found 999 images belonging to 10 classes.\n",
      "Found 2000 images belonging to 10 classes.\n",
      "Epoch 1/5\n",
      "141/141 [==============================] - 139s 942ms/step - loss: 2.1138 - accuracy: 0.4496 - val_loss: 1.4555 - val_accuracy: 0.5365\n"
     ]
    },
    {
     "name": "stderr",
     "output_type": "stream",
     "text": [
      "C:\\Users\\Keyur\\anaconda3\\envs\\tf-gpu\\lib\\site-packages\\keras\\utils\\generic_utils.py:494: CustomMaskWarning: Custom mask layers require a config and must override get_config. When loading, the custom mask layer must be passed to the custom_objects argument.\n",
      "  warnings.warn('Custom mask layers require a config and must override '\n"
     ]
    },
    {
     "name": "stdout",
     "output_type": "stream",
     "text": [
      "Epoch 2/5\n",
      "141/141 [==============================] - 131s 926ms/step - loss: 1.4598 - accuracy: 0.5248 - val_loss: 1.2778 - val_accuracy: 0.5926\n",
      "Epoch 3/5\n",
      "141/141 [==============================] - 129s 914ms/step - loss: 1.3499 - accuracy: 0.5509 - val_loss: 1.3250 - val_accuracy: 0.5666\n",
      "Epoch 4/5\n",
      "141/141 [==============================] - 129s 915ms/step - loss: 1.2658 - accuracy: 0.5769 - val_loss: 1.1958 - val_accuracy: 0.6106\n",
      "Epoch 5/5\n",
      "141/141 [==============================] - 129s 915ms/step - loss: 1.2079 - accuracy: 0.5937 - val_loss: 1.1487 - val_accuracy: 0.6456\n",
      "Epoch 1/7\n",
      "\n"
     ]
    },
    {
     "data": {
      "text/html": [
       "Waiting for W&B process to finish... <strong style=\"color:red\">(failed 1).</strong> Press Ctrl-C to abort syncing."
      ],
      "text/plain": [
       "<IPython.core.display.HTML object>"
      ]
     },
     "metadata": {},
     "output_type": "display_data"
    },
    {
     "data": {
      "text/html": [
       "<style>\n",
       "    table.wandb td:nth-child(1) { padding: 0 10px; text-align: right }\n",
       "    .wandb-row { display: flex; flex-direction: row; flex-wrap: wrap; width: 100% }\n",
       "    .wandb-col { display: flex; flex-direction: column; flex-basis: 100%; flex: 1; padding: 10px; }\n",
       "    </style>\n",
       "<div class=\"wandb-row\"><div class=\"wandb-col\"><h3>Run history:</h3><br/><table class=\"wandb\"><tr><td>accuracy</td><td>▁▅▆▇█</td></tr><tr><td>epoch</td><td>▁▃▅▆█</td></tr><tr><td>loss</td><td>█▃▂▁▁</td></tr><tr><td>val_accuracy</td><td>▁▅▃▆█</td></tr><tr><td>val_loss</td><td>█▄▅▂▁</td></tr></table><br/></div><div class=\"wandb-col\"><h3>Run summary:</h3><br/><table class=\"wandb\"><tr><td>accuracy</td><td>0.59367</td></tr><tr><td>best_epoch</td><td>4</td></tr><tr><td>best_val_loss</td><td>1.14873</td></tr><tr><td>epoch</td><td>4</td></tr><tr><td>loss</td><td>1.20789</td></tr><tr><td>val_accuracy</td><td>0.64565</td></tr><tr><td>val_loss</td><td>1.14873</td></tr></table><br/></div></div>"
      ],
      "text/plain": [
       "<IPython.core.display.HTML object>"
      ]
     },
     "metadata": {},
     "output_type": "display_data"
    },
    {
     "data": {
      "text/html": [
       "Synced <strong style=\"color:#cdcd00\">royal-sweep-3</strong>: <a href=\"https://wandb.ai/cs21m029_keyur_raval/DL_CS6910_Assignment2/runs/hfzyk75v\" target=\"_blank\">https://wandb.ai/cs21m029_keyur_raval/DL_CS6910_Assignment2/runs/hfzyk75v</a><br/>Synced 6 W&B file(s), 1 media file(s), 0 artifact file(s) and 1 other file(s)"
      ],
      "text/plain": [
       "<IPython.core.display.HTML object>"
      ]
     },
     "metadata": {},
     "output_type": "display_data"
    },
    {
     "data": {
      "text/html": [
       "Find logs at: <code>.\\wandb\\run-20220409_213630-hfzyk75v\\logs</code>"
      ],
      "text/plain": [
       "<IPython.core.display.HTML object>"
      ]
     },
     "metadata": {},
     "output_type": "display_data"
    },
    {
     "name": "stderr",
     "output_type": "stream",
     "text": [
      "Run hfzyk75v errored: ResourceExhaustedError()\n",
      "\u001b[34m\u001b[1mwandb\u001b[0m: \u001b[32m\u001b[41mERROR\u001b[0m Run hfzyk75v errored: ResourceExhaustedError()\n",
      "\u001b[34m\u001b[1mwandb\u001b[0m: Agent Starting Run: havxxesr with config:\n",
      "\u001b[34m\u001b[1mwandb\u001b[0m: \taugment_data: True\n",
      "\u001b[34m\u001b[1mwandb\u001b[0m: \tbatch_size: 64\n",
      "\u001b[34m\u001b[1mwandb\u001b[0m: \tdense_size: 64\n",
      "\u001b[34m\u001b[1mwandb\u001b[0m: \tdropout: 0.2\n",
      "\u001b[34m\u001b[1mwandb\u001b[0m: \tepochs: 5\n",
      "\u001b[34m\u001b[1mwandb\u001b[0m: \tfreeze_before: 70\n",
      "\u001b[34m\u001b[1mwandb\u001b[0m: \tlr: 0.0001\n",
      "\u001b[34m\u001b[1mwandb\u001b[0m: \tmodels: IRNV2\n"
     ]
    },
    {
     "data": {
      "text/html": [
       "Tracking run with wandb version 0.12.14"
      ],
      "text/plain": [
       "<IPython.core.display.HTML object>"
      ]
     },
     "metadata": {},
     "output_type": "display_data"
    },
    {
     "data": {
      "text/html": [
       "Run data is saved locally in <code>C:\\Users\\Keyur\\Documents\\DL\\A2\\P1\\wandb\\run-20220409_214801-havxxesr</code>"
      ],
      "text/plain": [
       "<IPython.core.display.HTML object>"
      ]
     },
     "metadata": {},
     "output_type": "display_data"
    },
    {
     "data": {
      "text/html": [
       "Syncing run <strong><a href=\"https://wandb.ai/cs21m029_keyur_raval/DL_CS6910_Assignment2/runs/havxxesr\" target=\"_blank\">devoted-sweep-4</a></strong> to <a href=\"https://wandb.ai/cs21m029_keyur_raval/DL_CS6910_Assignment2\" target=\"_blank\">Weights & Biases</a> (<a href=\"https://wandb.me/run\" target=\"_blank\">docs</a>)<br/>Sweep page:  <a href=\"https://wandb.ai/cs21m029_keyur_raval/DL_CS6910_Assignment2/sweeps/4pxgyjqv\" target=\"_blank\">https://wandb.ai/cs21m029_keyur_raval/DL_CS6910_Assignment2/sweeps/4pxgyjqv</a>"
      ],
      "text/plain": [
       "<IPython.core.display.HTML object>"
      ]
     },
     "metadata": {},
     "output_type": "display_data"
    },
    {
     "name": "stdout",
     "output_type": "stream",
     "text": [
      "Found 9000 images belonging to 10 classes.\n",
      "Found 999 images belonging to 10 classes.\n",
      "Found 2000 images belonging to 10 classes.\n",
      "Epoch 1/5\n",
      "141/141 [==============================] - 141s 949ms/step - loss: 1.3603 - accuracy: 0.5661 - val_loss: 1.0529 - val_accuracy: 0.6697\n",
      "Epoch 2/5\n",
      "141/141 [==============================] - 134s 947ms/step - loss: 1.0952 - accuracy: 0.6434 - val_loss: 0.9759 - val_accuracy: 0.6767\n",
      "Epoch 3/5\n",
      "141/141 [==============================] - 130s 920ms/step - loss: 1.0459 - accuracy: 0.6634 - val_loss: 0.9692 - val_accuracy: 0.6817\n",
      "Epoch 4/5\n",
      "141/141 [==============================] - 132s 933ms/step - loss: 1.0130 - accuracy: 0.6678 - val_loss: 0.9575 - val_accuracy: 0.6887\n",
      "Epoch 5/5\n",
      "141/141 [==============================] - 132s 938ms/step - loss: 0.9691 - accuracy: 0.6838 - val_loss: 0.9429 - val_accuracy: 0.6987\n",
      "Epoch 1/7\n",
      "141/141 [==============================] - 145s 969ms/step - loss: 0.9440 - accuracy: 0.6954 - val_loss: 0.8320 - val_accuracy: 0.7417\n",
      "Epoch 2/7\n",
      "141/141 [==============================] - 134s 948ms/step - loss: 0.8199 - accuracy: 0.7299 - val_loss: 0.8457 - val_accuracy: 0.7377\n",
      "Epoch 3/7\n",
      "141/141 [==============================] - 131s 931ms/step - loss: 0.7244 - accuracy: 0.7604 - val_loss: 0.8265 - val_accuracy: 0.7347\n",
      "Epoch 4/7\n",
      "141/141 [==============================] - 131s 927ms/step - loss: 0.6653 - accuracy: 0.7799 - val_loss: 0.8032 - val_accuracy: 0.7598\n",
      "Epoch 5/7\n",
      "141/141 [==============================] - 131s 927ms/step - loss: 0.6275 - accuracy: 0.7926 - val_loss: 0.7854 - val_accuracy: 0.7668\n",
      "Epoch 6/7\n",
      "141/141 [==============================] - 132s 933ms/step - loss: 0.5613 - accuracy: 0.8113 - val_loss: 0.8111 - val_accuracy: 0.7548\n",
      "Epoch 7/7\n",
      "141/141 [==============================] - 131s 929ms/step - loss: 0.5033 - accuracy: 0.8303 - val_loss: 0.7636 - val_accuracy: 0.7678\n",
      "\n"
     ]
    },
    {
     "data": {
      "text/html": [
       "Waiting for W&B process to finish... <strong style=\"color:green\">(success).</strong>"
      ],
      "text/plain": [
       "<IPython.core.display.HTML object>"
      ]
     },
     "metadata": {},
     "output_type": "display_data"
    },
    {
     "data": {
      "text/html": [
       "<style>\n",
       "    table.wandb td:nth-child(1) { padding: 0 10px; text-align: right }\n",
       "    .wandb-row { display: flex; flex-direction: row; flex-wrap: wrap; width: 100% }\n",
       "    .wandb-col { display: flex; flex-direction: column; flex-basis: 100%; flex: 1; padding: 10px; }\n",
       "    </style>\n",
       "<div class=\"wandb-row\"><div class=\"wandb-col\"><h3>Run history:</h3><br/><table class=\"wandb\"><tr><td>accuracy</td><td>▁▃▄▄▄▄▅▆▇▇▇█</td></tr><tr><td>epoch</td><td>▁▂▃▅▆▁▂▃▅▆▇█</td></tr><tr><td>loss</td><td>█▆▅▅▅▅▄▃▂▂▁▁</td></tr><tr><td>val_accuracy</td><td>▁▁▂▂▃▆▆▆▇█▇█</td></tr><tr><td>val_loss</td><td>█▆▆▆▅▃▃▃▂▂▂▁</td></tr></table><br/></div><div class=\"wandb-col\"><h3>Run summary:</h3><br/><table class=\"wandb\"><tr><td>accuracy</td><td>0.83033</td></tr><tr><td>best_epoch</td><td>6</td></tr><tr><td>best_val_loss</td><td>0.7636</td></tr><tr><td>epoch</td><td>6</td></tr><tr><td>loss</td><td>0.50331</td></tr><tr><td>val_accuracy</td><td>0.76777</td></tr><tr><td>val_loss</td><td>0.7636</td></tr></table><br/></div></div>"
      ],
      "text/plain": [
       "<IPython.core.display.HTML object>"
      ]
     },
     "metadata": {},
     "output_type": "display_data"
    },
    {
     "data": {
      "text/html": [
       "Synced <strong style=\"color:#cdcd00\">devoted-sweep-4</strong>: <a href=\"https://wandb.ai/cs21m029_keyur_raval/DL_CS6910_Assignment2/runs/havxxesr\" target=\"_blank\">https://wandb.ai/cs21m029_keyur_raval/DL_CS6910_Assignment2/runs/havxxesr</a><br/>Synced 6 W&B file(s), 1 media file(s), 0 artifact file(s) and 1 other file(s)"
      ],
      "text/plain": [
       "<IPython.core.display.HTML object>"
      ]
     },
     "metadata": {},
     "output_type": "display_data"
    },
    {
     "data": {
      "text/html": [
       "Find logs at: <code>.\\wandb\\run-20220409_214801-havxxesr\\logs</code>"
      ],
      "text/plain": [
       "<IPython.core.display.HTML object>"
      ]
     },
     "metadata": {},
     "output_type": "display_data"
    },
    {
     "name": "stderr",
     "output_type": "stream",
     "text": [
      "\u001b[34m\u001b[1mwandb\u001b[0m: Agent Starting Run: 7v326our with config:\n",
      "\u001b[34m\u001b[1mwandb\u001b[0m: \taugment_data: True\n",
      "\u001b[34m\u001b[1mwandb\u001b[0m: \tbatch_size: 64\n",
      "\u001b[34m\u001b[1mwandb\u001b[0m: \tdense_size: 64\n",
      "\u001b[34m\u001b[1mwandb\u001b[0m: \tdropout: 0.3\n",
      "\u001b[34m\u001b[1mwandb\u001b[0m: \tepochs: 5\n",
      "\u001b[34m\u001b[1mwandb\u001b[0m: \tfreeze_before: 100\n",
      "\u001b[34m\u001b[1mwandb\u001b[0m: \tlr: 0.0001\n",
      "\u001b[34m\u001b[1mwandb\u001b[0m: \tmodels: IRNV2\n"
     ]
    },
    {
     "data": {
      "text/html": [
       "Tracking run with wandb version 0.12.14"
      ],
      "text/plain": [
       "<IPython.core.display.HTML object>"
      ]
     },
     "metadata": {},
     "output_type": "display_data"
    },
    {
     "data": {
      "text/html": [
       "Run data is saved locally in <code>C:\\Users\\Keyur\\Documents\\DL\\A2\\P1\\wandb\\run-20220409_221547-7v326our</code>"
      ],
      "text/plain": [
       "<IPython.core.display.HTML object>"
      ]
     },
     "metadata": {},
     "output_type": "display_data"
    },
    {
     "data": {
      "text/html": [
       "Syncing run <strong><a href=\"https://wandb.ai/cs21m029_keyur_raval/DL_CS6910_Assignment2/runs/7v326our\" target=\"_blank\">comic-sweep-5</a></strong> to <a href=\"https://wandb.ai/cs21m029_keyur_raval/DL_CS6910_Assignment2\" target=\"_blank\">Weights & Biases</a> (<a href=\"https://wandb.me/run\" target=\"_blank\">docs</a>)<br/>Sweep page:  <a href=\"https://wandb.ai/cs21m029_keyur_raval/DL_CS6910_Assignment2/sweeps/4pxgyjqv\" target=\"_blank\">https://wandb.ai/cs21m029_keyur_raval/DL_CS6910_Assignment2/sweeps/4pxgyjqv</a>"
      ],
      "text/plain": [
       "<IPython.core.display.HTML object>"
      ]
     },
     "metadata": {},
     "output_type": "display_data"
    },
    {
     "name": "stdout",
     "output_type": "stream",
     "text": [
      "Found 9000 images belonging to 10 classes.\n",
      "Found 999 images belonging to 10 classes.\n",
      "Found 2000 images belonging to 10 classes.\n",
      "Epoch 1/5\n",
      "141/141 [==============================] - 144s 958ms/step - loss: 1.4545 - accuracy: 0.5338 - val_loss: 1.0494 - val_accuracy: 0.6667\n",
      "Epoch 2/5\n",
      "141/141 [==============================] - 133s 941ms/step - loss: 1.1998 - accuracy: 0.6180 - val_loss: 1.0254 - val_accuracy: 0.6657\n",
      "Epoch 3/5\n",
      "141/141 [==============================] - 132s 936ms/step - loss: 1.1270 - accuracy: 0.6349 - val_loss: 1.0244 - val_accuracy: 0.6757\n",
      "Epoch 4/5\n",
      "141/141 [==============================] - 132s 937ms/step - loss: 1.0879 - accuracy: 0.6553 - val_loss: 0.9539 - val_accuracy: 0.7067\n",
      "Epoch 5/5\n",
      "141/141 [==============================] - 132s 934ms/step - loss: 1.0605 - accuracy: 0.6608 - val_loss: 0.9938 - val_accuracy: 0.6767\n",
      "Epoch 1/7\n",
      "141/141 [==============================] - 146s 969ms/step - loss: 1.0170 - accuracy: 0.6719 - val_loss: 0.9035 - val_accuracy: 0.7227\n",
      "Epoch 2/7\n",
      "141/141 [==============================] - 134s 946ms/step - loss: 0.8688 - accuracy: 0.7201 - val_loss: 0.8174 - val_accuracy: 0.7467\n",
      "Epoch 3/7\n",
      "141/141 [==============================] - 138s 978ms/step - loss: 0.7768 - accuracy: 0.7516 - val_loss: 0.7896 - val_accuracy: 0.7407\n",
      "Epoch 4/7\n",
      "141/141 [==============================] - 138s 978ms/step - loss: 0.7009 - accuracy: 0.7660 - val_loss: 0.8391 - val_accuracy: 0.7387\n",
      "Epoch 5/7\n",
      "141/141 [==============================] - 135s 954ms/step - loss: 0.6461 - accuracy: 0.7911 - val_loss: 0.8063 - val_accuracy: 0.7447\n",
      "Epoch 6/7\n",
      "141/141 [==============================] - 133s 939ms/step - loss: 0.5804 - accuracy: 0.8117 - val_loss: 0.8421 - val_accuracy: 0.7578\n",
      "Epoch 7/7\n",
      "141/141 [==============================] - 132s 937ms/step - loss: 0.5181 - accuracy: 0.8282 - val_loss: 0.8347 - val_accuracy: 0.7688\n",
      "\n"
     ]
    },
    {
     "data": {
      "text/html": [
       "Waiting for W&B process to finish... <strong style=\"color:green\">(success).</strong>"
      ],
      "text/plain": [
       "<IPython.core.display.HTML object>"
      ]
     },
     "metadata": {},
     "output_type": "display_data"
    },
    {
     "data": {
      "text/html": [
       "<style>\n",
       "    table.wandb td:nth-child(1) { padding: 0 10px; text-align: right }\n",
       "    .wandb-row { display: flex; flex-direction: row; flex-wrap: wrap; width: 100% }\n",
       "    .wandb-col { display: flex; flex-direction: column; flex-basis: 100%; flex: 1; padding: 10px; }\n",
       "    </style>\n",
       "<div class=\"wandb-row\"><div class=\"wandb-col\"><h3>Run history:</h3><br/><table class=\"wandb\"><tr><td>accuracy</td><td>▁▃▃▄▄▄▅▆▇▇██</td></tr><tr><td>epoch</td><td>▁▂▃▅▆▁▂▃▅▆▇█</td></tr><tr><td>loss</td><td>█▆▆▅▅▅▄▃▂▂▁▁</td></tr><tr><td>val_accuracy</td><td>▁▁▂▄▂▅▇▆▆▆▇█</td></tr><tr><td>val_loss</td><td>█▇▇▅▇▄▂▁▂▁▂▂</td></tr></table><br/></div><div class=\"wandb-col\"><h3>Run summary:</h3><br/><table class=\"wandb\"><tr><td>accuracy</td><td>0.82822</td></tr><tr><td>best_epoch</td><td>2</td></tr><tr><td>best_val_loss</td><td>0.78964</td></tr><tr><td>epoch</td><td>6</td></tr><tr><td>loss</td><td>0.51807</td></tr><tr><td>val_accuracy</td><td>0.76877</td></tr><tr><td>val_loss</td><td>0.8347</td></tr></table><br/></div></div>"
      ],
      "text/plain": [
       "<IPython.core.display.HTML object>"
      ]
     },
     "metadata": {},
     "output_type": "display_data"
    },
    {
     "data": {
      "text/html": [
       "Synced <strong style=\"color:#cdcd00\">comic-sweep-5</strong>: <a href=\"https://wandb.ai/cs21m029_keyur_raval/DL_CS6910_Assignment2/runs/7v326our\" target=\"_blank\">https://wandb.ai/cs21m029_keyur_raval/DL_CS6910_Assignment2/runs/7v326our</a><br/>Synced 6 W&B file(s), 1 media file(s), 0 artifact file(s) and 1 other file(s)"
      ],
      "text/plain": [
       "<IPython.core.display.HTML object>"
      ]
     },
     "metadata": {},
     "output_type": "display_data"
    },
    {
     "data": {
      "text/html": [
       "Find logs at: <code>.\\wandb\\run-20220409_221547-7v326our\\logs</code>"
      ],
      "text/plain": [
       "<IPython.core.display.HTML object>"
      ]
     },
     "metadata": {},
     "output_type": "display_data"
    },
    {
     "name": "stderr",
     "output_type": "stream",
     "text": [
      "\u001b[34m\u001b[1mwandb\u001b[0m: Agent Starting Run: 4b65nj8o with config:\n",
      "\u001b[34m\u001b[1mwandb\u001b[0m: \taugment_data: True\n",
      "\u001b[34m\u001b[1mwandb\u001b[0m: \tbatch_size: 64\n",
      "\u001b[34m\u001b[1mwandb\u001b[0m: \tdense_size: 100\n",
      "\u001b[34m\u001b[1mwandb\u001b[0m: \tdropout: 0.3\n",
      "\u001b[34m\u001b[1mwandb\u001b[0m: \tepochs: 5\n",
      "\u001b[34m\u001b[1mwandb\u001b[0m: \tfreeze_before: 100\n",
      "\u001b[34m\u001b[1mwandb\u001b[0m: \tlr: 0.0001\n",
      "\u001b[34m\u001b[1mwandb\u001b[0m: \tmodels: IV3\n"
     ]
    },
    {
     "data": {
      "text/html": [
       "Tracking run with wandb version 0.12.14"
      ],
      "text/plain": [
       "<IPython.core.display.HTML object>"
      ]
     },
     "metadata": {},
     "output_type": "display_data"
    },
    {
     "data": {
      "text/html": [
       "Run data is saved locally in <code>C:\\Users\\Keyur\\Documents\\DL\\A2\\P1\\wandb\\run-20220409_224401-4b65nj8o</code>"
      ],
      "text/plain": [
       "<IPython.core.display.HTML object>"
      ]
     },
     "metadata": {},
     "output_type": "display_data"
    },
    {
     "data": {
      "text/html": [
       "Syncing run <strong><a href=\"https://wandb.ai/cs21m029_keyur_raval/DL_CS6910_Assignment2/runs/4b65nj8o\" target=\"_blank\">treasured-sweep-6</a></strong> to <a href=\"https://wandb.ai/cs21m029_keyur_raval/DL_CS6910_Assignment2\" target=\"_blank\">Weights & Biases</a> (<a href=\"https://wandb.me/run\" target=\"_blank\">docs</a>)<br/>Sweep page:  <a href=\"https://wandb.ai/cs21m029_keyur_raval/DL_CS6910_Assignment2/sweeps/4pxgyjqv\" target=\"_blank\">https://wandb.ai/cs21m029_keyur_raval/DL_CS6910_Assignment2/sweeps/4pxgyjqv</a>"
      ],
      "text/plain": [
       "<IPython.core.display.HTML object>"
      ]
     },
     "metadata": {},
     "output_type": "display_data"
    },
    {
     "name": "stdout",
     "output_type": "stream",
     "text": [
      "Found 9000 images belonging to 10 classes.\n",
      "Found 999 images belonging to 10 classes.\n",
      "Found 2000 images belonging to 10 classes.\n",
      "Epoch 1/5\n",
      "141/141 [==============================] - 136s 935ms/step - loss: 1.6794 - accuracy: 0.4458 - val_loss: 1.1641 - val_accuracy: 0.6346\n",
      "Epoch 2/5\n",
      "141/141 [==============================] - 131s 931ms/step - loss: 1.3319 - accuracy: 0.5656 - val_loss: 1.1392 - val_accuracy: 0.6496\n",
      "Epoch 3/5\n",
      "141/141 [==============================] - 128s 910ms/step - loss: 1.2520 - accuracy: 0.5952 - val_loss: 1.0732 - val_accuracy: 0.6557\n",
      "Epoch 4/5\n",
      "141/141 [==============================] - 126s 894ms/step - loss: 1.1912 - accuracy: 0.6067 - val_loss: 1.0930 - val_accuracy: 0.6486\n",
      "Epoch 5/5\n",
      "141/141 [==============================] - 126s 896ms/step - loss: 1.1663 - accuracy: 0.6198 - val_loss: 1.0396 - val_accuracy: 0.6747\n",
      "Epoch 1/7\n",
      "141/141 [==============================] - 132s 907ms/step - loss: 1.2281 - accuracy: 0.6047 - val_loss: 1.0295 - val_accuracy: 0.6727\n",
      "Epoch 2/7\n",
      "141/141 [==============================] - 127s 898ms/step - loss: 1.0162 - accuracy: 0.6712 - val_loss: 0.9870 - val_accuracy: 0.6797\n",
      "Epoch 3/7\n",
      "141/141 [==============================] - 128s 908ms/step - loss: 0.9030 - accuracy: 0.7096 - val_loss: 0.8988 - val_accuracy: 0.7187\n",
      "Epoch 4/7\n",
      "141/141 [==============================] - 128s 907ms/step - loss: 0.8202 - accuracy: 0.7377 - val_loss: 0.9081 - val_accuracy: 0.7117\n",
      "Epoch 5/7\n",
      "141/141 [==============================] - 128s 907ms/step - loss: 0.7451 - accuracy: 0.7590 - val_loss: 0.9159 - val_accuracy: 0.7367\n",
      "Epoch 6/7\n",
      "141/141 [==============================] - 128s 907ms/step - loss: 0.6683 - accuracy: 0.7839 - val_loss: 0.9511 - val_accuracy: 0.7357\n",
      "Epoch 7/7\n",
      "141/141 [==============================] - 128s 907ms/step - loss: 0.6292 - accuracy: 0.7978 - val_loss: 0.8629 - val_accuracy: 0.7417\n",
      "\n"
     ]
    },
    {
     "data": {
      "text/html": [
       "Waiting for W&B process to finish... <strong style=\"color:green\">(success).</strong>"
      ],
      "text/plain": [
       "<IPython.core.display.HTML object>"
      ]
     },
     "metadata": {},
     "output_type": "display_data"
    },
    {
     "data": {
      "text/html": [
       "<style>\n",
       "    table.wandb td:nth-child(1) { padding: 0 10px; text-align: right }\n",
       "    .wandb-row { display: flex; flex-direction: row; flex-wrap: wrap; width: 100% }\n",
       "    .wandb-col { display: flex; flex-direction: column; flex-basis: 100%; flex: 1; padding: 10px; }\n",
       "    </style>\n",
       "<div class=\"wandb-row\"><div class=\"wandb-col\"><h3>Run history:</h3><br/><table class=\"wandb\"><tr><td>accuracy</td><td>▁▃▄▄▄▄▅▆▇▇██</td></tr><tr><td>epoch</td><td>▁▂▃▅▆▁▂▃▅▆▇█</td></tr><tr><td>loss</td><td>█▆▅▅▅▅▄▃▂▂▁▁</td></tr><tr><td>val_accuracy</td><td>▁▂▂▂▄▃▄▆▆███</td></tr><tr><td>val_loss</td><td>█▇▆▆▅▅▄▂▂▂▃▁</td></tr></table><br/></div><div class=\"wandb-col\"><h3>Run summary:</h3><br/><table class=\"wandb\"><tr><td>accuracy</td><td>0.79778</td></tr><tr><td>best_epoch</td><td>6</td></tr><tr><td>best_val_loss</td><td>0.86294</td></tr><tr><td>epoch</td><td>6</td></tr><tr><td>loss</td><td>0.6292</td></tr><tr><td>val_accuracy</td><td>0.74174</td></tr><tr><td>val_loss</td><td>0.86294</td></tr></table><br/></div></div>"
      ],
      "text/plain": [
       "<IPython.core.display.HTML object>"
      ]
     },
     "metadata": {},
     "output_type": "display_data"
    },
    {
     "data": {
      "text/html": [
       "Synced <strong style=\"color:#cdcd00\">treasured-sweep-6</strong>: <a href=\"https://wandb.ai/cs21m029_keyur_raval/DL_CS6910_Assignment2/runs/4b65nj8o\" target=\"_blank\">https://wandb.ai/cs21m029_keyur_raval/DL_CS6910_Assignment2/runs/4b65nj8o</a><br/>Synced 6 W&B file(s), 1 media file(s), 0 artifact file(s) and 1 other file(s)"
      ],
      "text/plain": [
       "<IPython.core.display.HTML object>"
      ]
     },
     "metadata": {},
     "output_type": "display_data"
    },
    {
     "data": {
      "text/html": [
       "Find logs at: <code>.\\wandb\\run-20220409_224401-4b65nj8o\\logs</code>"
      ],
      "text/plain": [
       "<IPython.core.display.HTML object>"
      ]
     },
     "metadata": {},
     "output_type": "display_data"
    },
    {
     "name": "stderr",
     "output_type": "stream",
     "text": [
      "\u001b[34m\u001b[1mwandb\u001b[0m: Sweep Agent: Waiting for job.\n",
      "\u001b[34m\u001b[1mwandb\u001b[0m: Job received.\n",
      "\u001b[34m\u001b[1mwandb\u001b[0m: Agent Starting Run: 26kletif with config:\n",
      "\u001b[34m\u001b[1mwandb\u001b[0m: \taugment_data: True\n",
      "\u001b[34m\u001b[1mwandb\u001b[0m: \tbatch_size: 64\n",
      "\u001b[34m\u001b[1mwandb\u001b[0m: \tdense_size: 64\n",
      "\u001b[34m\u001b[1mwandb\u001b[0m: \tdropout: 0.3\n",
      "\u001b[34m\u001b[1mwandb\u001b[0m: \tepochs: 5\n",
      "\u001b[34m\u001b[1mwandb\u001b[0m: \tfreeze_before: 100\n",
      "\u001b[34m\u001b[1mwandb\u001b[0m: \tlr: 0.0001\n",
      "\u001b[34m\u001b[1mwandb\u001b[0m: \tmodels: RN50\n"
     ]
    },
    {
     "data": {
      "text/html": [
       "Tracking run with wandb version 0.12.14"
      ],
      "text/plain": [
       "<IPython.core.display.HTML object>"
      ]
     },
     "metadata": {},
     "output_type": "display_data"
    },
    {
     "data": {
      "text/html": [
       "Run data is saved locally in <code>C:\\Users\\Keyur\\Documents\\DL\\A2\\P1\\wandb\\run-20220409_231103-26kletif</code>"
      ],
      "text/plain": [
       "<IPython.core.display.HTML object>"
      ]
     },
     "metadata": {},
     "output_type": "display_data"
    },
    {
     "data": {
      "text/html": [
       "Syncing run <strong><a href=\"https://wandb.ai/cs21m029_keyur_raval/DL_CS6910_Assignment2/runs/26kletif\" target=\"_blank\">revived-sweep-7</a></strong> to <a href=\"https://wandb.ai/cs21m029_keyur_raval/DL_CS6910_Assignment2\" target=\"_blank\">Weights & Biases</a> (<a href=\"https://wandb.me/run\" target=\"_blank\">docs</a>)<br/>Sweep page:  <a href=\"https://wandb.ai/cs21m029_keyur_raval/DL_CS6910_Assignment2/sweeps/4pxgyjqv\" target=\"_blank\">https://wandb.ai/cs21m029_keyur_raval/DL_CS6910_Assignment2/sweeps/4pxgyjqv</a>"
      ],
      "text/plain": [
       "<IPython.core.display.HTML object>"
      ]
     },
     "metadata": {},
     "output_type": "display_data"
    },
    {
     "name": "stdout",
     "output_type": "stream",
     "text": [
      "Found 9000 images belonging to 10 classes.\n",
      "Found 999 images belonging to 10 classes.\n",
      "Found 2000 images belonging to 10 classes.\n",
      "Epoch 1/5\n",
      "141/141 [==============================] - 139s 949ms/step - loss: 2.3258 - accuracy: 0.0957 - val_loss: 2.3026 - val_accuracy: 0.0991\n",
      "Epoch 2/5\n",
      "141/141 [==============================] - 130s 920ms/step - loss: 2.3026 - accuracy: 0.0983 - val_loss: 2.3026 - val_accuracy: 0.1001\n",
      "Epoch 3/5\n",
      "141/141 [==============================] - 130s 920ms/step - loss: 2.3027 - accuracy: 0.0927 - val_loss: 2.3026 - val_accuracy: 0.1001\n",
      "Epoch 4/5\n",
      "141/141 [==============================] - 136s 962ms/step - loss: 2.3026 - accuracy: 0.0941 - val_loss: 2.3026 - val_accuracy: 0.1001\n",
      "Epoch 5/5\n",
      "141/141 [==============================] - 132s 936ms/step - loss: 2.3026 - accuracy: 0.0982 - val_loss: 2.3026 - val_accuracy: 0.1001\n",
      "Epoch 1/7\n",
      "\n"
     ]
    },
    {
     "data": {
      "text/html": [
       "Waiting for W&B process to finish... <strong style=\"color:red\">(failed 1).</strong> Press Ctrl-C to abort syncing."
      ],
      "text/plain": [
       "<IPython.core.display.HTML object>"
      ]
     },
     "metadata": {},
     "output_type": "display_data"
    },
    {
     "data": {
      "text/html": [
       "<style>\n",
       "    table.wandb td:nth-child(1) { padding: 0 10px; text-align: right }\n",
       "    .wandb-row { display: flex; flex-direction: row; flex-wrap: wrap; width: 100% }\n",
       "    .wandb-col { display: flex; flex-direction: column; flex-basis: 100%; flex: 1; padding: 10px; }\n",
       "    </style>\n",
       "<div class=\"wandb-row\"><div class=\"wandb-col\"><h3>Run history:</h3><br/><table class=\"wandb\"><tr><td>accuracy</td><td>▅█▁▃█</td></tr><tr><td>epoch</td><td>▁▃▅▆█</td></tr><tr><td>loss</td><td>█▁▁▁▁</td></tr><tr><td>val_accuracy</td><td>▁████</td></tr><tr><td>val_loss</td><td>▁████</td></tr></table><br/></div><div class=\"wandb-col\"><h3>Run summary:</h3><br/><table class=\"wandb\"><tr><td>accuracy</td><td>0.09822</td></tr><tr><td>best_epoch</td><td>0</td></tr><tr><td>best_val_loss</td><td>2.30257</td></tr><tr><td>epoch</td><td>4</td></tr><tr><td>loss</td><td>2.3026</td></tr><tr><td>val_accuracy</td><td>0.1001</td></tr><tr><td>val_loss</td><td>2.30259</td></tr></table><br/></div></div>"
      ],
      "text/plain": [
       "<IPython.core.display.HTML object>"
      ]
     },
     "metadata": {},
     "output_type": "display_data"
    },
    {
     "data": {
      "text/html": [
       "Synced <strong style=\"color:#cdcd00\">revived-sweep-7</strong>: <a href=\"https://wandb.ai/cs21m029_keyur_raval/DL_CS6910_Assignment2/runs/26kletif\" target=\"_blank\">https://wandb.ai/cs21m029_keyur_raval/DL_CS6910_Assignment2/runs/26kletif</a><br/>Synced 6 W&B file(s), 1 media file(s), 0 artifact file(s) and 1 other file(s)"
      ],
      "text/plain": [
       "<IPython.core.display.HTML object>"
      ]
     },
     "metadata": {},
     "output_type": "display_data"
    },
    {
     "data": {
      "text/html": [
       "Find logs at: <code>.\\wandb\\run-20220409_231103-26kletif\\logs</code>"
      ],
      "text/plain": [
       "<IPython.core.display.HTML object>"
      ]
     },
     "metadata": {},
     "output_type": "display_data"
    },
    {
     "name": "stderr",
     "output_type": "stream",
     "text": [
      "Run 26kletif errored: ResourceExhaustedError()\n",
      "\u001b[34m\u001b[1mwandb\u001b[0m: \u001b[32m\u001b[41mERROR\u001b[0m Run 26kletif errored: ResourceExhaustedError()\n",
      "\u001b[34m\u001b[1mwandb\u001b[0m: Agent Starting Run: 6jqrjuoh with config:\n",
      "\u001b[34m\u001b[1mwandb\u001b[0m: \taugment_data: False\n",
      "\u001b[34m\u001b[1mwandb\u001b[0m: \tbatch_size: 32\n",
      "\u001b[34m\u001b[1mwandb\u001b[0m: \tdense_size: 64\n",
      "\u001b[34m\u001b[1mwandb\u001b[0m: \tdropout: 0.2\n",
      "\u001b[34m\u001b[1mwandb\u001b[0m: \tepochs: 5\n",
      "\u001b[34m\u001b[1mwandb\u001b[0m: \tfreeze_before: 100\n",
      "\u001b[34m\u001b[1mwandb\u001b[0m: \tlr: 0.0001\n",
      "\u001b[34m\u001b[1mwandb\u001b[0m: \tmodels: IRNV2\n"
     ]
    },
    {
     "data": {
      "text/html": [
       "Tracking run with wandb version 0.12.14"
      ],
      "text/plain": [
       "<IPython.core.display.HTML object>"
      ]
     },
     "metadata": {},
     "output_type": "display_data"
    },
    {
     "data": {
      "text/html": [
       "Run data is saved locally in <code>C:\\Users\\Keyur\\Documents\\DL\\A2\\P1\\wandb\\run-20220409_232244-6jqrjuoh</code>"
      ],
      "text/plain": [
       "<IPython.core.display.HTML object>"
      ]
     },
     "metadata": {},
     "output_type": "display_data"
    },
    {
     "data": {
      "text/html": [
       "Syncing run <strong><a href=\"https://wandb.ai/cs21m029_keyur_raval/DL_CS6910_Assignment2/runs/6jqrjuoh\" target=\"_blank\">skilled-sweep-8</a></strong> to <a href=\"https://wandb.ai/cs21m029_keyur_raval/DL_CS6910_Assignment2\" target=\"_blank\">Weights & Biases</a> (<a href=\"https://wandb.me/run\" target=\"_blank\">docs</a>)<br/>Sweep page:  <a href=\"https://wandb.ai/cs21m029_keyur_raval/DL_CS6910_Assignment2/sweeps/4pxgyjqv\" target=\"_blank\">https://wandb.ai/cs21m029_keyur_raval/DL_CS6910_Assignment2/sweeps/4pxgyjqv</a>"
      ],
      "text/plain": [
       "<IPython.core.display.HTML object>"
      ]
     },
     "metadata": {},
     "output_type": "display_data"
    },
    {
     "name": "stdout",
     "output_type": "stream",
     "text": [
      "Found 9000 images belonging to 10 classes.\n",
      "Found 999 images belonging to 10 classes.\n",
      "Found 2000 images belonging to 10 classes.\n",
      "Epoch 1/5\n",
      "282/282 [==============================] - 86s 278ms/step - loss: 1.0976 - accuracy: 0.6652 - val_loss: 0.8194 - val_accuracy: 0.7518\n",
      "Epoch 2/5\n",
      "282/282 [==============================] - 76s 269ms/step - loss: 0.7742 - accuracy: 0.7606 - val_loss: 0.7808 - val_accuracy: 0.7558\n",
      "Epoch 3/5\n",
      "282/282 [==============================] - 77s 272ms/step - loss: 0.6028 - accuracy: 0.8034 - val_loss: 0.8199 - val_accuracy: 0.7698\n",
      "Epoch 4/5\n",
      "282/282 [==============================] - 76s 267ms/step - loss: 0.5166 - accuracy: 0.8333 - val_loss: 0.7929 - val_accuracy: 0.7668\n",
      "Epoch 5/5\n",
      "282/282 [==============================] - 75s 266ms/step - loss: 0.4190 - accuracy: 0.8572 - val_loss: 0.7978 - val_accuracy: 0.7648\n",
      "Epoch 1/7\n",
      "282/282 [==============================] - 87s 277ms/step - loss: 0.5070 - accuracy: 0.8353 - val_loss: 0.7009 - val_accuracy: 0.7768\n",
      "Epoch 2/7\n",
      "282/282 [==============================] - 76s 270ms/step - loss: 0.2375 - accuracy: 0.9218 - val_loss: 0.7957 - val_accuracy: 0.7928\n",
      "Epoch 3/7\n",
      "282/282 [==============================] - 76s 268ms/step - loss: 0.1371 - accuracy: 0.9556 - val_loss: 0.9068 - val_accuracy: 0.7928\n",
      "Epoch 4/7\n",
      "282/282 [==============================] - 76s 270ms/step - loss: 0.0876 - accuracy: 0.9721 - val_loss: 0.9085 - val_accuracy: 0.7798\n",
      "Epoch 5/7\n",
      "282/282 [==============================] - 77s 271ms/step - loss: 0.0657 - accuracy: 0.9801 - val_loss: 0.9484 - val_accuracy: 0.7858\n",
      "Epoch 6/7\n",
      "282/282 [==============================] - 76s 269ms/step - loss: 0.0429 - accuracy: 0.9882 - val_loss: 1.1077 - val_accuracy: 0.7708\n",
      "Epoch 7/7\n",
      "282/282 [==============================] - 76s 268ms/step - loss: 0.0438 - accuracy: 0.9876 - val_loss: 1.0858 - val_accuracy: 0.7708\n",
      "\n"
     ]
    },
    {
     "data": {
      "text/html": [
       "Waiting for W&B process to finish... <strong style=\"color:green\">(success).</strong>"
      ],
      "text/plain": [
       "<IPython.core.display.HTML object>"
      ]
     },
     "metadata": {},
     "output_type": "display_data"
    },
    {
     "data": {
      "text/html": [
       "<style>\n",
       "    table.wandb td:nth-child(1) { padding: 0 10px; text-align: right }\n",
       "    .wandb-row { display: flex; flex-direction: row; flex-wrap: wrap; width: 100% }\n",
       "    .wandb-col { display: flex; flex-direction: column; flex-basis: 100%; flex: 1; padding: 10px; }\n",
       "    </style>\n",
       "<div class=\"wandb-row\"><div class=\"wandb-col\"><h3>Run history:</h3><br/><table class=\"wandb\"><tr><td>accuracy</td><td>▁▃▄▅▅▅▇▇████</td></tr><tr><td>epoch</td><td>▁▂▃▅▆▁▂▃▅▆▇█</td></tr><tr><td>loss</td><td>█▆▅▄▃▄▂▂▁▁▁▁</td></tr><tr><td>val_accuracy</td><td>▁▂▄▄▃▅██▆▇▄▄</td></tr><tr><td>val_loss</td><td>▃▂▃▃▃▁▃▅▅▅██</td></tr></table><br/></div><div class=\"wandb-col\"><h3>Run summary:</h3><br/><table class=\"wandb\"><tr><td>accuracy</td><td>0.98756</td></tr><tr><td>best_epoch</td><td>0</td></tr><tr><td>best_val_loss</td><td>0.70087</td></tr><tr><td>epoch</td><td>6</td></tr><tr><td>loss</td><td>0.04379</td></tr><tr><td>val_accuracy</td><td>0.77077</td></tr><tr><td>val_loss</td><td>1.08579</td></tr></table><br/></div></div>"
      ],
      "text/plain": [
       "<IPython.core.display.HTML object>"
      ]
     },
     "metadata": {},
     "output_type": "display_data"
    },
    {
     "data": {
      "text/html": [
       "Synced <strong style=\"color:#cdcd00\">skilled-sweep-8</strong>: <a href=\"https://wandb.ai/cs21m029_keyur_raval/DL_CS6910_Assignment2/runs/6jqrjuoh\" target=\"_blank\">https://wandb.ai/cs21m029_keyur_raval/DL_CS6910_Assignment2/runs/6jqrjuoh</a><br/>Synced 6 W&B file(s), 1 media file(s), 0 artifact file(s) and 1 other file(s)"
      ],
      "text/plain": [
       "<IPython.core.display.HTML object>"
      ]
     },
     "metadata": {},
     "output_type": "display_data"
    },
    {
     "data": {
      "text/html": [
       "Find logs at: <code>.\\wandb\\run-20220409_232244-6jqrjuoh\\logs</code>"
      ],
      "text/plain": [
       "<IPython.core.display.HTML object>"
      ]
     },
     "metadata": {},
     "output_type": "display_data"
    },
    {
     "name": "stderr",
     "output_type": "stream",
     "text": [
      "\u001b[34m\u001b[1mwandb\u001b[0m: Agent Starting Run: 34r506l7 with config:\n",
      "\u001b[34m\u001b[1mwandb\u001b[0m: \taugment_data: True\n",
      "\u001b[34m\u001b[1mwandb\u001b[0m: \tbatch_size: 32\n",
      "\u001b[34m\u001b[1mwandb\u001b[0m: \tdense_size: 100\n",
      "\u001b[34m\u001b[1mwandb\u001b[0m: \tdropout: 0.3\n",
      "\u001b[34m\u001b[1mwandb\u001b[0m: \tepochs: 5\n",
      "\u001b[34m\u001b[1mwandb\u001b[0m: \tfreeze_before: 50\n",
      "\u001b[34m\u001b[1mwandb\u001b[0m: \tlr: 0.005\n",
      "\u001b[34m\u001b[1mwandb\u001b[0m: \tmodels: IV3\n"
     ]
    },
    {
     "data": {
      "text/html": [
       "Tracking run with wandb version 0.12.14"
      ],
      "text/plain": [
       "<IPython.core.display.HTML object>"
      ]
     },
     "metadata": {},
     "output_type": "display_data"
    },
    {
     "data": {
      "text/html": [
       "Run data is saved locally in <code>C:\\Users\\Keyur\\Documents\\DL\\A2\\P1\\wandb\\run-20220409_233913-34r506l7</code>"
      ],
      "text/plain": [
       "<IPython.core.display.HTML object>"
      ]
     },
     "metadata": {},
     "output_type": "display_data"
    },
    {
     "data": {
      "text/html": [
       "Syncing run <strong><a href=\"https://wandb.ai/cs21m029_keyur_raval/DL_CS6910_Assignment2/runs/34r506l7\" target=\"_blank\">balmy-sweep-9</a></strong> to <a href=\"https://wandb.ai/cs21m029_keyur_raval/DL_CS6910_Assignment2\" target=\"_blank\">Weights & Biases</a> (<a href=\"https://wandb.me/run\" target=\"_blank\">docs</a>)<br/>Sweep page:  <a href=\"https://wandb.ai/cs21m029_keyur_raval/DL_CS6910_Assignment2/sweeps/4pxgyjqv\" target=\"_blank\">https://wandb.ai/cs21m029_keyur_raval/DL_CS6910_Assignment2/sweeps/4pxgyjqv</a>"
      ],
      "text/plain": [
       "<IPython.core.display.HTML object>"
      ]
     },
     "metadata": {},
     "output_type": "display_data"
    },
    {
     "name": "stdout",
     "output_type": "stream",
     "text": [
      "Found 9000 images belonging to 10 classes.\n",
      "Found 999 images belonging to 10 classes.\n",
      "Found 2000 images belonging to 10 classes.\n",
      "Epoch 1/5\n",
      "282/282 [==============================] - 136s 469ms/step - loss: 4.7640 - accuracy: 0.1503 - val_loss: 2.0717 - val_accuracy: 0.2142\n",
      "Epoch 2/5\n",
      "282/282 [==============================] - 131s 465ms/step - loss: 2.2512 - accuracy: 0.1388 - val_loss: 2.2310 - val_accuracy: 0.1331\n",
      "Epoch 3/5\n",
      "282/282 [==============================] - 131s 463ms/step - loss: 2.2358 - accuracy: 0.1287 - val_loss: 2.2092 - val_accuracy: 0.1411\n",
      "Epoch 4/5\n",
      "282/282 [==============================] - 130s 462ms/step - loss: 2.2496 - accuracy: 0.1361 - val_loss: 2.2200 - val_accuracy: 0.1421\n",
      "Epoch 5/5\n",
      "282/282 [==============================] - 130s 461ms/step - loss: 2.2620 - accuracy: 0.1222 - val_loss: 2.2396 - val_accuracy: 0.1271\n",
      "Epoch 1/7\n",
      "282/282 [==============================] - 138s 472ms/step - loss: 2.3385 - accuracy: 0.0970 - val_loss: 2.3028 - val_accuracy: 0.1001\n",
      "Epoch 2/7\n",
      "282/282 [==============================] - 132s 467ms/step - loss: 2.3101 - accuracy: 0.0966 - val_loss: 2.3027 - val_accuracy: 0.1001\n",
      "Epoch 3/7\n",
      "282/282 [==============================] - 132s 468ms/step - loss: 2.3043 - accuracy: 0.0942 - val_loss: 2.3027 - val_accuracy: 0.1001\n",
      "Epoch 4/7\n",
      "282/282 [==============================] - 132s 468ms/step - loss: 2.3035 - accuracy: 0.0947 - val_loss: 2.3029 - val_accuracy: 0.1001\n",
      "Epoch 5/7\n",
      "282/282 [==============================] - 133s 472ms/step - loss: 2.3035 - accuracy: 0.0972 - val_loss: 2.3028 - val_accuracy: 0.1001\n",
      "Epoch 6/7\n",
      "282/282 [==============================] - 162s 575ms/step - loss: 2.3036 - accuracy: 0.0932 - val_loss: 2.3029 - val_accuracy: 0.1001\n",
      "Epoch 7/7\n",
      "282/282 [==============================] - 165s 585ms/step - loss: 2.3036 - accuracy: 0.0926 - val_loss: 2.3029 - val_accuracy: 0.1001\n",
      "\n"
     ]
    },
    {
     "data": {
      "text/html": [
       "Waiting for W&B process to finish... <strong style=\"color:green\">(success).</strong>"
      ],
      "text/plain": [
       "<IPython.core.display.HTML object>"
      ]
     },
     "metadata": {},
     "output_type": "display_data"
    },
    {
     "data": {
      "text/html": [
       "<style>\n",
       "    table.wandb td:nth-child(1) { padding: 0 10px; text-align: right }\n",
       "    .wandb-row { display: flex; flex-direction: row; flex-wrap: wrap; width: 100% }\n",
       "    .wandb-col { display: flex; flex-direction: column; flex-basis: 100%; flex: 1; padding: 10px; }\n",
       "    </style>\n",
       "<div class=\"wandb-row\"><div class=\"wandb-col\"><h3>Run history:</h3><br/><table class=\"wandb\"><tr><td>accuracy</td><td>█▇▅▆▅▂▁▁▁▂▁▁</td></tr><tr><td>epoch</td><td>▁▂▃▅▆▁▂▃▅▆▇█</td></tr><tr><td>loss</td><td>█▁▁▁▁▁▁▁▁▁▁▁</td></tr><tr><td>val_accuracy</td><td>█▃▄▄▃▁▁▁▁▁▁▁</td></tr><tr><td>val_loss</td><td>▁▆▅▅▆███████</td></tr></table><br/></div><div class=\"wandb-col\"><h3>Run summary:</h3><br/><table class=\"wandb\"><tr><td>accuracy</td><td>0.09256</td></tr><tr><td>best_epoch</td><td>0</td></tr><tr><td>best_val_loss</td><td>2.0717</td></tr><tr><td>epoch</td><td>6</td></tr><tr><td>loss</td><td>2.30361</td></tr><tr><td>val_accuracy</td><td>0.1001</td></tr><tr><td>val_loss</td><td>2.30286</td></tr></table><br/></div></div>"
      ],
      "text/plain": [
       "<IPython.core.display.HTML object>"
      ]
     },
     "metadata": {},
     "output_type": "display_data"
    },
    {
     "data": {
      "text/html": [
       "Synced <strong style=\"color:#cdcd00\">balmy-sweep-9</strong>: <a href=\"https://wandb.ai/cs21m029_keyur_raval/DL_CS6910_Assignment2/runs/34r506l7\" target=\"_blank\">https://wandb.ai/cs21m029_keyur_raval/DL_CS6910_Assignment2/runs/34r506l7</a><br/>Synced 6 W&B file(s), 1 media file(s), 0 artifact file(s) and 1 other file(s)"
      ],
      "text/plain": [
       "<IPython.core.display.HTML object>"
      ]
     },
     "metadata": {},
     "output_type": "display_data"
    },
    {
     "data": {
      "text/html": [
       "Find logs at: <code>.\\wandb\\run-20220409_233913-34r506l7\\logs</code>"
      ],
      "text/plain": [
       "<IPython.core.display.HTML object>"
      ]
     },
     "metadata": {},
     "output_type": "display_data"
    },
    {
     "name": "stderr",
     "output_type": "stream",
     "text": [
      "\u001b[34m\u001b[1mwandb\u001b[0m: Agent Starting Run: do6xrfrw with config:\n",
      "\u001b[34m\u001b[1mwandb\u001b[0m: \taugment_data: False\n",
      "\u001b[34m\u001b[1mwandb\u001b[0m: \tbatch_size: 32\n",
      "\u001b[34m\u001b[1mwandb\u001b[0m: \tdense_size: 100\n",
      "\u001b[34m\u001b[1mwandb\u001b[0m: \tdropout: 0.2\n",
      "\u001b[34m\u001b[1mwandb\u001b[0m: \tepochs: 5\n",
      "\u001b[34m\u001b[1mwandb\u001b[0m: \tfreeze_before: 70\n",
      "\u001b[34m\u001b[1mwandb\u001b[0m: \tlr: 0.001\n",
      "\u001b[34m\u001b[1mwandb\u001b[0m: \tmodels: RN50\n"
     ]
    },
    {
     "data": {
      "text/html": [
       "Tracking run with wandb version 0.12.14"
      ],
      "text/plain": [
       "<IPython.core.display.HTML object>"
      ]
     },
     "metadata": {},
     "output_type": "display_data"
    },
    {
     "data": {
      "text/html": [
       "Run data is saved locally in <code>C:\\Users\\Keyur\\Documents\\DL\\A2\\P1\\wandb\\run-20220410_000703-do6xrfrw</code>"
      ],
      "text/plain": [
       "<IPython.core.display.HTML object>"
      ]
     },
     "metadata": {},
     "output_type": "display_data"
    },
    {
     "data": {
      "text/html": [
       "Syncing run <strong><a href=\"https://wandb.ai/cs21m029_keyur_raval/DL_CS6910_Assignment2/runs/do6xrfrw\" target=\"_blank\">comic-sweep-10</a></strong> to <a href=\"https://wandb.ai/cs21m029_keyur_raval/DL_CS6910_Assignment2\" target=\"_blank\">Weights & Biases</a> (<a href=\"https://wandb.me/run\" target=\"_blank\">docs</a>)<br/>Sweep page:  <a href=\"https://wandb.ai/cs21m029_keyur_raval/DL_CS6910_Assignment2/sweeps/4pxgyjqv\" target=\"_blank\">https://wandb.ai/cs21m029_keyur_raval/DL_CS6910_Assignment2/sweeps/4pxgyjqv</a>"
      ],
      "text/plain": [
       "<IPython.core.display.HTML object>"
      ]
     },
     "metadata": {},
     "output_type": "display_data"
    },
    {
     "name": "stdout",
     "output_type": "stream",
     "text": [
      "Found 9000 images belonging to 10 classes.\n",
      "Found 999 images belonging to 10 classes.\n",
      "Found 2000 images belonging to 10 classes.\n",
      "Epoch 1/5\n",
      "282/282 [==============================] - 103s 345ms/step - loss: 2.4815 - accuracy: 0.0937 - val_loss: 2.3026 - val_accuracy: 0.1001\n",
      "Epoch 2/5\n",
      "282/282 [==============================] - 97s 345ms/step - loss: 2.3028 - accuracy: 0.0971 - val_loss: 2.3026 - val_accuracy: 0.1001\n",
      "Epoch 3/5\n",
      "282/282 [==============================] - 98s 346ms/step - loss: 2.3028 - accuracy: 0.0953 - val_loss: 2.3026 - val_accuracy: 0.1001\n",
      "Epoch 4/5\n",
      "282/282 [==============================] - 91s 322ms/step - loss: 2.3029 - accuracy: 0.0943 - val_loss: 2.3026 - val_accuracy: 0.1001\n",
      "Epoch 5/5\n",
      "282/282 [==============================] - 94s 333ms/step - loss: 2.3028 - accuracy: 0.0962 - val_loss: 2.3026 - val_accuracy: 0.1011\n",
      "Epoch 1/7\n",
      "282/282 [==============================] - 109s 363ms/step - loss: 2.3694 - accuracy: 0.0950 - val_loss: 2.3026 - val_accuracy: 0.1001\n",
      "Epoch 2/7\n",
      "282/282 [==============================] - 98s 348ms/step - loss: 2.3028 - accuracy: 0.0933 - val_loss: 2.3026 - val_accuracy: 0.1001\n",
      "Epoch 3/7\n",
      "282/282 [==============================] - 99s 349ms/step - loss: 2.3028 - accuracy: 0.0949 - val_loss: 2.3026 - val_accuracy: 0.1001\n",
      "Epoch 4/7\n",
      "282/282 [==============================] - 99s 351ms/step - loss: 2.3028 - accuracy: 0.0944 - val_loss: 2.3026 - val_accuracy: 0.1001\n",
      "Epoch 5/7\n",
      "282/282 [==============================] - 98s 348ms/step - loss: 2.3028 - accuracy: 0.0927 - val_loss: 2.3026 - val_accuracy: 0.1001\n",
      "Epoch 6/7\n",
      "282/282 [==============================] - 99s 350ms/step - loss: 2.3028 - accuracy: 0.0954 - val_loss: 2.3026 - val_accuracy: 0.1001\n",
      "Epoch 7/7\n",
      "282/282 [==============================] - 99s 350ms/step - loss: 2.3028 - accuracy: 0.0961 - val_loss: 2.3026 - val_accuracy: 0.1001\n",
      "\n"
     ]
    },
    {
     "data": {
      "text/html": [
       "Waiting for W&B process to finish... <strong style=\"color:green\">(success).</strong>"
      ],
      "text/plain": [
       "<IPython.core.display.HTML object>"
      ]
     },
     "metadata": {},
     "output_type": "display_data"
    },
    {
     "data": {
      "text/html": [
       "<style>\n",
       "    table.wandb td:nth-child(1) { padding: 0 10px; text-align: right }\n",
       "    .wandb-row { display: flex; flex-direction: row; flex-wrap: wrap; width: 100% }\n",
       "    .wandb-col { display: flex; flex-direction: column; flex-basis: 100%; flex: 1; padding: 10px; }\n",
       "    </style>\n",
       "<div class=\"wandb-row\"><div class=\"wandb-col\"><h3>Run history:</h3><br/><table class=\"wandb\"><tr><td>accuracy</td><td>▃█▅▄▇▅▂▅▄▁▅▆</td></tr><tr><td>epoch</td><td>▁▂▃▅▆▁▂▃▅▆▇█</td></tr><tr><td>loss</td><td>█▁▁▁▁▄▁▁▁▁▁▁</td></tr><tr><td>val_accuracy</td><td>▁▁▁▁█▁▁▁▁▁▁▁</td></tr><tr><td>val_loss</td><td>▆▅▁▄▅▇▂▇▆█▄▄</td></tr></table><br/></div><div class=\"wandb-col\"><h3>Run summary:</h3><br/><table class=\"wandb\"><tr><td>accuracy</td><td>0.09611</td></tr><tr><td>best_epoch</td><td>2</td></tr><tr><td>best_val_loss</td><td>2.30258</td></tr><tr><td>epoch</td><td>6</td></tr><tr><td>loss</td><td>2.30281</td></tr><tr><td>val_accuracy</td><td>0.1001</td></tr><tr><td>val_loss</td><td>2.30259</td></tr></table><br/></div></div>"
      ],
      "text/plain": [
       "<IPython.core.display.HTML object>"
      ]
     },
     "metadata": {},
     "output_type": "display_data"
    },
    {
     "data": {
      "text/html": [
       "Synced <strong style=\"color:#cdcd00\">comic-sweep-10</strong>: <a href=\"https://wandb.ai/cs21m029_keyur_raval/DL_CS6910_Assignment2/runs/do6xrfrw\" target=\"_blank\">https://wandb.ai/cs21m029_keyur_raval/DL_CS6910_Assignment2/runs/do6xrfrw</a><br/>Synced 6 W&B file(s), 1 media file(s), 0 artifact file(s) and 1 other file(s)"
      ],
      "text/plain": [
       "<IPython.core.display.HTML object>"
      ]
     },
     "metadata": {},
     "output_type": "display_data"
    },
    {
     "data": {
      "text/html": [
       "Find logs at: <code>.\\wandb\\run-20220410_000703-do6xrfrw\\logs</code>"
      ],
      "text/plain": [
       "<IPython.core.display.HTML object>"
      ]
     },
     "metadata": {},
     "output_type": "display_data"
    }
   ],
   "source": [
    "wandb.agent(sweep_id, train, count = 10)"
   ]
  },
  {
   "cell_type": "code",
   "execution_count": null,
   "id": "bc448898-296d-4ffd-b238-a07c23e25f75",
   "metadata": {},
   "outputs": [],
   "source": []
  }
 ],
 "metadata": {
  "kernelspec": {
   "display_name": "Python 3 (ipykernel)",
   "language": "python",
   "name": "python3"
  },
  "language_info": {
   "codemirror_mode": {
    "name": "ipython",
    "version": 3
   },
   "file_extension": ".py",
   "mimetype": "text/x-python",
   "name": "python",
   "nbconvert_exporter": "python",
   "pygments_lexer": "ipython3",
   "version": "3.9.7"
  }
 },
 "nbformat": 4,
 "nbformat_minor": 5
}

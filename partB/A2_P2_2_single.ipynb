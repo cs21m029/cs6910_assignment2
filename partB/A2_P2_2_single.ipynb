{
 "cells": [
  {
   "cell_type": "code",
   "execution_count": 1,
   "id": "b328d40a-8690-4f28-ac71-3b5d00240746",
   "metadata": {},
   "outputs": [
    {
     "name": "stdout",
     "output_type": "stream",
     "text": [
      "Requirement already satisfied: wandb in c:\\users\\keyur\\anaconda3\\envs\\tf-gpu\\lib\\site-packages (0.12.14)\n",
      "Requirement already satisfied: requests<3,>=2.0.0 in c:\\users\\keyur\\anaconda3\\envs\\tf-gpu\\lib\\site-packages (from wandb) (2.27.1)\n",
      "Requirement already satisfied: Click!=8.0.0,>=7.0 in c:\\users\\keyur\\anaconda3\\envs\\tf-gpu\\lib\\site-packages (from wandb) (8.0.4)\n",
      "Requirement already satisfied: pathtools in c:\\users\\keyur\\anaconda3\\envs\\tf-gpu\\lib\\site-packages (from wandb) (0.1.2)\n",
      "Requirement already satisfied: python-dateutil>=2.6.1 in c:\\users\\keyur\\anaconda3\\envs\\tf-gpu\\lib\\site-packages (from wandb) (2.8.2)\n",
      "Requirement already satisfied: six>=1.13.0 in c:\\users\\keyur\\anaconda3\\envs\\tf-gpu\\lib\\site-packages (from wandb) (1.16.0)\n",
      "Requirement already satisfied: GitPython>=1.0.0 in c:\\users\\keyur\\anaconda3\\envs\\tf-gpu\\lib\\site-packages (from wandb) (3.1.27)\n",
      "Requirement already satisfied: docker-pycreds>=0.4.0 in c:\\users\\keyur\\anaconda3\\envs\\tf-gpu\\lib\\site-packages (from wandb) (0.4.0)\n",
      "Requirement already satisfied: PyYAML in c:\\users\\keyur\\anaconda3\\envs\\tf-gpu\\lib\\site-packages (from wandb) (6.0)\n",
      "Requirement already satisfied: shortuuid>=0.5.0 in c:\\users\\keyur\\anaconda3\\envs\\tf-gpu\\lib\\site-packages (from wandb) (1.0.8)\n",
      "Requirement already satisfied: protobuf>=3.12.0 in c:\\users\\keyur\\anaconda3\\envs\\tf-gpu\\lib\\site-packages (from wandb) (3.17.2)\n",
      "Requirement already satisfied: sentry-sdk>=1.0.0 in c:\\users\\keyur\\anaconda3\\envs\\tf-gpu\\lib\\site-packages (from wandb) (1.5.8)\n",
      "Requirement already satisfied: promise<3,>=2.0 in c:\\users\\keyur\\anaconda3\\envs\\tf-gpu\\lib\\site-packages (from wandb) (2.3)\n",
      "Requirement already satisfied: setproctitle in c:\\users\\keyur\\anaconda3\\envs\\tf-gpu\\lib\\site-packages (from wandb) (1.2.2)\n",
      "Requirement already satisfied: psutil>=5.0.0 in c:\\users\\keyur\\anaconda3\\envs\\tf-gpu\\lib\\site-packages (from wandb) (5.9.0)\n",
      "Requirement already satisfied: colorama in c:\\users\\keyur\\anaconda3\\envs\\tf-gpu\\lib\\site-packages (from Click!=8.0.0,>=7.0->wandb) (0.4.4)\n",
      "Requirement already satisfied: gitdb<5,>=4.0.1 in c:\\users\\keyur\\anaconda3\\envs\\tf-gpu\\lib\\site-packages (from GitPython>=1.0.0->wandb) (4.0.9)\n",
      "Requirement already satisfied: smmap<6,>=3.0.1 in c:\\users\\keyur\\anaconda3\\envs\\tf-gpu\\lib\\site-packages (from gitdb<5,>=4.0.1->GitPython>=1.0.0->wandb) (5.0.0)\n",
      "Requirement already satisfied: urllib3<1.27,>=1.21.1 in c:\\users\\keyur\\anaconda3\\envs\\tf-gpu\\lib\\site-packages (from requests<3,>=2.0.0->wandb) (1.26.8)\n",
      "Requirement already satisfied: idna<4,>=2.5 in c:\\users\\keyur\\anaconda3\\envs\\tf-gpu\\lib\\site-packages (from requests<3,>=2.0.0->wandb) (3.3)\n",
      "Requirement already satisfied: charset-normalizer~=2.0.0 in c:\\users\\keyur\\anaconda3\\envs\\tf-gpu\\lib\\site-packages (from requests<3,>=2.0.0->wandb) (2.0.4)\n",
      "Requirement already satisfied: certifi>=2017.4.17 in c:\\users\\keyur\\anaconda3\\envs\\tf-gpu\\lib\\site-packages (from requests<3,>=2.0.0->wandb) (2021.10.8)\n",
      "Requirement already satisfied: wandb in c:\\users\\keyur\\anaconda3\\envs\\tf-gpu\\lib\\site-packages (0.12.14)\n",
      "Requirement already satisfied: promise<3,>=2.0 in c:\\users\\keyur\\anaconda3\\envs\\tf-gpu\\lib\\site-packages (from wandb) (2.3)\n",
      "Requirement already satisfied: PyYAML in c:\\users\\keyur\\anaconda3\\envs\\tf-gpu\\lib\\site-packages (from wandb) (6.0)\n",
      "Requirement already satisfied: sentry-sdk>=1.0.0 in c:\\users\\keyur\\anaconda3\\envs\\tf-gpu\\lib\\site-packages (from wandb) (1.5.8)\n",
      "Requirement already satisfied: requests<3,>=2.0.0 in c:\\users\\keyur\\anaconda3\\envs\\tf-gpu\\lib\\site-packages (from wandb) (2.27.1)\n",
      "Requirement already satisfied: Click!=8.0.0,>=7.0 in c:\\users\\keyur\\anaconda3\\envs\\tf-gpu\\lib\\site-packages (from wandb) (8.0.4)\n",
      "Requirement already satisfied: psutil>=5.0.0 in c:\\users\\keyur\\anaconda3\\envs\\tf-gpu\\lib\\site-packages (from wandb) (5.9.0)\n",
      "Requirement already satisfied: python-dateutil>=2.6.1 in c:\\users\\keyur\\anaconda3\\envs\\tf-gpu\\lib\\site-packages (from wandb) (2.8.2)\n",
      "Requirement already satisfied: GitPython>=1.0.0 in c:\\users\\keyur\\anaconda3\\envs\\tf-gpu\\lib\\site-packages (from wandb) (3.1.27)\n",
      "Requirement already satisfied: shortuuid>=0.5.0 in c:\\users\\keyur\\anaconda3\\envs\\tf-gpu\\lib\\site-packages (from wandb) (1.0.8)\n",
      "Requirement already satisfied: docker-pycreds>=0.4.0 in c:\\users\\keyur\\anaconda3\\envs\\tf-gpu\\lib\\site-packages (from wandb) (0.4.0)\n",
      "Requirement already satisfied: setproctitle in c:\\users\\keyur\\anaconda3\\envs\\tf-gpu\\lib\\site-packages (from wandb) (1.2.2)\n",
      "Requirement already satisfied: six>=1.13.0 in c:\\users\\keyur\\anaconda3\\envs\\tf-gpu\\lib\\site-packages (from wandb) (1.16.0)\n",
      "Requirement already satisfied: protobuf>=3.12.0 in c:\\users\\keyur\\anaconda3\\envs\\tf-gpu\\lib\\site-packages (from wandb) (3.17.2)\n",
      "Requirement already satisfied: pathtools in c:\\users\\keyur\\anaconda3\\envs\\tf-gpu\\lib\\site-packages (from wandb) (0.1.2)\n",
      "Requirement already satisfied: colorama in c:\\users\\keyur\\anaconda3\\envs\\tf-gpu\\lib\\site-packages (from Click!=8.0.0,>=7.0->wandb) (0.4.4)\n",
      "Requirement already satisfied: gitdb<5,>=4.0.1 in c:\\users\\keyur\\anaconda3\\envs\\tf-gpu\\lib\\site-packages (from GitPython>=1.0.0->wandb) (4.0.9)\n",
      "Requirement already satisfied: smmap<6,>=3.0.1 in c:\\users\\keyur\\anaconda3\\envs\\tf-gpu\\lib\\site-packages (from gitdb<5,>=4.0.1->GitPython>=1.0.0->wandb) (5.0.0)\n",
      "Requirement already satisfied: charset-normalizer~=2.0.0 in c:\\users\\keyur\\anaconda3\\envs\\tf-gpu\\lib\\site-packages (from requests<3,>=2.0.0->wandb) (2.0.4)\n",
      "Requirement already satisfied: urllib3<1.27,>=1.21.1 in c:\\users\\keyur\\anaconda3\\envs\\tf-gpu\\lib\\site-packages (from requests<3,>=2.0.0->wandb) (1.26.8)\n",
      "Requirement already satisfied: certifi>=2017.4.17 in c:\\users\\keyur\\anaconda3\\envs\\tf-gpu\\lib\\site-packages (from requests<3,>=2.0.0->wandb) (2021.10.8)\n",
      "Requirement already satisfied: idna<4,>=2.5 in c:\\users\\keyur\\anaconda3\\envs\\tf-gpu\\lib\\site-packages (from requests<3,>=2.0.0->wandb) (3.3)\n"
     ]
    }
   ],
   "source": [
    "import random\n",
    "random.seed(10)\n",
    "\n",
    "import os\n",
    "import glob\n",
    "\n",
    "import tensorflow as tf\n",
    "from tensorflow import keras\n",
    "from tensorflow.keras.preprocessing.image import ImageDataGenerator\n",
    "from tensorflow.keras.models import Sequential, Model\n",
    "from tensorflow.keras.layers import Dense, Flatten, Conv2D, AveragePooling2D, MaxPooling2D, Activation, Dropout, BatchNormalization\n",
    "from keras import regularizers\n",
    "from keras.models import Sequential\n",
    "from keras.utils import np_utils\n",
    "#from keras.applications import InceptionV3, ResNet50, InceptionResNetV2, Xception\n",
    "from keras.layers import Dense, Flatten, Conv2D, BatchNormalization, Dropout, MaxPooling2D, Activation\n",
    "from keras.callbacks import  Callback, EarlyStopping\n",
    "\n",
    "!pip install wandb\n",
    "import wandb\n",
    "from wandb.keras import WandbCallback\n",
    "!pip install wandb --upgrade"
   ]
  },
  {
   "cell_type": "code",
   "execution_count": 2,
   "id": "ac7cf816-56e1-4c74-8642-0bd2c97ee20e",
   "metadata": {},
   "outputs": [],
   "source": [
    "# Prepare the dataset for training and testing\n",
    "def prepare_dataset(DATA_DIR=\"inaturalist_12K\", augment_data=False, batch_size=100):\n",
    "    train_dir = os.path.join(DATA_DIR, \"train\")\n",
    "    test_dir = os.path.join(DATA_DIR, \"val\")\n",
    "\n",
    "    if augment_data:\n",
    "        train_datagen = ImageDataGenerator(rescale=1./255,\n",
    "                                          rotation_range=90,\n",
    "                                          zoom_range=0.2,\n",
    "                                          shear_range=0.2,\n",
    "                                          validation_split=0.1,\n",
    "                                          horizontal_flip=True)\n",
    "        test_datagen = ImageDataGenerator(rescale=1./255)\n",
    "\n",
    "    else:\n",
    "        train_datagen = ImageDataGenerator(rescale=1./255, validation_split=0.1)\n",
    "        test_datagen = ImageDataGenerator(rescale=1./255)\n",
    "\n",
    "    train_generator = train_datagen.flow_from_directory(train_dir, target_size=(image_size, image_size), batch_size=batch_size, class_mode='categorical', subset=\"training\")\n",
    "    val_generator = train_datagen.flow_from_directory(train_dir, target_size=(image_size, image_size), batch_size=batch_size, class_mode='categorical', subset=\"validation\")\n",
    "    test_generator = test_datagen.flow_from_directory(test_dir, target_size=(image_size, image_size), batch_size=batch_size)\n",
    "    \n",
    "    return train_generator, val_generator, test_generator"
   ]
  },
  {
   "cell_type": "code",
   "execution_count": 3,
   "id": "1c841b2d-a53a-4be8-b924-87df64ce1269",
   "metadata": {},
   "outputs": [],
   "source": [
    "input_shape = (200,200,3)\n",
    "image_size = input_shape[0]\n",
    "\n",
    "def train():\n",
    "    \n",
    "    config_defaults = {\n",
    "        'freeze_before' : 70,\n",
    "        'models' : 'IRNV2',\n",
    "        'dropout': 0.1,\n",
    "        'batch_size': 64,\n",
    "        'dense_size': 64,\n",
    "        'num_classes': 10,\n",
    "        'epochs' : 10,\n",
    "        'augment_data': True,\n",
    "        'lr': 0.0001\n",
    "    }\n",
    "\n",
    "    # Initialize a new wandb run\n",
    "    wandb.init(config=config_defaults)\n",
    "    \n",
    "    config = wandb.config\n",
    "    \n",
    "    \n",
    "    # Defining models and run-name\n",
    "    if config.models == 'IV3':\n",
    "        base_model =  keras.applications.InceptionV3(input_shape = input_shape, include_top = False, weights = 'imagenet')\n",
    "        wandb.run.name = 'model_IncV3__num_dense_'+ str(config.dense_size)+'__bs_'+str(config.batch_size)\n",
    "    elif config.models == 'IRNV2':\n",
    "        base_model =  keras.applications.InceptionResNetV2(input_shape = input_shape, include_top = False, weights = 'imagenet')\n",
    "        wandb.run.name = 'model_IncResNetV2__num_dense_'+ str(config.dense_size)+'__bs_'+str(config.batch_size)\n",
    "    elif config.models == 'RN50':\n",
    "        base_model =  keras.applications.ResNet50(input_shape = input_shape, include_top = False, weights = 'imagenet')\n",
    "        wandb.run.name = 'model_ResNet50__num_dense_'+ str(config.dense_size)+'__bs_'+str(config.batch_size)\n",
    "    elif config.models == 'XCP':\n",
    "        base_model =  keras.applications.Xception(input_shape = input_shape, include_top = False, weights = 'imagenet')\n",
    "        wandb.run.name = 'model_Xception__num_dense_'+ str(config.dense_size)+'__bs_'+str(config.batch_size)\n",
    "\n",
    "        \n",
    "    base_model.trainable = False\n",
    "\n",
    "    stack_model = Sequential()\n",
    "    stack_model.add(base_model)\n",
    "    stack_model.add(Flatten())\n",
    "    stack_model.add(Dense(config.dense_size, activation='relu'))\n",
    "    stack_model.add(Dropout(config.dropout))\n",
    "    stack_model.add(Dense(config.num_classes, activation='softmax'))\n",
    "    \n",
    "    final_model = stack_model\n",
    "    final_model.compile(optimizer=keras.optimizers.Adam(config.lr), loss=\"categorical_crossentropy\", metrics=\"accuracy\")\n",
    "    \n",
    "    train_generator, val_generator, test_generator = prepare_dataset(augment_data=config.augment_data, batch_size=config.batch_size)\n",
    "    \n",
    "    final_model.fit(train_generator,\n",
    "                    batch_size = config.batch_size,\n",
    "                    epochs=config.epochs,\n",
    "                    validation_data=val_generator,\n",
    "                    callbacks=[WandbCallback(),keras.callbacks.EarlyStopping(patience=10, restore_best_weights=True)])\n",
    "\n",
    "    base_model.trainable = True\n",
    "\n",
    "    # Freeze layers\n",
    "    freeze_point = len(base_model.layers) - config.freeze_before\n",
    "    for layer in base_model.layers[:freeze_point]:\n",
    "        layer.trainable = False\n",
    "    \n",
    "    final_model.compile(optimizer=keras.optimizers.Adam(config.lr), loss=\"categorical_crossentropy\", metrics=\"accuracy\")\n",
    "\n",
    "    final_model.fit(train_generator,\n",
    "                    batch_size = config.batch_size,\n",
    "                    epochs = 7,\n",
    "                    validation_data=val_generator,\n",
    "                    callbacks = [WandbCallback(),keras.callbacks.EarlyStopping(patience=10, restore_best_weights=True)])\n",
    "    \n",
    "    #Testing model\n",
    "    \n",
    "    loss, acc = final_model.evaluate(test_generator, batch_size=config.batch_size)\n",
    "\n",
    "    final_model.save(\"best_model_p2.h5\")"
   ]
  },
  {
   "cell_type": "code",
   "execution_count": 4,
   "id": "d1a890fa-3dba-4bbd-9727-0bae97843e28",
   "metadata": {},
   "outputs": [
    {
     "name": "stdout",
     "output_type": "stream",
     "text": [
      "Create sweep with ID: tmho2xlz\n",
      "Sweep URL: https://wandb.ai/cs21m029_keyur_raval/DL_CS6910_Assignment2/sweeps/tmho2xlz\n"
     ]
    }
   ],
   "source": [
    "sweep_config = {\n",
    "    'method': 'grid', \n",
    "    'metric': {\n",
    "      'name': 'val_accuracy',\n",
    "      'goal': 'maximize'   \n",
    "    },\n",
    "    'parameters': {\n",
    "        \n",
    "        'freeze_before' : {\n",
    "            'values': [70]\n",
    "        },\n",
    "        'models' :{\n",
    "            'values' : ['IRNV2']\n",
    "        },\n",
    "        'dropout': {\n",
    "            'values': [0.1]\n",
    "        },     \n",
    "        'batch_size': {\n",
    "            'values': [64]\n",
    "        },\n",
    "        'dense_size':{\n",
    "            'values': [64]\n",
    "        },\n",
    "        'augment_data': {\n",
    "            \"values\": [True]\n",
    "        },\n",
    "        'epochs': {\n",
    "            \"values\": [10]\n",
    "        },\n",
    "        'lr': {\n",
    "            \"values\": [0.0001]\n",
    "        }\n",
    "    }\n",
    "}\n",
    "\n",
    "sweep_id = wandb.sweep(sweep_config, project=\"DL_CS6910_Assignment2\")"
   ]
  },
  {
   "cell_type": "code",
   "execution_count": 5,
   "id": "2ba7a15b-b39a-4b8d-9964-6e7e42d4013f",
   "metadata": {},
   "outputs": [
    {
     "name": "stderr",
     "output_type": "stream",
     "text": [
      "\u001b[34m\u001b[1mwandb\u001b[0m: Agent Starting Run: n6ove3ou with config:\n",
      "\u001b[34m\u001b[1mwandb\u001b[0m: \taugment_data: True\n",
      "\u001b[34m\u001b[1mwandb\u001b[0m: \tbatch_size: 64\n",
      "\u001b[34m\u001b[1mwandb\u001b[0m: \tdense_size: 64\n",
      "\u001b[34m\u001b[1mwandb\u001b[0m: \tdropout: 0.1\n",
      "\u001b[34m\u001b[1mwandb\u001b[0m: \tepochs: 10\n",
      "\u001b[34m\u001b[1mwandb\u001b[0m: \tfreeze_before: 70\n",
      "\u001b[34m\u001b[1mwandb\u001b[0m: \tlr: 0.0001\n",
      "\u001b[34m\u001b[1mwandb\u001b[0m: \tmodels: IRNV2\n",
      "\u001b[34m\u001b[1mwandb\u001b[0m: Currently logged in as: \u001b[33mcs21m029_keyur_raval\u001b[0m (use `wandb login --relogin` to force relogin)\n"
     ]
    },
    {
     "data": {
      "text/html": [
       "Tracking run with wandb version 0.12.14"
      ],
      "text/plain": [
       "<IPython.core.display.HTML object>"
      ]
     },
     "metadata": {},
     "output_type": "display_data"
    },
    {
     "data": {
      "text/html": [
       "Run data is saved locally in <code>C:\\Users\\Keyur\\Documents\\DL\\A2\\P1\\wandb\\run-20220410_083045-n6ove3ou</code>"
      ],
      "text/plain": [
       "<IPython.core.display.HTML object>"
      ]
     },
     "metadata": {},
     "output_type": "display_data"
    },
    {
     "data": {
      "text/html": [
       "Syncing run <strong><a href=\"https://wandb.ai/cs21m029_keyur_raval/DL_CS6910_Assignment2/runs/n6ove3ou\" target=\"_blank\">sandy-sweep-1</a></strong> to <a href=\"https://wandb.ai/cs21m029_keyur_raval/DL_CS6910_Assignment2\" target=\"_blank\">Weights & Biases</a> (<a href=\"https://wandb.me/run\" target=\"_blank\">docs</a>)<br/>Sweep page:  <a href=\"https://wandb.ai/cs21m029_keyur_raval/DL_CS6910_Assignment2/sweeps/tmho2xlz\" target=\"_blank\">https://wandb.ai/cs21m029_keyur_raval/DL_CS6910_Assignment2/sweeps/tmho2xlz</a>"
      ],
      "text/plain": [
       "<IPython.core.display.HTML object>"
      ]
     },
     "metadata": {},
     "output_type": "display_data"
    },
    {
     "name": "stdout",
     "output_type": "stream",
     "text": [
      "Found 9000 images belonging to 10 classes.\n",
      "Found 999 images belonging to 10 classes.\n",
      "Found 2000 images belonging to 10 classes.\n",
      "Epoch 1/10\n",
      "141/141 [==============================] - 187s 1s/step - loss: 1.4642 - accuracy: 0.5358 - val_loss: 1.1567 - val_accuracy: 0.6356\n",
      "Epoch 2/10\n",
      "141/141 [==============================] - 157s 1s/step - loss: 1.1612 - accuracy: 0.6273 - val_loss: 1.0670 - val_accuracy: 0.6456\n",
      "Epoch 3/10\n",
      "141/141 [==============================] - 156s 1s/step - loss: 1.0903 - accuracy: 0.6413 - val_loss: 0.9721 - val_accuracy: 0.7007\n",
      "Epoch 4/10\n",
      "141/141 [==============================] - 155s 1s/step - loss: 1.0530 - accuracy: 0.6559 - val_loss: 1.0362 - val_accuracy: 0.6657\n",
      "Epoch 5/10\n",
      "141/141 [==============================] - 155s 1s/step - loss: 1.0147 - accuracy: 0.6673 - val_loss: 1.0259 - val_accuracy: 0.6617\n",
      "Epoch 6/10\n",
      "141/141 [==============================] - 155s 1s/step - loss: 0.9866 - accuracy: 0.6758 - val_loss: 1.0247 - val_accuracy: 0.6476\n",
      "Epoch 7/10\n",
      "141/141 [==============================] - 155s 1s/step - loss: 0.9662 - accuracy: 0.6780 - val_loss: 1.0017 - val_accuracy: 0.6527\n",
      "Epoch 8/10\n",
      "141/141 [==============================] - 156s 1s/step - loss: 0.9561 - accuracy: 0.6847 - val_loss: 1.0078 - val_accuracy: 0.6727\n",
      "Epoch 9/10\n",
      "141/141 [==============================] - 155s 1s/step - loss: 0.9527 - accuracy: 0.6799 - val_loss: 0.9891 - val_accuracy: 0.6737\n",
      "Epoch 10/10\n",
      "141/141 [==============================] - 155s 1s/step - loss: 0.9319 - accuracy: 0.6930 - val_loss: 0.9972 - val_accuracy: 0.6707\n",
      "Epoch 1/7\n",
      "141/141 [==============================] - 175s 1s/step - loss: 0.9398 - accuracy: 0.6926 - val_loss: 0.9099 - val_accuracy: 0.7047\n",
      "Epoch 2/7\n",
      "141/141 [==============================] - 156s 1s/step - loss: 0.8092 - accuracy: 0.7267 - val_loss: 0.9190 - val_accuracy: 0.6927\n",
      "Epoch 3/7\n",
      "141/141 [==============================] - 155s 1s/step - loss: 0.7371 - accuracy: 0.7537 - val_loss: 0.8729 - val_accuracy: 0.7167\n",
      "Epoch 4/7\n",
      "141/141 [==============================] - 156s 1s/step - loss: 0.6692 - accuracy: 0.7733 - val_loss: 0.8509 - val_accuracy: 0.7207\n",
      "Epoch 5/7\n",
      "141/141 [==============================] - 159s 1s/step - loss: 0.6230 - accuracy: 0.7914 - val_loss: 0.9176 - val_accuracy: 0.7157\n",
      "Epoch 6/7\n",
      "141/141 [==============================] - 155s 1s/step - loss: 0.5552 - accuracy: 0.8130 - val_loss: 0.9110 - val_accuracy: 0.7187\n",
      "Epoch 7/7\n",
      "141/141 [==============================] - 155s 1s/step - loss: 0.5187 - accuracy: 0.8197 - val_loss: 0.8228 - val_accuracy: 0.7327\n",
      "32/32 [==============================] - 24s 745ms/step - loss: 0.7656 - accuracy: 0.7680\n",
      "\n"
     ]
    },
    {
     "data": {
      "text/html": [
       "Waiting for W&B process to finish... <strong style=\"color:green\">(success).</strong>"
      ],
      "text/plain": [
       "<IPython.core.display.HTML object>"
      ]
     },
     "metadata": {},
     "output_type": "display_data"
    },
    {
     "data": {
      "text/html": [
       "<style>\n",
       "    table.wandb td:nth-child(1) { padding: 0 10px; text-align: right }\n",
       "    .wandb-row { display: flex; flex-direction: row; flex-wrap: wrap; width: 100% }\n",
       "    .wandb-col { display: flex; flex-direction: column; flex-basis: 100%; flex: 1; padding: 10px; }\n",
       "    </style>\n",
       "<div class=\"wandb-row\"><div class=\"wandb-col\"><h3>Run history:</h3><br/><table class=\"wandb\"><tr><td>accuracy</td><td>▁▃▄▄▄▄▅▅▅▅▅▆▆▇▇██</td></tr><tr><td>epoch</td><td>▁▂▃▃▄▅▆▆▇█▁▂▃▃▄▅▆</td></tr><tr><td>loss</td><td>█▆▅▅▅▄▄▄▄▄▄▃▃▂▂▁▁</td></tr><tr><td>val_accuracy</td><td>▁▂▆▃▃▂▂▄▄▄▆▅▇▇▇▇█</td></tr><tr><td>val_loss</td><td>█▆▄▅▅▅▅▅▄▅▃▃▂▂▃▃▁</td></tr></table><br/></div><div class=\"wandb-col\"><h3>Run summary:</h3><br/><table class=\"wandb\"><tr><td>accuracy</td><td>0.81967</td></tr><tr><td>best_epoch</td><td>6</td></tr><tr><td>best_val_loss</td><td>0.82279</td></tr><tr><td>epoch</td><td>6</td></tr><tr><td>loss</td><td>0.51868</td></tr><tr><td>val_accuracy</td><td>0.73273</td></tr><tr><td>val_loss</td><td>0.82279</td></tr></table><br/></div></div>"
      ],
      "text/plain": [
       "<IPython.core.display.HTML object>"
      ]
     },
     "metadata": {},
     "output_type": "display_data"
    },
    {
     "data": {
      "text/html": [
       "Synced <strong style=\"color:#cdcd00\">sandy-sweep-1</strong>: <a href=\"https://wandb.ai/cs21m029_keyur_raval/DL_CS6910_Assignment2/runs/n6ove3ou\" target=\"_blank\">https://wandb.ai/cs21m029_keyur_raval/DL_CS6910_Assignment2/runs/n6ove3ou</a><br/>Synced 6 W&B file(s), 1 media file(s), 0 artifact file(s) and 1 other file(s)"
      ],
      "text/plain": [
       "<IPython.core.display.HTML object>"
      ]
     },
     "metadata": {},
     "output_type": "display_data"
    },
    {
     "data": {
      "text/html": [
       "Find logs at: <code>.\\wandb\\run-20220410_083045-n6ove3ou\\logs</code>"
      ],
      "text/plain": [
       "<IPython.core.display.HTML object>"
      ]
     },
     "metadata": {},
     "output_type": "display_data"
    }
   ],
   "source": [
    "wandb.agent(sweep_id, train, count = 1)"
   ]
  },
  {
   "cell_type": "code",
   "execution_count": null,
   "id": "bc448898-296d-4ffd-b238-a07c23e25f75",
   "metadata": {},
   "outputs": [],
   "source": []
  }
 ],
 "metadata": {
  "kernelspec": {
   "display_name": "Python 3 (ipykernel)",
   "language": "python",
   "name": "python3"
  },
  "language_info": {
   "codemirror_mode": {
    "name": "ipython",
    "version": 3
   },
   "file_extension": ".py",
   "mimetype": "text/x-python",
   "name": "python",
   "nbconvert_exporter": "python",
   "pygments_lexer": "ipython3",
   "version": "3.9.7"
  }
 },
 "nbformat": 4,
 "nbformat_minor": 5
}

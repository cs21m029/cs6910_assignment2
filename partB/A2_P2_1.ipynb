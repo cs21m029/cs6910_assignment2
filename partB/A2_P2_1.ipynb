{
 "cells": [
  {
   "cell_type": "code",
   "execution_count": 2,
   "id": "b328d40a-8690-4f28-ac71-3b5d00240746",
   "metadata": {},
   "outputs": [
    {
     "name": "stdout",
     "output_type": "stream",
     "text": [
      "Requirement already satisfied: wandb in c:\\users\\keyur\\anaconda3\\envs\\tf-gpu\\lib\\site-packages (0.12.14)\n",
      "Requirement already satisfied: sentry-sdk>=1.0.0 in c:\\users\\keyur\\anaconda3\\envs\\tf-gpu\\lib\\site-packages (from wandb) (1.5.8)\n",
      "Requirement already satisfied: Click!=8.0.0,>=7.0 in c:\\users\\keyur\\anaconda3\\envs\\tf-gpu\\lib\\site-packages (from wandb) (8.0.4)\n",
      "Requirement already satisfied: requests<3,>=2.0.0 in c:\\users\\keyur\\anaconda3\\envs\\tf-gpu\\lib\\site-packages (from wandb) (2.27.1)\n",
      "Requirement already satisfied: docker-pycreds>=0.4.0 in c:\\users\\keyur\\anaconda3\\envs\\tf-gpu\\lib\\site-packages (from wandb) (0.4.0)\n",
      "Requirement already satisfied: PyYAML in c:\\users\\keyur\\anaconda3\\envs\\tf-gpu\\lib\\site-packages (from wandb) (6.0)\n",
      "Requirement already satisfied: GitPython>=1.0.0 in c:\\users\\keyur\\anaconda3\\envs\\tf-gpu\\lib\\site-packages (from wandb) (3.1.27)\n",
      "Requirement already satisfied: shortuuid>=0.5.0 in c:\\users\\keyur\\anaconda3\\envs\\tf-gpu\\lib\\site-packages (from wandb) (1.0.8)\n",
      "Requirement already satisfied: six>=1.13.0 in c:\\users\\keyur\\anaconda3\\envs\\tf-gpu\\lib\\site-packages (from wandb) (1.16.0)\n",
      "Requirement already satisfied: psutil>=5.0.0 in c:\\users\\keyur\\anaconda3\\envs\\tf-gpu\\lib\\site-packages (from wandb) (5.9.0)\n",
      "Requirement already satisfied: protobuf>=3.12.0 in c:\\users\\keyur\\anaconda3\\envs\\tf-gpu\\lib\\site-packages (from wandb) (3.17.2)\n",
      "Requirement already satisfied: pathtools in c:\\users\\keyur\\anaconda3\\envs\\tf-gpu\\lib\\site-packages (from wandb) (0.1.2)\n",
      "Requirement already satisfied: promise<3,>=2.0 in c:\\users\\keyur\\anaconda3\\envs\\tf-gpu\\lib\\site-packages (from wandb) (2.3)\n",
      "Requirement already satisfied: setproctitle in c:\\users\\keyur\\anaconda3\\envs\\tf-gpu\\lib\\site-packages (from wandb) (1.2.2)\n",
      "Requirement already satisfied: python-dateutil>=2.6.1 in c:\\users\\keyur\\anaconda3\\envs\\tf-gpu\\lib\\site-packages (from wandb) (2.8.2)\n",
      "Requirement already satisfied: colorama in c:\\users\\keyur\\anaconda3\\envs\\tf-gpu\\lib\\site-packages (from Click!=8.0.0,>=7.0->wandb) (0.4.4)\n",
      "Requirement already satisfied: gitdb<5,>=4.0.1 in c:\\users\\keyur\\anaconda3\\envs\\tf-gpu\\lib\\site-packages (from GitPython>=1.0.0->wandb) (4.0.9)\n",
      "Requirement already satisfied: smmap<6,>=3.0.1 in c:\\users\\keyur\\anaconda3\\envs\\tf-gpu\\lib\\site-packages (from gitdb<5,>=4.0.1->GitPython>=1.0.0->wandb) (5.0.0)\n",
      "Requirement already satisfied: certifi>=2017.4.17 in c:\\users\\keyur\\anaconda3\\envs\\tf-gpu\\lib\\site-packages (from requests<3,>=2.0.0->wandb) (2021.10.8)\n",
      "Requirement already satisfied: urllib3<1.27,>=1.21.1 in c:\\users\\keyur\\anaconda3\\envs\\tf-gpu\\lib\\site-packages (from requests<3,>=2.0.0->wandb) (1.26.8)\n",
      "Requirement already satisfied: idna<4,>=2.5 in c:\\users\\keyur\\anaconda3\\envs\\tf-gpu\\lib\\site-packages (from requests<3,>=2.0.0->wandb) (3.3)\n",
      "Requirement already satisfied: charset-normalizer~=2.0.0 in c:\\users\\keyur\\anaconda3\\envs\\tf-gpu\\lib\\site-packages (from requests<3,>=2.0.0->wandb) (2.0.4)\n",
      "Requirement already satisfied: wandb in c:\\users\\keyur\\anaconda3\\envs\\tf-gpu\\lib\\site-packages (0.12.14)\n",
      "Requirement already satisfied: python-dateutil>=2.6.1 in c:\\users\\keyur\\anaconda3\\envs\\tf-gpu\\lib\\site-packages (from wandb) (2.8.2)\n",
      "Requirement already satisfied: psutil>=5.0.0 in c:\\users\\keyur\\anaconda3\\envs\\tf-gpu\\lib\\site-packages (from wandb) (5.9.0)\n",
      "Requirement already satisfied: shortuuid>=0.5.0 in c:\\users\\keyur\\anaconda3\\envs\\tf-gpu\\lib\\site-packages (from wandb) (1.0.8)\n",
      "Requirement already satisfied: sentry-sdk>=1.0.0 in c:\\users\\keyur\\anaconda3\\envs\\tf-gpu\\lib\\site-packages (from wandb) (1.5.8)\n",
      "Requirement already satisfied: Click!=8.0.0,>=7.0 in c:\\users\\keyur\\anaconda3\\envs\\tf-gpu\\lib\\site-packages (from wandb) (8.0.4)\n",
      "Requirement already satisfied: six>=1.13.0 in c:\\users\\keyur\\anaconda3\\envs\\tf-gpu\\lib\\site-packages (from wandb) (1.16.0)\n",
      "Requirement already satisfied: PyYAML in c:\\users\\keyur\\anaconda3\\envs\\tf-gpu\\lib\\site-packages (from wandb) (6.0)\n",
      "Requirement already satisfied: pathtools in c:\\users\\keyur\\anaconda3\\envs\\tf-gpu\\lib\\site-packages (from wandb) (0.1.2)\n",
      "Requirement already satisfied: promise<3,>=2.0 in c:\\users\\keyur\\anaconda3\\envs\\tf-gpu\\lib\\site-packages (from wandb) (2.3)\n",
      "Requirement already satisfied: setproctitle in c:\\users\\keyur\\anaconda3\\envs\\tf-gpu\\lib\\site-packages (from wandb) (1.2.2)\n",
      "Requirement already satisfied: requests<3,>=2.0.0 in c:\\users\\keyur\\anaconda3\\envs\\tf-gpu\\lib\\site-packages (from wandb) (2.27.1)\n",
      "Requirement already satisfied: docker-pycreds>=0.4.0 in c:\\users\\keyur\\anaconda3\\envs\\tf-gpu\\lib\\site-packages (from wandb) (0.4.0)\n",
      "Requirement already satisfied: protobuf>=3.12.0 in c:\\users\\keyur\\anaconda3\\envs\\tf-gpu\\lib\\site-packages (from wandb) (3.17.2)\n",
      "Requirement already satisfied: GitPython>=1.0.0 in c:\\users\\keyur\\anaconda3\\envs\\tf-gpu\\lib\\site-packages (from wandb) (3.1.27)\n",
      "Requirement already satisfied: colorama in c:\\users\\keyur\\anaconda3\\envs\\tf-gpu\\lib\\site-packages (from Click!=8.0.0,>=7.0->wandb) (0.4.4)\n",
      "Requirement already satisfied: gitdb<5,>=4.0.1 in c:\\users\\keyur\\anaconda3\\envs\\tf-gpu\\lib\\site-packages (from GitPython>=1.0.0->wandb) (4.0.9)\n",
      "Requirement already satisfied: smmap<6,>=3.0.1 in c:\\users\\keyur\\anaconda3\\envs\\tf-gpu\\lib\\site-packages (from gitdb<5,>=4.0.1->GitPython>=1.0.0->wandb) (5.0.0)\n",
      "Requirement already satisfied: charset-normalizer~=2.0.0 in c:\\users\\keyur\\anaconda3\\envs\\tf-gpu\\lib\\site-packages (from requests<3,>=2.0.0->wandb) (2.0.4)\n",
      "Requirement already satisfied: idna<4,>=2.5 in c:\\users\\keyur\\anaconda3\\envs\\tf-gpu\\lib\\site-packages (from requests<3,>=2.0.0->wandb) (3.3)\n",
      "Requirement already satisfied: urllib3<1.27,>=1.21.1 in c:\\users\\keyur\\anaconda3\\envs\\tf-gpu\\lib\\site-packages (from requests<3,>=2.0.0->wandb) (1.26.8)\n",
      "Requirement already satisfied: certifi>=2017.4.17 in c:\\users\\keyur\\anaconda3\\envs\\tf-gpu\\lib\\site-packages (from requests<3,>=2.0.0->wandb) (2021.10.8)\n"
     ]
    }
   ],
   "source": [
    "import os\n",
    "import glob\n",
    "\n",
    "import tensorflow as tf\n",
    "from tensorflow import keras\n",
    "from tensorflow.keras.preprocessing.image import ImageDataGenerator\n",
    "from tensorflow.keras.models import Sequential, Model\n",
    "from tensorflow.keras.layers import Dense, Flatten, Conv2D, AveragePooling2D, MaxPooling2D, Activation, Dropout, BatchNormalization\n",
    "from keras import regularizers\n",
    "from keras.models import Sequential\n",
    "from keras.utils import np_utils\n",
    "#from keras.applications import InceptionV3, ResNet50, InceptionResNetV2, Xception\n",
    "from keras.layers import Dense, Flatten, Conv2D, BatchNormalization, Dropout, MaxPooling2D, Activation\n",
    "from keras.callbacks import  Callback, EarlyStopping\n",
    "\n",
    "!pip install wandb\n",
    "import wandb\n",
    "from wandb.keras import WandbCallback\n",
    "!pip install wandb --upgrade"
   ]
  },
  {
   "cell_type": "code",
   "execution_count": 3,
   "id": "ac7cf816-56e1-4c74-8642-0bd2c97ee20e",
   "metadata": {},
   "outputs": [],
   "source": [
    "# Prepare the dataset for training and testing\n",
    "def prepare_dataset(DATA_DIR=\"inaturalist_12K\", augment_data=False, batch_size=100):\n",
    "    train_dir = os.path.join(DATA_DIR, \"train\")\n",
    "    test_dir = os.path.join(DATA_DIR, \"val\")\n",
    "\n",
    "    if augment_data:\n",
    "        train_datagen = ImageDataGenerator(rescale=1./255,\n",
    "                                          rotation_range=90,\n",
    "                                          zoom_range=0.2,\n",
    "                                          shear_range=0.2,\n",
    "                                          validation_split=0.1,\n",
    "                                          horizontal_flip=True)\n",
    "        test_datagen = ImageDataGenerator(rescale=1./255)\n",
    "\n",
    "    else:\n",
    "        train_datagen = ImageDataGenerator(rescale=1./255, validation_split=0.1)\n",
    "        test_datagen = ImageDataGenerator(rescale=1./255)\n",
    "\n",
    "    train_generator = train_datagen.flow_from_directory(train_dir, target_size=(image_size, image_size), batch_size=batch_size, class_mode='categorical', subset=\"training\")\n",
    "    val_generator = train_datagen.flow_from_directory(train_dir, target_size=(image_size, image_size), batch_size=batch_size, class_mode='categorical', subset=\"validation\")\n",
    "    test_generator = test_datagen.flow_from_directory(test_dir, target_size=(image_size, image_size), batch_size=batch_size)\n",
    "    \n",
    "    return train_generator, val_generator, test_generator"
   ]
  },
  {
   "cell_type": "code",
   "execution_count": 4,
   "id": "1c841b2d-a53a-4be8-b924-87df64ce1269",
   "metadata": {},
   "outputs": [],
   "source": [
    "input_shape = (224,224,3)\n",
    "image_size = input_shape[0]\n",
    "# Comment the next line if you want to sweep over different models\n",
    "# base_model =  InceptionResNetV2(input_shape = input_shape, include_top = False, weights = 'imagenet')\n",
    "\n",
    "def train():\n",
    "    \n",
    "    config_defaults = {\n",
    "        'freeze_before' : 50,\n",
    "        'models' : 'IV3',\n",
    "        'dropout': 0.2,\n",
    "        'batch_size': 64,\n",
    "        'dense_size': 100,\n",
    "        'num_classes': 10,\n",
    "        'epochs' : 5,\n",
    "        'augment_data': True,\n",
    "        'batch_norm': True,\n",
    "        'lr': 0.001\n",
    "    }\n",
    "\n",
    "    # Initialize a new wandb run\n",
    "    wandb.init(config=config_defaults)\n",
    "    \n",
    "    config = wandb.config\n",
    "    \n",
    "    \n",
    "    # Defining models and run-name\n",
    "    if config.models == 'IV3':\n",
    "        base_model =  keras.applications.InceptionV3(input_shape = input_shape, include_top = False, weights = 'imagenet')\n",
    "        wandb.run.name = 'model_IncV3__num_dense_'+ str(config.dense_size)+'__bs_'+str(config.batch_size)\n",
    "    elif config.models == 'IRNV2':\n",
    "        base_model =  keras.applications.InceptionResNetV2(input_shape = input_shape, include_top = False, weights = 'imagenet')\n",
    "        wandb.run.name = 'model_IncResNetV2__num_dense_'+ str(config.dense_size)+'__bs_'+str(config.batch_size)\n",
    "    elif config.models == 'RN50':\n",
    "        base_model =  keras.applications.ResNet50(input_shape = input_shape, include_top = False, weights = 'imagenet')\n",
    "        wandb.run.name = 'model_ResNet50__num_dense_'+ str(config.dense_size)+'__bs_'+str(config.batch_size)\n",
    "    elif config.models == 'XCP':\n",
    "        base_model =  keras.applications.Xception(input_shape = input_shape, include_top = False, weights = 'imagenet')\n",
    "        wandb.run.name = 'model_Xception__num_dense_'+ str(config.dense_size)+'__bs_'+str(config.batch_size)\n",
    "\n",
    "        \n",
    "    base_model.trainable = False\n",
    "\n",
    "    stack_model = Sequential()\n",
    "    stack_model.add(base_model)\n",
    "    stack_model.add(Flatten())\n",
    "    stack_model.add(Dense(config.dense_size, activation='relu'))\n",
    "    stack_model.add(Dense(config.num_classes, activation='softmax'))\n",
    "    \n",
    "    final_model = stack_model\n",
    "    final_model.compile(optimizer=keras.optimizers.Adam(config.lr), loss=\"categorical_crossentropy\", metrics=\"accuracy\")\n",
    "    \n",
    "    train_generator, val_generator, test_generator = prepare_dataset(augment_data=config.augment_data, batch_size=config.batch_size)\n",
    "    \n",
    "    final_model.fit(train_generator,\n",
    "                    batch_size = config.batch_size,\n",
    "                    epochs=config.epochs,\n",
    "                    validation_data=val_generator,\n",
    "                    callbacks=[WandbCallback(),keras.callbacks.EarlyStopping(patience=10, restore_best_weights=True)])\n",
    "\n",
    "    base_model.trainable = True\n",
    "\n",
    "    # Freeze layers\n",
    "    freeze_point = len(base_model.layers) - config.freeze_before\n",
    "    for layer in base_model.layers[:freeze_point]:\n",
    "        layer.trainable = False\n",
    "    \n",
    "    final_model.compile(loss='categorical_crossentropy', optimizer = 'adam', metrics=['accuracy'])\n",
    "\n",
    "    final_model.fit(train_generator,\n",
    "                    batch_size = config.batch_size,\n",
    "                    epochs = 7,\n",
    "                    validation_data=val_generator,\n",
    "                    callbacks = [WandbCallback(),keras.callbacks.EarlyStopping(patience=10, restore_best_weights=True)])"
   ]
  },
  {
   "cell_type": "code",
   "execution_count": 5,
   "id": "d1a890fa-3dba-4bbd-9727-0bae97843e28",
   "metadata": {},
   "outputs": [
    {
     "name": "stdout",
     "output_type": "stream",
     "text": [
      "Create sweep with ID: 12fb9zkv\n",
      "Sweep URL: https://wandb.ai/cs21m029_keyur_raval/DL_CS6910_Assignment2/sweeps/12fb9zkv\n"
     ]
    }
   ],
   "source": [
    "sweep_config = {\n",
    "    'method': 'bayes', \n",
    "    'metric': {\n",
    "      'name': 'val_accuracy',\n",
    "      'goal': 'maximize'   \n",
    "    },\n",
    "    'parameters': {\n",
    "        \n",
    "        'freeze_before' : {\n",
    "            'values': ['50','70','100']\n",
    "        },\n",
    "        'models' :{\n",
    "            'values' : ['IV3','IRNV2', 'RN50', 'XCP']\n",
    "        },\n",
    "        'dropout': {\n",
    "            'values': [0, 0.1, 0.2, 0.3]\n",
    "        },     \n",
    "        'batch_size': {\n",
    "            'values': [32, 64]\n",
    "        },\n",
    "        'dense_size':{\n",
    "            'values': [64, 100, 128]\n",
    "        },\n",
    "        'augment_data': {\n",
    "            \"values\": [False, True]\n",
    "        },\n",
    "        'batch_norm': {\n",
    "            \"values\": [False, True]\n",
    "        },\n",
    "        'epochs': {\n",
    "            \"values\": [5]\n",
    "        },\n",
    "        'lr': {\n",
    "            \"values\": [0.005, 0.001, 0.0001]\n",
    "        }\n",
    "    }\n",
    "}\n",
    "\n",
    "sweep_id = wandb.sweep(sweep_config, project=\"DL_CS6910_Assignment2\")"
   ]
  },
  {
   "cell_type": "code",
   "execution_count": 6,
   "id": "2ba7a15b-b39a-4b8d-9964-6e7e42d4013f",
   "metadata": {},
   "outputs": [
    {
     "name": "stderr",
     "output_type": "stream",
     "text": [
      "\u001b[34m\u001b[1mwandb\u001b[0m: Agent Starting Run: mt1xkk1c with config:\n",
      "\u001b[34m\u001b[1mwandb\u001b[0m: \taugment_data: False\n",
      "\u001b[34m\u001b[1mwandb\u001b[0m: \tbatch_norm: True\n",
      "\u001b[34m\u001b[1mwandb\u001b[0m: \tbatch_size: 32\n",
      "\u001b[34m\u001b[1mwandb\u001b[0m: \tdense_size: 100\n",
      "\u001b[34m\u001b[1mwandb\u001b[0m: \tdropout: 0.2\n",
      "\u001b[34m\u001b[1mwandb\u001b[0m: \tepochs: 5\n",
      "\u001b[34m\u001b[1mwandb\u001b[0m: \tfreeze_before: 50\n",
      "\u001b[34m\u001b[1mwandb\u001b[0m: \tlr: 0.001\n",
      "\u001b[34m\u001b[1mwandb\u001b[0m: \tmodels: XCP\n",
      "\u001b[34m\u001b[1mwandb\u001b[0m: Currently logged in as: \u001b[33mcs21m029_keyur_raval\u001b[0m (use `wandb login --relogin` to force relogin)\n"
     ]
    },
    {
     "data": {
      "text/html": [
       "Tracking run with wandb version 0.12.14"
      ],
      "text/plain": [
       "<IPython.core.display.HTML object>"
      ]
     },
     "metadata": {},
     "output_type": "display_data"
    },
    {
     "data": {
      "text/html": [
       "Run data is saved locally in <code>C:\\Users\\Keyur\\Documents\\DL\\A2\\P1\\wandb\\run-20220409_192909-mt1xkk1c</code>"
      ],
      "text/plain": [
       "<IPython.core.display.HTML object>"
      ]
     },
     "metadata": {},
     "output_type": "display_data"
    },
    {
     "data": {
      "text/html": [
       "Syncing run <strong><a href=\"https://wandb.ai/cs21m029_keyur_raval/DL_CS6910_Assignment2/runs/mt1xkk1c\" target=\"_blank\">clear-sweep-1</a></strong> to <a href=\"https://wandb.ai/cs21m029_keyur_raval/DL_CS6910_Assignment2\" target=\"_blank\">Weights & Biases</a> (<a href=\"https://wandb.me/run\" target=\"_blank\">docs</a>)<br/>Sweep page:  <a href=\"https://wandb.ai/cs21m029_keyur_raval/DL_CS6910_Assignment2/sweeps/12fb9zkv\" target=\"_blank\">https://wandb.ai/cs21m029_keyur_raval/DL_CS6910_Assignment2/sweeps/12fb9zkv</a>"
      ],
      "text/plain": [
       "<IPython.core.display.HTML object>"
      ]
     },
     "metadata": {},
     "output_type": "display_data"
    },
    {
     "name": "stdout",
     "output_type": "stream",
     "text": [
      "Found 9000 images belonging to 10 classes.\n",
      "Found 999 images belonging to 10 classes.\n",
      "Found 2000 images belonging to 10 classes.\n",
      "Epoch 1/5\n",
      "282/282 [==============================] - 91s 295ms/step - loss: 1.7226 - accuracy: 0.5786 - val_loss: 1.1139 - val_accuracy: 0.6296\n"
     ]
    },
    {
     "name": "stderr",
     "output_type": "stream",
     "text": [
      "C:\\Users\\Keyur\\anaconda3\\envs\\tf-gpu\\lib\\site-packages\\keras\\utils\\generic_utils.py:494: CustomMaskWarning: Custom mask layers require a config and must override get_config. When loading, the custom mask layer must be passed to the custom_objects argument.\n",
      "  warnings.warn('Custom mask layers require a config and must override '\n"
     ]
    },
    {
     "name": "stdout",
     "output_type": "stream",
     "text": [
      "Epoch 2/5\n",
      "282/282 [==============================] - 73s 258ms/step - loss: 0.9222 - accuracy: 0.7070 - val_loss: 1.1043 - val_accuracy: 0.6436\n",
      "Epoch 3/5\n",
      "282/282 [==============================] - 70s 249ms/step - loss: 0.7325 - accuracy: 0.7577 - val_loss: 1.0950 - val_accuracy: 0.6797\n",
      "Epoch 4/5\n",
      "282/282 [==============================] - 70s 249ms/step - loss: 0.5770 - accuracy: 0.8046 - val_loss: 1.0661 - val_accuracy: 0.7127\n",
      "Epoch 5/5\n",
      "282/282 [==============================] - 71s 250ms/step - loss: 0.4621 - accuracy: 0.8399 - val_loss: 1.1505 - val_accuracy: 0.7177\n",
      "\n"
     ]
    },
    {
     "data": {
      "text/html": [
       "Waiting for W&B process to finish... <strong style=\"color:red\">(failed 1).</strong> Press Ctrl-C to abort syncing."
      ],
      "text/plain": [
       "<IPython.core.display.HTML object>"
      ]
     },
     "metadata": {},
     "output_type": "display_data"
    },
    {
     "data": {
      "text/html": [
       "<style>\n",
       "    table.wandb td:nth-child(1) { padding: 0 10px; text-align: right }\n",
       "    .wandb-row { display: flex; flex-direction: row; flex-wrap: wrap; width: 100% }\n",
       "    .wandb-col { display: flex; flex-direction: column; flex-basis: 100%; flex: 1; padding: 10px; }\n",
       "    </style>\n",
       "<div class=\"wandb-row\"><div class=\"wandb-col\"><h3>Run history:</h3><br/><table class=\"wandb\"><tr><td>accuracy</td><td>▁▄▆▇█</td></tr><tr><td>epoch</td><td>▁▃▅▆█</td></tr><tr><td>loss</td><td>█▄▃▂▁</td></tr><tr><td>val_accuracy</td><td>▁▂▅██</td></tr><tr><td>val_loss</td><td>▅▄▃▁█</td></tr></table><br/></div><div class=\"wandb-col\"><h3>Run summary:</h3><br/><table class=\"wandb\"><tr><td>accuracy</td><td>0.83989</td></tr><tr><td>best_epoch</td><td>3</td></tr><tr><td>best_val_loss</td><td>1.06606</td></tr><tr><td>epoch</td><td>4</td></tr><tr><td>loss</td><td>0.46207</td></tr><tr><td>val_accuracy</td><td>0.71772</td></tr><tr><td>val_loss</td><td>1.15046</td></tr></table><br/></div></div>"
      ],
      "text/plain": [
       "<IPython.core.display.HTML object>"
      ]
     },
     "metadata": {},
     "output_type": "display_data"
    },
    {
     "data": {
      "text/html": [
       "Synced <strong style=\"color:#cdcd00\">clear-sweep-1</strong>: <a href=\"https://wandb.ai/cs21m029_keyur_raval/DL_CS6910_Assignment2/runs/mt1xkk1c\" target=\"_blank\">https://wandb.ai/cs21m029_keyur_raval/DL_CS6910_Assignment2/runs/mt1xkk1c</a><br/>Synced 6 W&B file(s), 1 media file(s), 0 artifact file(s) and 1 other file(s)"
      ],
      "text/plain": [
       "<IPython.core.display.HTML object>"
      ]
     },
     "metadata": {},
     "output_type": "display_data"
    },
    {
     "data": {
      "text/html": [
       "Find logs at: <code>.\\wandb\\run-20220409_192909-mt1xkk1c\\logs</code>"
      ],
      "text/plain": [
       "<IPython.core.display.HTML object>"
      ]
     },
     "metadata": {},
     "output_type": "display_data"
    },
    {
     "name": "stderr",
     "output_type": "stream",
     "text": [
      "Run mt1xkk1c errored: TypeError(\"unsupported operand type(s) for -: 'int' and 'str'\")\n",
      "\u001b[34m\u001b[1mwandb\u001b[0m: \u001b[32m\u001b[41mERROR\u001b[0m Run mt1xkk1c errored: TypeError(\"unsupported operand type(s) for -: 'int' and 'str'\")\n",
      "\u001b[34m\u001b[1mwandb\u001b[0m: Agent Starting Run: tuxls873 with config:\n",
      "\u001b[34m\u001b[1mwandb\u001b[0m: \taugment_data: False\n",
      "\u001b[34m\u001b[1mwandb\u001b[0m: \tbatch_norm: True\n",
      "\u001b[34m\u001b[1mwandb\u001b[0m: \tbatch_size: 64\n",
      "\u001b[34m\u001b[1mwandb\u001b[0m: \tdense_size: 100\n",
      "\u001b[34m\u001b[1mwandb\u001b[0m: \tdropout: 0.2\n",
      "\u001b[34m\u001b[1mwandb\u001b[0m: \tepochs: 5\n",
      "\u001b[34m\u001b[1mwandb\u001b[0m: \tfreeze_before: 50\n",
      "\u001b[34m\u001b[1mwandb\u001b[0m: \tlr: 0.001\n",
      "\u001b[34m\u001b[1mwandb\u001b[0m: \tmodels: IRNV2\n"
     ]
    },
    {
     "data": {
      "text/html": [
       "Tracking run with wandb version 0.12.14"
      ],
      "text/plain": [
       "<IPython.core.display.HTML object>"
      ]
     },
     "metadata": {},
     "output_type": "display_data"
    },
    {
     "data": {
      "text/html": [
       "Run data is saved locally in <code>C:\\Users\\Keyur\\Documents\\DL\\A2\\P1\\wandb\\run-20220409_193601-tuxls873</code>"
      ],
      "text/plain": [
       "<IPython.core.display.HTML object>"
      ]
     },
     "metadata": {},
     "output_type": "display_data"
    },
    {
     "data": {
      "text/html": [
       "Syncing run <strong><a href=\"https://wandb.ai/cs21m029_keyur_raval/DL_CS6910_Assignment2/runs/tuxls873\" target=\"_blank\">silvery-sweep-2</a></strong> to <a href=\"https://wandb.ai/cs21m029_keyur_raval/DL_CS6910_Assignment2\" target=\"_blank\">Weights & Biases</a> (<a href=\"https://wandb.me/run\" target=\"_blank\">docs</a>)<br/>Sweep page:  <a href=\"https://wandb.ai/cs21m029_keyur_raval/DL_CS6910_Assignment2/sweeps/12fb9zkv\" target=\"_blank\">https://wandb.ai/cs21m029_keyur_raval/DL_CS6910_Assignment2/sweeps/12fb9zkv</a>"
      ],
      "text/plain": [
       "<IPython.core.display.HTML object>"
      ]
     },
     "metadata": {},
     "output_type": "display_data"
    },
    {
     "name": "stdout",
     "output_type": "stream",
     "text": [
      "Downloading data from https://storage.googleapis.com/tensorflow/keras-applications/inception_resnet_v2/inception_resnet_v2_weights_tf_dim_ordering_tf_kernels_notop.h5\n",
      "219062272/219055592 [==============================] - 19s 0us/step\n",
      "219070464/219055592 [==============================] - 19s 0us/step\n",
      "Found 9000 images belonging to 10 classes.\n",
      "Found 999 images belonging to 10 classes.\n",
      "Found 2000 images belonging to 10 classes.\n",
      "Epoch 1/5\n",
      "141/141 [==============================] - 91s 567ms/step - loss: 1.9931 - accuracy: 0.6556 - val_loss: 0.9546 - val_accuracy: 0.7137\n",
      "Epoch 2/5\n",
      "141/141 [==============================] - 73s 517ms/step - loss: 0.7781 - accuracy: 0.7719 - val_loss: 0.9879 - val_accuracy: 0.7227\n",
      "Epoch 3/5\n",
      "141/141 [==============================] - 73s 516ms/step - loss: 0.5868 - accuracy: 0.8151 - val_loss: 0.9433 - val_accuracy: 0.7598\n",
      "Epoch 4/5\n",
      "141/141 [==============================] - 74s 524ms/step - loss: 0.4448 - accuracy: 0.8534 - val_loss: 0.9276 - val_accuracy: 0.7528\n",
      "Epoch 5/5\n",
      "141/141 [==============================] - 72s 508ms/step - loss: 0.3307 - accuracy: 0.8904 - val_loss: 0.9730 - val_accuracy: 0.7487\n",
      "\n"
     ]
    },
    {
     "data": {
      "text/html": [
       "Waiting for W&B process to finish... <strong style=\"color:red\">(failed 1).</strong> Press Ctrl-C to abort syncing."
      ],
      "text/plain": [
       "<IPython.core.display.HTML object>"
      ]
     },
     "metadata": {},
     "output_type": "display_data"
    },
    {
     "data": {
      "text/html": [
       "<style>\n",
       "    table.wandb td:nth-child(1) { padding: 0 10px; text-align: right }\n",
       "    .wandb-row { display: flex; flex-direction: row; flex-wrap: wrap; width: 100% }\n",
       "    .wandb-col { display: flex; flex-direction: column; flex-basis: 100%; flex: 1; padding: 10px; }\n",
       "    </style>\n",
       "<div class=\"wandb-row\"><div class=\"wandb-col\"><h3>Run history:</h3><br/><table class=\"wandb\"><tr><td>accuracy</td><td>▁▄▆▇█</td></tr><tr><td>epoch</td><td>▁▃▅▆█</td></tr><tr><td>loss</td><td>█▃▂▁▁</td></tr><tr><td>val_accuracy</td><td>▁▂█▇▆</td></tr><tr><td>val_loss</td><td>▄█▃▁▆</td></tr></table><br/></div><div class=\"wandb-col\"><h3>Run summary:</h3><br/><table class=\"wandb\"><tr><td>accuracy</td><td>0.89044</td></tr><tr><td>best_epoch</td><td>3</td></tr><tr><td>best_val_loss</td><td>0.92756</td></tr><tr><td>epoch</td><td>4</td></tr><tr><td>loss</td><td>0.33072</td></tr><tr><td>val_accuracy</td><td>0.74875</td></tr><tr><td>val_loss</td><td>0.97304</td></tr></table><br/></div></div>"
      ],
      "text/plain": [
       "<IPython.core.display.HTML object>"
      ]
     },
     "metadata": {},
     "output_type": "display_data"
    },
    {
     "data": {
      "text/html": [
       "Synced <strong style=\"color:#cdcd00\">silvery-sweep-2</strong>: <a href=\"https://wandb.ai/cs21m029_keyur_raval/DL_CS6910_Assignment2/runs/tuxls873\" target=\"_blank\">https://wandb.ai/cs21m029_keyur_raval/DL_CS6910_Assignment2/runs/tuxls873</a><br/>Synced 6 W&B file(s), 1 media file(s), 0 artifact file(s) and 1 other file(s)"
      ],
      "text/plain": [
       "<IPython.core.display.HTML object>"
      ]
     },
     "metadata": {},
     "output_type": "display_data"
    },
    {
     "data": {
      "text/html": [
       "Find logs at: <code>.\\wandb\\run-20220409_193601-tuxls873\\logs</code>"
      ],
      "text/plain": [
       "<IPython.core.display.HTML object>"
      ]
     },
     "metadata": {},
     "output_type": "display_data"
    },
    {
     "name": "stderr",
     "output_type": "stream",
     "text": [
      "Run tuxls873 errored: TypeError(\"unsupported operand type(s) for -: 'int' and 'str'\")\n",
      "\u001b[34m\u001b[1mwandb\u001b[0m: \u001b[32m\u001b[41mERROR\u001b[0m Run tuxls873 errored: TypeError(\"unsupported operand type(s) for -: 'int' and 'str'\")\n",
      "\u001b[34m\u001b[1mwandb\u001b[0m: Sweep Agent: Waiting for job.\n",
      "\u001b[34m\u001b[1mwandb\u001b[0m: Job received.\n",
      "\u001b[34m\u001b[1mwandb\u001b[0m: Agent Starting Run: jd2e7k07 with config:\n",
      "\u001b[34m\u001b[1mwandb\u001b[0m: \taugment_data: False\n",
      "\u001b[34m\u001b[1mwandb\u001b[0m: \tbatch_norm: False\n",
      "\u001b[34m\u001b[1mwandb\u001b[0m: \tbatch_size: 32\n",
      "\u001b[34m\u001b[1mwandb\u001b[0m: \tdense_size: 64\n",
      "\u001b[34m\u001b[1mwandb\u001b[0m: \tdropout: 0.2\n",
      "\u001b[34m\u001b[1mwandb\u001b[0m: \tepochs: 5\n",
      "\u001b[34m\u001b[1mwandb\u001b[0m: \tfreeze_before: 70\n",
      "\u001b[34m\u001b[1mwandb\u001b[0m: \tlr: 0.005\n",
      "\u001b[34m\u001b[1mwandb\u001b[0m: \tmodels: IV3\n"
     ]
    },
    {
     "data": {
      "text/html": [
       "Tracking run with wandb version 0.12.14"
      ],
      "text/plain": [
       "<IPython.core.display.HTML object>"
      ]
     },
     "metadata": {},
     "output_type": "display_data"
    },
    {
     "data": {
      "text/html": [
       "Run data is saved locally in <code>C:\\Users\\Keyur\\Documents\\DL\\A2\\P1\\wandb\\run-20220409_194336-jd2e7k07</code>"
      ],
      "text/plain": [
       "<IPython.core.display.HTML object>"
      ]
     },
     "metadata": {},
     "output_type": "display_data"
    },
    {
     "data": {
      "text/html": [
       "Syncing run <strong><a href=\"https://wandb.ai/cs21m029_keyur_raval/DL_CS6910_Assignment2/runs/jd2e7k07\" target=\"_blank\">decent-sweep-3</a></strong> to <a href=\"https://wandb.ai/cs21m029_keyur_raval/DL_CS6910_Assignment2\" target=\"_blank\">Weights & Biases</a> (<a href=\"https://wandb.me/run\" target=\"_blank\">docs</a>)<br/>Sweep page:  <a href=\"https://wandb.ai/cs21m029_keyur_raval/DL_CS6910_Assignment2/sweeps/12fb9zkv\" target=\"_blank\">https://wandb.ai/cs21m029_keyur_raval/DL_CS6910_Assignment2/sweeps/12fb9zkv</a>"
      ],
      "text/plain": [
       "<IPython.core.display.HTML object>"
      ]
     },
     "metadata": {},
     "output_type": "display_data"
    },
    {
     "name": "stdout",
     "output_type": "stream",
     "text": [
      "Found 9000 images belonging to 10 classes.\n",
      "Found 999 images belonging to 10 classes.\n",
      "Found 2000 images belonging to 10 classes.\n",
      "Epoch 1/5\n",
      "282/282 [==============================] - 77s 254ms/step - loss: 4.1719 - accuracy: 0.1720 - val_loss: 2.1371 - val_accuracy: 0.1692\n",
      "Epoch 2/5\n",
      "282/282 [==============================] - 71s 252ms/step - loss: 2.0060 - accuracy: 0.2631 - val_loss: 2.0598 - val_accuracy: 0.2212\n",
      "Epoch 3/5\n",
      "282/282 [==============================] - 70s 249ms/step - loss: 1.9386 - accuracy: 0.2743 - val_loss: 2.0660 - val_accuracy: 0.3063\n",
      "Epoch 4/5\n",
      "282/282 [==============================] - 71s 251ms/step - loss: 1.8611 - accuracy: 0.3231 - val_loss: 1.9297 - val_accuracy: 0.2983\n",
      "Epoch 5/5\n",
      "282/282 [==============================] - 71s 251ms/step - loss: 1.8231 - accuracy: 0.3337 - val_loss: 1.9481 - val_accuracy: 0.3063\n",
      "\n"
     ]
    },
    {
     "data": {
      "text/html": [
       "Waiting for W&B process to finish... <strong style=\"color:red\">(failed 1).</strong> Press Ctrl-C to abort syncing."
      ],
      "text/plain": [
       "<IPython.core.display.HTML object>"
      ]
     },
     "metadata": {},
     "output_type": "display_data"
    },
    {
     "data": {
      "text/html": [
       "<style>\n",
       "    table.wandb td:nth-child(1) { padding: 0 10px; text-align: right }\n",
       "    .wandb-row { display: flex; flex-direction: row; flex-wrap: wrap; width: 100% }\n",
       "    .wandb-col { display: flex; flex-direction: column; flex-basis: 100%; flex: 1; padding: 10px; }\n",
       "    </style>\n",
       "<div class=\"wandb-row\"><div class=\"wandb-col\"><h3>Run history:</h3><br/><table class=\"wandb\"><tr><td>accuracy</td><td>▁▅▅██</td></tr><tr><td>epoch</td><td>▁▃▅▆█</td></tr><tr><td>loss</td><td>█▂▁▁▁</td></tr><tr><td>val_accuracy</td><td>▁▄███</td></tr><tr><td>val_loss</td><td>█▅▆▁▂</td></tr></table><br/></div><div class=\"wandb-col\"><h3>Run summary:</h3><br/><table class=\"wandb\"><tr><td>accuracy</td><td>0.33367</td></tr><tr><td>best_epoch</td><td>3</td></tr><tr><td>best_val_loss</td><td>1.9297</td></tr><tr><td>epoch</td><td>4</td></tr><tr><td>loss</td><td>1.82308</td></tr><tr><td>val_accuracy</td><td>0.30631</td></tr><tr><td>val_loss</td><td>1.94812</td></tr></table><br/></div></div>"
      ],
      "text/plain": [
       "<IPython.core.display.HTML object>"
      ]
     },
     "metadata": {},
     "output_type": "display_data"
    },
    {
     "data": {
      "text/html": [
       "Synced <strong style=\"color:#cdcd00\">decent-sweep-3</strong>: <a href=\"https://wandb.ai/cs21m029_keyur_raval/DL_CS6910_Assignment2/runs/jd2e7k07\" target=\"_blank\">https://wandb.ai/cs21m029_keyur_raval/DL_CS6910_Assignment2/runs/jd2e7k07</a><br/>Synced 6 W&B file(s), 1 media file(s), 0 artifact file(s) and 1 other file(s)"
      ],
      "text/plain": [
       "<IPython.core.display.HTML object>"
      ]
     },
     "metadata": {},
     "output_type": "display_data"
    },
    {
     "data": {
      "text/html": [
       "Find logs at: <code>.\\wandb\\run-20220409_194336-jd2e7k07\\logs</code>"
      ],
      "text/plain": [
       "<IPython.core.display.HTML object>"
      ]
     },
     "metadata": {},
     "output_type": "display_data"
    },
    {
     "name": "stderr",
     "output_type": "stream",
     "text": [
      "Run jd2e7k07 errored: TypeError(\"unsupported operand type(s) for -: 'int' and 'str'\")\n",
      "\u001b[34m\u001b[1mwandb\u001b[0m: \u001b[32m\u001b[41mERROR\u001b[0m Run jd2e7k07 errored: TypeError(\"unsupported operand type(s) for -: 'int' and 'str'\")\n",
      "\u001b[34m\u001b[1mwandb\u001b[0m: Agent Starting Run: ik9g9i3v with config:\n",
      "\u001b[34m\u001b[1mwandb\u001b[0m: \taugment_data: False\n",
      "\u001b[34m\u001b[1mwandb\u001b[0m: \tbatch_norm: False\n",
      "\u001b[34m\u001b[1mwandb\u001b[0m: \tbatch_size: 32\n",
      "\u001b[34m\u001b[1mwandb\u001b[0m: \tdense_size: 128\n",
      "\u001b[34m\u001b[1mwandb\u001b[0m: \tdropout: 0.2\n",
      "\u001b[34m\u001b[1mwandb\u001b[0m: \tepochs: 5\n",
      "\u001b[34m\u001b[1mwandb\u001b[0m: \tfreeze_before: 50\n",
      "\u001b[34m\u001b[1mwandb\u001b[0m: \tlr: 0.0001\n",
      "\u001b[34m\u001b[1mwandb\u001b[0m: \tmodels: IRNV2\n"
     ]
    },
    {
     "data": {
      "text/html": [
       "Tracking run with wandb version 0.12.14"
      ],
      "text/plain": [
       "<IPython.core.display.HTML object>"
      ]
     },
     "metadata": {},
     "output_type": "display_data"
    },
    {
     "data": {
      "text/html": [
       "Run data is saved locally in <code>C:\\Users\\Keyur\\Documents\\DL\\A2\\P1\\wandb\\run-20220409_195006-ik9g9i3v</code>"
      ],
      "text/plain": [
       "<IPython.core.display.HTML object>"
      ]
     },
     "metadata": {},
     "output_type": "display_data"
    },
    {
     "data": {
      "text/html": [
       "Syncing run <strong><a href=\"https://wandb.ai/cs21m029_keyur_raval/DL_CS6910_Assignment2/runs/ik9g9i3v\" target=\"_blank\">volcanic-sweep-4</a></strong> to <a href=\"https://wandb.ai/cs21m029_keyur_raval/DL_CS6910_Assignment2\" target=\"_blank\">Weights & Biases</a> (<a href=\"https://wandb.me/run\" target=\"_blank\">docs</a>)<br/>Sweep page:  <a href=\"https://wandb.ai/cs21m029_keyur_raval/DL_CS6910_Assignment2/sweeps/12fb9zkv\" target=\"_blank\">https://wandb.ai/cs21m029_keyur_raval/DL_CS6910_Assignment2/sweeps/12fb9zkv</a>"
      ],
      "text/plain": [
       "<IPython.core.display.HTML object>"
      ]
     },
     "metadata": {},
     "output_type": "display_data"
    },
    {
     "name": "stdout",
     "output_type": "stream",
     "text": [
      "Found 9000 images belonging to 10 classes.\n",
      "Found 999 images belonging to 10 classes.\n",
      "Found 2000 images belonging to 10 classes.\n",
      "Epoch 1/5\n",
      "282/282 [==============================] - 86s 274ms/step - loss: 0.9653 - accuracy: 0.7124 - val_loss: 0.8152 - val_accuracy: 0.7447\n",
      "Epoch 2/5\n",
      "282/282 [==============================] - 74s 263ms/step - loss: 0.5931 - accuracy: 0.8111 - val_loss: 0.7883 - val_accuracy: 0.7588\n",
      "Epoch 3/5\n",
      "282/282 [==============================] - 75s 266ms/step - loss: 0.4151 - accuracy: 0.8636 - val_loss: 0.7641 - val_accuracy: 0.7758\n",
      "Epoch 4/5\n",
      "282/282 [==============================] - 75s 266ms/step - loss: 0.2868 - accuracy: 0.9072 - val_loss: 0.8158 - val_accuracy: 0.7548\n",
      "Epoch 5/5\n",
      "282/282 [==============================] - 75s 264ms/step - loss: 0.1998 - accuracy: 0.9351 - val_loss: 0.8046 - val_accuracy: 0.7648\n",
      "\n"
     ]
    },
    {
     "data": {
      "text/html": [
       "Waiting for W&B process to finish... <strong style=\"color:red\">(failed 1).</strong> Press Ctrl-C to abort syncing."
      ],
      "text/plain": [
       "<IPython.core.display.HTML object>"
      ]
     },
     "metadata": {},
     "output_type": "display_data"
    },
    {
     "data": {
      "text/html": [
       "<style>\n",
       "    table.wandb td:nth-child(1) { padding: 0 10px; text-align: right }\n",
       "    .wandb-row { display: flex; flex-direction: row; flex-wrap: wrap; width: 100% }\n",
       "    .wandb-col { display: flex; flex-direction: column; flex-basis: 100%; flex: 1; padding: 10px; }\n",
       "    </style>\n",
       "<div class=\"wandb-row\"><div class=\"wandb-col\"><h3>Run history:</h3><br/><table class=\"wandb\"><tr><td>accuracy</td><td>▁▄▆▇█</td></tr><tr><td>epoch</td><td>▁▃▅▆█</td></tr><tr><td>loss</td><td>█▅▃▂▁</td></tr><tr><td>val_accuracy</td><td>▁▄█▃▆</td></tr><tr><td>val_loss</td><td>█▄▁█▆</td></tr></table><br/></div><div class=\"wandb-col\"><h3>Run summary:</h3><br/><table class=\"wandb\"><tr><td>accuracy</td><td>0.93511</td></tr><tr><td>best_epoch</td><td>2</td></tr><tr><td>best_val_loss</td><td>0.76409</td></tr><tr><td>epoch</td><td>4</td></tr><tr><td>loss</td><td>0.19978</td></tr><tr><td>val_accuracy</td><td>0.76476</td></tr><tr><td>val_loss</td><td>0.80464</td></tr></table><br/></div></div>"
      ],
      "text/plain": [
       "<IPython.core.display.HTML object>"
      ]
     },
     "metadata": {},
     "output_type": "display_data"
    },
    {
     "data": {
      "text/html": [
       "Synced <strong style=\"color:#cdcd00\">volcanic-sweep-4</strong>: <a href=\"https://wandb.ai/cs21m029_keyur_raval/DL_CS6910_Assignment2/runs/ik9g9i3v\" target=\"_blank\">https://wandb.ai/cs21m029_keyur_raval/DL_CS6910_Assignment2/runs/ik9g9i3v</a><br/>Synced 6 W&B file(s), 1 media file(s), 0 artifact file(s) and 1 other file(s)"
      ],
      "text/plain": [
       "<IPython.core.display.HTML object>"
      ]
     },
     "metadata": {},
     "output_type": "display_data"
    },
    {
     "data": {
      "text/html": [
       "Find logs at: <code>.\\wandb\\run-20220409_195006-ik9g9i3v\\logs</code>"
      ],
      "text/plain": [
       "<IPython.core.display.HTML object>"
      ]
     },
     "metadata": {},
     "output_type": "display_data"
    },
    {
     "name": "stderr",
     "output_type": "stream",
     "text": [
      "Run ik9g9i3v errored: TypeError(\"unsupported operand type(s) for -: 'int' and 'str'\")\n",
      "\u001b[34m\u001b[1mwandb\u001b[0m: \u001b[32m\u001b[41mERROR\u001b[0m Run ik9g9i3v errored: TypeError(\"unsupported operand type(s) for -: 'int' and 'str'\")\n",
      "\u001b[34m\u001b[1mwandb\u001b[0m: Agent Starting Run: 1r9n5vpp with config:\n",
      "\u001b[34m\u001b[1mwandb\u001b[0m: \taugment_data: True\n",
      "\u001b[34m\u001b[1mwandb\u001b[0m: \tbatch_norm: False\n",
      "\u001b[34m\u001b[1mwandb\u001b[0m: \tbatch_size: 32\n",
      "\u001b[34m\u001b[1mwandb\u001b[0m: \tdense_size: 64\n",
      "\u001b[34m\u001b[1mwandb\u001b[0m: \tdropout: 0.3\n",
      "\u001b[34m\u001b[1mwandb\u001b[0m: \tepochs: 5\n",
      "\u001b[34m\u001b[1mwandb\u001b[0m: \tfreeze_before: 50\n",
      "\u001b[34m\u001b[1mwandb\u001b[0m: \tlr: 0.005\n",
      "\u001b[34m\u001b[1mwandb\u001b[0m: \tmodels: IV3\n"
     ]
    },
    {
     "data": {
      "text/html": [
       "Tracking run with wandb version 0.12.14"
      ],
      "text/plain": [
       "<IPython.core.display.HTML object>"
      ]
     },
     "metadata": {},
     "output_type": "display_data"
    },
    {
     "data": {
      "text/html": [
       "Run data is saved locally in <code>C:\\Users\\Keyur\\Documents\\DL\\A2\\P1\\wandb\\run-20220409_195714-1r9n5vpp</code>"
      ],
      "text/plain": [
       "<IPython.core.display.HTML object>"
      ]
     },
     "metadata": {},
     "output_type": "display_data"
    },
    {
     "data": {
      "text/html": [
       "Syncing run <strong><a href=\"https://wandb.ai/cs21m029_keyur_raval/DL_CS6910_Assignment2/runs/1r9n5vpp\" target=\"_blank\">jumping-sweep-5</a></strong> to <a href=\"https://wandb.ai/cs21m029_keyur_raval/DL_CS6910_Assignment2\" target=\"_blank\">Weights & Biases</a> (<a href=\"https://wandb.me/run\" target=\"_blank\">docs</a>)<br/>Sweep page:  <a href=\"https://wandb.ai/cs21m029_keyur_raval/DL_CS6910_Assignment2/sweeps/12fb9zkv\" target=\"_blank\">https://wandb.ai/cs21m029_keyur_raval/DL_CS6910_Assignment2/sweeps/12fb9zkv</a>"
      ],
      "text/plain": [
       "<IPython.core.display.HTML object>"
      ]
     },
     "metadata": {},
     "output_type": "display_data"
    },
    {
     "name": "stdout",
     "output_type": "stream",
     "text": [
      "Found 9000 images belonging to 10 classes.\n",
      "Found 999 images belonging to 10 classes.\n",
      "Found 2000 images belonging to 10 classes.\n",
      "Epoch 1/5\n",
      "282/282 [==============================] - 134s 463ms/step - loss: 4.6148 - accuracy: 0.1491 - val_loss: 2.2098 - val_accuracy: 0.1712\n",
      "Epoch 2/5\n",
      "282/282 [==============================] - 131s 464ms/step - loss: 2.1949 - accuracy: 0.1494 - val_loss: 2.1821 - val_accuracy: 0.1702\n",
      "Epoch 3/5\n",
      "282/282 [==============================] - 128s 453ms/step - loss: 2.1727 - accuracy: 0.1538 - val_loss: 2.1634 - val_accuracy: 0.1562\n",
      "Epoch 4/5\n",
      "282/282 [==============================] - 131s 464ms/step - loss: 2.1527 - accuracy: 0.1653 - val_loss: 2.1406 - val_accuracy: 0.1622\n",
      "Epoch 5/5\n",
      "282/282 [==============================] - 128s 452ms/step - loss: 2.1339 - accuracy: 0.1647 - val_loss: 2.1293 - val_accuracy: 0.1522\n",
      "\n"
     ]
    },
    {
     "data": {
      "text/html": [
       "Waiting for W&B process to finish... <strong style=\"color:red\">(failed 1).</strong> Press Ctrl-C to abort syncing."
      ],
      "text/plain": [
       "<IPython.core.display.HTML object>"
      ]
     },
     "metadata": {},
     "output_type": "display_data"
    },
    {
     "data": {
      "text/html": [
       "<style>\n",
       "    table.wandb td:nth-child(1) { padding: 0 10px; text-align: right }\n",
       "    .wandb-row { display: flex; flex-direction: row; flex-wrap: wrap; width: 100% }\n",
       "    .wandb-col { display: flex; flex-direction: column; flex-basis: 100%; flex: 1; padding: 10px; }\n",
       "    </style>\n",
       "<div class=\"wandb-row\"><div class=\"wandb-col\"><h3>Run history:</h3><br/><table class=\"wandb\"><tr><td>accuracy</td><td>▁▁▃██</td></tr><tr><td>epoch</td><td>▁▃▅▆█</td></tr><tr><td>loss</td><td>█▁▁▁▁</td></tr><tr><td>val_accuracy</td><td>██▂▅▁</td></tr><tr><td>val_loss</td><td>█▆▄▂▁</td></tr></table><br/></div><div class=\"wandb-col\"><h3>Run summary:</h3><br/><table class=\"wandb\"><tr><td>accuracy</td><td>0.16467</td></tr><tr><td>best_epoch</td><td>4</td></tr><tr><td>best_val_loss</td><td>2.1293</td></tr><tr><td>epoch</td><td>4</td></tr><tr><td>loss</td><td>2.13394</td></tr><tr><td>val_accuracy</td><td>0.15215</td></tr><tr><td>val_loss</td><td>2.1293</td></tr></table><br/></div></div>"
      ],
      "text/plain": [
       "<IPython.core.display.HTML object>"
      ]
     },
     "metadata": {},
     "output_type": "display_data"
    },
    {
     "data": {
      "text/html": [
       "Synced <strong style=\"color:#cdcd00\">jumping-sweep-5</strong>: <a href=\"https://wandb.ai/cs21m029_keyur_raval/DL_CS6910_Assignment2/runs/1r9n5vpp\" target=\"_blank\">https://wandb.ai/cs21m029_keyur_raval/DL_CS6910_Assignment2/runs/1r9n5vpp</a><br/>Synced 6 W&B file(s), 1 media file(s), 0 artifact file(s) and 1 other file(s)"
      ],
      "text/plain": [
       "<IPython.core.display.HTML object>"
      ]
     },
     "metadata": {},
     "output_type": "display_data"
    },
    {
     "data": {
      "text/html": [
       "Find logs at: <code>.\\wandb\\run-20220409_195714-1r9n5vpp\\logs</code>"
      ],
      "text/plain": [
       "<IPython.core.display.HTML object>"
      ]
     },
     "metadata": {},
     "output_type": "display_data"
    },
    {
     "name": "stderr",
     "output_type": "stream",
     "text": [
      "Run 1r9n5vpp errored: TypeError(\"unsupported operand type(s) for -: 'int' and 'str'\")\n",
      "\u001b[34m\u001b[1mwandb\u001b[0m: \u001b[32m\u001b[41mERROR\u001b[0m Run 1r9n5vpp errored: TypeError(\"unsupported operand type(s) for -: 'int' and 'str'\")\n"
     ]
    }
   ],
   "source": [
    "wandb.agent(sweep_id, train, count = 5)"
   ]
  },
  {
   "cell_type": "code",
   "execution_count": null,
   "id": "bc448898-296d-4ffd-b238-a07c23e25f75",
   "metadata": {},
   "outputs": [],
   "source": []
  }
 ],
 "metadata": {
  "kernelspec": {
   "display_name": "Python 3 (ipykernel)",
   "language": "python",
   "name": "python3"
  },
  "language_info": {
   "codemirror_mode": {
    "name": "ipython",
    "version": 3
   },
   "file_extension": ".py",
   "mimetype": "text/x-python",
   "name": "python",
   "nbconvert_exporter": "python",
   "pygments_lexer": "ipython3",
   "version": "3.9.7"
  }
 },
 "nbformat": 4,
 "nbformat_minor": 5
}

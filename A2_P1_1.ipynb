{
 "cells": [
  {
   "cell_type": "code",
   "execution_count": 1,
   "id": "4a3f4254-c364-4a70-87d4-380ade89b591",
   "metadata": {},
   "outputs": [],
   "source": [
    "import tensorflow as tf\n",
    "from tensorflow import keras"
   ]
  },
  {
   "cell_type": "code",
   "execution_count": 10,
   "id": "6e7234d4-0530-4e8c-be31-83bbcd212adc",
   "metadata": {},
   "outputs": [],
   "source": [
    "#TensorFlow - Building the Model\n",
    "modeltf = keras.Sequential([\n",
    "    \n",
    "    # layer1\n",
    "    keras.layers.Conv2D(input_shape=(800,800,3), filters=6, kernel_size=5, strides=1, padding=\"same\", activation=tf.nn.relu),\n",
    "    keras.layers.AveragePooling2D(pool_size=2, strides=2),\n",
    "    \n",
    "    # layer2\n",
    "    keras.layers.Conv2D(16, kernel_size=5, strides=1, padding=\"same\", activation=tf.nn.relu),\n",
    "    keras.layers.AveragePooling2D(pool_size=2, strides=2),\n",
    "    \n",
    "    # layer3\n",
    "    keras.layers.Conv2D(32, kernel_size=5, strides=1, padding=\"same\", activation=tf.nn.relu),\n",
    "    keras.layers.AveragePooling2D(pool_size=2, strides=2),\n",
    "    \n",
    "    # layer4\n",
    "    keras.layers.Conv2D(64, kernel_size=5, strides=1, padding=\"same\", activation=tf.nn.relu),\n",
    "    keras.layers.AveragePooling2D(pool_size=2, strides=2),\n",
    "    \n",
    "    # layer5\n",
    "    keras.layers.Conv2D(128,kernel_size=5, strides=1, padding=\"same\", activation=tf.nn.relu),\n",
    "    keras.layers.AveragePooling2D(pool_size=2, strides=2),\n",
    "    \n",
    "    keras.layers.Flatten(),\n",
    "    \n",
    "    # dense layer\n",
    "    keras.layers.Dense(120, activation=tf.nn.relu),\n",
    "    \n",
    "    # output layer\n",
    "    keras.layers.Dense(10, activation=tf.nn.softmax)\n",
    "])"
   ]
  },
  {
   "cell_type": "code",
   "execution_count": 11,
   "id": "ffb0196c-cb11-4882-a66d-17dd6305f92b",
   "metadata": {},
   "outputs": [
    {
     "name": "stdout",
     "output_type": "stream",
     "text": [
      "Model: \"sequential_1\"\n",
      "_________________________________________________________________\n",
      "Layer (type)                 Output Shape              Param #   \n",
      "=================================================================\n",
      "conv2d_5 (Conv2D)            (None, 800, 800, 6)       456       \n",
      "_________________________________________________________________\n",
      "average_pooling2d_5 (Average (None, 400, 400, 6)       0         \n",
      "_________________________________________________________________\n",
      "conv2d_6 (Conv2D)            (None, 400, 400, 16)      2416      \n",
      "_________________________________________________________________\n",
      "average_pooling2d_6 (Average (None, 200, 200, 16)      0         \n",
      "_________________________________________________________________\n",
      "conv2d_7 (Conv2D)            (None, 200, 200, 32)      12832     \n",
      "_________________________________________________________________\n",
      "average_pooling2d_7 (Average (None, 100, 100, 32)      0         \n",
      "_________________________________________________________________\n",
      "conv2d_8 (Conv2D)            (None, 100, 100, 64)      51264     \n",
      "_________________________________________________________________\n",
      "average_pooling2d_8 (Average (None, 50, 50, 64)        0         \n",
      "_________________________________________________________________\n",
      "conv2d_9 (Conv2D)            (None, 50, 50, 128)       204928    \n",
      "_________________________________________________________________\n",
      "average_pooling2d_9 (Average (None, 25, 25, 128)       0         \n",
      "_________________________________________________________________\n",
      "flatten_1 (Flatten)          (None, 80000)             0         \n",
      "_________________________________________________________________\n",
      "dense_2 (Dense)              (None, 120)               9600120   \n",
      "_________________________________________________________________\n",
      "dense_3 (Dense)              (None, 10)                1210      \n",
      "=================================================================\n",
      "Total params: 9,873,226\n",
      "Trainable params: 9,873,226\n",
      "Non-trainable params: 0\n",
      "_________________________________________________________________\n"
     ]
    }
   ],
   "source": [
    "#TensorFlow - Visualizing the Model\n",
    "modeltf.compile(loss=keras.losses.categorical_crossentropy,\n",
    "                optimizer='adam',\n",
    "                metrics=['accuracy'])\n",
    "modeltf.summary()"
   ]
  },
  {
   "cell_type": "code",
   "execution_count": 12,
   "id": "57e599a9-5b55-4c43-a9be-6803569b327b",
   "metadata": {},
   "outputs": [
    {
     "name": "stdout",
     "output_type": "stream",
     "text": [
      "Found 9000 images belonging to 10 classes.\n",
      "Found 999 images belonging to 10 classes.\n",
      "Epoch 1/5\n",
      "180/180 [==============================] - 3029s 17s/step - loss: 3.3495 - accuracy: 0.1688 - val_loss: 2.1643 - val_accuracy: 0.2272\n",
      "Epoch 2/5\n",
      "180/180 [==============================] - 2727s 15s/step - loss: 2.0455 - accuracy: 0.2681 - val_loss: 2.2074 - val_accuracy: 0.2432\n",
      "Epoch 3/5\n",
      "180/180 [==============================] - 15937s 89s/step - loss: 1.8398 - accuracy: 0.3511 - val_loss: 2.1607 - val_accuracy: 0.2523\n",
      "Epoch 4/5\n",
      "180/180 [==============================] - 3857s 21s/step - loss: 1.4268 - accuracy: 0.5054 - val_loss: 2.6375 - val_accuracy: 0.2322\n",
      "Epoch 5/5\n",
      "180/180 [==============================] - 2917s 16s/step - loss: 0.8635 - accuracy: 0.7081 - val_loss: 3.6790 - val_accuracy: 0.2022\n"
     ]
    },
    {
     "data": {
      "text/plain": [
       "<tensorflow.python.keras.callbacks.History at 0x1f54a9b5130>"
      ]
     },
     "execution_count": 12,
     "metadata": {},
     "output_type": "execute_result"
    }
   ],
   "source": [
    "from keras.preprocessing.image import ImageDataGenerator\n",
    "\n",
    "batch_size = 50\n",
    "\n",
    "train_datagen = ImageDataGenerator(validation_split=0.1)\n",
    "train_generator = train_datagen.flow_from_directory(\n",
    "        'inaturalist_12K/train',\n",
    "        target_size=(800, 800),\n",
    "        batch_size= batch_size,\n",
    "        class_mode='categorical',\n",
    "        subset='training')\n",
    "\n",
    "validation_generator = train_datagen.flow_from_directory(\n",
    "        'inaturalist_12K/train',\n",
    "        target_size=(800, 800),\n",
    "        batch_size= batch_size,\n",
    "        class_mode='categorical',\n",
    "        subset='validation')\n",
    "\n",
    "modeltf.fit(\n",
    "        train_generator,\n",
    "        steps_per_epoch=9000//batch_size,\n",
    "        epochs=5,\n",
    "        validation_data=validation_generator,\n",
    "        validation_steps=1000//batch_size)"
   ]
  }
 ],
 "metadata": {
  "kernelspec": {
   "display_name": "Python 3 (ipykernel)",
   "language": "python",
   "name": "python3"
  },
  "language_info": {
   "codemirror_mode": {
    "name": "ipython",
    "version": 3
   },
   "file_extension": ".py",
   "mimetype": "text/x-python",
   "name": "python",
   "nbconvert_exporter": "python",
   "pygments_lexer": "ipython3",
   "version": "3.8.12"
  }
 },
 "nbformat": 4,
 "nbformat_minor": 5
}

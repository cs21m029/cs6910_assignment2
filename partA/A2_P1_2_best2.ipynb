{
 "cells": [
  {
   "cell_type": "code",
   "execution_count": 2,
   "id": "4a3f4254-c364-4a70-87d4-380ade89b591",
   "metadata": {},
   "outputs": [
    {
     "name": "stdout",
     "output_type": "stream",
     "text": [
      "Requirement already satisfied: wandb in c:\\users\\keyur\\anaconda3\\envs\\tf-gpu\\lib\\site-packages (0.12.13)\n",
      "Requirement already satisfied: psutil>=5.0.0 in c:\\users\\keyur\\anaconda3\\envs\\tf-gpu\\lib\\site-packages (from wandb) (5.9.0)\n",
      "Requirement already satisfied: sentry-sdk>=1.0.0 in c:\\users\\keyur\\anaconda3\\envs\\tf-gpu\\lib\\site-packages (from wandb) (1.5.8)\n",
      "Requirement already satisfied: requests<3,>=2.0.0 in c:\\users\\keyur\\anaconda3\\envs\\tf-gpu\\lib\\site-packages (from wandb) (2.27.1)\n",
      "Requirement already satisfied: Click!=8.0.0,>=7.0 in c:\\users\\keyur\\anaconda3\\envs\\tf-gpu\\lib\\site-packages (from wandb) (8.0.4)\n",
      "Requirement already satisfied: six>=1.13.0 in c:\\users\\keyur\\anaconda3\\envs\\tf-gpu\\lib\\site-packages (from wandb) (1.16.0)\n",
      "Requirement already satisfied: setproctitle in c:\\users\\keyur\\anaconda3\\envs\\tf-gpu\\lib\\site-packages (from wandb) (1.2.2)\n",
      "Requirement already satisfied: python-dateutil>=2.6.1 in c:\\users\\keyur\\anaconda3\\envs\\tf-gpu\\lib\\site-packages (from wandb) (2.8.2)\n",
      "Requirement already satisfied: protobuf>=3.12.0 in c:\\users\\keyur\\anaconda3\\envs\\tf-gpu\\lib\\site-packages (from wandb) (3.17.2)\n",
      "Requirement already satisfied: promise<3,>=2.0 in c:\\users\\keyur\\anaconda3\\envs\\tf-gpu\\lib\\site-packages (from wandb) (2.3)\n",
      "Requirement already satisfied: PyYAML in c:\\users\\keyur\\anaconda3\\envs\\tf-gpu\\lib\\site-packages (from wandb) (6.0)\n",
      "Requirement already satisfied: GitPython>=1.0.0 in c:\\users\\keyur\\anaconda3\\envs\\tf-gpu\\lib\\site-packages (from wandb) (3.1.27)\n",
      "Requirement already satisfied: shortuuid>=0.5.0 in c:\\users\\keyur\\anaconda3\\envs\\tf-gpu\\lib\\site-packages (from wandb) (1.0.8)\n",
      "Requirement already satisfied: docker-pycreds>=0.4.0 in c:\\users\\keyur\\anaconda3\\envs\\tf-gpu\\lib\\site-packages (from wandb) (0.4.0)\n",
      "Requirement already satisfied: pathtools in c:\\users\\keyur\\anaconda3\\envs\\tf-gpu\\lib\\site-packages (from wandb) (0.1.2)\n",
      "Requirement already satisfied: colorama in c:\\users\\keyur\\anaconda3\\envs\\tf-gpu\\lib\\site-packages (from Click!=8.0.0,>=7.0->wandb) (0.4.4)\n",
      "Requirement already satisfied: gitdb<5,>=4.0.1 in c:\\users\\keyur\\anaconda3\\envs\\tf-gpu\\lib\\site-packages (from GitPython>=1.0.0->wandb) (4.0.9)\n",
      "Requirement already satisfied: smmap<6,>=3.0.1 in c:\\users\\keyur\\anaconda3\\envs\\tf-gpu\\lib\\site-packages (from gitdb<5,>=4.0.1->GitPython>=1.0.0->wandb) (5.0.0)\n",
      "Requirement already satisfied: certifi>=2017.4.17 in c:\\users\\keyur\\anaconda3\\envs\\tf-gpu\\lib\\site-packages (from requests<3,>=2.0.0->wandb) (2021.10.8)\n",
      "Requirement already satisfied: idna<4,>=2.5 in c:\\users\\keyur\\anaconda3\\envs\\tf-gpu\\lib\\site-packages (from requests<3,>=2.0.0->wandb) (3.3)\n",
      "Requirement already satisfied: charset-normalizer~=2.0.0 in c:\\users\\keyur\\anaconda3\\envs\\tf-gpu\\lib\\site-packages (from requests<3,>=2.0.0->wandb) (2.0.4)\n",
      "Requirement already satisfied: urllib3<1.27,>=1.21.1 in c:\\users\\keyur\\anaconda3\\envs\\tf-gpu\\lib\\site-packages (from requests<3,>=2.0.0->wandb) (1.26.8)\n",
      "Requirement already satisfied: wandb in c:\\users\\keyur\\anaconda3\\envs\\tf-gpu\\lib\\site-packages (0.12.13)\n",
      "Requirement already satisfied: Click!=8.0.0,>=7.0 in c:\\users\\keyur\\anaconda3\\envs\\tf-gpu\\lib\\site-packages (from wandb) (8.0.4)\n",
      "Requirement already satisfied: docker-pycreds>=0.4.0 in c:\\users\\keyur\\anaconda3\\envs\\tf-gpu\\lib\\site-packages (from wandb) (0.4.0)\n",
      "Requirement already satisfied: six>=1.13.0 in c:\\users\\keyur\\anaconda3\\envs\\tf-gpu\\lib\\site-packages (from wandb) (1.16.0)\n",
      "Requirement already satisfied: psutil>=5.0.0 in c:\\users\\keyur\\anaconda3\\envs\\tf-gpu\\lib\\site-packages (from wandb) (5.9.0)\n",
      "Requirement already satisfied: shortuuid>=0.5.0 in c:\\users\\keyur\\anaconda3\\envs\\tf-gpu\\lib\\site-packages (from wandb) (1.0.8)\n",
      "Requirement already satisfied: requests<3,>=2.0.0 in c:\\users\\keyur\\anaconda3\\envs\\tf-gpu\\lib\\site-packages (from wandb) (2.27.1)\n",
      "Requirement already satisfied: protobuf>=3.12.0 in c:\\users\\keyur\\anaconda3\\envs\\tf-gpu\\lib\\site-packages (from wandb) (3.17.2)\n",
      "Requirement already satisfied: GitPython>=1.0.0 in c:\\users\\keyur\\anaconda3\\envs\\tf-gpu\\lib\\site-packages (from wandb) (3.1.27)\n",
      "Requirement already satisfied: sentry-sdk>=1.0.0 in c:\\users\\keyur\\anaconda3\\envs\\tf-gpu\\lib\\site-packages (from wandb) (1.5.8)\n",
      "Requirement already satisfied: promise<3,>=2.0 in c:\\users\\keyur\\anaconda3\\envs\\tf-gpu\\lib\\site-packages (from wandb) (2.3)\n",
      "Requirement already satisfied: pathtools in c:\\users\\keyur\\anaconda3\\envs\\tf-gpu\\lib\\site-packages (from wandb) (0.1.2)\n",
      "Requirement already satisfied: PyYAML in c:\\users\\keyur\\anaconda3\\envs\\tf-gpu\\lib\\site-packages (from wandb) (6.0)\n",
      "Requirement already satisfied: setproctitle in c:\\users\\keyur\\anaconda3\\envs\\tf-gpu\\lib\\site-packages (from wandb) (1.2.2)\n",
      "Requirement already satisfied: python-dateutil>=2.6.1 in c:\\users\\keyur\\anaconda3\\envs\\tf-gpu\\lib\\site-packages (from wandb) (2.8.2)\n",
      "Requirement already satisfied: colorama in c:\\users\\keyur\\anaconda3\\envs\\tf-gpu\\lib\\site-packages (from Click!=8.0.0,>=7.0->wandb) (0.4.4)\n",
      "Requirement already satisfied: gitdb<5,>=4.0.1 in c:\\users\\keyur\\anaconda3\\envs\\tf-gpu\\lib\\site-packages (from GitPython>=1.0.0->wandb) (4.0.9)\n",
      "Requirement already satisfied: smmap<6,>=3.0.1 in c:\\users\\keyur\\anaconda3\\envs\\tf-gpu\\lib\\site-packages (from gitdb<5,>=4.0.1->GitPython>=1.0.0->wandb) (5.0.0)\n",
      "Requirement already satisfied: idna<4,>=2.5 in c:\\users\\keyur\\anaconda3\\envs\\tf-gpu\\lib\\site-packages (from requests<3,>=2.0.0->wandb) (3.3)\n",
      "Requirement already satisfied: charset-normalizer~=2.0.0 in c:\\users\\keyur\\anaconda3\\envs\\tf-gpu\\lib\\site-packages (from requests<3,>=2.0.0->wandb) (2.0.4)\n",
      "Requirement already satisfied: certifi>=2017.4.17 in c:\\users\\keyur\\anaconda3\\envs\\tf-gpu\\lib\\site-packages (from requests<3,>=2.0.0->wandb) (2021.10.8)\n",
      "Requirement already satisfied: urllib3<1.27,>=1.21.1 in c:\\users\\keyur\\anaconda3\\envs\\tf-gpu\\lib\\site-packages (from requests<3,>=2.0.0->wandb) (1.26.8)\n"
     ]
    }
   ],
   "source": [
    "import os\n",
    "import glob\n",
    "\n",
    "import tensorflow as tf\n",
    "from tensorflow import keras\n",
    "from tensorflow.keras.preprocessing.image import ImageDataGenerator\n",
    "from tensorflow.keras.models import Sequential, Model\n",
    "from tensorflow.keras.layers import Dense, Flatten, Conv2D, AveragePooling2D, MaxPooling2D, Activation, Dropout, BatchNormalization\n",
    "\n",
    "!pip install wandb\n",
    "import wandb\n",
    "from wandb.keras import WandbCallback\n",
    "!pip install wandb --upgrade"
   ]
  },
  {
   "cell_type": "code",
   "execution_count": 3,
   "id": "8a1bf944-48d9-4c01-8621-893050db6f24",
   "metadata": {},
   "outputs": [],
   "source": [
    "no_of_filters = [8, 16, 16, 32, 32]\n",
    "kernel_size =   [3 , 5 , 5 , 5 , 5]\n",
    "activation  =   tf.nn.relu\n",
    "dense_layer = 100\n",
    "image_size = 200\n",
    "batch_size = 50\n",
    "epochs = 10\n",
    "\n",
    "#Dropout and Batch Normalization\n",
    "dropout=0.0\n",
    "batch_norm=False\n",
    "\n",
    "augment_data=False"
   ]
  },
  {
   "cell_type": "code",
   "execution_count": 4,
   "id": "6e7234d4-0530-4e8c-be31-83bbcd212adc",
   "metadata": {},
   "outputs": [],
   "source": [
    "#TensorFlow - Building the Model\n",
    "def createCNN(image_size, no_of_filters, kernel_size, activation, batch_norm, dropout, dense_size):\n",
    "\n",
    "    modeltf = Sequential()\n",
    "\n",
    "    # layer1\n",
    "    modeltf.add(Conv2D(input_shape=(image_size, image_size, 3), filters=no_of_filters[0], kernel_size=kernel_size[0], strides=1, padding=\"same\", activation=activation))\n",
    "    if batch_norm:\n",
    "        modeltf.add(BatchNormalization())\n",
    "    modeltf.add(AveragePooling2D(pool_size=2, strides=2))\n",
    "\n",
    "    # layer2\n",
    "    modeltf.add(Conv2D(no_of_filters[1], kernel_size=kernel_size[1], strides=1, padding=\"same\", activation=activation))\n",
    "    if batch_norm:\n",
    "        modeltf.add(BatchNormalization())\n",
    "    modeltf.add(AveragePooling2D(pool_size=2, strides=2))\n",
    "\n",
    "    # layer3\n",
    "    modeltf.add(Conv2D(no_of_filters[2], kernel_size=kernel_size[2], strides=1, padding=\"same\", activation=activation))\n",
    "    if batch_norm:\n",
    "        modeltf.add(BatchNormalization())\n",
    "    modeltf.add(AveragePooling2D(pool_size=2, strides=2))\n",
    "\n",
    "    # layer4\n",
    "    modeltf.add(Conv2D(no_of_filters[3], kernel_size=kernel_size[3], strides=1, padding=\"same\", activation=activation))\n",
    "    if batch_norm:\n",
    "        modeltf.add(BatchNormalization())\n",
    "    modeltf.add(AveragePooling2D(pool_size=2, strides=2))\n",
    "\n",
    "    # layer5\n",
    "    modeltf.add(Conv2D(no_of_filters[4], kernel_size=kernel_size[4], strides=1, padding=\"same\", activation=activation))\n",
    "    if batch_norm:\n",
    "        modeltf.add(BatchNormalization())\n",
    "    modeltf.add(AveragePooling2D(pool_size=2, strides=2))\n",
    "\n",
    "    modeltf.add(Flatten())\n",
    "\n",
    "    # dense layer\n",
    "    modeltf.add(Dense(dense_layer, activation=activation))\n",
    "    modeltf.add(Dropout(dropout))\n",
    "\n",
    "    # output layer\n",
    "    modeltf.add(Dense(10, activation=tf.nn.softmax))\n",
    "    \n",
    "    return modeltf"
   ]
  },
  {
   "cell_type": "code",
   "execution_count": 5,
   "id": "64bc1e62-7ea7-4a9f-afd2-7dbc2ae71739",
   "metadata": {},
   "outputs": [],
   "source": [
    "# Prepare the dataset for training and testing\n",
    "def prepare_dataset(DATA_DIR=\"inaturalist_12K\", augment_data=False):\n",
    "    train_dir = os.path.join(DATA_DIR, \"train\")\n",
    "    test_dir = os.path.join(DATA_DIR, \"val\")\n",
    "\n",
    "    if augment_data:\n",
    "        train_datagen = ImageDataGenerator(rescale=1./255,\n",
    "                                          rotation_range=90,\n",
    "                                          zoom_range=0.2,\n",
    "                                          shear_range=0.2,\n",
    "                                          validation_split=0.1,\n",
    "                                          horizontal_flip=True)\n",
    "        test_datagen = ImageDataGenerator(rescale=1./255)\n",
    "\n",
    "    else:\n",
    "        train_datagen = ImageDataGenerator(rescale=1./255, validation_split=0.1)\n",
    "        test_datagen = ImageDataGenerator(rescale=1./255)\n",
    "\n",
    "    train_generator = train_datagen.flow_from_directory(train_dir, target_size=(image_size, image_size), batch_size=batch_size, class_mode='categorical', subset=\"training\")\n",
    "    val_generator = train_datagen.flow_from_directory(train_dir, target_size=(image_size, image_size), batch_size=batch_size, class_mode='categorical', subset=\"validation\")\n",
    "    test_generator = test_datagen.flow_from_directory(test_dir, target_size=(image_size, image_size), batch_size=batch_size)\n",
    "    \n",
    "    return train_generator, val_generator, test_generator"
   ]
  },
  {
   "cell_type": "code",
   "execution_count": 7,
   "id": "0488e668-77d8-419b-9352-7101517761a4",
   "metadata": {},
   "outputs": [],
   "source": [
    "#Customise run names for WandB to enhance readability\n",
    "def setRunName(no_of_filters = [8, 16, 16, 32, 32], augment_data=False, dropout=0.0, batch_norm=False):\n",
    "    \n",
    "    augment_data_options = {True: \"Y\", False: \"N\"}\n",
    "    batch_norm_options = {True: \"Y\", False: \"N\"}\n",
    "\n",
    "    run_name = \"_\".join([\"filters\", str(no_of_filters), \"aug\", augment_data_options[augment_data],\n",
    "                      \"drop\", str(dropout), \"norm\", batch_norm_options[batch_norm]])\n",
    "    \n",
    "    return run_name;"
   ]
  },
  {
   "cell_type": "code",
   "execution_count": 8,
   "id": "202f4f9a-2364-4fd5-8f72-ac20a5e680a3",
   "metadata": {},
   "outputs": [],
   "source": [
    "#Testing\n",
    "def test():\n",
    "\n",
    "    config_defaults = {\n",
    "        \"no_of_filters_1\": 8,\n",
    "        \"no_of_filters_2\": 16,\n",
    "        \"no_of_filters_3\": 16,\n",
    "        \"no_of_filters_4\": 32,\n",
    "        \"no_of_filters_5\": 32,\n",
    "        \"augment_data\": True,\n",
    "        \"dropout\": 0.0,\n",
    "        \"batch_norm\": True,\n",
    "        \"epochs\": 45,\n",
    "        \"dense_size\": 128,\n",
    "        \"lr\": 0.001\n",
    "    }\n",
    "    \n",
    "    os.environ['WANDB_NOTEBOOK_NAME'] = 'A2_P1_2_best2.ipynb'\n",
    "\n",
    "    wandb.init(config=config_defaults, magic=True)\n",
    "    config = wandb.config\n",
    "    wandb.run.name = setRunName([config.no_of_filters_1, config.no_of_filters_2, config.no_of_filters_3, config.no_of_filters_4, config.no_of_filters_5], config.augment_data, config.dropout, config.batch_norm)\n",
    "\n",
    "    train_generator, val_generator, test_generator = prepare_dataset(augment_data=config.augment_data)\n",
    "    model = createCNN(image_size, [config.no_of_filters_1, config.no_of_filters_2, config.no_of_filters_3, config.no_of_filters_4, config.no_of_filters_5], kernel_size, activation, config.batch_norm, config.dropout, config.dense_size)\n",
    "    model.compile(optimizer=keras.optimizers.Adam(config.lr), loss=\"categorical_crossentropy\", metrics=\"accuracy\")\n",
    "    model.fit(train_generator, epochs=config.epochs, validation_data=val_generator, callbacks=[WandbCallback()])\n",
    "\n",
    "    print(\"Testing Model:\")\n",
    "    \n",
    "    loss, acc = model.evaluate(test_generator, batch_size=batch_size)\n",
    "    print(f'Model accuracy : {acc} and loss : {loss}')\n",
    "    #predictions = model(test_generator[0][0])\n",
    "    model.save(\"Best_model2.h5\")\n",
    "    "
   ]
  },
  {
   "cell_type": "code",
   "execution_count": 9,
   "id": "9245e09e-f432-4c0b-848a-fb8c4be1c42e",
   "metadata": {},
   "outputs": [
    {
     "name": "stdout",
     "output_type": "stream",
     "text": [
      "Create sweep with ID: 4z3r2ipd\n",
      "Sweep URL: https://wandb.ai/cs21m029_keyur_raval/DL_CS6910_Assignment2/sweeps/4z3r2ipd\n"
     ]
    }
   ],
   "source": [
    "#Set up a sweep config\n",
    "sweep_config = {\n",
    "    \"description\": \"Training, Checking the performance of CNN on validation data and Testing\",\n",
    "    \"metric\": {\n",
    "    'name': 'val_accuracy',\n",
    "    'goal': 'maximize'   \n",
    "    },\n",
    "    \"method\": \"grid\",\n",
    "    \"project\": \"DL_CS6910_Assignment2\",\n",
    "    \"parameters\": {\n",
    "        \"no_of_filters_1\": {\n",
    "            \"values\": [8]\n",
    "        },\n",
    "        \"no_of_filters_2\": {\n",
    "            \"values\": [16]\n",
    "        },\n",
    "        \"no_of_filters_3\": {\n",
    "            \"values\": [16]\n",
    "        },\n",
    "        \"no_of_filters_4\": {\n",
    "            \"values\": [32]\n",
    "        },\n",
    "        \"no_of_filters_5\": {\n",
    "            \"values\": [32]\n",
    "        },\n",
    "        \"augment_data\": {\n",
    "            \"values\": [True]\n",
    "        },\n",
    "        \"dropout\": {\n",
    "            \"values\": [0.0]\n",
    "        },\n",
    "        \"batch_norm\": {\n",
    "            \"values\": [True]\n",
    "        },\n",
    "        \"epochs\": {\n",
    "            \"values\": [45]\n",
    "        },\n",
    "        \"dense_size\": {\n",
    "            \"values\": [128]\n",
    "        },\n",
    "        \"lr\": {\n",
    "            \"values\": [0.001]\n",
    "        }\n",
    "    }\n",
    "}\n",
    "\n",
    "# creating the sweep\n",
    "sweep_id = wandb.sweep(sweep_config, project=\"DL_CS6910_Assignment2\")"
   ]
  },
  {
   "cell_type": "code",
   "execution_count": 10,
   "id": "ad3d8a94-2bb2-44e5-851e-7a95232e6411",
   "metadata": {},
   "outputs": [
    {
     "name": "stderr",
     "output_type": "stream",
     "text": [
      "\u001b[34m\u001b[1mwandb\u001b[0m: Agent Starting Run: 0i4bmues with config:\n",
      "\u001b[34m\u001b[1mwandb\u001b[0m: \taugment_data: True\n",
      "\u001b[34m\u001b[1mwandb\u001b[0m: \tbatch_norm: True\n",
      "\u001b[34m\u001b[1mwandb\u001b[0m: \tdense_size: 128\n",
      "\u001b[34m\u001b[1mwandb\u001b[0m: \tdropout: 0\n",
      "\u001b[34m\u001b[1mwandb\u001b[0m: \tepochs: 45\n",
      "\u001b[34m\u001b[1mwandb\u001b[0m: \tlr: 0.001\n",
      "\u001b[34m\u001b[1mwandb\u001b[0m: \tno_of_filters_1: 8\n",
      "\u001b[34m\u001b[1mwandb\u001b[0m: \tno_of_filters_2: 16\n",
      "\u001b[34m\u001b[1mwandb\u001b[0m: \tno_of_filters_3: 16\n",
      "\u001b[34m\u001b[1mwandb\u001b[0m: \tno_of_filters_4: 32\n",
      "\u001b[34m\u001b[1mwandb\u001b[0m: \tno_of_filters_5: 32\n",
      "\u001b[34m\u001b[1mwandb\u001b[0m: Currently logged in as: \u001b[33mcs21m029_keyur_raval\u001b[0m (use `wandb login --relogin` to force relogin)\n"
     ]
    },
    {
     "data": {
      "text/html": [
       "Tracking run with wandb version 0.12.13"
      ],
      "text/plain": [
       "<IPython.core.display.HTML object>"
      ]
     },
     "metadata": {},
     "output_type": "display_data"
    },
    {
     "data": {
      "text/html": [
       "Run data is saved locally in <code>C:\\Users\\Keyur\\Documents\\DL\\A2\\P1\\wandb\\run-20220408_205125-0i4bmues</code>"
      ],
      "text/plain": [
       "<IPython.core.display.HTML object>"
      ]
     },
     "metadata": {},
     "output_type": "display_data"
    },
    {
     "data": {
      "text/html": [
       "Syncing run <strong><a href=\"https://wandb.ai/cs21m029_keyur_raval/DL_CS6910_Assignment2/runs/0i4bmues\" target=\"_blank\">glamorous-sweep-1</a></strong> to <a href=\"https://wandb.ai/cs21m029_keyur_raval/DL_CS6910_Assignment2\" target=\"_blank\">Weights & Biases</a> (<a href=\"https://wandb.me/run\" target=\"_blank\">docs</a>)<br/>Sweep page:  <a href=\"https://wandb.ai/cs21m029_keyur_raval/DL_CS6910_Assignment2/sweeps/4z3r2ipd\" target=\"_blank\">https://wandb.ai/cs21m029_keyur_raval/DL_CS6910_Assignment2/sweeps/4z3r2ipd</a>"
      ],
      "text/plain": [
       "<IPython.core.display.HTML object>"
      ]
     },
     "metadata": {},
     "output_type": "display_data"
    },
    {
     "data": {
      "text/html": [
       "Finishing last run (ID:0i4bmues) before initializing another..."
      ],
      "text/plain": [
       "<IPython.core.display.HTML object>"
      ]
     },
     "metadata": {},
     "output_type": "display_data"
    },
    {
     "name": "stdout",
     "output_type": "stream",
     "text": [
      "\n"
     ]
    },
    {
     "data": {
      "text/html": [
       "Waiting for W&B process to finish... <strong style=\"color:green\">(success).</strong>"
      ],
      "text/plain": [
       "<IPython.core.display.HTML object>"
      ]
     },
     "metadata": {},
     "output_type": "display_data"
    },
    {
     "data": {
      "text/html": [
       "Synced <strong style=\"color:#cdcd00\">glamorous-sweep-1</strong>: <a href=\"https://wandb.ai/cs21m029_keyur_raval/DL_CS6910_Assignment2/runs/0i4bmues\" target=\"_blank\">https://wandb.ai/cs21m029_keyur_raval/DL_CS6910_Assignment2/runs/0i4bmues</a><br/>Synced 5 W&B file(s), 0 media file(s), 0 artifact file(s) and 0 other file(s)"
      ],
      "text/plain": [
       "<IPython.core.display.HTML object>"
      ]
     },
     "metadata": {},
     "output_type": "display_data"
    },
    {
     "data": {
      "text/html": [
       "Find logs at: <code>.\\wandb\\run-20220408_205125-0i4bmues\\logs</code>"
      ],
      "text/plain": [
       "<IPython.core.display.HTML object>"
      ]
     },
     "metadata": {},
     "output_type": "display_data"
    },
    {
     "data": {
      "text/html": [
       "Successfully finished last run (ID:0i4bmues). Initializing new run:<br/>"
      ],
      "text/plain": [
       "<IPython.core.display.HTML object>"
      ]
     },
     "metadata": {},
     "output_type": "display_data"
    },
    {
     "data": {
      "text/html": [
       "Tracking run with wandb version 0.12.13"
      ],
      "text/plain": [
       "<IPython.core.display.HTML object>"
      ]
     },
     "metadata": {},
     "output_type": "display_data"
    },
    {
     "data": {
      "text/html": [
       "Run data is saved locally in <code>C:\\Users\\Keyur\\Documents\\DL\\A2\\P1\\wandb\\run-20220408_205129-0i4bmues</code>"
      ],
      "text/plain": [
       "<IPython.core.display.HTML object>"
      ]
     },
     "metadata": {},
     "output_type": "display_data"
    },
    {
     "data": {
      "text/html": [
       "Syncing run <strong><a href=\"https://wandb.ai/cs21m029_keyur_raval/DL_CS6910_Assignment2/runs/0i4bmues\" target=\"_blank\">glamorous-sweep-1</a></strong> to <a href=\"https://wandb.ai/cs21m029_keyur_raval/DL_CS6910_Assignment2\" target=\"_blank\">Weights & Biases</a> (<a href=\"https://wandb.me/run\" target=\"_blank\">docs</a>)<br/>Sweep page:  <a href=\"https://wandb.ai/cs21m029_keyur_raval/DL_CS6910_Assignment2/sweeps/4z3r2ipd\" target=\"_blank\">https://wandb.ai/cs21m029_keyur_raval/DL_CS6910_Assignment2/sweeps/4z3r2ipd</a>"
      ],
      "text/plain": [
       "<IPython.core.display.HTML object>"
      ]
     },
     "metadata": {},
     "output_type": "display_data"
    },
    {
     "name": "stdout",
     "output_type": "stream",
     "text": [
      "Found 9000 images belonging to 10 classes.\n",
      "Found 999 images belonging to 10 classes.\n",
      "Found 2000 images belonging to 10 classes.\n",
      "Epoch 1/45\n",
      "180/180 [==============================] - 116s 620ms/step - loss: 2.2879 - accuracy: 0.2060 - val_loss: 2.5159 - val_accuracy: 0.0971\n",
      "Epoch 2/45\n",
      "180/180 [==============================] - 111s 617ms/step - loss: 2.0790 - accuracy: 0.2599 - val_loss: 2.2868 - val_accuracy: 0.1782\n",
      "Epoch 3/45\n",
      "180/180 [==============================] - 111s 616ms/step - loss: 2.0055 - accuracy: 0.2849 - val_loss: 2.1917 - val_accuracy: 0.2563\n",
      "Epoch 4/45\n",
      "180/180 [==============================] - 111s 615ms/step - loss: 1.9714 - accuracy: 0.2979 - val_loss: 2.0558 - val_accuracy: 0.2763\n",
      "Epoch 5/45\n",
      "180/180 [==============================] - 111s 616ms/step - loss: 1.9326 - accuracy: 0.3126 - val_loss: 1.9644 - val_accuracy: 0.3033\n",
      "Epoch 6/45\n",
      "180/180 [==============================] - 111s 616ms/step - loss: 1.9053 - accuracy: 0.3232 - val_loss: 1.9211 - val_accuracy: 0.3193\n",
      "Epoch 7/45\n",
      "180/180 [==============================] - 111s 615ms/step - loss: 1.8739 - accuracy: 0.3392 - val_loss: 1.9685 - val_accuracy: 0.2973\n",
      "Epoch 8/45\n",
      "180/180 [==============================] - 111s 615ms/step - loss: 1.8573 - accuracy: 0.3448 - val_loss: 2.0180 - val_accuracy: 0.2993\n",
      "Epoch 9/45\n",
      "180/180 [==============================] - 111s 615ms/step - loss: 1.8409 - accuracy: 0.3434 - val_loss: 2.0519 - val_accuracy: 0.2983\n",
      "Epoch 10/45\n",
      "180/180 [==============================] - 111s 616ms/step - loss: 1.8224 - accuracy: 0.3557 - val_loss: 1.9833 - val_accuracy: 0.3033\n",
      "Epoch 11/45\n",
      "180/180 [==============================] - 111s 615ms/step - loss: 1.7992 - accuracy: 0.3616 - val_loss: 1.8546 - val_accuracy: 0.3634\n",
      "Epoch 12/45\n",
      "180/180 [==============================] - 111s 615ms/step - loss: 1.7777 - accuracy: 0.3726 - val_loss: 1.9500 - val_accuracy: 0.3263\n",
      "Epoch 13/45\n",
      "180/180 [==============================] - 111s 614ms/step - loss: 1.7708 - accuracy: 0.3723 - val_loss: 2.0004 - val_accuracy: 0.3283\n",
      "Epoch 14/45\n",
      "180/180 [==============================] - 110s 613ms/step - loss: 1.7397 - accuracy: 0.3863 - val_loss: 2.0117 - val_accuracy: 0.3363\n",
      "Epoch 15/45\n",
      "180/180 [==============================] - 111s 614ms/step - loss: 1.7298 - accuracy: 0.3942 - val_loss: 1.9176 - val_accuracy: 0.3143\n",
      "Epoch 16/45\n",
      "180/180 [==============================] - 110s 613ms/step - loss: 1.7087 - accuracy: 0.3952 - val_loss: 1.8806 - val_accuracy: 0.3504\n",
      "Epoch 17/45\n",
      "180/180 [==============================] - 111s 614ms/step - loss: 1.6913 - accuracy: 0.4022 - val_loss: 1.8155 - val_accuracy: 0.3754\n",
      "Epoch 18/45\n",
      "180/180 [==============================] - 111s 614ms/step - loss: 1.6889 - accuracy: 0.4101 - val_loss: 1.9408 - val_accuracy: 0.3343\n",
      "Epoch 19/45\n",
      "180/180 [==============================] - 111s 618ms/step - loss: 1.6680 - accuracy: 0.4096 - val_loss: 1.8851 - val_accuracy: 0.3463\n",
      "Epoch 20/45\n",
      "180/180 [==============================] - 110s 611ms/step - loss: 1.6477 - accuracy: 0.4197 - val_loss: 1.7906 - val_accuracy: 0.3724\n",
      "Epoch 21/45\n",
      "180/180 [==============================] - 111s 616ms/step - loss: 1.6329 - accuracy: 0.4242 - val_loss: 1.8596 - val_accuracy: 0.3724\n",
      "Epoch 22/45\n",
      "180/180 [==============================] - 112s 620ms/step - loss: 1.6361 - accuracy: 0.4257 - val_loss: 1.8382 - val_accuracy: 0.3864\n",
      "Epoch 23/45\n",
      "180/180 [==============================] - 111s 616ms/step - loss: 1.6142 - accuracy: 0.4308 - val_loss: 1.8513 - val_accuracy: 0.3664\n",
      "Epoch 24/45\n",
      "180/180 [==============================] - 110s 611ms/step - loss: 1.5893 - accuracy: 0.4393 - val_loss: 1.9885 - val_accuracy: 0.3253\n",
      "Epoch 25/45\n",
      "180/180 [==============================] - 110s 612ms/step - loss: 1.5829 - accuracy: 0.4482 - val_loss: 1.8735 - val_accuracy: 0.3634\n",
      "Epoch 26/45\n",
      "180/180 [==============================] - 110s 611ms/step - loss: 1.5751 - accuracy: 0.4441 - val_loss: 1.9685 - val_accuracy: 0.3253\n",
      "Epoch 27/45\n",
      "180/180 [==============================] - 111s 614ms/step - loss: 1.5613 - accuracy: 0.4454 - val_loss: 1.7728 - val_accuracy: 0.3744\n",
      "Epoch 28/45\n",
      "180/180 [==============================] - 113s 626ms/step - loss: 1.5438 - accuracy: 0.4557 - val_loss: 1.8255 - val_accuracy: 0.3594\n",
      "Epoch 29/45\n",
      "180/180 [==============================] - 127s 706ms/step - loss: 1.5329 - accuracy: 0.4629 - val_loss: 1.8122 - val_accuracy: 0.3764\n",
      "Epoch 30/45\n",
      "180/180 [==============================] - 133s 737ms/step - loss: 1.5214 - accuracy: 0.4691 - val_loss: 1.8271 - val_accuracy: 0.3874\n",
      "Epoch 31/45\n",
      "180/180 [==============================] - 133s 736ms/step - loss: 1.5068 - accuracy: 0.4614 - val_loss: 1.8744 - val_accuracy: 0.3984\n",
      "Epoch 32/45\n",
      "180/180 [==============================] - 134s 745ms/step - loss: 1.5147 - accuracy: 0.4724 - val_loss: 1.7804 - val_accuracy: 0.3884\n",
      "Epoch 33/45\n",
      "180/180 [==============================] - 133s 737ms/step - loss: 1.4839 - accuracy: 0.4817 - val_loss: 1.7781 - val_accuracy: 0.3844\n",
      "Epoch 34/45\n",
      "180/180 [==============================] - 132s 735ms/step - loss: 1.4781 - accuracy: 0.4806 - val_loss: 1.8870 - val_accuracy: 0.3814\n",
      "Epoch 35/45\n",
      "180/180 [==============================] - 132s 733ms/step - loss: 1.4719 - accuracy: 0.4874 - val_loss: 1.7939 - val_accuracy: 0.3924\n",
      "Epoch 36/45\n",
      "180/180 [==============================] - 134s 742ms/step - loss: 1.4668 - accuracy: 0.4837 - val_loss: 1.8157 - val_accuracy: 0.3814\n",
      "Epoch 37/45\n",
      "180/180 [==============================] - 131s 730ms/step - loss: 1.4551 - accuracy: 0.4931 - val_loss: 1.7778 - val_accuracy: 0.3924\n",
      "Epoch 38/45\n",
      "180/180 [==============================] - 132s 733ms/step - loss: 1.4266 - accuracy: 0.5032 - val_loss: 1.8109 - val_accuracy: 0.3894\n",
      "Epoch 39/45\n",
      "180/180 [==============================] - 132s 732ms/step - loss: 1.4399 - accuracy: 0.4987 - val_loss: 1.7939 - val_accuracy: 0.4044\n",
      "Epoch 40/45\n",
      "180/180 [==============================] - 132s 734ms/step - loss: 1.4095 - accuracy: 0.5013 - val_loss: 1.8649 - val_accuracy: 0.4004\n",
      "Epoch 41/45\n",
      "180/180 [==============================] - 132s 734ms/step - loss: 1.4088 - accuracy: 0.5004 - val_loss: 1.9969 - val_accuracy: 0.3554\n",
      "Epoch 42/45\n",
      "180/180 [==============================] - 142s 791ms/step - loss: 1.3936 - accuracy: 0.5063 - val_loss: 1.9053 - val_accuracy: 0.3944\n",
      "Epoch 43/45\n",
      "180/180 [==============================] - 142s 786ms/step - loss: 1.3905 - accuracy: 0.5122 - val_loss: 1.8108 - val_accuracy: 0.3834\n",
      "Epoch 44/45\n",
      "180/180 [==============================] - 132s 733ms/step - loss: 1.3720 - accuracy: 0.5163 - val_loss: 1.7964 - val_accuracy: 0.4124\n",
      "Epoch 45/45\n",
      "180/180 [==============================] - 132s 731ms/step - loss: 1.3824 - accuracy: 0.5168 - val_loss: 1.8240 - val_accuracy: 0.3754\n",
      "Testing Model:\n",
      "40/40 [==============================] - 16s 394ms/step - loss: 1.8419 - accuracy: 0.4095\n",
      "Model accuracy : 0.40950000286102295 and loss : 1.8418675661087036\n",
      "\n"
     ]
    },
    {
     "data": {
      "text/html": [
       "Waiting for W&B process to finish... <strong style=\"color:green\">(success).</strong>"
      ],
      "text/plain": [
       "<IPython.core.display.HTML object>"
      ]
     },
     "metadata": {},
     "output_type": "display_data"
    },
    {
     "data": {
      "text/html": [
       "<style>\n",
       "    table.wandb td:nth-child(1) { padding: 0 10px; text-align: right }\n",
       "    .wandb-row { display: flex; flex-direction: row; flex-wrap: wrap; width: 100% }\n",
       "    .wandb-col { display: flex; flex-direction: column; flex-basis: 100%; flex: 1; padding: 10px; }\n",
       "    </style>\n",
       "<div class=\"wandb-row\"><div class=\"wandb-col\"><h3>Run history:</h3><br/><table class=\"wandb\"><tr><td>accuracy</td><td>▁▂▃▃▃▄▄▄▄▅▅▅▅▅▅▅▆▆▆▆▆▆▆▆▇▇▇▇▇▇▇▇▇███████</td></tr><tr><td>epoch</td><td>▁▁▁▁▂▂▂▂▂▃▃▃▃▃▃▄▄▄▄▄▅▅▅▅▅▅▆▆▆▆▆▆▇▇▇▇▇███</td></tr><tr><td>loss</td><td>█▆▆▆▅▅▅▅▄▄▄▄▄▄▄▃▃▃▃▃▃▃▃▂▂▂▂▂▂▂▂▂▂▁▁▁▁▁▁▁</td></tr><tr><td>val_accuracy</td><td>▁▃▅▅▆▆▆▆▆▇▆▆▆▆▇▇▇▇▇█▇▆▇▆▇▇████▇█████▇██▇</td></tr><tr><td>val_loss</td><td>█▆▅▄▃▂▃▃▃▂▃▃▃▂▂▁▂▁▂▂▂▃▂▃▁▁▁▂▁▁▂▁▁▁▁▂▃▂▁▁</td></tr></table><br/></div><div class=\"wandb-col\"><h3>Run summary:</h3><br/><table class=\"wandb\"><tr><td>accuracy</td><td>0.51678</td></tr><tr><td>best_epoch</td><td>26</td></tr><tr><td>best_val_loss</td><td>1.77281</td></tr><tr><td>epoch</td><td>44</td></tr><tr><td>loss</td><td>1.38242</td></tr><tr><td>val_accuracy</td><td>0.37538</td></tr><tr><td>val_loss</td><td>1.82398</td></tr></table><br/></div></div>"
      ],
      "text/plain": [
       "<IPython.core.display.HTML object>"
      ]
     },
     "metadata": {},
     "output_type": "display_data"
    },
    {
     "data": {
      "text/html": [
       "Synced <strong style=\"color:#cdcd00\">glamorous-sweep-1</strong>: <a href=\"https://wandb.ai/cs21m029_keyur_raval/DL_CS6910_Assignment2/runs/0i4bmues\" target=\"_blank\">https://wandb.ai/cs21m029_keyur_raval/DL_CS6910_Assignment2/runs/0i4bmues</a><br/>Synced 6 W&B file(s), 1 media file(s), 0 artifact file(s) and 10 other file(s)"
      ],
      "text/plain": [
       "<IPython.core.display.HTML object>"
      ]
     },
     "metadata": {},
     "output_type": "display_data"
    },
    {
     "data": {
      "text/html": [
       "Find logs at: <code>.\\wandb\\run-20220408_205129-0i4bmues\\logs</code>"
      ],
      "text/plain": [
       "<IPython.core.display.HTML object>"
      ]
     },
     "metadata": {},
     "output_type": "display_data"
    },
    {
     "name": "stderr",
     "output_type": "stream",
     "text": [
      "\u001b[34m\u001b[1mwandb\u001b[0m: Sweep Agent: Waiting for job.\n",
      "\u001b[34m\u001b[1mwandb\u001b[0m: Sweep Agent: Exiting.\n"
     ]
    }
   ],
   "source": [
    "wandb.agent(sweep_id, function=test)"
   ]
  },
  {
   "cell_type": "code",
   "execution_count": null,
   "id": "57cc5e72-c7f9-4e48-a6af-c7d060e33207",
   "metadata": {},
   "outputs": [],
   "source": []
  }
 ],
 "metadata": {
  "kernelspec": {
   "display_name": "Python 3 (ipykernel)",
   "language": "python",
   "name": "python3"
  },
  "language_info": {
   "codemirror_mode": {
    "name": "ipython",
    "version": 3
   },
   "file_extension": ".py",
   "mimetype": "text/x-python",
   "name": "python",
   "nbconvert_exporter": "python",
   "pygments_lexer": "ipython3",
   "version": "3.9.7"
  }
 },
 "nbformat": 4,
 "nbformat_minor": 5
}

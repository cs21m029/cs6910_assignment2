{
 "cells": [
  {
   "cell_type": "code",
   "execution_count": 30,
   "id": "2f7e5629-dab1-426f-be6a-dbcc644328dd",
   "metadata": {},
   "outputs": [
    {
     "name": "stdout",
     "output_type": "stream",
     "text": [
      "inaturalist_12K/\n",
      "inaturalist_12K/.DS_Store\n",
      "inaturalist_12K/train/\n",
      "inaturalist_12K/train/Plantae/\n",
      "inaturalist_12K/train/Plantae/1dfc3916ad58af6ce9af9fc8b36ceedd.jpg\n"
     ]
    }
   ],
   "source": [
    "from zipfile import ZipFile\n",
    "\n",
    "file_name = 'nature_12K.zip'\n",
    "#file_name = 'demo/abc.zip'\n",
    "\n",
    "z = ZipFile(file_name)\n",
    "\n",
    "for i in range(5):\n",
    "    print(z.namelist()[i])\n",
    "    \n",
    "z.extractall()"
   ]
  }
 ],
 "metadata": {
  "kernelspec": {
   "display_name": "Python 3 (ipykernel)",
   "language": "python",
   "name": "python3"
  },
  "language_info": {
   "codemirror_mode": {
    "name": "ipython",
    "version": 3
   },
   "file_extension": ".py",
   "mimetype": "text/x-python",
   "name": "python",
   "nbconvert_exporter": "python",
   "pygments_lexer": "ipython3",
   "version": "3.8.12"
  }
 },
 "nbformat": 4,
 "nbformat_minor": 5
}

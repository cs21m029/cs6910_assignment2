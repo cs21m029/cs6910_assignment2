{
 "cells": [
  {
   "cell_type": "code",
   "execution_count": 1,
   "id": "4a3f4254-c364-4a70-87d4-380ade89b591",
   "metadata": {},
   "outputs": [
    {
     "name": "stdout",
     "output_type": "stream",
     "text": [
      "Requirement already satisfied: wandb in c:\\users\\keyur\\anaconda3\\envs\\tf-gpu\\lib\\site-packages (0.12.13)\n",
      "Requirement already satisfied: Click!=8.0.0,>=7.0 in c:\\users\\keyur\\anaconda3\\envs\\tf-gpu\\lib\\site-packages (from wandb) (8.0.4)\n",
      "Requirement already satisfied: shortuuid>=0.5.0 in c:\\users\\keyur\\anaconda3\\envs\\tf-gpu\\lib\\site-packages (from wandb) (1.0.8)\n",
      "Requirement already satisfied: pathtools in c:\\users\\keyur\\anaconda3\\envs\\tf-gpu\\lib\\site-packages (from wandb) (0.1.2)\n",
      "Requirement already satisfied: six>=1.13.0 in c:\\users\\keyur\\anaconda3\\envs\\tf-gpu\\lib\\site-packages (from wandb) (1.16.0)\n",
      "Requirement already satisfied: psutil>=5.0.0 in c:\\users\\keyur\\anaconda3\\envs\\tf-gpu\\lib\\site-packages (from wandb) (5.9.0)\n",
      "Requirement already satisfied: PyYAML in c:\\users\\keyur\\anaconda3\\envs\\tf-gpu\\lib\\site-packages (from wandb) (6.0)\n",
      "Requirement already satisfied: promise<3,>=2.0 in c:\\users\\keyur\\anaconda3\\envs\\tf-gpu\\lib\\site-packages (from wandb) (2.3)\n",
      "Requirement already satisfied: python-dateutil>=2.6.1 in c:\\users\\keyur\\anaconda3\\envs\\tf-gpu\\lib\\site-packages (from wandb) (2.8.2)\n",
      "Requirement already satisfied: sentry-sdk>=1.0.0 in c:\\users\\keyur\\anaconda3\\envs\\tf-gpu\\lib\\site-packages (from wandb) (1.5.8)\n",
      "Requirement already satisfied: docker-pycreds>=0.4.0 in c:\\users\\keyur\\anaconda3\\envs\\tf-gpu\\lib\\site-packages (from wandb) (0.4.0)\n",
      "Requirement already satisfied: protobuf>=3.12.0 in c:\\users\\keyur\\anaconda3\\envs\\tf-gpu\\lib\\site-packages (from wandb) (3.17.2)\n",
      "Requirement already satisfied: setproctitle in c:\\users\\keyur\\anaconda3\\envs\\tf-gpu\\lib\\site-packages (from wandb) (1.2.2)\n",
      "Requirement already satisfied: requests<3,>=2.0.0 in c:\\users\\keyur\\anaconda3\\envs\\tf-gpu\\lib\\site-packages (from wandb) (2.27.1)\n",
      "Requirement already satisfied: GitPython>=1.0.0 in c:\\users\\keyur\\anaconda3\\envs\\tf-gpu\\lib\\site-packages (from wandb) (3.1.27)\n",
      "Requirement already satisfied: colorama in c:\\users\\keyur\\anaconda3\\envs\\tf-gpu\\lib\\site-packages (from Click!=8.0.0,>=7.0->wandb) (0.4.4)\n",
      "Requirement already satisfied: gitdb<5,>=4.0.1 in c:\\users\\keyur\\anaconda3\\envs\\tf-gpu\\lib\\site-packages (from GitPython>=1.0.0->wandb) (4.0.9)\n",
      "Requirement already satisfied: smmap<6,>=3.0.1 in c:\\users\\keyur\\anaconda3\\envs\\tf-gpu\\lib\\site-packages (from gitdb<5,>=4.0.1->GitPython>=1.0.0->wandb) (5.0.0)\n",
      "Requirement already satisfied: urllib3<1.27,>=1.21.1 in c:\\users\\keyur\\anaconda3\\envs\\tf-gpu\\lib\\site-packages (from requests<3,>=2.0.0->wandb) (1.26.8)\n",
      "Requirement already satisfied: idna<4,>=2.5 in c:\\users\\keyur\\anaconda3\\envs\\tf-gpu\\lib\\site-packages (from requests<3,>=2.0.0->wandb) (3.3)\n",
      "Requirement already satisfied: certifi>=2017.4.17 in c:\\users\\keyur\\anaconda3\\envs\\tf-gpu\\lib\\site-packages (from requests<3,>=2.0.0->wandb) (2021.10.8)\n",
      "Requirement already satisfied: charset-normalizer~=2.0.0 in c:\\users\\keyur\\anaconda3\\envs\\tf-gpu\\lib\\site-packages (from requests<3,>=2.0.0->wandb) (2.0.4)\n",
      "Requirement already satisfied: wandb in c:\\users\\keyur\\anaconda3\\envs\\tf-gpu\\lib\\site-packages (0.12.13)\n",
      "Requirement already satisfied: docker-pycreds>=0.4.0 in c:\\users\\keyur\\anaconda3\\envs\\tf-gpu\\lib\\site-packages (from wandb) (0.4.0)\n",
      "Requirement already satisfied: python-dateutil>=2.6.1 in c:\\users\\keyur\\anaconda3\\envs\\tf-gpu\\lib\\site-packages (from wandb) (2.8.2)\n",
      "Requirement already satisfied: psutil>=5.0.0 in c:\\users\\keyur\\anaconda3\\envs\\tf-gpu\\lib\\site-packages (from wandb) (5.9.0)\n",
      "Requirement already satisfied: Click!=8.0.0,>=7.0 in c:\\users\\keyur\\anaconda3\\envs\\tf-gpu\\lib\\site-packages (from wandb) (8.0.4)\n",
      "Requirement already satisfied: promise<3,>=2.0 in c:\\users\\keyur\\anaconda3\\envs\\tf-gpu\\lib\\site-packages (from wandb) (2.3)\n",
      "Requirement already satisfied: PyYAML in c:\\users\\keyur\\anaconda3\\envs\\tf-gpu\\lib\\site-packages (from wandb) (6.0)\n",
      "Requirement already satisfied: six>=1.13.0 in c:\\users\\keyur\\anaconda3\\envs\\tf-gpu\\lib\\site-packages (from wandb) (1.16.0)\n",
      "Requirement already satisfied: sentry-sdk>=1.0.0 in c:\\users\\keyur\\anaconda3\\envs\\tf-gpu\\lib\\site-packages (from wandb) (1.5.8)\n",
      "Requirement already satisfied: GitPython>=1.0.0 in c:\\users\\keyur\\anaconda3\\envs\\tf-gpu\\lib\\site-packages (from wandb) (3.1.27)\n",
      "Requirement already satisfied: shortuuid>=0.5.0 in c:\\users\\keyur\\anaconda3\\envs\\tf-gpu\\lib\\site-packages (from wandb) (1.0.8)\n",
      "Requirement already satisfied: setproctitle in c:\\users\\keyur\\anaconda3\\envs\\tf-gpu\\lib\\site-packages (from wandb) (1.2.2)\n",
      "Requirement already satisfied: requests<3,>=2.0.0 in c:\\users\\keyur\\anaconda3\\envs\\tf-gpu\\lib\\site-packages (from wandb) (2.27.1)\n",
      "Requirement already satisfied: protobuf>=3.12.0 in c:\\users\\keyur\\anaconda3\\envs\\tf-gpu\\lib\\site-packages (from wandb) (3.17.2)\n",
      "Requirement already satisfied: pathtools in c:\\users\\keyur\\anaconda3\\envs\\tf-gpu\\lib\\site-packages (from wandb) (0.1.2)\n",
      "Requirement already satisfied: colorama in c:\\users\\keyur\\anaconda3\\envs\\tf-gpu\\lib\\site-packages (from Click!=8.0.0,>=7.0->wandb) (0.4.4)\n",
      "Requirement already satisfied: gitdb<5,>=4.0.1 in c:\\users\\keyur\\anaconda3\\envs\\tf-gpu\\lib\\site-packages (from GitPython>=1.0.0->wandb) (4.0.9)\n",
      "Requirement already satisfied: smmap<6,>=3.0.1 in c:\\users\\keyur\\anaconda3\\envs\\tf-gpu\\lib\\site-packages (from gitdb<5,>=4.0.1->GitPython>=1.0.0->wandb) (5.0.0)\n",
      "Requirement already satisfied: idna<4,>=2.5 in c:\\users\\keyur\\anaconda3\\envs\\tf-gpu\\lib\\site-packages (from requests<3,>=2.0.0->wandb) (3.3)\n",
      "Requirement already satisfied: certifi>=2017.4.17 in c:\\users\\keyur\\anaconda3\\envs\\tf-gpu\\lib\\site-packages (from requests<3,>=2.0.0->wandb) (2021.10.8)\n",
      "Requirement already satisfied: charset-normalizer~=2.0.0 in c:\\users\\keyur\\anaconda3\\envs\\tf-gpu\\lib\\site-packages (from requests<3,>=2.0.0->wandb) (2.0.4)\n",
      "Requirement already satisfied: urllib3<1.27,>=1.21.1 in c:\\users\\keyur\\anaconda3\\envs\\tf-gpu\\lib\\site-packages (from requests<3,>=2.0.0->wandb) (1.26.8)\n"
     ]
    }
   ],
   "source": [
    "import os\n",
    "import glob\n",
    "\n",
    "import tensorflow as tf\n",
    "from tensorflow import keras\n",
    "from tensorflow.keras.preprocessing.image import ImageDataGenerator\n",
    "from tensorflow.keras.models import Sequential, Model\n",
    "from tensorflow.keras.layers import Dense, Flatten, Conv2D, AveragePooling2D, MaxPooling2D, Activation, Dropout, BatchNormalization\n",
    "\n",
    "!pip install wandb\n",
    "import wandb\n",
    "from wandb.keras import WandbCallback\n",
    "!pip install wandb --upgrade"
   ]
  },
  {
   "cell_type": "code",
   "execution_count": 2,
   "id": "8a1bf944-48d9-4c01-8621-893050db6f24",
   "metadata": {},
   "outputs": [],
   "source": [
    "no_of_filters = [8, 16, 16, 32, 32]\n",
    "kernel_size =   [3 , 5 , 5 , 5 , 5]\n",
    "activation  =   tf.nn.relu\n",
    "dense_layer = 100\n",
    "image_size = 200\n",
    "batch_size = 50\n",
    "epochs = 10\n",
    "\n",
    "#Dropout and Batch Normalization\n",
    "dropout=0.0\n",
    "batch_norm=False\n",
    "\n",
    "augment_data=False"
   ]
  },
  {
   "cell_type": "code",
   "execution_count": 3,
   "id": "6e7234d4-0530-4e8c-be31-83bbcd212adc",
   "metadata": {},
   "outputs": [],
   "source": [
    "#TensorFlow - Building the Model\n",
    "def createCNN(image_size, no_of_filters, kernel_size, activation, batch_norm, dropout, dense_size):\n",
    "\n",
    "    modeltf = Sequential()\n",
    "\n",
    "    # layer1\n",
    "    modeltf.add(Conv2D(input_shape=(image_size, image_size, 3), filters=no_of_filters[0], kernel_size=kernel_size[0], strides=1, padding=\"same\", activation=activation))\n",
    "    if batch_norm:\n",
    "        modeltf.add(BatchNormalization())\n",
    "    modeltf.add(AveragePooling2D(pool_size=2, strides=2))\n",
    "\n",
    "    # layer2\n",
    "    modeltf.add(Conv2D(no_of_filters[1], kernel_size=kernel_size[1], strides=1, padding=\"same\", activation=activation))\n",
    "    if batch_norm:\n",
    "        modeltf.add(BatchNormalization())\n",
    "    modeltf.add(AveragePooling2D(pool_size=2, strides=2))\n",
    "\n",
    "    # layer3\n",
    "    modeltf.add(Conv2D(no_of_filters[2], kernel_size=kernel_size[2], strides=1, padding=\"same\", activation=activation))\n",
    "    if batch_norm:\n",
    "        modeltf.add(BatchNormalization())\n",
    "    modeltf.add(AveragePooling2D(pool_size=2, strides=2))\n",
    "\n",
    "    # layer4\n",
    "    modeltf.add(Conv2D(no_of_filters[3], kernel_size=kernel_size[3], strides=1, padding=\"same\", activation=activation))\n",
    "    if batch_norm:\n",
    "        modeltf.add(BatchNormalization())\n",
    "    modeltf.add(AveragePooling2D(pool_size=2, strides=2))\n",
    "\n",
    "    # layer5\n",
    "    modeltf.add(Conv2D(no_of_filters[4], kernel_size=kernel_size[4], strides=1, padding=\"same\", activation=activation))\n",
    "    if batch_norm:\n",
    "        modeltf.add(BatchNormalization())\n",
    "    modeltf.add(AveragePooling2D(pool_size=2, strides=2))\n",
    "\n",
    "    modeltf.add(Flatten())\n",
    "\n",
    "    # dense layer\n",
    "    modeltf.add(Dense(dense_layer, activation=activation))\n",
    "    modeltf.add(Dropout(dropout))\n",
    "\n",
    "    # output layer\n",
    "    modeltf.add(Dense(10, activation=tf.nn.softmax))\n",
    "    \n",
    "    return modeltf"
   ]
  },
  {
   "cell_type": "code",
   "execution_count": 4,
   "id": "64bc1e62-7ea7-4a9f-afd2-7dbc2ae71739",
   "metadata": {},
   "outputs": [],
   "source": [
    "# Prepare the dataset for training and testing\n",
    "def prepare_dataset(DATA_DIR=\"inaturalist_12K\", augment_data=False):\n",
    "    train_dir = os.path.join(DATA_DIR, \"train\")\n",
    "    test_dir = os.path.join(DATA_DIR, \"val\")\n",
    "\n",
    "    if augment_data:\n",
    "        train_datagen = ImageDataGenerator(rescale=1./255,\n",
    "                                          rotation_range=90,\n",
    "                                          zoom_range=0.2,\n",
    "                                          shear_range=0.2,\n",
    "                                          validation_split=0.1,\n",
    "                                          horizontal_flip=True)\n",
    "        test_datagen = ImageDataGenerator(rescale=1./255)\n",
    "\n",
    "    else:\n",
    "        train_datagen = ImageDataGenerator(rescale=1./255, validation_split=0.1)\n",
    "        test_datagen = ImageDataGenerator(rescale=1./255)\n",
    "\n",
    "    train_generator = train_datagen.flow_from_directory(train_dir, target_size=(image_size, image_size), batch_size=batch_size, class_mode='categorical', subset=\"training\")\n",
    "    val_generator = train_datagen.flow_from_directory(train_dir, target_size=(image_size, image_size), batch_size=batch_size, class_mode='categorical', subset=\"validation\")\n",
    "    test_generator = test_datagen.flow_from_directory(test_dir, target_size=(image_size, image_size), batch_size=batch_size)\n",
    "    \n",
    "    return train_generator, val_generator, test_generator"
   ]
  },
  {
   "cell_type": "code",
   "execution_count": 5,
   "id": "0488e668-77d8-419b-9352-7101517761a4",
   "metadata": {},
   "outputs": [],
   "source": [
    "#Customise run names for WandB to enhance readability\n",
    "def setRunName(no_of_filters = [8, 16, 16, 32, 32], augment_data=False, dropout=0.0, batch_norm=False):\n",
    "    \n",
    "    augment_data_options = {True: \"Y\", False: \"N\"}\n",
    "    batch_norm_options = {True: \"Y\", False: \"N\"}\n",
    "\n",
    "    run_name = \"_\".join([\"filters\", str(no_of_filters), \"aug\", augment_data_options[augment_data],\n",
    "                      \"drop\", str(dropout), \"norm\", batch_norm_options[batch_norm]])\n",
    "    \n",
    "    return run_name;"
   ]
  },
  {
   "cell_type": "code",
   "execution_count": 6,
   "id": "202f4f9a-2364-4fd5-8f72-ac20a5e680a3",
   "metadata": {},
   "outputs": [],
   "source": [
    "#Testing\n",
    "def test():\n",
    "\n",
    "    config_defaults = {\n",
    "        \"no_of_filters_1\": 8,\n",
    "        \"no_of_filters_2\": 8,\n",
    "        \"no_of_filters_3\": 24,\n",
    "        \"no_of_filters_4\": 32,\n",
    "        \"no_of_filters_5\": 64,\n",
    "        \"augment_data\": True,\n",
    "        \"dropout\": 0.0,\n",
    "        \"batch_norm\": True,\n",
    "        \"epochs\": 45,\n",
    "        \"dense_size\": 64,\n",
    "        \"lr\": 0.001\n",
    "    }\n",
    "    \n",
    "    os.environ['WANDB_NOTEBOOK_NAME'] = 'A2_P1_2.ipynb'\n",
    "\n",
    "    wandb.init(config=config_defaults, magic=True)\n",
    "    config = wandb.config\n",
    "    wandb.run.name = setRunName([config.no_of_filters_1, config.no_of_filters_2, config.no_of_filters_3, config.no_of_filters_4, config.no_of_filters_5], config.augment_data, config.dropout, config.batch_norm)\n",
    "\n",
    "    train_generator, val_generator, test_generator = prepare_dataset(augment_data=config.augment_data)\n",
    "    model = createCNN(image_size, [config.no_of_filters_1, config.no_of_filters_2, config.no_of_filters_3, config.no_of_filters_4, config.no_of_filters_5], kernel_size, activation, config.batch_norm, config.dropout, config.dense_size)\n",
    "    model.compile(optimizer=keras.optimizers.Adam(config.lr), loss=\"categorical_crossentropy\", metrics=\"accuracy\")\n",
    "    model.fit(train_generator, epochs=config.epochs, validation_data=val_generator, callbacks=[WandbCallback()])\n",
    "\n",
    "    print(\"Testing Model:\")\n",
    "    \n",
    "    loss, acc = model.evaluate(test_generator, batch_size=batch_size)\n",
    "    print(f'Model accuracy : {acc} and loss : {loss}')\n",
    "    #predictions = model(test_generator[0][0])\n",
    "    model.save(\"Best_model.h5\")\n",
    "    "
   ]
  },
  {
   "cell_type": "code",
   "execution_count": 7,
   "id": "9245e09e-f432-4c0b-848a-fb8c4be1c42e",
   "metadata": {},
   "outputs": [
    {
     "name": "stdout",
     "output_type": "stream",
     "text": [
      "Create sweep with ID: lai6izm5\n",
      "Sweep URL: https://wandb.ai/cs21m029_keyur_raval/DL_CS6910_Assignment2/sweeps/lai6izm5\n"
     ]
    }
   ],
   "source": [
    "#Set up a sweep config\n",
    "sweep_config = {\n",
    "    \"description\": \"Training, Checking the performance of CNN on validation data and Testing\",\n",
    "    \"metric\": {\n",
    "    'name': 'val_accuracy',\n",
    "    'goal': 'maximize'   \n",
    "    },\n",
    "    \"method\": \"grid\",\n",
    "    \"project\": \"DL_CS6910_Assignment2\",\n",
    "    \"parameters\": {\n",
    "        \"no_of_filters_1\": {\n",
    "            \"values\": [8]\n",
    "        },\n",
    "        \"no_of_filters_2\": {\n",
    "            \"values\": [8]\n",
    "        },\n",
    "        \"no_of_filters_3\": {\n",
    "            \"values\": [24]\n",
    "        },\n",
    "        \"no_of_filters_4\": {\n",
    "            \"values\": [32]\n",
    "        },\n",
    "        \"no_of_filters_5\": {\n",
    "            \"values\": [64]\n",
    "        },\n",
    "        \"augment_data\": {\n",
    "            \"values\": [True]\n",
    "        },\n",
    "        \"dropout\": {\n",
    "            \"values\": [0.0]\n",
    "        },\n",
    "        \"batch_norm\": {\n",
    "            \"values\": [True]\n",
    "        },\n",
    "        \"epochs\": {\n",
    "            \"values\": [45]\n",
    "        },\n",
    "        \"dense_size\": {\n",
    "            \"values\": [64]\n",
    "        },\n",
    "        \"lr\": {\n",
    "            \"values\": [0.001]\n",
    "        }\n",
    "    }\n",
    "}\n",
    "\n",
    "# creating the sweep\n",
    "sweep_id = wandb.sweep(sweep_config, project=\"DL_CS6910_Assignment2\")"
   ]
  },
  {
   "cell_type": "code",
   "execution_count": 8,
   "id": "ad3d8a94-2bb2-44e5-851e-7a95232e6411",
   "metadata": {},
   "outputs": [
    {
     "name": "stderr",
     "output_type": "stream",
     "text": [
      "\u001b[34m\u001b[1mwandb\u001b[0m: Agent Starting Run: t0fwtyre with config:\n",
      "\u001b[34m\u001b[1mwandb\u001b[0m: \taugment_data: True\n",
      "\u001b[34m\u001b[1mwandb\u001b[0m: \tbatch_norm: True\n",
      "\u001b[34m\u001b[1mwandb\u001b[0m: \tdense_size: 64\n",
      "\u001b[34m\u001b[1mwandb\u001b[0m: \tdropout: 0\n",
      "\u001b[34m\u001b[1mwandb\u001b[0m: \tepochs: 45\n",
      "\u001b[34m\u001b[1mwandb\u001b[0m: \tlr: 0.001\n",
      "\u001b[34m\u001b[1mwandb\u001b[0m: \tno_of_filters_1: 8\n",
      "\u001b[34m\u001b[1mwandb\u001b[0m: \tno_of_filters_2: 8\n",
      "\u001b[34m\u001b[1mwandb\u001b[0m: \tno_of_filters_3: 24\n",
      "\u001b[34m\u001b[1mwandb\u001b[0m: \tno_of_filters_4: 32\n",
      "\u001b[34m\u001b[1mwandb\u001b[0m: \tno_of_filters_5: 64\n",
      "\u001b[34m\u001b[1mwandb\u001b[0m: Currently logged in as: \u001b[33mcs21m029_keyur_raval\u001b[0m (use `wandb login --relogin` to force relogin)\n"
     ]
    },
    {
     "data": {
      "text/html": [
       "Tracking run with wandb version 0.12.13"
      ],
      "text/plain": [
       "<IPython.core.display.HTML object>"
      ]
     },
     "metadata": {},
     "output_type": "display_data"
    },
    {
     "data": {
      "text/html": [
       "Run data is saved locally in <code>C:\\Users\\Keyur\\Documents\\DL\\A2\\P1\\wandb\\run-20220408_190514-t0fwtyre</code>"
      ],
      "text/plain": [
       "<IPython.core.display.HTML object>"
      ]
     },
     "metadata": {},
     "output_type": "display_data"
    },
    {
     "data": {
      "text/html": [
       "Syncing run <strong><a href=\"https://wandb.ai/cs21m029_keyur_raval/DL_CS6910_Assignment2/runs/t0fwtyre\" target=\"_blank\">sweepy-sweep-1</a></strong> to <a href=\"https://wandb.ai/cs21m029_keyur_raval/DL_CS6910_Assignment2\" target=\"_blank\">Weights & Biases</a> (<a href=\"https://wandb.me/run\" target=\"_blank\">docs</a>)<br/>Sweep page:  <a href=\"https://wandb.ai/cs21m029_keyur_raval/DL_CS6910_Assignment2/sweeps/lai6izm5\" target=\"_blank\">https://wandb.ai/cs21m029_keyur_raval/DL_CS6910_Assignment2/sweeps/lai6izm5</a>"
      ],
      "text/plain": [
       "<IPython.core.display.HTML object>"
      ]
     },
     "metadata": {},
     "output_type": "display_data"
    },
    {
     "data": {
      "text/html": [
       "Finishing last run (ID:t0fwtyre) before initializing another..."
      ],
      "text/plain": [
       "<IPython.core.display.HTML object>"
      ]
     },
     "metadata": {},
     "output_type": "display_data"
    },
    {
     "name": "stdout",
     "output_type": "stream",
     "text": [
      "\n"
     ]
    },
    {
     "data": {
      "text/html": [
       "Waiting for W&B process to finish... <strong style=\"color:green\">(success).</strong>"
      ],
      "text/plain": [
       "<IPython.core.display.HTML object>"
      ]
     },
     "metadata": {},
     "output_type": "display_data"
    },
    {
     "data": {
      "text/html": [
       "Synced <strong style=\"color:#cdcd00\">sweepy-sweep-1</strong>: <a href=\"https://wandb.ai/cs21m029_keyur_raval/DL_CS6910_Assignment2/runs/t0fwtyre\" target=\"_blank\">https://wandb.ai/cs21m029_keyur_raval/DL_CS6910_Assignment2/runs/t0fwtyre</a><br/>Synced 5 W&B file(s), 0 media file(s), 0 artifact file(s) and 0 other file(s)"
      ],
      "text/plain": [
       "<IPython.core.display.HTML object>"
      ]
     },
     "metadata": {},
     "output_type": "display_data"
    },
    {
     "data": {
      "text/html": [
       "Find logs at: <code>.\\wandb\\run-20220408_190514-t0fwtyre\\logs</code>"
      ],
      "text/plain": [
       "<IPython.core.display.HTML object>"
      ]
     },
     "metadata": {},
     "output_type": "display_data"
    },
    {
     "data": {
      "text/html": [
       "Successfully finished last run (ID:t0fwtyre). Initializing new run:<br/>"
      ],
      "text/plain": [
       "<IPython.core.display.HTML object>"
      ]
     },
     "metadata": {},
     "output_type": "display_data"
    },
    {
     "data": {
      "text/html": [
       "Tracking run with wandb version 0.12.13"
      ],
      "text/plain": [
       "<IPython.core.display.HTML object>"
      ]
     },
     "metadata": {},
     "output_type": "display_data"
    },
    {
     "data": {
      "text/html": [
       "Run data is saved locally in <code>C:\\Users\\Keyur\\Documents\\DL\\A2\\P1\\wandb\\run-20220408_190521-t0fwtyre</code>"
      ],
      "text/plain": [
       "<IPython.core.display.HTML object>"
      ]
     },
     "metadata": {},
     "output_type": "display_data"
    },
    {
     "data": {
      "text/html": [
       "Syncing run <strong><a href=\"https://wandb.ai/cs21m029_keyur_raval/DL_CS6910_Assignment2/runs/t0fwtyre\" target=\"_blank\">sweepy-sweep-1</a></strong> to <a href=\"https://wandb.ai/cs21m029_keyur_raval/DL_CS6910_Assignment2\" target=\"_blank\">Weights & Biases</a> (<a href=\"https://wandb.me/run\" target=\"_blank\">docs</a>)<br/>Sweep page:  <a href=\"https://wandb.ai/cs21m029_keyur_raval/DL_CS6910_Assignment2/sweeps/lai6izm5\" target=\"_blank\">https://wandb.ai/cs21m029_keyur_raval/DL_CS6910_Assignment2/sweeps/lai6izm5</a>"
      ],
      "text/plain": [
       "<IPython.core.display.HTML object>"
      ]
     },
     "metadata": {},
     "output_type": "display_data"
    },
    {
     "name": "stdout",
     "output_type": "stream",
     "text": [
      "Found 9000 images belonging to 10 classes.\n",
      "Found 999 images belonging to 10 classes.\n",
      "Found 2000 images belonging to 10 classes.\n",
      "Epoch 1/45\n",
      "180/180 [==============================] - 122s 646ms/step - loss: 2.3028 - accuracy: 0.2076 - val_loss: 2.4816 - val_accuracy: 0.1241\n",
      "Epoch 2/45\n",
      "180/180 [==============================] - 111s 620ms/step - loss: 2.0749 - accuracy: 0.2618 - val_loss: 2.7452 - val_accuracy: 0.1682\n",
      "Epoch 3/45\n",
      "180/180 [==============================] - 110s 608ms/step - loss: 2.0134 - accuracy: 0.2806 - val_loss: 2.1249 - val_accuracy: 0.2472\n",
      "Epoch 4/45\n",
      "180/180 [==============================] - 110s 609ms/step - loss: 1.9684 - accuracy: 0.3029 - val_loss: 1.9843 - val_accuracy: 0.3173\n",
      "Epoch 5/45\n",
      "180/180 [==============================] - 108s 601ms/step - loss: 1.9375 - accuracy: 0.3073 - val_loss: 2.0081 - val_accuracy: 0.2803\n",
      "Epoch 6/45\n",
      "180/180 [==============================] - 109s 605ms/step - loss: 1.8988 - accuracy: 0.3227 - val_loss: 2.0061 - val_accuracy: 0.3113\n",
      "Epoch 7/45\n",
      "180/180 [==============================] - 108s 601ms/step - loss: 1.8691 - accuracy: 0.3396 - val_loss: 1.9017 - val_accuracy: 0.3213\n",
      "Epoch 8/45\n",
      "180/180 [==============================] - 109s 602ms/step - loss: 1.8480 - accuracy: 0.3468 - val_loss: 2.0287 - val_accuracy: 0.2853\n",
      "Epoch 9/45\n",
      "180/180 [==============================] - 108s 602ms/step - loss: 1.8252 - accuracy: 0.3522 - val_loss: 2.0880 - val_accuracy: 0.2863\n",
      "Epoch 10/45\n",
      "180/180 [==============================] - 109s 603ms/step - loss: 1.7962 - accuracy: 0.3626 - val_loss: 1.9294 - val_accuracy: 0.3313\n",
      "Epoch 11/45\n",
      "180/180 [==============================] - 109s 603ms/step - loss: 1.7780 - accuracy: 0.3700 - val_loss: 1.9331 - val_accuracy: 0.3403\n",
      "Epoch 12/45\n",
      "180/180 [==============================] - 109s 603ms/step - loss: 1.7472 - accuracy: 0.3818 - val_loss: 1.8326 - val_accuracy: 0.3674\n",
      "Epoch 13/45\n",
      "180/180 [==============================] - 109s 603ms/step - loss: 1.7374 - accuracy: 0.3834 - val_loss: 1.9080 - val_accuracy: 0.3373\n",
      "Epoch 14/45\n",
      "180/180 [==============================] - 109s 604ms/step - loss: 1.7237 - accuracy: 0.3936 - val_loss: 1.8250 - val_accuracy: 0.3504\n",
      "Epoch 15/45\n",
      "180/180 [==============================] - 108s 602ms/step - loss: 1.7081 - accuracy: 0.3999 - val_loss: 1.8382 - val_accuracy: 0.3433\n",
      "Epoch 16/45\n",
      "180/180 [==============================] - 109s 605ms/step - loss: 1.6832 - accuracy: 0.4056 - val_loss: 1.9378 - val_accuracy: 0.3483\n",
      "Epoch 17/45\n",
      "180/180 [==============================] - 109s 605ms/step - loss: 1.6682 - accuracy: 0.4132 - val_loss: 1.9671 - val_accuracy: 0.3574\n",
      "Epoch 18/45\n",
      "180/180 [==============================] - 109s 604ms/step - loss: 1.6365 - accuracy: 0.4228 - val_loss: 1.9120 - val_accuracy: 0.3684\n",
      "Epoch 19/45\n",
      "180/180 [==============================] - 109s 605ms/step - loss: 1.6175 - accuracy: 0.4346 - val_loss: 1.9579 - val_accuracy: 0.3373\n",
      "Epoch 20/45\n",
      "180/180 [==============================] - 109s 604ms/step - loss: 1.6141 - accuracy: 0.4361 - val_loss: 1.8211 - val_accuracy: 0.3804\n",
      "Epoch 21/45\n",
      "180/180 [==============================] - 109s 606ms/step - loss: 1.6028 - accuracy: 0.4364 - val_loss: 1.8081 - val_accuracy: 0.3974\n",
      "Epoch 22/45\n",
      "180/180 [==============================] - 109s 605ms/step - loss: 1.5922 - accuracy: 0.4399 - val_loss: 1.7194 - val_accuracy: 0.3794\n",
      "Epoch 23/45\n",
      "180/180 [==============================] - 109s 606ms/step - loss: 1.5696 - accuracy: 0.4478 - val_loss: 1.7705 - val_accuracy: 0.3924\n",
      "Epoch 24/45\n",
      "180/180 [==============================] - 109s 606ms/step - loss: 1.5589 - accuracy: 0.4523 - val_loss: 1.7965 - val_accuracy: 0.3954\n",
      "Epoch 25/45\n",
      "180/180 [==============================] - 109s 604ms/step - loss: 1.5407 - accuracy: 0.4593 - val_loss: 1.7999 - val_accuracy: 0.4074\n",
      "Epoch 26/45\n",
      "180/180 [==============================] - 109s 606ms/step - loss: 1.5213 - accuracy: 0.4689 - val_loss: 1.7882 - val_accuracy: 0.3994\n",
      "Epoch 27/45\n",
      "180/180 [==============================] - 109s 605ms/step - loss: 1.5003 - accuracy: 0.4669 - val_loss: 1.7836 - val_accuracy: 0.3904\n",
      "Epoch 28/45\n",
      "180/180 [==============================] - 109s 607ms/step - loss: 1.4861 - accuracy: 0.4760 - val_loss: 1.8339 - val_accuracy: 0.3654\n",
      "Epoch 29/45\n",
      "180/180 [==============================] - 109s 606ms/step - loss: 1.4736 - accuracy: 0.4840 - val_loss: 1.7877 - val_accuracy: 0.3994\n",
      "Epoch 30/45\n",
      "180/180 [==============================] - 109s 605ms/step - loss: 1.4589 - accuracy: 0.4874 - val_loss: 1.7783 - val_accuracy: 0.4094\n",
      "Epoch 31/45\n",
      "180/180 [==============================] - 109s 605ms/step - loss: 1.4474 - accuracy: 0.4863 - val_loss: 1.7656 - val_accuracy: 0.4294\n",
      "Epoch 32/45\n",
      "180/180 [==============================] - 109s 607ms/step - loss: 1.4292 - accuracy: 0.4968 - val_loss: 1.7998 - val_accuracy: 0.3914\n",
      "Epoch 33/45\n",
      "180/180 [==============================] - 110s 613ms/step - loss: 1.4124 - accuracy: 0.5088 - val_loss: 1.8663 - val_accuracy: 0.3794\n",
      "Epoch 34/45\n",
      "180/180 [==============================] - 110s 611ms/step - loss: 1.4124 - accuracy: 0.5070 - val_loss: 1.7275 - val_accuracy: 0.4134\n",
      "Epoch 35/45\n",
      "180/180 [==============================] - 114s 631ms/step - loss: 1.3913 - accuracy: 0.5076 - val_loss: 1.8396 - val_accuracy: 0.3914\n",
      "Epoch 36/45\n",
      "180/180 [==============================] - 110s 607ms/step - loss: 1.3682 - accuracy: 0.5169 - val_loss: 1.8873 - val_accuracy: 0.3584\n",
      "Epoch 37/45\n",
      "180/180 [==============================] - 110s 610ms/step - loss: 1.3697 - accuracy: 0.5153 - val_loss: 1.8560 - val_accuracy: 0.3974\n",
      "Epoch 38/45\n",
      "180/180 [==============================] - 111s 616ms/step - loss: 1.3583 - accuracy: 0.5160 - val_loss: 1.8404 - val_accuracy: 0.3954\n",
      "Epoch 39/45\n",
      "180/180 [==============================] - 114s 630ms/step - loss: 1.3535 - accuracy: 0.5271 - val_loss: 1.8209 - val_accuracy: 0.4034\n",
      "Epoch 40/45\n",
      "180/180 [==============================] - 110s 612ms/step - loss: 1.3288 - accuracy: 0.5359 - val_loss: 1.7940 - val_accuracy: 0.4054\n",
      "Epoch 41/45\n",
      "180/180 [==============================] - 110s 609ms/step - loss: 1.3180 - accuracy: 0.5326 - val_loss: 1.8329 - val_accuracy: 0.4164\n",
      "Epoch 42/45\n",
      "180/180 [==============================] - 110s 608ms/step - loss: 1.3033 - accuracy: 0.5401 - val_loss: 1.8217 - val_accuracy: 0.3994\n",
      "Epoch 43/45\n",
      "180/180 [==============================] - 110s 610ms/step - loss: 1.2821 - accuracy: 0.5534 - val_loss: 1.7737 - val_accuracy: 0.4254\n",
      "Epoch 44/45\n",
      "180/180 [==============================] - 112s 621ms/step - loss: 1.2747 - accuracy: 0.5499 - val_loss: 1.8684 - val_accuracy: 0.3984\n",
      "Epoch 45/45\n",
      "180/180 [==============================] - 111s 615ms/step - loss: 1.2567 - accuracy: 0.5586 - val_loss: 1.8412 - val_accuracy: 0.3854\n",
      "Testing Model:\n",
      "40/40 [==============================] - 15s 370ms/step - loss: 1.8195 - accuracy: 0.4065\n",
      "Model accuracy : 0.4065000116825104 and loss : 1.8194513320922852\n",
      "\n"
     ]
    },
    {
     "data": {
      "text/html": [
       "Waiting for W&B process to finish... <strong style=\"color:green\">(success).</strong>"
      ],
      "text/plain": [
       "<IPython.core.display.HTML object>"
      ]
     },
     "metadata": {},
     "output_type": "display_data"
    },
    {
     "data": {
      "text/html": [
       "<style>\n",
       "    table.wandb td:nth-child(1) { padding: 0 10px; text-align: right }\n",
       "    .wandb-row { display: flex; flex-direction: row; flex-wrap: wrap; width: 100% }\n",
       "    .wandb-col { display: flex; flex-direction: column; flex-basis: 100%; flex: 1; padding: 10px; }\n",
       "    </style>\n",
       "<div class=\"wandb-row\"><div class=\"wandb-col\"><h3>Run history:</h3><br/><table class=\"wandb\"><tr><td>accuracy</td><td>▁▂▂▃▃▃▄▄▄▄▄▅▅▅▅▅▆▆▆▆▆▆▆▆▆▇▇▇▇▇▇▇▇▇▇█▇███</td></tr><tr><td>epoch</td><td>▁▁▁▁▂▂▂▂▂▃▃▃▃▃▃▄▄▄▄▄▅▅▅▅▅▅▆▆▆▆▆▆▇▇▇▇▇███</td></tr><tr><td>loss</td><td>█▆▆▆▆▅▅▅▅▄▄▄▄▄▄▄▃▃▃▃▃▃▃▃▃▂▂▂▂▂▂▂▂▂▂▁▁▁▁▁</td></tr><tr><td>val_accuracy</td><td>▁▂▄▅▅▅▆▅▆▆▇▆▆▆▆▆▆▇▇▇▇▇▇▇▇▇██▇▇█▇▇▇▇▇█▇█▇</td></tr><tr><td>val_loss</td><td>▆█▄▃▃▃▂▃▂▂▂▂▂▂▂▃▃▂▂▁▁▂▂▁▂▁▁▁▂▂▁▂▂▂▂▂▂▂▁▂</td></tr></table><br/></div><div class=\"wandb-col\"><h3>Run summary:</h3><br/><table class=\"wandb\"><tr><td>accuracy</td><td>0.55856</td></tr><tr><td>best_epoch</td><td>21</td></tr><tr><td>best_val_loss</td><td>1.7194</td></tr><tr><td>epoch</td><td>44</td></tr><tr><td>loss</td><td>1.25674</td></tr><tr><td>val_accuracy</td><td>0.38539</td></tr><tr><td>val_loss</td><td>1.84117</td></tr></table><br/></div></div>"
      ],
      "text/plain": [
       "<IPython.core.display.HTML object>"
      ]
     },
     "metadata": {},
     "output_type": "display_data"
    },
    {
     "data": {
      "text/html": [
       "Synced <strong style=\"color:#cdcd00\">sweepy-sweep-1</strong>: <a href=\"https://wandb.ai/cs21m029_keyur_raval/DL_CS6910_Assignment2/runs/t0fwtyre\" target=\"_blank\">https://wandb.ai/cs21m029_keyur_raval/DL_CS6910_Assignment2/runs/t0fwtyre</a><br/>Synced 6 W&B file(s), 1 media file(s), 0 artifact file(s) and 10 other file(s)"
      ],
      "text/plain": [
       "<IPython.core.display.HTML object>"
      ]
     },
     "metadata": {},
     "output_type": "display_data"
    },
    {
     "data": {
      "text/html": [
       "Find logs at: <code>.\\wandb\\run-20220408_190521-t0fwtyre\\logs</code>"
      ],
      "text/plain": [
       "<IPython.core.display.HTML object>"
      ]
     },
     "metadata": {},
     "output_type": "display_data"
    },
    {
     "name": "stderr",
     "output_type": "stream",
     "text": [
      "\u001b[34m\u001b[1mwandb\u001b[0m: Sweep Agent: Waiting for job.\n",
      "\u001b[34m\u001b[1mwandb\u001b[0m: Sweep Agent: Exiting.\n"
     ]
    }
   ],
   "source": [
    "wandb.agent(sweep_id, function=test)"
   ]
  },
  {
   "cell_type": "code",
   "execution_count": null,
   "id": "57cc5e72-c7f9-4e48-a6af-c7d060e33207",
   "metadata": {},
   "outputs": [],
   "source": []
  }
 ],
 "metadata": {
  "kernelspec": {
   "display_name": "Python 3 (ipykernel)",
   "language": "python",
   "name": "python3"
  },
  "language_info": {
   "codemirror_mode": {
    "name": "ipython",
    "version": 3
   },
   "file_extension": ".py",
   "mimetype": "text/x-python",
   "name": "python",
   "nbconvert_exporter": "python",
   "pygments_lexer": "ipython3",
   "version": "3.9.7"
  }
 },
 "nbformat": 4,
 "nbformat_minor": 5
}

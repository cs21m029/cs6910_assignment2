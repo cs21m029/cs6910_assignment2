{
 "cells": [
  {
   "cell_type": "code",
   "execution_count": 1,
   "id": "4a3f4254-c364-4a70-87d4-380ade89b591",
   "metadata": {},
   "outputs": [
    {
     "name": "stdout",
     "output_type": "stream",
     "text": [
      "Requirement already satisfied: wandb in c:\\users\\keyur\\anaconda3\\envs\\tf-gpu\\lib\\site-packages (0.12.12)\n",
      "Requirement already satisfied: promise<3,>=2.0 in c:\\users\\keyur\\anaconda3\\envs\\tf-gpu\\lib\\site-packages (from wandb) (2.3)\n",
      "Requirement already satisfied: protobuf>=3.12.0 in c:\\users\\keyur\\anaconda3\\envs\\tf-gpu\\lib\\site-packages (from wandb) (3.17.2)\n",
      "Requirement already satisfied: PyYAML in c:\\users\\keyur\\anaconda3\\envs\\tf-gpu\\lib\\site-packages (from wandb) (6.0)\n",
      "Requirement already satisfied: sentry-sdk>=1.0.0 in c:\\users\\keyur\\anaconda3\\envs\\tf-gpu\\lib\\site-packages (from wandb) (1.5.8)\n",
      "Requirement already satisfied: requests<3,>=2.0.0 in c:\\users\\keyur\\anaconda3\\envs\\tf-gpu\\lib\\site-packages (from wandb) (2.27.1)\n",
      "Requirement already satisfied: setproctitle in c:\\users\\keyur\\anaconda3\\envs\\tf-gpu\\lib\\site-packages (from wandb) (1.2.2)\n",
      "Requirement already satisfied: GitPython>=1.0.0 in c:\\users\\keyur\\anaconda3\\envs\\tf-gpu\\lib\\site-packages (from wandb) (3.1.27)\n",
      "Requirement already satisfied: six>=1.13.0 in c:\\users\\keyur\\anaconda3\\envs\\tf-gpu\\lib\\site-packages (from wandb) (1.16.0)\n",
      "Requirement already satisfied: docker-pycreds>=0.4.0 in c:\\users\\keyur\\anaconda3\\envs\\tf-gpu\\lib\\site-packages (from wandb) (0.4.0)\n",
      "Requirement already satisfied: shortuuid>=0.5.0 in c:\\users\\keyur\\anaconda3\\envs\\tf-gpu\\lib\\site-packages (from wandb) (1.0.8)\n",
      "Requirement already satisfied: pathtools in c:\\users\\keyur\\anaconda3\\envs\\tf-gpu\\lib\\site-packages (from wandb) (0.1.2)\n",
      "Requirement already satisfied: python-dateutil>=2.6.1 in c:\\users\\keyur\\anaconda3\\envs\\tf-gpu\\lib\\site-packages (from wandb) (2.8.2)\n",
      "Requirement already satisfied: psutil>=5.0.0 in c:\\users\\keyur\\anaconda3\\envs\\tf-gpu\\lib\\site-packages (from wandb) (5.9.0)\n",
      "Requirement already satisfied: Click!=8.0.0,>=7.0 in c:\\users\\keyur\\anaconda3\\envs\\tf-gpu\\lib\\site-packages (from wandb) (8.0.4)\n",
      "Requirement already satisfied: colorama in c:\\users\\keyur\\anaconda3\\envs\\tf-gpu\\lib\\site-packages (from Click!=8.0.0,>=7.0->wandb) (0.4.4)\n",
      "Requirement already satisfied: gitdb<5,>=4.0.1 in c:\\users\\keyur\\anaconda3\\envs\\tf-gpu\\lib\\site-packages (from GitPython>=1.0.0->wandb) (4.0.9)\n",
      "Requirement already satisfied: smmap<6,>=3.0.1 in c:\\users\\keyur\\anaconda3\\envs\\tf-gpu\\lib\\site-packages (from gitdb<5,>=4.0.1->GitPython>=1.0.0->wandb) (5.0.0)\n",
      "Requirement already satisfied: urllib3<1.27,>=1.21.1 in c:\\users\\keyur\\anaconda3\\envs\\tf-gpu\\lib\\site-packages (from requests<3,>=2.0.0->wandb) (1.26.8)\n",
      "Requirement already satisfied: certifi>=2017.4.17 in c:\\users\\keyur\\anaconda3\\envs\\tf-gpu\\lib\\site-packages (from requests<3,>=2.0.0->wandb) (2021.10.8)\n",
      "Requirement already satisfied: idna<4,>=2.5 in c:\\users\\keyur\\anaconda3\\envs\\tf-gpu\\lib\\site-packages (from requests<3,>=2.0.0->wandb) (3.3)\n",
      "Requirement already satisfied: charset-normalizer~=2.0.0 in c:\\users\\keyur\\anaconda3\\envs\\tf-gpu\\lib\\site-packages (from requests<3,>=2.0.0->wandb) (2.0.4)\n",
      "Requirement already satisfied: wandb in c:\\users\\keyur\\anaconda3\\envs\\tf-gpu\\lib\\site-packages (0.12.12)\n",
      "Collecting wandb\n",
      "  Downloading wandb-0.12.13-py2.py3-none-any.whl (1.8 MB)\n",
      "Requirement already satisfied: six>=1.13.0 in c:\\users\\keyur\\anaconda3\\envs\\tf-gpu\\lib\\site-packages (from wandb) (1.16.0)\n",
      "Requirement already satisfied: requests<3,>=2.0.0 in c:\\users\\keyur\\anaconda3\\envs\\tf-gpu\\lib\\site-packages (from wandb) (2.27.1)\n",
      "Requirement already satisfied: docker-pycreds>=0.4.0 in c:\\users\\keyur\\anaconda3\\envs\\tf-gpu\\lib\\site-packages (from wandb) (0.4.0)\n",
      "Requirement already satisfied: python-dateutil>=2.6.1 in c:\\users\\keyur\\anaconda3\\envs\\tf-gpu\\lib\\site-packages (from wandb) (2.8.2)\n",
      "Requirement already satisfied: Click!=8.0.0,>=7.0 in c:\\users\\keyur\\anaconda3\\envs\\tf-gpu\\lib\\site-packages (from wandb) (8.0.4)\n",
      "Requirement already satisfied: GitPython>=1.0.0 in c:\\users\\keyur\\anaconda3\\envs\\tf-gpu\\lib\\site-packages (from wandb) (3.1.27)\n",
      "Requirement already satisfied: psutil>=5.0.0 in c:\\users\\keyur\\anaconda3\\envs\\tf-gpu\\lib\\site-packages (from wandb) (5.9.0)\n",
      "Requirement already satisfied: protobuf>=3.12.0 in c:\\users\\keyur\\anaconda3\\envs\\tf-gpu\\lib\\site-packages (from wandb) (3.17.2)\n",
      "Requirement already satisfied: PyYAML in c:\\users\\keyur\\anaconda3\\envs\\tf-gpu\\lib\\site-packages (from wandb) (6.0)\n",
      "Requirement already satisfied: setproctitle in c:\\users\\keyur\\anaconda3\\envs\\tf-gpu\\lib\\site-packages (from wandb) (1.2.2)\n",
      "Requirement already satisfied: promise<3,>=2.0 in c:\\users\\keyur\\anaconda3\\envs\\tf-gpu\\lib\\site-packages (from wandb) (2.3)\n",
      "Requirement already satisfied: sentry-sdk>=1.0.0 in c:\\users\\keyur\\anaconda3\\envs\\tf-gpu\\lib\\site-packages (from wandb) (1.5.8)\n",
      "Requirement already satisfied: pathtools in c:\\users\\keyur\\anaconda3\\envs\\tf-gpu\\lib\\site-packages (from wandb) (0.1.2)\n",
      "Requirement already satisfied: shortuuid>=0.5.0 in c:\\users\\keyur\\anaconda3\\envs\\tf-gpu\\lib\\site-packages (from wandb) (1.0.8)\n",
      "Requirement already satisfied: colorama in c:\\users\\keyur\\anaconda3\\envs\\tf-gpu\\lib\\site-packages (from Click!=8.0.0,>=7.0->wandb) (0.4.4)\n",
      "Requirement already satisfied: gitdb<5,>=4.0.1 in c:\\users\\keyur\\anaconda3\\envs\\tf-gpu\\lib\\site-packages (from GitPython>=1.0.0->wandb) (4.0.9)\n",
      "Requirement already satisfied: smmap<6,>=3.0.1 in c:\\users\\keyur\\anaconda3\\envs\\tf-gpu\\lib\\site-packages (from gitdb<5,>=4.0.1->GitPython>=1.0.0->wandb) (5.0.0)\n",
      "Requirement already satisfied: certifi>=2017.4.17 in c:\\users\\keyur\\anaconda3\\envs\\tf-gpu\\lib\\site-packages (from requests<3,>=2.0.0->wandb) (2021.10.8)\n",
      "Requirement already satisfied: urllib3<1.27,>=1.21.1 in c:\\users\\keyur\\anaconda3\\envs\\tf-gpu\\lib\\site-packages (from requests<3,>=2.0.0->wandb) (1.26.8)\n",
      "Requirement already satisfied: idna<4,>=2.5 in c:\\users\\keyur\\anaconda3\\envs\\tf-gpu\\lib\\site-packages (from requests<3,>=2.0.0->wandb) (3.3)\n",
      "Requirement already satisfied: charset-normalizer~=2.0.0 in c:\\users\\keyur\\anaconda3\\envs\\tf-gpu\\lib\\site-packages (from requests<3,>=2.0.0->wandb) (2.0.4)\n",
      "Installing collected packages: wandb\n",
      "  Attempting uninstall: wandb\n",
      "    Found existing installation: wandb 0.12.12\n",
      "    Uninstalling wandb-0.12.12:\n",
      "      Successfully uninstalled wandb-0.12.12\n",
      "Successfully installed wandb-0.12.13\n"
     ]
    }
   ],
   "source": [
    "import os\n",
    "import glob\n",
    "\n",
    "import tensorflow as tf\n",
    "from tensorflow import keras\n",
    "from tensorflow.keras.preprocessing.image import ImageDataGenerator\n",
    "from tensorflow.keras.models import Sequential, Model\n",
    "from tensorflow.keras.layers import Dense, Flatten, Conv2D, AveragePooling2D, MaxPooling2D, Activation, Dropout, BatchNormalization\n",
    "\n",
    "!pip install wandb\n",
    "import wandb\n",
    "from wandb.keras import WandbCallback\n",
    "!pip install wandb --upgrade"
   ]
  },
  {
   "cell_type": "code",
   "execution_count": 2,
   "id": "8a1bf944-48d9-4c01-8621-893050db6f24",
   "metadata": {},
   "outputs": [],
   "source": [
    "#no_of_filters = [8, 16, 16, 32, 32]\n",
    "kernel_size =   [3 , 5 , 5 , 5 , 5]\n",
    "activation  =   tf.nn.relu\n",
    "#dense_layer = 100\n",
    "\n",
    "image_size = 200\n",
    "\n",
    "batch_size = 50\n",
    "epochs = 10\n",
    "dropout=0.0\n",
    "batch_norm=False\n",
    "augment_data=False"
   ]
  },
  {
   "cell_type": "code",
   "execution_count": 3,
   "id": "6e7234d4-0530-4e8c-be31-83bbcd212adc",
   "metadata": {},
   "outputs": [],
   "source": [
    "#TensorFlow - Building the Model\n",
    "def createCNN(image_size, no_of_filters, kernel_size, activation, batch_norm, dropout, dense_size):\n",
    "\n",
    "    modeltf = Sequential()\n",
    "\n",
    "    # layer1\n",
    "    modeltf.add(Conv2D(input_shape=(image_size, image_size, 3), filters=no_of_filters[0], kernel_size=kernel_size[0], strides=1, padding=\"same\", activation=activation))\n",
    "    if batch_norm:\n",
    "        modeltf.add(BatchNormalization())\n",
    "    modeltf.add(AveragePooling2D(pool_size=2, strides=2))\n",
    "\n",
    "    # layer2\n",
    "    modeltf.add(Conv2D(no_of_filters[1], kernel_size=kernel_size[1], strides=1, padding=\"same\", activation=activation))\n",
    "    if batch_norm:\n",
    "        modeltf.add(BatchNormalization())\n",
    "    modeltf.add(AveragePooling2D(pool_size=2, strides=2))\n",
    "\n",
    "    # layer3\n",
    "    modeltf.add(Conv2D(no_of_filters[2], kernel_size=kernel_size[2], strides=1, padding=\"same\", activation=activation))\n",
    "    if batch_norm:\n",
    "        modeltf.add(BatchNormalization())\n",
    "    modeltf.add(AveragePooling2D(pool_size=2, strides=2))\n",
    "\n",
    "    # layer4\n",
    "    modeltf.add(Conv2D(no_of_filters[3], kernel_size=kernel_size[3], strides=1, padding=\"same\", activation=activation))\n",
    "    if batch_norm:\n",
    "        modeltf.add(BatchNormalization())\n",
    "    modeltf.add(AveragePooling2D(pool_size=2, strides=2))\n",
    "\n",
    "    # layer5\n",
    "    modeltf.add(Conv2D(no_of_filters[4], kernel_size=kernel_size[4], strides=1, padding=\"same\", activation=activation))\n",
    "    if batch_norm:\n",
    "        modeltf.add(BatchNormalization())\n",
    "    modeltf.add(AveragePooling2D(pool_size=2, strides=2))\n",
    "\n",
    "    modeltf.add(Flatten())\n",
    "\n",
    "    # dense layer\n",
    "    modeltf.add(Dense(dense_layer, activation=activation))\n",
    "    modeltf.add(Dropout(dropout))\n",
    "\n",
    "    # output layer\n",
    "    modeltf.add(Dense(10, activation=tf.nn.softmax))\n",
    "    \n",
    "    return modeltf"
   ]
  },
  {
   "cell_type": "code",
   "execution_count": 4,
   "id": "64bc1e62-7ea7-4a9f-afd2-7dbc2ae71739",
   "metadata": {},
   "outputs": [],
   "source": [
    "# Preparing dataset for training\n",
    "def prepare_dataset(DATA_DIR=\"inaturalist_12K\", augment_data=False):\n",
    "    train_dir = os.path.join(DATA_DIR, \"train\")\n",
    "    test_dir = os.path.join(DATA_DIR, \"val\")\n",
    "\n",
    "    if augment_data:\n",
    "        train_datagen = ImageDataGenerator(rescale=1./255,\n",
    "                                          rotation_range=90,\n",
    "                                          zoom_range=0.2,\n",
    "                                          shear_range=0.2,\n",
    "                                          validation_split=0.1,\n",
    "                                          horizontal_flip=True)\n",
    "        test_datagen = ImageDataGenerator(rescale=1./255)\n",
    "\n",
    "    else:\n",
    "        train_datagen = ImageDataGenerator(rescale=1./255, validation_split=0.1)\n",
    "        test_datagen = ImageDataGenerator(rescale=1./255)\n",
    "\n",
    "    train_generator = train_datagen.flow_from_directory(train_dir, target_size=(image_size, image_size), batch_size=batch_size, class_mode='categorical', subset=\"training\")\n",
    "    val_generator = train_datagen.flow_from_directory(train_dir, target_size=(image_size, image_size), batch_size=batch_size, class_mode='categorical', subset=\"validation\")\n",
    "    test_generator = test_datagen.flow_from_directory(test_dir, target_size=(image_size, image_size), batch_size=batch_size)\n",
    "    \n",
    "    return train_generator, val_generator, test_generator"
   ]
  },
  {
   "cell_type": "code",
   "execution_count": 5,
   "id": "0488e668-77d8-419b-9352-7101517761a4",
   "metadata": {},
   "outputs": [],
   "source": [
    "#Code to set run name\n",
    "def setRunName(no_of_filters = [8, 16, 16, 32, 32], augment_data=False, dropout=0.0, batch_norm=False):\n",
    "    \n",
    "    augment_data_options = {True: \"Y\", False: \"N\"}\n",
    "    batch_norm_options = {True: \"Y\", False: \"N\"}\n",
    "\n",
    "    run_name = \"_\".join([\"filters\", str(no_of_filters), \"aug\", augment_data_options[augment_data],\n",
    "                      \"drop\", str(dropout), \"norm\", batch_norm_options[batch_norm]])\n",
    "    \n",
    "    return run_name;"
   ]
  },
  {
   "cell_type": "code",
   "execution_count": 7,
   "id": "202f4f9a-2364-4fd5-8f72-ac20a5e680a3",
   "metadata": {},
   "outputs": [],
   "source": [
    "#WandB integration for training and validation\n",
    "def train():\n",
    "\n",
    "    config_defaults = {\n",
    "        \"no_of_filters_1\": 8,\n",
    "        \"no_of_filters_2\": 16,\n",
    "        \"no_of_filters_3\": 16,\n",
    "        \"no_of_filters_4\": 32,\n",
    "        \"no_of_filters_5\": 32,\n",
    "        \"augment_data\": False,\n",
    "        \"dropout\": 0.0,\n",
    "        \"batch_norm\": False,\n",
    "        \"epochs\": 10,\n",
    "        \"dense_size\": 1000,\n",
    "        \"lr\": 0.001\n",
    "    }\n",
    "    \n",
    "    os.environ['WANDB_NOTEBOOK_NAME'] = 'A2_P1_2.ipynb'\n",
    "\n",
    "    wandb.init(config=config_defaults, magic=True)\n",
    "    config = wandb.config\n",
    "    wandb.run.name = setRunName([config.no_of_filters_1, config.no_of_filters_2, config.no_of_filters_3, config.no_of_filters_4, config.no_of_filters_5], config.augment_data, config.dropout, config.batch_norm)\n",
    "\n",
    "    train_generator, val_generator, test_generator = prepare_dataset(augment_data=config.augment_data)\n",
    "    model = createCNN(image_size, [config.no_of_filters_1, config.no_of_filters_2, config.no_of_filters_3, config.no_of_filters_4, config.no_of_filters_5], kernel_size, activation, config.batch_norm, config.dropout, config.dense_size)\n",
    "    model.compile(optimizer=keras.optimizers.Adam(config.lr), loss=\"categorical_crossentropy\", metrics=\"accuracy\")\n",
    "    model.fit(train_generator, epochs=config.epochs, validation_data=val_generator, callbacks=[WandbCallback()])"
   ]
  },
  {
   "cell_type": "code",
   "execution_count": 8,
   "id": "9245e09e-f432-4c0b-848a-fb8c4be1c42e",
   "metadata": {},
   "outputs": [
    {
     "name": "stdout",
     "output_type": "stream",
     "text": [
      "Create sweep with ID: 61cgxeqz\n",
      "Sweep URL: https://wandb.ai/cs21m029_keyur_raval/DL_CS6910_Assignment2/sweeps/61cgxeqz\n"
     ]
    }
   ],
   "source": [
    "#Set up a sweep config\n",
    "sweep_config = {\n",
    "    \"description\": \"Training and Checking the performance of CNN on validation data\",\n",
    "    \"metric\": {\n",
    "    'name': 'val_accuracy',\n",
    "    'goal': 'maximize'   \n",
    "    },\n",
    "    \"method\": \"random\",\n",
    "    \"project\": \"DL_CS6910_Assignment2\",\n",
    "    \"parameters\": {\n",
    "        \"no_of_filters_1\": {\n",
    "            \"values\": [4, 8]\n",
    "        },\n",
    "        \"no_of_filters_2\": {\n",
    "            \"values\": [8, 16]\n",
    "        },\n",
    "        \"no_of_filters_3\": {\n",
    "            \"values\": [16, 24]\n",
    "        },\n",
    "        \"no_of_filters_4\": {\n",
    "            \"values\": [24, 32]\n",
    "        },\n",
    "        \"no_of_filters_5\": {\n",
    "            \"values\": [32, 64]\n",
    "        },\n",
    "        \"augment_data\": {\n",
    "            \"values\": [False, True]\n",
    "        },\n",
    "        \"dropout\": {\n",
    "            \"values\": [0.0, 0.1, 0.2, 0.3]\n",
    "        },\n",
    "        \"batch_norm\": {\n",
    "            \"values\": [False, True]\n",
    "        },\n",
    "        \"epochs\": {\n",
    "            \"values\": [25]\n",
    "        },\n",
    "        \"dense_size\": {\n",
    "            \"values\": [64, 100, 128]\n",
    "        },\n",
    "        \"lr\": {\n",
    "            \"values\": [0.001, 0.01, 0.005]\n",
    "        }\n",
    "    }\n",
    "}\n",
    "\n",
    "# creating the sweep\n",
    "sweep_id = wandb.sweep(sweep_config, project=\"DL_CS6910_Assignment2\")"
   ]
  },
  {
   "cell_type": "code",
   "execution_count": null,
   "id": "ad3d8a94-2bb2-44e5-851e-7a95232e6411",
   "metadata": {},
   "outputs": [
    {
     "name": "stderr",
     "output_type": "stream",
     "text": [
      "\u001b[34m\u001b[1mwandb\u001b[0m: Agent Starting Run: j9kt0cg9 with config:\n",
      "\u001b[34m\u001b[1mwandb\u001b[0m: \taugment_data: False\n",
      "\u001b[34m\u001b[1mwandb\u001b[0m: \tbatch_norm: True\n",
      "\u001b[34m\u001b[1mwandb\u001b[0m: \tdense_size: 100\n",
      "\u001b[34m\u001b[1mwandb\u001b[0m: \tdropout: 0\n",
      "\u001b[34m\u001b[1mwandb\u001b[0m: \tepochs: 25\n",
      "\u001b[34m\u001b[1mwandb\u001b[0m: \tlr: 0.005\n",
      "\u001b[34m\u001b[1mwandb\u001b[0m: \tno_of_filters_1: 8\n",
      "\u001b[34m\u001b[1mwandb\u001b[0m: \tno_of_filters_2: 8\n",
      "\u001b[34m\u001b[1mwandb\u001b[0m: \tno_of_filters_3: 16\n",
      "\u001b[34m\u001b[1mwandb\u001b[0m: \tno_of_filters_4: 32\n",
      "\u001b[34m\u001b[1mwandb\u001b[0m: \tno_of_filters_5: 64\n",
      "\u001b[34m\u001b[1mwandb\u001b[0m: Currently logged in as: \u001b[33mcs21m029_keyur_raval\u001b[0m (use `wandb login --relogin` to force relogin)\n"
     ]
    },
    {
     "data": {
      "text/html": [
       "wandb version 0.12.13 is available!  To upgrade, please run:\n",
       " $ pip install wandb --upgrade"
      ],
      "text/plain": [
       "<IPython.core.display.HTML object>"
      ]
     },
     "metadata": {},
     "output_type": "display_data"
    },
    {
     "data": {
      "text/html": [
       "Tracking run with wandb version 0.12.12"
      ],
      "text/plain": [
       "<IPython.core.display.HTML object>"
      ]
     },
     "metadata": {},
     "output_type": "display_data"
    },
    {
     "data": {
      "text/html": [
       "Run data is saved locally in <code>C:\\Users\\Keyur\\Documents\\DL\\A2\\P1\\wandb\\run-20220407_235959-j9kt0cg9</code>"
      ],
      "text/plain": [
       "<IPython.core.display.HTML object>"
      ]
     },
     "metadata": {},
     "output_type": "display_data"
    },
    {
     "data": {
      "text/html": [
       "Syncing run <strong><a href=\"https://wandb.ai/cs21m029_keyur_raval/DL_CS6910_Assignment2/runs/j9kt0cg9\" target=\"_blank\">decent-sweep-1</a></strong> to <a href=\"https://wandb.ai/cs21m029_keyur_raval/DL_CS6910_Assignment2\" target=\"_blank\">Weights & Biases</a> (<a href=\"https://wandb.me/run\" target=\"_blank\">docs</a>)<br/>Sweep page:  <a href=\"https://wandb.ai/cs21m029_keyur_raval/DL_CS6910_Assignment2/sweeps/61cgxeqz\" target=\"_blank\">https://wandb.ai/cs21m029_keyur_raval/DL_CS6910_Assignment2/sweeps/61cgxeqz</a>"
      ],
      "text/plain": [
       "<IPython.core.display.HTML object>"
      ]
     },
     "metadata": {},
     "output_type": "display_data"
    },
    {
     "data": {
      "text/html": [
       "Finishing last run (ID:j9kt0cg9) before initializing another..."
      ],
      "text/plain": [
       "<IPython.core.display.HTML object>"
      ]
     },
     "metadata": {},
     "output_type": "display_data"
    },
    {
     "name": "stdout",
     "output_type": "stream",
     "text": [
      "\n"
     ]
    },
    {
     "data": {
      "text/html": [
       "Waiting for W&B process to finish... <strong style=\"color:green\">(success).</strong>"
      ],
      "text/plain": [
       "<IPython.core.display.HTML object>"
      ]
     },
     "metadata": {},
     "output_type": "display_data"
    },
    {
     "data": {
      "text/html": [
       "Synced <strong style=\"color:#cdcd00\">decent-sweep-1</strong>: <a href=\"https://wandb.ai/cs21m029_keyur_raval/DL_CS6910_Assignment2/runs/j9kt0cg9\" target=\"_blank\">https://wandb.ai/cs21m029_keyur_raval/DL_CS6910_Assignment2/runs/j9kt0cg9</a><br/>Synced 5 W&B file(s), 0 media file(s), 0 artifact file(s) and 0 other file(s)"
      ],
      "text/plain": [
       "<IPython.core.display.HTML object>"
      ]
     },
     "metadata": {},
     "output_type": "display_data"
    },
    {
     "data": {
      "text/html": [
       "Find logs at: <code>.\\wandb\\run-20220407_235959-j9kt0cg9\\logs</code>"
      ],
      "text/plain": [
       "<IPython.core.display.HTML object>"
      ]
     },
     "metadata": {},
     "output_type": "display_data"
    },
    {
     "data": {
      "text/html": [
       "Successfully finished last run (ID:j9kt0cg9). Initializing new run:<br/>"
      ],
      "text/plain": [
       "<IPython.core.display.HTML object>"
      ]
     },
     "metadata": {},
     "output_type": "display_data"
    },
    {
     "data": {
      "text/html": [
       "wandb version 0.12.13 is available!  To upgrade, please run:\n",
       " $ pip install wandb --upgrade"
      ],
      "text/plain": [
       "<IPython.core.display.HTML object>"
      ]
     },
     "metadata": {},
     "output_type": "display_data"
    },
    {
     "data": {
      "text/html": [
       "Tracking run with wandb version 0.12.12"
      ],
      "text/plain": [
       "<IPython.core.display.HTML object>"
      ]
     },
     "metadata": {},
     "output_type": "display_data"
    },
    {
     "data": {
      "text/html": [
       "Run data is saved locally in <code>C:\\Users\\Keyur\\Documents\\DL\\A2\\P1\\wandb\\run-20220408_000004-j9kt0cg9</code>"
      ],
      "text/plain": [
       "<IPython.core.display.HTML object>"
      ]
     },
     "metadata": {},
     "output_type": "display_data"
    },
    {
     "data": {
      "text/html": [
       "Syncing run <strong><a href=\"https://wandb.ai/cs21m029_keyur_raval/DL_CS6910_Assignment2/runs/j9kt0cg9\" target=\"_blank\">decent-sweep-1</a></strong> to <a href=\"https://wandb.ai/cs21m029_keyur_raval/DL_CS6910_Assignment2\" target=\"_blank\">Weights & Biases</a> (<a href=\"https://wandb.me/run\" target=\"_blank\">docs</a>)<br/>Sweep page:  <a href=\"https://wandb.ai/cs21m029_keyur_raval/DL_CS6910_Assignment2/sweeps/61cgxeqz\" target=\"_blank\">https://wandb.ai/cs21m029_keyur_raval/DL_CS6910_Assignment2/sweeps/61cgxeqz</a>"
      ],
      "text/plain": [
       "<IPython.core.display.HTML object>"
      ]
     },
     "metadata": {},
     "output_type": "display_data"
    },
    {
     "name": "stdout",
     "output_type": "stream",
     "text": [
      "Found 9000 images belonging to 10 classes.\n",
      "Found 999 images belonging to 10 classes.\n",
      "Found 2000 images belonging to 10 classes.\n",
      "Epoch 1/25\n",
      "180/180 [==============================] - 77s 393ms/step - loss: 2.5937 - accuracy: 0.1621 - val_loss: 2.7130 - val_accuracy: 0.1331\n",
      "Epoch 2/25\n",
      "180/180 [==============================] - 68s 376ms/step - loss: 2.1778 - accuracy: 0.2000 - val_loss: 2.2550 - val_accuracy: 0.1502\n",
      "Epoch 3/25\n",
      "180/180 [==============================] - 69s 386ms/step - loss: 2.1477 - accuracy: 0.2068 - val_loss: 2.4065 - val_accuracy: 0.1692\n",
      "Epoch 4/25\n",
      "180/180 [==============================] - 69s 382ms/step - loss: 2.1366 - accuracy: 0.2178 - val_loss: 2.2841 - val_accuracy: 0.1752\n",
      "Epoch 5/25\n",
      "180/180 [==============================] - 68s 379ms/step - loss: 2.1144 - accuracy: 0.2249 - val_loss: 2.1577 - val_accuracy: 0.2022\n",
      "Epoch 6/25\n",
      "180/180 [==============================] - 68s 380ms/step - loss: 2.0979 - accuracy: 0.2273 - val_loss: 2.1977 - val_accuracy: 0.1862\n",
      "Epoch 7/25\n",
      "180/180 [==============================] - 69s 382ms/step - loss: 2.0827 - accuracy: 0.2333 - val_loss: 2.1574 - val_accuracy: 0.2112\n",
      "Epoch 8/25\n",
      "180/180 [==============================] - 70s 388ms/step - loss: 2.0670 - accuracy: 0.2374 - val_loss: 2.1122 - val_accuracy: 0.2362\n",
      "Epoch 9/25\n",
      "180/180 [==============================] - 72s 401ms/step - loss: 2.0515 - accuracy: 0.2472 - val_loss: 2.1474 - val_accuracy: 0.2372\n",
      "Epoch 10/25\n",
      "180/180 [==============================] - 68s 376ms/step - loss: 2.0327 - accuracy: 0.2604 - val_loss: 2.5157 - val_accuracy: 0.1682\n",
      "Epoch 11/25\n",
      "180/180 [==============================] - 67s 374ms/step - loss: 2.0116 - accuracy: 0.2668 - val_loss: 2.3186 - val_accuracy: 0.1942\n",
      "Epoch 12/25\n",
      "180/180 [==============================] - 69s 380ms/step - loss: 2.0007 - accuracy: 0.2689 - val_loss: 2.1818 - val_accuracy: 0.2212\n",
      "Epoch 13/25\n",
      "180/180 [==============================] - 68s 380ms/step - loss: 1.9838 - accuracy: 0.2810 - val_loss: 2.0938 - val_accuracy: 0.2392\n",
      "Epoch 14/25\n",
      "180/180 [==============================] - 68s 379ms/step - loss: 1.9691 - accuracy: 0.2832 - val_loss: 2.1266 - val_accuracy: 0.2462\n",
      "Epoch 15/25\n",
      "180/180 [==============================] - 73s 407ms/step - loss: 1.9395 - accuracy: 0.2964 - val_loss: 2.0541 - val_accuracy: 0.2733\n",
      "Epoch 16/25\n",
      "180/180 [==============================] - 72s 396ms/step - loss: 1.9065 - accuracy: 0.3074 - val_loss: 2.0547 - val_accuracy: 0.3013\n",
      "Epoch 17/25\n",
      "180/180 [==============================] - 68s 378ms/step - loss: 1.8776 - accuracy: 0.3221 - val_loss: 2.1578 - val_accuracy: 0.2513\n",
      "Epoch 18/25\n",
      "180/180 [==============================] - 69s 382ms/step - loss: 1.8381 - accuracy: 0.3433 - val_loss: 2.0360 - val_accuracy: 0.2923\n",
      "Epoch 19/25\n",
      "180/180 [==============================] - 93s 517ms/step - loss: 1.7882 - accuracy: 0.3616 - val_loss: 2.0557 - val_accuracy: 0.2933\n",
      "Epoch 20/25\n",
      "180/180 [==============================] - 96s 534ms/step - loss: 1.7337 - accuracy: 0.3732 - val_loss: 2.1839 - val_accuracy: 0.2593\n",
      "Epoch 21/25\n",
      "180/180 [==============================] - 92s 510ms/step - loss: 1.6820 - accuracy: 0.4040 - val_loss: 2.0817 - val_accuracy: 0.3133\n",
      "Epoch 22/25\n",
      "180/180 [==============================] - 92s 510ms/step - loss: 1.6131 - accuracy: 0.4247 - val_loss: 2.1250 - val_accuracy: 0.3073\n",
      "Epoch 23/25\n",
      "180/180 [==============================] - 93s 517ms/step - loss: 1.5178 - accuracy: 0.4656 - val_loss: 2.4540 - val_accuracy: 0.2993\n",
      "Epoch 24/25\n",
      "180/180 [==============================] - 93s 517ms/step - loss: 1.4481 - accuracy: 0.4880 - val_loss: 2.5401 - val_accuracy: 0.2993\n",
      "Epoch 25/25\n",
      "180/180 [==============================] - 94s 523ms/step - loss: 1.3485 - accuracy: 0.5221 - val_loss: 2.6360 - val_accuracy: 0.2853\n",
      "\n"
     ]
    },
    {
     "data": {
      "text/html": [
       "Waiting for W&B process to finish... <strong style=\"color:green\">(success).</strong>"
      ],
      "text/plain": [
       "<IPython.core.display.HTML object>"
      ]
     },
     "metadata": {},
     "output_type": "display_data"
    },
    {
     "data": {
      "text/html": [
       "<style>\n",
       "    table.wandb td:nth-child(1) { padding: 0 10px; text-align: right }\n",
       "    .wandb-row { display: flex; flex-direction: row; flex-wrap: wrap; width: 100% }\n",
       "    .wandb-col { display: flex; flex-direction: column; flex-basis: 100%; flex: 1; padding: 10px; }\n",
       "    </style>\n",
       "<div class=\"wandb-row\"><div class=\"wandb-col\"><h3>Run history:</h3><br/><table class=\"wandb\"><tr><td>accuracy</td><td>▁▂▂▂▂▂▂▂▃▃▃▃▃▃▄▄▄▅▅▅▆▆▇▇█</td></tr><tr><td>epoch</td><td>▁▁▂▂▂▂▃▃▃▄▄▄▅▅▅▅▆▆▆▇▇▇▇██</td></tr><tr><td>loss</td><td>█▆▅▅▅▅▅▅▅▅▅▅▅▄▄▄▄▄▃▃▃▂▂▂▁</td></tr><tr><td>val_accuracy</td><td>▁▂▂▃▄▃▄▅▅▂▃▄▅▅▆█▆▇▇▆██▇▇▇</td></tr><tr><td>val_loss</td><td>█▃▅▄▂▃▂▂▂▆▄▃▂▂▁▁▂▁▁▃▁▂▅▆▇</td></tr></table><br/></div><div class=\"wandb-col\"><h3>Run summary:</h3><br/><table class=\"wandb\"><tr><td>accuracy</td><td>0.52211</td></tr><tr><td>best_epoch</td><td>17</td></tr><tr><td>best_val_loss</td><td>2.03601</td></tr><tr><td>epoch</td><td>24</td></tr><tr><td>loss</td><td>1.34846</td></tr><tr><td>val_accuracy</td><td>0.28529</td></tr><tr><td>val_loss</td><td>2.63604</td></tr></table><br/></div></div>"
      ],
      "text/plain": [
       "<IPython.core.display.HTML object>"
      ]
     },
     "metadata": {},
     "output_type": "display_data"
    },
    {
     "data": {
      "text/html": [
       "Synced <strong style=\"color:#cdcd00\">decent-sweep-1</strong>: <a href=\"https://wandb.ai/cs21m029_keyur_raval/DL_CS6910_Assignment2/runs/j9kt0cg9\" target=\"_blank\">https://wandb.ai/cs21m029_keyur_raval/DL_CS6910_Assignment2/runs/j9kt0cg9</a><br/>Synced 6 W&B file(s), 1 media file(s), 0 artifact file(s) and 10 other file(s)"
      ],
      "text/plain": [
       "<IPython.core.display.HTML object>"
      ]
     },
     "metadata": {},
     "output_type": "display_data"
    },
    {
     "data": {
      "text/html": [
       "Find logs at: <code>.\\wandb\\run-20220408_000004-j9kt0cg9\\logs</code>"
      ],
      "text/plain": [
       "<IPython.core.display.HTML object>"
      ]
     },
     "metadata": {},
     "output_type": "display_data"
    },
    {
     "name": "stderr",
     "output_type": "stream",
     "text": [
      "\u001b[34m\u001b[1mwandb\u001b[0m: Agent Starting Run: mmsdn308 with config:\n",
      "\u001b[34m\u001b[1mwandb\u001b[0m: \taugment_data: True\n",
      "\u001b[34m\u001b[1mwandb\u001b[0m: \tbatch_norm: False\n",
      "\u001b[34m\u001b[1mwandb\u001b[0m: \tdense_size: 64\n",
      "\u001b[34m\u001b[1mwandb\u001b[0m: \tdropout: 0\n",
      "\u001b[34m\u001b[1mwandb\u001b[0m: \tepochs: 25\n",
      "\u001b[34m\u001b[1mwandb\u001b[0m: \tlr: 0.001\n",
      "\u001b[34m\u001b[1mwandb\u001b[0m: \tno_of_filters_1: 4\n",
      "\u001b[34m\u001b[1mwandb\u001b[0m: \tno_of_filters_2: 16\n",
      "\u001b[34m\u001b[1mwandb\u001b[0m: \tno_of_filters_3: 16\n",
      "\u001b[34m\u001b[1mwandb\u001b[0m: \tno_of_filters_4: 24\n",
      "\u001b[34m\u001b[1mwandb\u001b[0m: \tno_of_filters_5: 32\n"
     ]
    },
    {
     "data": {
      "text/html": [
       "wandb version 0.12.13 is available!  To upgrade, please run:\n",
       " $ pip install wandb --upgrade"
      ],
      "text/plain": [
       "<IPython.core.display.HTML object>"
      ]
     },
     "metadata": {},
     "output_type": "display_data"
    },
    {
     "data": {
      "text/html": [
       "Tracking run with wandb version 0.12.12"
      ],
      "text/plain": [
       "<IPython.core.display.HTML object>"
      ]
     },
     "metadata": {},
     "output_type": "display_data"
    },
    {
     "data": {
      "text/html": [
       "Run data is saved locally in <code>C:\\Users\\Keyur\\Documents\\DL\\A2\\P1\\wandb\\run-20220408_003215-mmsdn308</code>"
      ],
      "text/plain": [
       "<IPython.core.display.HTML object>"
      ]
     },
     "metadata": {},
     "output_type": "display_data"
    },
    {
     "data": {
      "text/html": [
       "Syncing run <strong><a href=\"https://wandb.ai/cs21m029_keyur_raval/DL_CS6910_Assignment2/runs/mmsdn308\" target=\"_blank\">logical-sweep-2</a></strong> to <a href=\"https://wandb.ai/cs21m029_keyur_raval/DL_CS6910_Assignment2\" target=\"_blank\">Weights & Biases</a> (<a href=\"https://wandb.me/run\" target=\"_blank\">docs</a>)<br/>Sweep page:  <a href=\"https://wandb.ai/cs21m029_keyur_raval/DL_CS6910_Assignment2/sweeps/61cgxeqz\" target=\"_blank\">https://wandb.ai/cs21m029_keyur_raval/DL_CS6910_Assignment2/sweeps/61cgxeqz</a>"
      ],
      "text/plain": [
       "<IPython.core.display.HTML object>"
      ]
     },
     "metadata": {},
     "output_type": "display_data"
    },
    {
     "name": "stdout",
     "output_type": "stream",
     "text": [
      "Found 9000 images belonging to 10 classes.\n",
      "Found 999 images belonging to 10 classes.\n",
      "Found 2000 images belonging to 10 classes.\n",
      "Epoch 1/25\n",
      "180/180 [==============================] - 131s 710ms/step - loss: 2.2875 - accuracy: 0.1154 - val_loss: 2.2346 - val_accuracy: 0.1922\n",
      "Epoch 2/25\n",
      "180/180 [==============================] - 123s 685ms/step - loss: 2.2067 - accuracy: 0.1832 - val_loss: 2.1970 - val_accuracy: 0.1992\n",
      "Epoch 3/25\n",
      "180/180 [==============================] - 117s 649ms/step - loss: 2.1539 - accuracy: 0.2144 - val_loss: 2.1483 - val_accuracy: 0.2092\n",
      "Epoch 4/25\n",
      "180/180 [==============================] - 121s 671ms/step - loss: 2.1350 - accuracy: 0.2218 - val_loss: 2.1407 - val_accuracy: 0.2292\n",
      "Epoch 5/25\n",
      "180/180 [==============================] - 119s 658ms/step - loss: 2.1039 - accuracy: 0.2401 - val_loss: 2.1215 - val_accuracy: 0.2182\n",
      "Epoch 6/25\n",
      "180/180 [==============================] - 117s 648ms/step - loss: 2.0824 - accuracy: 0.2477 - val_loss: 2.1026 - val_accuracy: 0.2482\n",
      "Epoch 7/25\n",
      "180/180 [==============================] - 121s 671ms/step - loss: 2.0621 - accuracy: 0.2570 - val_loss: 2.1246 - val_accuracy: 0.2402\n",
      "Epoch 8/25\n",
      "180/180 [==============================] - 117s 647ms/step - loss: 2.0452 - accuracy: 0.2604 - val_loss: 2.1022 - val_accuracy: 0.2503\n",
      "Epoch 9/25\n",
      "180/180 [==============================] - 117s 647ms/step - loss: 2.0363 - accuracy: 0.2650 - val_loss: 2.0558 - val_accuracy: 0.2693\n",
      "Epoch 10/25\n",
      "180/180 [==============================] - 117s 648ms/step - loss: 2.0175 - accuracy: 0.2672 - val_loss: 2.0771 - val_accuracy: 0.2503\n",
      "Epoch 11/25\n",
      "180/180 [==============================] - 117s 651ms/step - loss: 2.0016 - accuracy: 0.2764 - val_loss: 2.0066 - val_accuracy: 0.2783\n",
      "Epoch 12/25\n",
      "180/180 [==============================] - 116s 642ms/step - loss: 1.9755 - accuracy: 0.2901 - val_loss: 1.9988 - val_accuracy: 0.2773\n",
      "Epoch 13/25\n",
      "180/180 [==============================] - 116s 642ms/step - loss: 1.9695 - accuracy: 0.2904 - val_loss: 2.0342 - val_accuracy: 0.2953\n",
      "Epoch 14/25\n",
      "180/180 [==============================] - 116s 642ms/step - loss: 1.9606 - accuracy: 0.2946 - val_loss: 1.9720 - val_accuracy: 0.3123\n",
      "Epoch 15/25\n",
      "180/180 [==============================] - 116s 644ms/step - loss: 1.9376 - accuracy: 0.3091 - val_loss: 1.9784 - val_accuracy: 0.2973\n",
      "Epoch 16/25\n",
      "180/180 [==============================] - 117s 648ms/step - loss: 1.9346 - accuracy: 0.3123 - val_loss: 1.9588 - val_accuracy: 0.3093\n",
      "Epoch 17/25\n",
      "180/180 [==============================] - 116s 646ms/step - loss: 1.9207 - accuracy: 0.3073 - val_loss: 1.9545 - val_accuracy: 0.3133\n",
      "Epoch 18/25\n",
      "180/180 [==============================] - 117s 647ms/step - loss: 1.9052 - accuracy: 0.3206 - val_loss: 2.0116 - val_accuracy: 0.2953\n",
      "Epoch 19/25\n",
      "180/180 [==============================] - 116s 647ms/step - loss: 1.8964 - accuracy: 0.3288 - val_loss: 1.9278 - val_accuracy: 0.3143\n",
      "Epoch 20/25\n",
      "180/180 [==============================] - 116s 644ms/step - loss: 1.8788 - accuracy: 0.3252 - val_loss: 1.9412 - val_accuracy: 0.3153\n",
      "Epoch 21/25\n",
      "180/180 [==============================] - 116s 647ms/step - loss: 1.8753 - accuracy: 0.3373 - val_loss: 1.9252 - val_accuracy: 0.3263\n",
      "Epoch 22/25\n",
      "180/180 [==============================] - 116s 644ms/step - loss: 1.8679 - accuracy: 0.3394 - val_loss: 1.9606 - val_accuracy: 0.3143\n",
      "Epoch 23/25\n",
      "180/180 [==============================] - 115s 641ms/step - loss: 1.8622 - accuracy: 0.3378 - val_loss: 1.9227 - val_accuracy: 0.3273\n",
      "Epoch 24/25\n",
      "180/180 [==============================] - 117s 648ms/step - loss: 1.8439 - accuracy: 0.3437 - val_loss: 1.9227 - val_accuracy: 0.3323\n",
      "Epoch 25/25\n",
      "180/180 [==============================] - 117s 648ms/step - loss: 1.8474 - accuracy: 0.3432 - val_loss: 1.9584 - val_accuracy: 0.3003\n",
      "\n"
     ]
    },
    {
     "data": {
      "text/html": [
       "Waiting for W&B process to finish... <strong style=\"color:green\">(success).</strong>"
      ],
      "text/plain": [
       "<IPython.core.display.HTML object>"
      ]
     },
     "metadata": {},
     "output_type": "display_data"
    },
    {
     "data": {
      "text/html": [
       "<style>\n",
       "    table.wandb td:nth-child(1) { padding: 0 10px; text-align: right }\n",
       "    .wandb-row { display: flex; flex-direction: row; flex-wrap: wrap; width: 100% }\n",
       "    .wandb-col { display: flex; flex-direction: column; flex-basis: 100%; flex: 1; padding: 10px; }\n",
       "    </style>\n",
       "<div class=\"wandb-row\"><div class=\"wandb-col\"><h3>Run history:</h3><br/><table class=\"wandb\"><tr><td>accuracy</td><td>▁▃▄▄▅▅▅▅▆▆▆▆▆▆▇▇▇▇█▇█████</td></tr><tr><td>epoch</td><td>▁▁▂▂▂▂▃▃▃▄▄▄▅▅▅▅▆▆▆▇▇▇▇██</td></tr><tr><td>loss</td><td>█▇▆▆▅▅▄▄▄▄▃▃▃▃▂▂▂▂▂▂▁▁▁▁▁</td></tr><tr><td>val_accuracy</td><td>▁▁▂▃▂▄▃▄▅▄▅▅▆▇▆▇▇▆▇▇█▇██▆</td></tr><tr><td>val_loss</td><td>█▇▆▆▅▅▆▅▄▄▃▃▄▂▂▂▂▃▁▁▁▂▁▁▂</td></tr></table><br/></div><div class=\"wandb-col\"><h3>Run summary:</h3><br/><table class=\"wandb\"><tr><td>accuracy</td><td>0.34322</td></tr><tr><td>best_epoch</td><td>23</td></tr><tr><td>best_val_loss</td><td>1.92265</td></tr><tr><td>epoch</td><td>24</td></tr><tr><td>loss</td><td>1.84742</td></tr><tr><td>val_accuracy</td><td>0.3003</td></tr><tr><td>val_loss</td><td>1.9584</td></tr></table><br/></div></div>"
      ],
      "text/plain": [
       "<IPython.core.display.HTML object>"
      ]
     },
     "metadata": {},
     "output_type": "display_data"
    },
    {
     "data": {
      "text/html": [
       "Synced <strong style=\"color:#cdcd00\">logical-sweep-2</strong>: <a href=\"https://wandb.ai/cs21m029_keyur_raval/DL_CS6910_Assignment2/runs/mmsdn308\" target=\"_blank\">https://wandb.ai/cs21m029_keyur_raval/DL_CS6910_Assignment2/runs/mmsdn308</a><br/>Synced 6 W&B file(s), 1 media file(s), 0 artifact file(s) and 10 other file(s)"
      ],
      "text/plain": [
       "<IPython.core.display.HTML object>"
      ]
     },
     "metadata": {},
     "output_type": "display_data"
    },
    {
     "data": {
      "text/html": [
       "Find logs at: <code>.\\wandb\\run-20220408_003215-mmsdn308\\logs</code>"
      ],
      "text/plain": [
       "<IPython.core.display.HTML object>"
      ]
     },
     "metadata": {},
     "output_type": "display_data"
    },
    {
     "name": "stderr",
     "output_type": "stream",
     "text": [
      "\u001b[34m\u001b[1mwandb\u001b[0m: Sweep Agent: Waiting for job.\n",
      "\u001b[34m\u001b[1mwandb\u001b[0m: Job received.\n",
      "\u001b[34m\u001b[1mwandb\u001b[0m: Agent Starting Run: ubue9fu4 with config:\n",
      "\u001b[34m\u001b[1mwandb\u001b[0m: \taugment_data: True\n",
      "\u001b[34m\u001b[1mwandb\u001b[0m: \tbatch_norm: True\n",
      "\u001b[34m\u001b[1mwandb\u001b[0m: \tdense_size: 64\n",
      "\u001b[34m\u001b[1mwandb\u001b[0m: \tdropout: 0\n",
      "\u001b[34m\u001b[1mwandb\u001b[0m: \tepochs: 25\n",
      "\u001b[34m\u001b[1mwandb\u001b[0m: \tlr: 0.005\n",
      "\u001b[34m\u001b[1mwandb\u001b[0m: \tno_of_filters_1: 4\n",
      "\u001b[34m\u001b[1mwandb\u001b[0m: \tno_of_filters_2: 8\n",
      "\u001b[34m\u001b[1mwandb\u001b[0m: \tno_of_filters_3: 16\n",
      "\u001b[34m\u001b[1mwandb\u001b[0m: \tno_of_filters_4: 24\n",
      "\u001b[34m\u001b[1mwandb\u001b[0m: \tno_of_filters_5: 32\n"
     ]
    },
    {
     "data": {
      "text/html": [
       "wandb version 0.12.13 is available!  To upgrade, please run:\n",
       " $ pip install wandb --upgrade"
      ],
      "text/plain": [
       "<IPython.core.display.HTML object>"
      ]
     },
     "metadata": {},
     "output_type": "display_data"
    },
    {
     "data": {
      "text/html": [
       "Tracking run with wandb version 0.12.12"
      ],
      "text/plain": [
       "<IPython.core.display.HTML object>"
      ]
     },
     "metadata": {},
     "output_type": "display_data"
    },
    {
     "data": {
      "text/html": [
       "Run data is saved locally in <code>C:\\Users\\Keyur\\Documents\\DL\\A2\\P1\\wandb\\run-20220408_025020-ubue9fu4</code>"
      ],
      "text/plain": [
       "<IPython.core.display.HTML object>"
      ]
     },
     "metadata": {},
     "output_type": "display_data"
    },
    {
     "data": {
      "text/html": [
       "Syncing run <strong><a href=\"https://wandb.ai/cs21m029_keyur_raval/DL_CS6910_Assignment2/runs/ubue9fu4\" target=\"_blank\">kind-sweep-3</a></strong> to <a href=\"https://wandb.ai/cs21m029_keyur_raval/DL_CS6910_Assignment2\" target=\"_blank\">Weights & Biases</a> (<a href=\"https://wandb.me/run\" target=\"_blank\">docs</a>)<br/>Sweep page:  <a href=\"https://wandb.ai/cs21m029_keyur_raval/DL_CS6910_Assignment2/sweeps/61cgxeqz\" target=\"_blank\">https://wandb.ai/cs21m029_keyur_raval/DL_CS6910_Assignment2/sweeps/61cgxeqz</a>"
      ],
      "text/plain": [
       "<IPython.core.display.HTML object>"
      ]
     },
     "metadata": {},
     "output_type": "display_data"
    },
    {
     "name": "stdout",
     "output_type": "stream",
     "text": [
      "Found 9000 images belonging to 10 classes.\n",
      "Found 999 images belonging to 10 classes.\n",
      "Found 2000 images belonging to 10 classes.\n",
      "Epoch 1/25\n",
      "180/180 [==============================] - 118s 652ms/step - loss: 2.3608 - accuracy: 0.1583 - val_loss: 2.7581 - val_accuracy: 0.1401\n",
      "Epoch 2/25\n",
      "180/180 [==============================] - 115s 642ms/step - loss: 2.1645 - accuracy: 0.2009 - val_loss: 2.4436 - val_accuracy: 0.1532\n",
      "Epoch 3/25\n",
      "180/180 [==============================] - 115s 641ms/step - loss: 2.1302 - accuracy: 0.2252 - val_loss: 2.3673 - val_accuracy: 0.1912\n",
      "Epoch 4/25\n",
      "180/180 [==============================] - 116s 644ms/step - loss: 2.0979 - accuracy: 0.2412 - val_loss: 2.1323 - val_accuracy: 0.2142\n",
      "Epoch 5/25\n",
      "180/180 [==============================] - 116s 645ms/step - loss: 2.0727 - accuracy: 0.2480 - val_loss: 2.0981 - val_accuracy: 0.2643\n",
      "Epoch 6/25\n",
      "180/180 [==============================] - 116s 647ms/step - loss: 2.0604 - accuracy: 0.2434 - val_loss: 2.2416 - val_accuracy: 0.1912\n",
      "Epoch 7/25\n",
      "180/180 [==============================] - 116s 645ms/step - loss: 2.0489 - accuracy: 0.2529 - val_loss: 2.1510 - val_accuracy: 0.2663\n",
      "Epoch 8/25\n",
      "180/180 [==============================] - 116s 647ms/step - loss: 2.0404 - accuracy: 0.2566 - val_loss: 2.2086 - val_accuracy: 0.2212\n",
      "Epoch 9/25\n",
      "180/180 [==============================] - 116s 647ms/step - loss: 2.0202 - accuracy: 0.2673 - val_loss: 2.0361 - val_accuracy: 0.2683\n",
      "Epoch 10/25\n",
      "180/180 [==============================] - 117s 649ms/step - loss: 1.9994 - accuracy: 0.2770 - val_loss: 2.0615 - val_accuracy: 0.2793\n",
      "Epoch 11/25\n",
      "180/180 [==============================] - 116s 646ms/step - loss: 1.9894 - accuracy: 0.2828 - val_loss: 2.0744 - val_accuracy: 0.2462\n",
      "Epoch 12/25\n",
      "180/180 [==============================] - 116s 646ms/step - loss: 1.9774 - accuracy: 0.2858 - val_loss: 2.0300 - val_accuracy: 0.2963\n",
      "Epoch 13/25\n",
      "180/180 [==============================] - 116s 643ms/step - loss: 1.9632 - accuracy: 0.2972 - val_loss: 2.0763 - val_accuracy: 0.2653\n",
      "Epoch 14/25\n",
      "180/180 [==============================] - 116s 646ms/step - loss: 1.9588 - accuracy: 0.2964 - val_loss: 2.0617 - val_accuracy: 0.2703\n",
      "Epoch 15/25\n",
      "180/180 [==============================] - 117s 649ms/step - loss: 1.9353 - accuracy: 0.3060 - val_loss: 2.1063 - val_accuracy: 0.2583\n",
      "Epoch 16/25\n",
      "180/180 [==============================] - 116s 645ms/step - loss: 1.9232 - accuracy: 0.3182 - val_loss: 2.3165 - val_accuracy: 0.2573\n",
      "Epoch 17/25\n",
      "180/180 [==============================] - 116s 643ms/step - loss: 1.9116 - accuracy: 0.3189 - val_loss: 1.9769 - val_accuracy: 0.3103\n",
      "Epoch 18/25\n",
      "180/180 [==============================] - 116s 645ms/step - loss: 1.9026 - accuracy: 0.3251 - val_loss: 1.9567 - val_accuracy: 0.3423\n",
      "Epoch 19/25\n",
      "180/180 [==============================] - 116s 643ms/step - loss: 1.8903 - accuracy: 0.3307 - val_loss: 2.2853 - val_accuracy: 0.2282\n",
      "Epoch 20/25\n",
      "180/180 [==============================] - 116s 646ms/step - loss: 1.8750 - accuracy: 0.3401 - val_loss: 1.9450 - val_accuracy: 0.3243\n",
      "Epoch 21/25\n",
      "180/180 [==============================] - 116s 646ms/step - loss: 1.8636 - accuracy: 0.3394 - val_loss: 2.6775 - val_accuracy: 0.2132\n",
      "Epoch 22/25\n",
      "180/180 [==============================] - 116s 642ms/step - loss: 1.8664 - accuracy: 0.3390 - val_loss: 1.8858 - val_accuracy: 0.3313\n",
      "Epoch 23/25\n",
      "180/180 [==============================] - 116s 644ms/step - loss: 1.8406 - accuracy: 0.3500 - val_loss: 1.9672 - val_accuracy: 0.3183\n",
      "Epoch 24/25\n",
      "180/180 [==============================] - 115s 641ms/step - loss: 1.8263 - accuracy: 0.3519 - val_loss: 1.8704 - val_accuracy: 0.3353\n",
      "Epoch 25/25\n",
      "180/180 [==============================] - 116s 645ms/step - loss: 1.8270 - accuracy: 0.3561 - val_loss: 2.0534 - val_accuracy: 0.2943\n",
      "\n"
     ]
    },
    {
     "data": {
      "text/html": [
       "Waiting for W&B process to finish... <strong style=\"color:green\">(success).</strong>"
      ],
      "text/plain": [
       "<IPython.core.display.HTML object>"
      ]
     },
     "metadata": {},
     "output_type": "display_data"
    },
    {
     "data": {
      "text/html": [
       "<style>\n",
       "    table.wandb td:nth-child(1) { padding: 0 10px; text-align: right }\n",
       "    .wandb-row { display: flex; flex-direction: row; flex-wrap: wrap; width: 100% }\n",
       "    .wandb-col { display: flex; flex-direction: column; flex-basis: 100%; flex: 1; padding: 10px; }\n",
       "    </style>\n",
       "<div class=\"wandb-row\"><div class=\"wandb-col\"><h3>Run history:</h3><br/><table class=\"wandb\"><tr><td>accuracy</td><td>▁▃▃▄▄▄▄▄▅▅▅▆▆▆▆▇▇▇▇▇▇▇███</td></tr><tr><td>epoch</td><td>▁▁▂▂▂▂▃▃▃▄▄▄▅▅▅▅▆▆▆▇▇▇▇██</td></tr><tr><td>loss</td><td>█▅▅▅▄▄▄▄▄▃▃▃▃▃▂▂▂▂▂▂▁▂▁▁▁</td></tr><tr><td>val_accuracy</td><td>▁▁▃▄▅▃▅▄▅▆▅▆▅▆▅▅▇█▄▇▄█▇█▆</td></tr><tr><td>val_loss</td><td>█▆▅▃▃▄▃▄▂▃▃▂▃▃▃▅▂▂▄▂▇▁▂▁▂</td></tr></table><br/></div><div class=\"wandb-col\"><h3>Run summary:</h3><br/><table class=\"wandb\"><tr><td>accuracy</td><td>0.35611</td></tr><tr><td>best_epoch</td><td>23</td></tr><tr><td>best_val_loss</td><td>1.87036</td></tr><tr><td>epoch</td><td>24</td></tr><tr><td>loss</td><td>1.82699</td></tr><tr><td>val_accuracy</td><td>0.29429</td></tr><tr><td>val_loss</td><td>2.05337</td></tr></table><br/></div></div>"
      ],
      "text/plain": [
       "<IPython.core.display.HTML object>"
      ]
     },
     "metadata": {},
     "output_type": "display_data"
    },
    {
     "data": {
      "text/html": [
       "Synced <strong style=\"color:#cdcd00\">kind-sweep-3</strong>: <a href=\"https://wandb.ai/cs21m029_keyur_raval/DL_CS6910_Assignment2/runs/ubue9fu4\" target=\"_blank\">https://wandb.ai/cs21m029_keyur_raval/DL_CS6910_Assignment2/runs/ubue9fu4</a><br/>Synced 6 W&B file(s), 1 media file(s), 0 artifact file(s) and 10 other file(s)"
      ],
      "text/plain": [
       "<IPython.core.display.HTML object>"
      ]
     },
     "metadata": {},
     "output_type": "display_data"
    },
    {
     "data": {
      "text/html": [
       "Find logs at: <code>.\\wandb\\run-20220408_025020-ubue9fu4\\logs</code>"
      ],
      "text/plain": [
       "<IPython.core.display.HTML object>"
      ]
     },
     "metadata": {},
     "output_type": "display_data"
    },
    {
     "name": "stderr",
     "output_type": "stream",
     "text": [
      "\u001b[34m\u001b[1mwandb\u001b[0m: Agent Starting Run: owd4hf7a with config:\n",
      "\u001b[34m\u001b[1mwandb\u001b[0m: \taugment_data: False\n",
      "\u001b[34m\u001b[1mwandb\u001b[0m: \tbatch_norm: True\n",
      "\u001b[34m\u001b[1mwandb\u001b[0m: \tdense_size: 64\n",
      "\u001b[34m\u001b[1mwandb\u001b[0m: \tdropout: 0\n",
      "\u001b[34m\u001b[1mwandb\u001b[0m: \tepochs: 25\n",
      "\u001b[34m\u001b[1mwandb\u001b[0m: \tlr: 0.01\n",
      "\u001b[34m\u001b[1mwandb\u001b[0m: \tno_of_filters_1: 4\n",
      "\u001b[34m\u001b[1mwandb\u001b[0m: \tno_of_filters_2: 8\n",
      "\u001b[34m\u001b[1mwandb\u001b[0m: \tno_of_filters_3: 24\n",
      "\u001b[34m\u001b[1mwandb\u001b[0m: \tno_of_filters_4: 32\n",
      "\u001b[34m\u001b[1mwandb\u001b[0m: \tno_of_filters_5: 32\n"
     ]
    },
    {
     "data": {
      "text/html": [
       "wandb version 0.12.13 is available!  To upgrade, please run:\n",
       " $ pip install wandb --upgrade"
      ],
      "text/plain": [
       "<IPython.core.display.HTML object>"
      ]
     },
     "metadata": {},
     "output_type": "display_data"
    },
    {
     "data": {
      "text/html": [
       "Tracking run with wandb version 0.12.12"
      ],
      "text/plain": [
       "<IPython.core.display.HTML object>"
      ]
     },
     "metadata": {},
     "output_type": "display_data"
    },
    {
     "data": {
      "text/html": [
       "Run data is saved locally in <code>C:\\Users\\Keyur\\Documents\\DL\\A2\\P1\\wandb\\run-20220408_033900-owd4hf7a</code>"
      ],
      "text/plain": [
       "<IPython.core.display.HTML object>"
      ]
     },
     "metadata": {},
     "output_type": "display_data"
    },
    {
     "data": {
      "text/html": [
       "Syncing run <strong><a href=\"https://wandb.ai/cs21m029_keyur_raval/DL_CS6910_Assignment2/runs/owd4hf7a\" target=\"_blank\">gentle-sweep-4</a></strong> to <a href=\"https://wandb.ai/cs21m029_keyur_raval/DL_CS6910_Assignment2\" target=\"_blank\">Weights & Biases</a> (<a href=\"https://wandb.me/run\" target=\"_blank\">docs</a>)<br/>Sweep page:  <a href=\"https://wandb.ai/cs21m029_keyur_raval/DL_CS6910_Assignment2/sweeps/61cgxeqz\" target=\"_blank\">https://wandb.ai/cs21m029_keyur_raval/DL_CS6910_Assignment2/sweeps/61cgxeqz</a>"
      ],
      "text/plain": [
       "<IPython.core.display.HTML object>"
      ]
     },
     "metadata": {},
     "output_type": "display_data"
    },
    {
     "name": "stdout",
     "output_type": "stream",
     "text": [
      "Found 9000 images belonging to 10 classes.\n",
      "Found 999 images belonging to 10 classes.\n",
      "Found 2000 images belonging to 10 classes.\n",
      "Epoch 1/25\n",
      "180/180 [==============================] - 71s 386ms/step - loss: 2.4742 - accuracy: 0.1318 - val_loss: 2.2837 - val_accuracy: 0.1411\n",
      "Epoch 2/25\n",
      "180/180 [==============================] - 68s 379ms/step - loss: 2.2738 - accuracy: 0.1331 - val_loss: 2.4166 - val_accuracy: 0.1121\n",
      "Epoch 3/25\n",
      "180/180 [==============================] - 68s 379ms/step - loss: 2.2594 - accuracy: 0.1546 - val_loss: 2.2500 - val_accuracy: 0.1582\n",
      "Epoch 4/25\n",
      "180/180 [==============================] - 69s 381ms/step - loss: 2.2471 - accuracy: 0.1563 - val_loss: 2.2499 - val_accuracy: 0.1702\n",
      "Epoch 5/25\n",
      "180/180 [==============================] - 68s 378ms/step - loss: 2.2358 - accuracy: 0.1549 - val_loss: 2.4193 - val_accuracy: 0.1351\n",
      "Epoch 6/25\n",
      "180/180 [==============================] - 68s 380ms/step - loss: 2.2254 - accuracy: 0.1669 - val_loss: 2.2586 - val_accuracy: 0.1451\n",
      "Epoch 7/25\n",
      "180/180 [==============================] - 68s 379ms/step - loss: 2.2094 - accuracy: 0.1761 - val_loss: 2.5263 - val_accuracy: 0.1161\n",
      "Epoch 8/25\n",
      "180/180 [==============================] - 68s 377ms/step - loss: 2.2003 - accuracy: 0.1762 - val_loss: 2.3147 - val_accuracy: 0.1481\n",
      "Epoch 9/25\n",
      "180/180 [==============================] - 68s 379ms/step - loss: 2.1837 - accuracy: 0.1828 - val_loss: 2.2376 - val_accuracy: 0.1662\n",
      "Epoch 10/25\n",
      "180/180 [==============================] - 68s 378ms/step - loss: 2.1858 - accuracy: 0.1877 - val_loss: 2.2723 - val_accuracy: 0.1942\n",
      "Epoch 11/25\n",
      "180/180 [==============================] - 68s 376ms/step - loss: 2.1651 - accuracy: 0.1908 - val_loss: 2.1994 - val_accuracy: 0.1852\n",
      "Epoch 12/25\n",
      "180/180 [==============================] - 68s 378ms/step - loss: 2.1614 - accuracy: 0.2016 - val_loss: 2.2536 - val_accuracy: 0.2062\n",
      "Epoch 13/25\n",
      "180/180 [==============================] - 68s 379ms/step - loss: 2.1353 - accuracy: 0.2212 - val_loss: 2.1480 - val_accuracy: 0.2282\n",
      "Epoch 14/25\n",
      "180/180 [==============================] - 68s 378ms/step - loss: 2.1121 - accuracy: 0.2342 - val_loss: 2.1424 - val_accuracy: 0.2292\n",
      "Epoch 15/25\n",
      "180/180 [==============================] - 68s 379ms/step - loss: 2.0826 - accuracy: 0.2451 - val_loss: 2.1417 - val_accuracy: 0.2352\n",
      "Epoch 16/25\n",
      "180/180 [==============================] - 68s 378ms/step - loss: 2.0679 - accuracy: 0.2557 - val_loss: 2.1332 - val_accuracy: 0.2292\n",
      "Epoch 17/25\n",
      "180/180 [==============================] - 69s 381ms/step - loss: 2.0285 - accuracy: 0.2649 - val_loss: 2.2177 - val_accuracy: 0.2232\n",
      "Epoch 18/25\n",
      "180/180 [==============================] - 68s 379ms/step - loss: 2.0109 - accuracy: 0.2728 - val_loss: 2.4321 - val_accuracy: 0.2252\n",
      "Epoch 19/25\n",
      "180/180 [==============================] - 68s 380ms/step - loss: 1.9839 - accuracy: 0.2949 - val_loss: 2.2926 - val_accuracy: 0.2513\n",
      "Epoch 20/25\n",
      "180/180 [==============================] - 68s 380ms/step - loss: 1.9480 - accuracy: 0.3053 - val_loss: 2.1660 - val_accuracy: 0.2462\n",
      "Epoch 21/25\n",
      "180/180 [==============================] - 68s 375ms/step - loss: 1.9119 - accuracy: 0.3098 - val_loss: 2.2214 - val_accuracy: 0.2332\n",
      "Epoch 22/25\n",
      "180/180 [==============================] - 68s 379ms/step - loss: 1.8745 - accuracy: 0.3373 - val_loss: 2.2102 - val_accuracy: 0.2422\n",
      "Epoch 23/25\n",
      "180/180 [==============================] - 69s 382ms/step - loss: 1.7950 - accuracy: 0.3636 - val_loss: 2.3760 - val_accuracy: 0.2533\n",
      "Epoch 24/25\n",
      "180/180 [==============================] - 68s 378ms/step - loss: 1.7552 - accuracy: 0.3777 - val_loss: 2.4232 - val_accuracy: 0.2613\n",
      "Epoch 25/25\n",
      "180/180 [==============================] - 68s 379ms/step - loss: 1.6860 - accuracy: 0.4083 - val_loss: 2.5040 - val_accuracy: 0.2543\n",
      "\n"
     ]
    },
    {
     "data": {
      "text/html": [
       "Waiting for W&B process to finish... <strong style=\"color:green\">(success).</strong>"
      ],
      "text/plain": [
       "<IPython.core.display.HTML object>"
      ]
     },
     "metadata": {},
     "output_type": "display_data"
    },
    {
     "data": {
      "text/html": [
       "<style>\n",
       "    table.wandb td:nth-child(1) { padding: 0 10px; text-align: right }\n",
       "    .wandb-row { display: flex; flex-direction: row; flex-wrap: wrap; width: 100% }\n",
       "    .wandb-col { display: flex; flex-direction: column; flex-basis: 100%; flex: 1; padding: 10px; }\n",
       "    </style>\n",
       "<div class=\"wandb-row\"><div class=\"wandb-col\"><h3>Run history:</h3><br/><table class=\"wandb\"><tr><td>accuracy</td><td>▁▁▂▂▂▂▂▂▂▂▂▃▃▄▄▄▄▅▅▅▆▆▇▇█</td></tr><tr><td>epoch</td><td>▁▁▂▂▂▂▃▃▃▄▄▄▅▅▅▅▆▆▆▇▇▇▇██</td></tr><tr><td>loss</td><td>█▆▆▆▆▆▆▆▅▅▅▅▅▅▅▄▄▄▄▃▃▃▂▂▁</td></tr><tr><td>val_accuracy</td><td>▂▁▃▄▂▃▁▃▄▅▄▅▆▆▇▆▆▆█▇▇▇███</td></tr><tr><td>val_loss</td><td>▄▆▃▃▆▃█▄▃▃▂▃▁▁▁▁▃▆▄▂▃▂▅▆█</td></tr></table><br/></div><div class=\"wandb-col\"><h3>Run summary:</h3><br/><table class=\"wandb\"><tr><td>accuracy</td><td>0.40833</td></tr><tr><td>best_epoch</td><td>15</td></tr><tr><td>best_val_loss</td><td>2.13321</td></tr><tr><td>epoch</td><td>24</td></tr><tr><td>loss</td><td>1.68604</td></tr><tr><td>val_accuracy</td><td>0.25425</td></tr><tr><td>val_loss</td><td>2.50399</td></tr></table><br/></div></div>"
      ],
      "text/plain": [
       "<IPython.core.display.HTML object>"
      ]
     },
     "metadata": {},
     "output_type": "display_data"
    },
    {
     "data": {
      "text/html": [
       "Synced <strong style=\"color:#cdcd00\">gentle-sweep-4</strong>: <a href=\"https://wandb.ai/cs21m029_keyur_raval/DL_CS6910_Assignment2/runs/owd4hf7a\" target=\"_blank\">https://wandb.ai/cs21m029_keyur_raval/DL_CS6910_Assignment2/runs/owd4hf7a</a><br/>Synced 6 W&B file(s), 1 media file(s), 0 artifact file(s) and 10 other file(s)"
      ],
      "text/plain": [
       "<IPython.core.display.HTML object>"
      ]
     },
     "metadata": {},
     "output_type": "display_data"
    },
    {
     "data": {
      "text/html": [
       "Find logs at: <code>.\\wandb\\run-20220408_033900-owd4hf7a\\logs</code>"
      ],
      "text/plain": [
       "<IPython.core.display.HTML object>"
      ]
     },
     "metadata": {},
     "output_type": "display_data"
    },
    {
     "name": "stderr",
     "output_type": "stream",
     "text": [
      "\u001b[34m\u001b[1mwandb\u001b[0m: Agent Starting Run: lp3o5h8j with config:\n",
      "\u001b[34m\u001b[1mwandb\u001b[0m: \taugment_data: False\n",
      "\u001b[34m\u001b[1mwandb\u001b[0m: \tbatch_norm: True\n",
      "\u001b[34m\u001b[1mwandb\u001b[0m: \tdense_size: 128\n",
      "\u001b[34m\u001b[1mwandb\u001b[0m: \tdropout: 0.1\n",
      "\u001b[34m\u001b[1mwandb\u001b[0m: \tepochs: 25\n",
      "\u001b[34m\u001b[1mwandb\u001b[0m: \tlr: 0.005\n",
      "\u001b[34m\u001b[1mwandb\u001b[0m: \tno_of_filters_1: 8\n",
      "\u001b[34m\u001b[1mwandb\u001b[0m: \tno_of_filters_2: 8\n",
      "\u001b[34m\u001b[1mwandb\u001b[0m: \tno_of_filters_3: 16\n",
      "\u001b[34m\u001b[1mwandb\u001b[0m: \tno_of_filters_4: 32\n",
      "\u001b[34m\u001b[1mwandb\u001b[0m: \tno_of_filters_5: 32\n"
     ]
    },
    {
     "data": {
      "text/html": [
       "wandb version 0.12.13 is available!  To upgrade, please run:\n",
       " $ pip install wandb --upgrade"
      ],
      "text/plain": [
       "<IPython.core.display.HTML object>"
      ]
     },
     "metadata": {},
     "output_type": "display_data"
    },
    {
     "data": {
      "text/html": [
       "Tracking run with wandb version 0.12.12"
      ],
      "text/plain": [
       "<IPython.core.display.HTML object>"
      ]
     },
     "metadata": {},
     "output_type": "display_data"
    },
    {
     "data": {
      "text/html": [
       "Run data is saved locally in <code>C:\\Users\\Keyur\\Documents\\DL\\A2\\P1\\wandb\\run-20220408_040746-lp3o5h8j</code>"
      ],
      "text/plain": [
       "<IPython.core.display.HTML object>"
      ]
     },
     "metadata": {},
     "output_type": "display_data"
    },
    {
     "data": {
      "text/html": [
       "Syncing run <strong><a href=\"https://wandb.ai/cs21m029_keyur_raval/DL_CS6910_Assignment2/runs/lp3o5h8j\" target=\"_blank\">fluent-sweep-5</a></strong> to <a href=\"https://wandb.ai/cs21m029_keyur_raval/DL_CS6910_Assignment2\" target=\"_blank\">Weights & Biases</a> (<a href=\"https://wandb.me/run\" target=\"_blank\">docs</a>)<br/>Sweep page:  <a href=\"https://wandb.ai/cs21m029_keyur_raval/DL_CS6910_Assignment2/sweeps/61cgxeqz\" target=\"_blank\">https://wandb.ai/cs21m029_keyur_raval/DL_CS6910_Assignment2/sweeps/61cgxeqz</a>"
      ],
      "text/plain": [
       "<IPython.core.display.HTML object>"
      ]
     },
     "metadata": {},
     "output_type": "display_data"
    },
    {
     "name": "stdout",
     "output_type": "stream",
     "text": [
      "Found 9000 images belonging to 10 classes.\n",
      "Found 999 images belonging to 10 classes.\n",
      "Found 2000 images belonging to 10 classes.\n",
      "Epoch 1/25\n",
      "180/180 [==============================] - 70s 383ms/step - loss: 2.3674 - accuracy: 0.1828 - val_loss: 2.2997 - val_accuracy: 0.2002\n",
      "Epoch 2/25\n",
      "180/180 [==============================] - 69s 381ms/step - loss: 2.1336 - accuracy: 0.2273 - val_loss: 2.1838 - val_accuracy: 0.2222\n",
      "Epoch 3/25\n",
      "180/180 [==============================] - 68s 380ms/step - loss: 2.1087 - accuracy: 0.2333 - val_loss: 2.2095 - val_accuracy: 0.2292\n",
      "Epoch 4/25\n",
      "180/180 [==============================] - 68s 379ms/step - loss: 2.0706 - accuracy: 0.2539 - val_loss: 2.3078 - val_accuracy: 0.2312\n",
      "Epoch 5/25\n",
      "180/180 [==============================] - 68s 380ms/step - loss: 2.0448 - accuracy: 0.2636 - val_loss: 2.1899 - val_accuracy: 0.2382\n",
      "Epoch 6/25\n",
      "180/180 [==============================] - 68s 377ms/step - loss: 2.0135 - accuracy: 0.2664 - val_loss: 2.0920 - val_accuracy: 0.2613\n",
      "Epoch 7/25\n",
      "180/180 [==============================] - 68s 378ms/step - loss: 1.9785 - accuracy: 0.2853 - val_loss: 2.1187 - val_accuracy: 0.2492\n",
      "Epoch 8/25\n",
      "180/180 [==============================] - 69s 381ms/step - loss: 1.9439 - accuracy: 0.2976 - val_loss: 2.1162 - val_accuracy: 0.2452\n",
      "Epoch 9/25\n",
      "180/180 [==============================] - 68s 377ms/step - loss: 1.9258 - accuracy: 0.3113 - val_loss: 2.1095 - val_accuracy: 0.2543\n",
      "Epoch 10/25\n",
      "180/180 [==============================] - 68s 378ms/step - loss: 1.8841 - accuracy: 0.3242 - val_loss: 2.0217 - val_accuracy: 0.3093\n",
      "Epoch 11/25\n",
      "180/180 [==============================] - 68s 380ms/step - loss: 1.8397 - accuracy: 0.3372 - val_loss: 2.1611 - val_accuracy: 0.2833\n",
      "Epoch 12/25\n",
      "180/180 [==============================] - 67s 374ms/step - loss: 1.8052 - accuracy: 0.3516 - val_loss: 2.1283 - val_accuracy: 0.2753\n",
      "Epoch 13/25\n",
      "180/180 [==============================] - 68s 379ms/step - loss: 1.7444 - accuracy: 0.3826 - val_loss: 2.1923 - val_accuracy: 0.2753\n",
      "Epoch 14/25\n",
      "180/180 [==============================] - 68s 379ms/step - loss: 1.6829 - accuracy: 0.4056 - val_loss: 2.2258 - val_accuracy: 0.2593\n",
      "Epoch 15/25\n",
      "180/180 [==============================] - 68s 379ms/step - loss: 1.6181 - accuracy: 0.4257 - val_loss: 2.0423 - val_accuracy: 0.2903\n",
      "Epoch 16/25\n",
      "180/180 [==============================] - 68s 380ms/step - loss: 1.5441 - accuracy: 0.4488 - val_loss: 2.1846 - val_accuracy: 0.2853\n",
      "Epoch 17/25\n",
      "180/180 [==============================] - 68s 378ms/step - loss: 1.4490 - accuracy: 0.4932 - val_loss: 2.2524 - val_accuracy: 0.2963\n",
      "Epoch 18/25\n",
      "180/180 [==============================] - 68s 377ms/step - loss: 1.3503 - accuracy: 0.5266 - val_loss: 2.3205 - val_accuracy: 0.2843\n",
      "Epoch 19/25\n",
      "180/180 [==============================] - 68s 378ms/step - loss: 1.2514 - accuracy: 0.5604 - val_loss: 2.3683 - val_accuracy: 0.2893\n",
      "Epoch 20/25\n",
      "180/180 [==============================] - 68s 378ms/step - loss: 1.1462 - accuracy: 0.6033 - val_loss: 2.6716 - val_accuracy: 0.2603\n",
      "Epoch 21/25\n",
      "180/180 [==============================] - 68s 378ms/step - loss: 1.0242 - accuracy: 0.6433 - val_loss: 3.0320 - val_accuracy: 0.2713\n",
      "Epoch 22/25\n",
      "180/180 [==============================] - 68s 377ms/step - loss: 0.9592 - accuracy: 0.6650 - val_loss: 3.2036 - val_accuracy: 0.2633\n",
      "Epoch 23/25\n",
      "180/180 [==============================] - 68s 380ms/step - loss: 0.8665 - accuracy: 0.6949 - val_loss: 2.9912 - val_accuracy: 0.2753\n",
      "Epoch 24/25\n",
      "180/180 [==============================] - 69s 381ms/step - loss: 0.8142 - accuracy: 0.7134 - val_loss: 3.4938 - val_accuracy: 0.2723\n",
      "Epoch 25/25\n",
      "180/180 [==============================] - 68s 378ms/step - loss: 0.7268 - accuracy: 0.7488 - val_loss: 3.5787 - val_accuracy: 0.2893\n",
      "\n"
     ]
    },
    {
     "data": {
      "text/html": [
       "Waiting for W&B process to finish... <strong style=\"color:green\">(success).</strong>"
      ],
      "text/plain": [
       "<IPython.core.display.HTML object>"
      ]
     },
     "metadata": {},
     "output_type": "display_data"
    },
    {
     "data": {
      "text/html": [
       "<style>\n",
       "    table.wandb td:nth-child(1) { padding: 0 10px; text-align: right }\n",
       "    .wandb-row { display: flex; flex-direction: row; flex-wrap: wrap; width: 100% }\n",
       "    .wandb-col { display: flex; flex-direction: column; flex-basis: 100%; flex: 1; padding: 10px; }\n",
       "    </style>\n",
       "<div class=\"wandb-row\"><div class=\"wandb-col\"><h3>Run history:</h3><br/><table class=\"wandb\"><tr><td>accuracy</td><td>▁▂▂▂▂▂▂▂▃▃▃▃▃▄▄▄▅▅▆▆▇▇▇██</td></tr><tr><td>epoch</td><td>▁▁▂▂▂▂▃▃▃▄▄▄▅▅▅▅▆▆▆▇▇▇▇██</td></tr><tr><td>loss</td><td>█▇▇▇▇▆▆▆▆▆▆▆▅▅▅▄▄▄▃▃▂▂▂▁▁</td></tr><tr><td>val_accuracy</td><td>▁▂▃▃▃▅▄▄▄█▆▆▆▅▇▆▇▆▇▅▆▅▆▆▇</td></tr><tr><td>val_loss</td><td>▂▂▂▂▂▁▁▁▁▁▂▁▂▂▁▂▂▂▃▄▆▆▅██</td></tr></table><br/></div><div class=\"wandb-col\"><h3>Run summary:</h3><br/><table class=\"wandb\"><tr><td>accuracy</td><td>0.74878</td></tr><tr><td>best_epoch</td><td>9</td></tr><tr><td>best_val_loss</td><td>2.02169</td></tr><tr><td>epoch</td><td>24</td></tr><tr><td>loss</td><td>0.72678</td></tr><tr><td>val_accuracy</td><td>0.28929</td></tr><tr><td>val_loss</td><td>3.57871</td></tr></table><br/></div></div>"
      ],
      "text/plain": [
       "<IPython.core.display.HTML object>"
      ]
     },
     "metadata": {},
     "output_type": "display_data"
    },
    {
     "data": {
      "text/html": [
       "Synced <strong style=\"color:#cdcd00\">fluent-sweep-5</strong>: <a href=\"https://wandb.ai/cs21m029_keyur_raval/DL_CS6910_Assignment2/runs/lp3o5h8j\" target=\"_blank\">https://wandb.ai/cs21m029_keyur_raval/DL_CS6910_Assignment2/runs/lp3o5h8j</a><br/>Synced 6 W&B file(s), 1 media file(s), 0 artifact file(s) and 10 other file(s)"
      ],
      "text/plain": [
       "<IPython.core.display.HTML object>"
      ]
     },
     "metadata": {},
     "output_type": "display_data"
    },
    {
     "data": {
      "text/html": [
       "Find logs at: <code>.\\wandb\\run-20220408_040746-lp3o5h8j\\logs</code>"
      ],
      "text/plain": [
       "<IPython.core.display.HTML object>"
      ]
     },
     "metadata": {},
     "output_type": "display_data"
    },
    {
     "name": "stderr",
     "output_type": "stream",
     "text": [
      "\u001b[34m\u001b[1mwandb\u001b[0m: Agent Starting Run: gn5vhii1 with config:\n",
      "\u001b[34m\u001b[1mwandb\u001b[0m: \taugment_data: False\n",
      "\u001b[34m\u001b[1mwandb\u001b[0m: \tbatch_norm: True\n",
      "\u001b[34m\u001b[1mwandb\u001b[0m: \tdense_size: 64\n",
      "\u001b[34m\u001b[1mwandb\u001b[0m: \tdropout: 0.1\n",
      "\u001b[34m\u001b[1mwandb\u001b[0m: \tepochs: 25\n",
      "\u001b[34m\u001b[1mwandb\u001b[0m: \tlr: 0.01\n",
      "\u001b[34m\u001b[1mwandb\u001b[0m: \tno_of_filters_1: 8\n",
      "\u001b[34m\u001b[1mwandb\u001b[0m: \tno_of_filters_2: 8\n",
      "\u001b[34m\u001b[1mwandb\u001b[0m: \tno_of_filters_3: 24\n",
      "\u001b[34m\u001b[1mwandb\u001b[0m: \tno_of_filters_4: 32\n",
      "\u001b[34m\u001b[1mwandb\u001b[0m: \tno_of_filters_5: 64\n"
     ]
    },
    {
     "data": {
      "text/html": [
       "wandb version 0.12.13 is available!  To upgrade, please run:\n",
       " $ pip install wandb --upgrade"
      ],
      "text/plain": [
       "<IPython.core.display.HTML object>"
      ]
     },
     "metadata": {},
     "output_type": "display_data"
    },
    {
     "data": {
      "text/html": [
       "Tracking run with wandb version 0.12.12"
      ],
      "text/plain": [
       "<IPython.core.display.HTML object>"
      ]
     },
     "metadata": {},
     "output_type": "display_data"
    },
    {
     "data": {
      "text/html": [
       "Run data is saved locally in <code>C:\\Users\\Keyur\\Documents\\DL\\A2\\P1\\wandb\\run-20220408_043629-gn5vhii1</code>"
      ],
      "text/plain": [
       "<IPython.core.display.HTML object>"
      ]
     },
     "metadata": {},
     "output_type": "display_data"
    },
    {
     "data": {
      "text/html": [
       "Syncing run <strong><a href=\"https://wandb.ai/cs21m029_keyur_raval/DL_CS6910_Assignment2/runs/gn5vhii1\" target=\"_blank\">gentle-sweep-6</a></strong> to <a href=\"https://wandb.ai/cs21m029_keyur_raval/DL_CS6910_Assignment2\" target=\"_blank\">Weights & Biases</a> (<a href=\"https://wandb.me/run\" target=\"_blank\">docs</a>)<br/>Sweep page:  <a href=\"https://wandb.ai/cs21m029_keyur_raval/DL_CS6910_Assignment2/sweeps/61cgxeqz\" target=\"_blank\">https://wandb.ai/cs21m029_keyur_raval/DL_CS6910_Assignment2/sweeps/61cgxeqz</a>"
      ],
      "text/plain": [
       "<IPython.core.display.HTML object>"
      ]
     },
     "metadata": {},
     "output_type": "display_data"
    },
    {
     "name": "stdout",
     "output_type": "stream",
     "text": [
      "Found 9000 images belonging to 10 classes.\n",
      "Found 999 images belonging to 10 classes.\n",
      "Found 2000 images belonging to 10 classes.\n",
      "Epoch 1/25\n",
      "180/180 [==============================] - 70s 388ms/step - loss: 2.7740 - accuracy: 0.1161 - val_loss: 2.3131 - val_accuracy: 0.0941\n",
      "Epoch 2/25\n",
      "180/180 [==============================] - 68s 379ms/step - loss: 2.3036 - accuracy: 0.1024 - val_loss: 2.3032 - val_accuracy: 0.1001\n",
      "Epoch 3/25\n",
      "180/180 [==============================] - 68s 378ms/step - loss: 2.3055 - accuracy: 0.1007 - val_loss: 2.3030 - val_accuracy: 0.1001\n",
      "Epoch 4/25\n",
      "180/180 [==============================] - 68s 379ms/step - loss: 2.3041 - accuracy: 0.0951 - val_loss: 2.3028 - val_accuracy: 0.1001\n",
      "Epoch 5/25\n",
      "180/180 [==============================] - 68s 379ms/step - loss: 2.3036 - accuracy: 0.0986 - val_loss: 2.3033 - val_accuracy: 0.1001\n",
      "Epoch 6/25\n",
      "180/180 [==============================] - 68s 378ms/step - loss: 2.3039 - accuracy: 0.0980 - val_loss: 2.3014 - val_accuracy: 0.1011\n",
      "Epoch 7/25\n",
      "180/180 [==============================] - 68s 379ms/step - loss: 2.3039 - accuracy: 0.0972 - val_loss: 2.3032 - val_accuracy: 0.1001\n",
      "Epoch 8/25\n",
      "180/180 [==============================] - 77s 429ms/step - loss: 2.3041 - accuracy: 0.0941 - val_loss: 2.3031 - val_accuracy: 0.1001\n",
      "Epoch 9/25\n",
      "180/180 [==============================] - 99s 551ms/step - loss: 2.3036 - accuracy: 0.0994 - val_loss: 2.3033 - val_accuracy: 0.1001\n",
      "Epoch 10/25\n",
      "180/180 [==============================] - 93s 515ms/step - loss: 2.3039 - accuracy: 0.0974 - val_loss: 2.3032 - val_accuracy: 0.1001\n",
      "Epoch 11/25\n",
      "180/180 [==============================] - 93s 514ms/step - loss: 2.3038 - accuracy: 0.1001 - val_loss: 2.3029 - val_accuracy: 0.1001\n",
      "Epoch 12/25\n",
      "180/180 [==============================] - 94s 524ms/step - loss: 2.3042 - accuracy: 0.0937 - val_loss: 2.3029 - val_accuracy: 0.1001\n",
      "Epoch 13/25\n",
      "180/180 [==============================] - 2887s 16s/step - loss: 2.3041 - accuracy: 0.0958 - val_loss: 2.3028 - val_accuracy: 0.1001\n",
      "Epoch 14/25\n",
      "180/180 [==============================] - 92s 510ms/step - loss: 2.3040 - accuracy: 0.0964 - val_loss: 2.3031 - val_accuracy: 0.1001\n",
      "Epoch 15/25\n",
      "180/180 [==============================] - 92s 511ms/step - loss: 2.3039 - accuracy: 0.0971 - val_loss: 2.3033 - val_accuracy: 0.1001\n",
      "Epoch 16/25\n",
      "180/180 [==============================] - 93s 516ms/step - loss: 2.3041 - accuracy: 0.0997 - val_loss: 2.3030 - val_accuracy: 0.1001\n",
      "Epoch 17/25\n",
      "180/180 [==============================] - 125s 693ms/step - loss: 2.3039 - accuracy: 0.0981 - val_loss: 2.3031 - val_accuracy: 0.0991\n",
      "Epoch 18/25\n",
      "180/180 [==============================] - 98s 544ms/step - loss: 2.3039 - accuracy: 0.1000 - val_loss: 2.3036 - val_accuracy: 0.1001\n",
      "Epoch 19/25\n",
      "180/180 [==============================] - 98s 544ms/step - loss: 2.3045 - accuracy: 0.0937 - val_loss: 2.3029 - val_accuracy: 0.1001\n",
      "Epoch 20/25\n",
      "180/180 [==============================] - 97s 537ms/step - loss: 2.3076 - accuracy: 0.0977 - val_loss: 2.4102 - val_accuracy: 0.1041\n",
      "Epoch 21/25\n",
      "180/180 [==============================] - 95s 528ms/step - loss: 2.3049 - accuracy: 0.1008 - val_loss: 2.3033 - val_accuracy: 0.0991\n",
      "Epoch 22/25\n",
      "180/180 [==============================] - 97s 540ms/step - loss: 2.3042 - accuracy: 0.0924 - val_loss: 2.3030 - val_accuracy: 0.1001\n",
      "Epoch 23/25\n",
      "180/180 [==============================] - 97s 538ms/step - loss: 2.3041 - accuracy: 0.0924 - val_loss: 2.3028 - val_accuracy: 0.1001\n",
      "Epoch 24/25\n",
      "180/180 [==============================] - 95s 527ms/step - loss: 2.3038 - accuracy: 0.0967 - val_loss: 2.3031 - val_accuracy: 0.1001\n",
      "Epoch 25/25\n",
      "180/180 [==============================] - 93s 514ms/step - loss: 2.3037 - accuracy: 0.0987 - val_loss: 2.3031 - val_accuracy: 0.1001\n",
      "\n"
     ]
    },
    {
     "data": {
      "text/html": [
       "Waiting for W&B process to finish... <strong style=\"color:green\">(success).</strong>"
      ],
      "text/plain": [
       "<IPython.core.display.HTML object>"
      ]
     },
     "metadata": {},
     "output_type": "display_data"
    },
    {
     "data": {
      "text/html": [
       "<style>\n",
       "    table.wandb td:nth-child(1) { padding: 0 10px; text-align: right }\n",
       "    .wandb-row { display: flex; flex-direction: row; flex-wrap: wrap; width: 100% }\n",
       "    .wandb-col { display: flex; flex-direction: column; flex-basis: 100%; flex: 1; padding: 10px; }\n",
       "    </style>\n",
       "<div class=\"wandb-row\"><div class=\"wandb-col\"><h3>Run history:</h3><br/><table class=\"wandb\"><tr><td>accuracy</td><td>█▄▃▂▃▃▂▁▃▂▃▁▂▂▂▃▃▃▁▃▃▁▁▂▃</td></tr><tr><td>epoch</td><td>▁▁▂▂▂▂▃▃▃▄▄▄▅▅▅▅▆▆▆▇▇▇▇██</td></tr><tr><td>loss</td><td>█▁▁▁▁▁▁▁▁▁▁▁▁▁▁▁▁▁▁▁▁▁▁▁▁</td></tr><tr><td>val_accuracy</td><td>▁▅▅▅▅▆▅▅▅▅▅▅▅▅▅▅▅▅▅█▅▅▅▅▅</td></tr><tr><td>val_loss</td><td>▂▁▁▁▁▁▁▁▁▁▁▁▁▁▁▁▁▁▁█▁▁▁▁▁</td></tr></table><br/></div><div class=\"wandb-col\"><h3>Run summary:</h3><br/><table class=\"wandb\"><tr><td>accuracy</td><td>0.09867</td></tr><tr><td>best_epoch</td><td>5</td></tr><tr><td>best_val_loss</td><td>2.3014</td></tr><tr><td>epoch</td><td>24</td></tr><tr><td>loss</td><td>2.30366</td></tr><tr><td>val_accuracy</td><td>0.1001</td></tr><tr><td>val_loss</td><td>2.30314</td></tr></table><br/></div></div>"
      ],
      "text/plain": [
       "<IPython.core.display.HTML object>"
      ]
     },
     "metadata": {},
     "output_type": "display_data"
    },
    {
     "data": {
      "text/html": [
       "Synced <strong style=\"color:#cdcd00\">gentle-sweep-6</strong>: <a href=\"https://wandb.ai/cs21m029_keyur_raval/DL_CS6910_Assignment2/runs/gn5vhii1\" target=\"_blank\">https://wandb.ai/cs21m029_keyur_raval/DL_CS6910_Assignment2/runs/gn5vhii1</a><br/>Synced 6 W&B file(s), 1 media file(s), 0 artifact file(s) and 10 other file(s)"
      ],
      "text/plain": [
       "<IPython.core.display.HTML object>"
      ]
     },
     "metadata": {},
     "output_type": "display_data"
    },
    {
     "data": {
      "text/html": [
       "Find logs at: <code>.\\wandb\\run-20220408_043629-gn5vhii1\\logs</code>"
      ],
      "text/plain": [
       "<IPython.core.display.HTML object>"
      ]
     },
     "metadata": {},
     "output_type": "display_data"
    },
    {
     "name": "stderr",
     "output_type": "stream",
     "text": [
      "\u001b[34m\u001b[1mwandb\u001b[0m: Sweep Agent: Waiting for job.\n",
      "\u001b[34m\u001b[1mwandb\u001b[0m: Job received.\n",
      "\u001b[34m\u001b[1mwandb\u001b[0m: Agent Starting Run: 8vbktvgg with config:\n",
      "\u001b[34m\u001b[1mwandb\u001b[0m: \taugment_data: False\n",
      "\u001b[34m\u001b[1mwandb\u001b[0m: \tbatch_norm: False\n",
      "\u001b[34m\u001b[1mwandb\u001b[0m: \tdense_size: 100\n",
      "\u001b[34m\u001b[1mwandb\u001b[0m: \tdropout: 0.2\n",
      "\u001b[34m\u001b[1mwandb\u001b[0m: \tepochs: 25\n",
      "\u001b[34m\u001b[1mwandb\u001b[0m: \tlr: 0.005\n",
      "\u001b[34m\u001b[1mwandb\u001b[0m: \tno_of_filters_1: 4\n",
      "\u001b[34m\u001b[1mwandb\u001b[0m: \tno_of_filters_2: 16\n",
      "\u001b[34m\u001b[1mwandb\u001b[0m: \tno_of_filters_3: 16\n",
      "\u001b[34m\u001b[1mwandb\u001b[0m: \tno_of_filters_4: 32\n",
      "\u001b[34m\u001b[1mwandb\u001b[0m: \tno_of_filters_5: 32\n"
     ]
    },
    {
     "data": {
      "text/html": [
       "wandb version 0.12.13 is available!  To upgrade, please run:\n",
       " $ pip install wandb --upgrade"
      ],
      "text/plain": [
       "<IPython.core.display.HTML object>"
      ]
     },
     "metadata": {},
     "output_type": "display_data"
    },
    {
     "data": {
      "text/html": [
       "Tracking run with wandb version 0.12.12"
      ],
      "text/plain": [
       "<IPython.core.display.HTML object>"
      ]
     },
     "metadata": {},
     "output_type": "display_data"
    },
    {
     "data": {
      "text/html": [
       "Run data is saved locally in <code>C:\\Users\\Keyur\\Documents\\DL\\A2\\P1\\wandb\\run-20220408_060008-8vbktvgg</code>"
      ],
      "text/plain": [
       "<IPython.core.display.HTML object>"
      ]
     },
     "metadata": {},
     "output_type": "display_data"
    },
    {
     "data": {
      "text/html": [
       "Syncing run <strong><a href=\"https://wandb.ai/cs21m029_keyur_raval/DL_CS6910_Assignment2/runs/8vbktvgg\" target=\"_blank\">laced-sweep-7</a></strong> to <a href=\"https://wandb.ai/cs21m029_keyur_raval/DL_CS6910_Assignment2\" target=\"_blank\">Weights & Biases</a> (<a href=\"https://wandb.me/run\" target=\"_blank\">docs</a>)<br/>Sweep page:  <a href=\"https://wandb.ai/cs21m029_keyur_raval/DL_CS6910_Assignment2/sweeps/61cgxeqz\" target=\"_blank\">https://wandb.ai/cs21m029_keyur_raval/DL_CS6910_Assignment2/sweeps/61cgxeqz</a>"
      ],
      "text/plain": [
       "<IPython.core.display.HTML object>"
      ]
     },
     "metadata": {},
     "output_type": "display_data"
    },
    {
     "name": "stdout",
     "output_type": "stream",
     "text": [
      "Found 9000 images belonging to 10 classes.\n",
      "Found 999 images belonging to 10 classes.\n",
      "Found 2000 images belonging to 10 classes.\n",
      "Epoch 1/25\n",
      "180/180 [==============================] - 96s 528ms/step - loss: 2.3059 - accuracy: 0.0947 - val_loss: 2.3027 - val_accuracy: 0.1001\n",
      "Epoch 2/25\n",
      "180/180 [==============================] - 94s 520ms/step - loss: 2.3034 - accuracy: 0.0943 - val_loss: 2.3027 - val_accuracy: 0.1001\n",
      "Epoch 3/25\n",
      "180/180 [==============================] - 1089s 6s/step - loss: 2.3035 - accuracy: 0.0936 - val_loss: 2.3027 - val_accuracy: 0.1001\n",
      "Epoch 4/25\n",
      "180/180 [==============================] - 94s 519ms/step - loss: 2.3034 - accuracy: 0.0943 - val_loss: 2.3026 - val_accuracy: 0.0991\n",
      "Epoch 5/25\n",
      "180/180 [==============================] - 91s 507ms/step - loss: 2.3034 - accuracy: 0.0962 - val_loss: 2.3027 - val_accuracy: 0.1001\n",
      "Epoch 6/25\n",
      "180/180 [==============================] - 93s 519ms/step - loss: 2.3035 - accuracy: 0.0954 - val_loss: 2.3027 - val_accuracy: 0.1001\n",
      "Epoch 7/25\n",
      "180/180 [==============================] - 197s 1s/step - loss: 2.3034 - accuracy: 0.0960 - val_loss: 2.3027 - val_accuracy: 0.1001\n",
      "Epoch 8/25\n",
      "180/180 [==============================] - 93s 516ms/step - loss: 2.3033 - accuracy: 0.0978 - val_loss: 2.3027 - val_accuracy: 0.1001\n",
      "Epoch 9/25\n",
      "180/180 [==============================] - 93s 514ms/step - loss: 2.3034 - accuracy: 0.0949 - val_loss: 2.3028 - val_accuracy: 0.1001\n",
      "Epoch 10/25\n",
      "180/180 [==============================] - 94s 520ms/step - loss: 2.3034 - accuracy: 0.0968 - val_loss: 2.3027 - val_accuracy: 0.1001\n",
      "Epoch 11/25\n",
      "180/180 [==============================] - 4049s 23s/step - loss: 2.3033 - accuracy: 0.0944 - val_loss: 2.3027 - val_accuracy: 0.1001\n",
      "Epoch 12/25\n",
      "180/180 [==============================] - 95s 529ms/step - loss: 2.3035 - accuracy: 0.0957 - val_loss: 2.3027 - val_accuracy: 0.0991\n",
      "Epoch 13/25\n",
      "180/180 [==============================] - 69s 386ms/step - loss: 2.3034 - accuracy: 0.0970 - val_loss: 2.3028 - val_accuracy: 0.1001\n",
      "Epoch 14/25\n",
      "180/180 [==============================] - 68s 376ms/step - loss: 2.3035 - accuracy: 0.0919 - val_loss: 2.3026 - val_accuracy: 0.1001\n",
      "Epoch 15/25\n",
      "180/180 [==============================] - 68s 378ms/step - loss: 2.3034 - accuracy: 0.0943 - val_loss: 2.3027 - val_accuracy: 0.1001\n",
      "Epoch 16/25\n",
      "180/180 [==============================] - 68s 378ms/step - loss: 2.3034 - accuracy: 0.0973 - val_loss: 2.3029 - val_accuracy: 0.1001\n",
      "Epoch 17/25\n",
      "180/180 [==============================] - 68s 376ms/step - loss: 2.3033 - accuracy: 0.0963 - val_loss: 2.3028 - val_accuracy: 0.0991\n",
      "Epoch 18/25\n",
      "180/180 [==============================] - 68s 379ms/step - loss: 2.3034 - accuracy: 0.0988 - val_loss: 2.3027 - val_accuracy: 0.1001\n",
      "Epoch 19/25\n",
      "180/180 [==============================] - 67s 371ms/step - loss: 2.3036 - accuracy: 0.0973 - val_loss: 2.3026 - val_accuracy: 0.1001\n",
      "Epoch 20/25\n",
      "180/180 [==============================] - 69s 381ms/step - loss: 2.3034 - accuracy: 0.1000 - val_loss: 2.3027 - val_accuracy: 0.1001\n",
      "Epoch 21/25\n",
      "180/180 [==============================] - 68s 376ms/step - loss: 2.3035 - accuracy: 0.0950 - val_loss: 2.3027 - val_accuracy: 0.1001\n",
      "Epoch 22/25\n",
      "180/180 [==============================] - 67s 374ms/step - loss: 2.3034 - accuracy: 0.0943 - val_loss: 2.3027 - val_accuracy: 0.0991\n",
      "Epoch 23/25\n",
      "180/180 [==============================] - 67s 375ms/step - loss: 2.3033 - accuracy: 0.0971 - val_loss: 2.3027 - val_accuracy: 0.1001\n",
      "Epoch 24/25\n",
      "180/180 [==============================] - 67s 373ms/step - loss: 2.3033 - accuracy: 0.0933 - val_loss: 2.3028 - val_accuracy: 0.1001\n",
      "Epoch 25/25\n",
      "180/180 [==============================] - 68s 379ms/step - loss: 2.3033 - accuracy: 0.0976 - val_loss: 2.3027 - val_accuracy: 0.1001\n",
      "\n"
     ]
    },
    {
     "data": {
      "text/html": [
       "Waiting for W&B process to finish... <strong style=\"color:green\">(success).</strong>"
      ],
      "text/plain": [
       "<IPython.core.display.HTML object>"
      ]
     },
     "metadata": {},
     "output_type": "display_data"
    },
    {
     "data": {
      "text/html": [
       "<style>\n",
       "    table.wandb td:nth-child(1) { padding: 0 10px; text-align: right }\n",
       "    .wandb-row { display: flex; flex-direction: row; flex-wrap: wrap; width: 100% }\n",
       "    .wandb-col { display: flex; flex-direction: column; flex-basis: 100%; flex: 1; padding: 10px; }\n",
       "    </style>\n",
       "<div class=\"wandb-row\"><div class=\"wandb-col\"><h3>Run history:</h3><br/><table class=\"wandb\"><tr><td>accuracy</td><td>▃▃▂▃▅▄▅▆▄▅▃▄▅▁▃▆▅▇▆█▄▃▆▂▆</td></tr><tr><td>epoch</td><td>▁▁▂▂▂▂▃▃▃▄▄▄▅▅▅▅▆▆▆▇▇▇▇██</td></tr><tr><td>loss</td><td>█▁▂▁▁▁▁▁▁▁▁▂▁▁▁▁▁▁▂▁▂▁▁▁▁</td></tr><tr><td>val_accuracy</td><td>███▁███████▁████▁████▁███</td></tr><tr><td>val_loss</td><td>▃▃▂▁▃▂▃▃▄▂▃▂▅▁▂█▇▄▁▄▂▃▁▅▃</td></tr></table><br/></div><div class=\"wandb-col\"><h3>Run summary:</h3><br/><table class=\"wandb\"><tr><td>accuracy</td><td>0.09756</td></tr><tr><td>best_epoch</td><td>3</td></tr><tr><td>best_val_loss</td><td>2.30264</td></tr><tr><td>epoch</td><td>24</td></tr><tr><td>loss</td><td>2.30329</td></tr><tr><td>val_accuracy</td><td>0.1001</td></tr><tr><td>val_loss</td><td>2.3027</td></tr></table><br/></div></div>"
      ],
      "text/plain": [
       "<IPython.core.display.HTML object>"
      ]
     },
     "metadata": {},
     "output_type": "display_data"
    },
    {
     "data": {
      "text/html": [
       "Synced <strong style=\"color:#cdcd00\">laced-sweep-7</strong>: <a href=\"https://wandb.ai/cs21m029_keyur_raval/DL_CS6910_Assignment2/runs/8vbktvgg\" target=\"_blank\">https://wandb.ai/cs21m029_keyur_raval/DL_CS6910_Assignment2/runs/8vbktvgg</a><br/>Synced 6 W&B file(s), 1 media file(s), 0 artifact file(s) and 10 other file(s)"
      ],
      "text/plain": [
       "<IPython.core.display.HTML object>"
      ]
     },
     "metadata": {},
     "output_type": "display_data"
    },
    {
     "data": {
      "text/html": [
       "Find logs at: <code>.\\wandb\\run-20220408_060008-8vbktvgg\\logs</code>"
      ],
      "text/plain": [
       "<IPython.core.display.HTML object>"
      ]
     },
     "metadata": {},
     "output_type": "display_data"
    },
    {
     "name": "stderr",
     "output_type": "stream",
     "text": [
      "\u001b[34m\u001b[1mwandb\u001b[0m: Agent Starting Run: vyanej75 with config:\n",
      "\u001b[34m\u001b[1mwandb\u001b[0m: \taugment_data: False\n",
      "\u001b[34m\u001b[1mwandb\u001b[0m: \tbatch_norm: True\n",
      "\u001b[34m\u001b[1mwandb\u001b[0m: \tdense_size: 128\n",
      "\u001b[34m\u001b[1mwandb\u001b[0m: \tdropout: 0.2\n",
      "\u001b[34m\u001b[1mwandb\u001b[0m: \tepochs: 25\n",
      "\u001b[34m\u001b[1mwandb\u001b[0m: \tlr: 0.001\n",
      "\u001b[34m\u001b[1mwandb\u001b[0m: \tno_of_filters_1: 4\n",
      "\u001b[34m\u001b[1mwandb\u001b[0m: \tno_of_filters_2: 16\n",
      "\u001b[34m\u001b[1mwandb\u001b[0m: \tno_of_filters_3: 16\n",
      "\u001b[34m\u001b[1mwandb\u001b[0m: \tno_of_filters_4: 32\n",
      "\u001b[34m\u001b[1mwandb\u001b[0m: \tno_of_filters_5: 32\n"
     ]
    },
    {
     "data": {
      "text/html": [
       "wandb version 0.12.13 is available!  To upgrade, please run:\n",
       " $ pip install wandb --upgrade"
      ],
      "text/plain": [
       "<IPython.core.display.HTML object>"
      ]
     },
     "metadata": {},
     "output_type": "display_data"
    },
    {
     "data": {
      "text/html": [
       "Tracking run with wandb version 0.12.12"
      ],
      "text/plain": [
       "<IPython.core.display.HTML object>"
      ]
     },
     "metadata": {},
     "output_type": "display_data"
    },
    {
     "data": {
      "text/html": [
       "Run data is saved locally in <code>C:\\Users\\Keyur\\Documents\\DL\\A2\\P1\\wandb\\run-20220408_075806-vyanej75</code>"
      ],
      "text/plain": [
       "<IPython.core.display.HTML object>"
      ]
     },
     "metadata": {},
     "output_type": "display_data"
    },
    {
     "data": {
      "text/html": [
       "Syncing run <strong><a href=\"https://wandb.ai/cs21m029_keyur_raval/DL_CS6910_Assignment2/runs/vyanej75\" target=\"_blank\">lyric-sweep-8</a></strong> to <a href=\"https://wandb.ai/cs21m029_keyur_raval/DL_CS6910_Assignment2\" target=\"_blank\">Weights & Biases</a> (<a href=\"https://wandb.me/run\" target=\"_blank\">docs</a>)<br/>Sweep page:  <a href=\"https://wandb.ai/cs21m029_keyur_raval/DL_CS6910_Assignment2/sweeps/61cgxeqz\" target=\"_blank\">https://wandb.ai/cs21m029_keyur_raval/DL_CS6910_Assignment2/sweeps/61cgxeqz</a>"
      ],
      "text/plain": [
       "<IPython.core.display.HTML object>"
      ]
     },
     "metadata": {},
     "output_type": "display_data"
    },
    {
     "name": "stdout",
     "output_type": "stream",
     "text": [
      "Found 9000 images belonging to 10 classes.\n",
      "Found 999 images belonging to 10 classes.\n",
      "Found 2000 images belonging to 10 classes.\n",
      "Epoch 1/25\n",
      "180/180 [==============================] - 71s 390ms/step - loss: 2.2869 - accuracy: 0.1872 - val_loss: 2.4361 - val_accuracy: 0.1001\n",
      "Epoch 2/25\n",
      "180/180 [==============================] - 68s 379ms/step - loss: 2.0755 - accuracy: 0.2599 - val_loss: 2.5430 - val_accuracy: 0.1171\n",
      "Epoch 3/25\n",
      "180/180 [==============================] - 68s 380ms/step - loss: 1.9760 - accuracy: 0.3090 - val_loss: 2.2893 - val_accuracy: 0.1842\n",
      "Epoch 4/25\n",
      "180/180 [==============================] - 68s 377ms/step - loss: 1.9068 - accuracy: 0.3304 - val_loss: 2.0632 - val_accuracy: 0.3053\n",
      "Epoch 5/25\n",
      "180/180 [==============================] - 68s 378ms/step - loss: 1.8358 - accuracy: 0.3518 - val_loss: 1.9636 - val_accuracy: 0.3283\n",
      "Epoch 6/25\n",
      "180/180 [==============================] - 68s 379ms/step - loss: 1.7604 - accuracy: 0.3763 - val_loss: 2.0207 - val_accuracy: 0.3043\n",
      "Epoch 7/25\n",
      "180/180 [==============================] - 68s 378ms/step - loss: 1.6843 - accuracy: 0.3988 - val_loss: 2.0642 - val_accuracy: 0.3063\n",
      "Epoch 8/25\n",
      "180/180 [==============================] - 68s 378ms/step - loss: 1.6083 - accuracy: 0.4330 - val_loss: 1.9592 - val_accuracy: 0.3253\n",
      "Epoch 9/25\n",
      "180/180 [==============================] - 68s 377ms/step - loss: 1.5267 - accuracy: 0.4661 - val_loss: 2.0522 - val_accuracy: 0.3043\n",
      "Epoch 10/25\n",
      "180/180 [==============================] - 68s 376ms/step - loss: 1.4382 - accuracy: 0.4894 - val_loss: 2.0576 - val_accuracy: 0.3113\n",
      "Epoch 11/25\n",
      "180/180 [==============================] - 68s 376ms/step - loss: 1.3451 - accuracy: 0.5292 - val_loss: 2.2081 - val_accuracy: 0.3053\n",
      "Epoch 12/25\n",
      "180/180 [==============================] - 68s 380ms/step - loss: 1.2434 - accuracy: 0.5679 - val_loss: 2.1781 - val_accuracy: 0.3213\n",
      "Epoch 13/25\n",
      "180/180 [==============================] - 68s 379ms/step - loss: 1.1611 - accuracy: 0.5914 - val_loss: 2.3757 - val_accuracy: 0.3153\n",
      "Epoch 14/25\n",
      "180/180 [==============================] - 68s 377ms/step - loss: 1.0571 - accuracy: 0.6303 - val_loss: 2.3759 - val_accuracy: 0.3433\n",
      "Epoch 15/25\n",
      "180/180 [==============================] - 67s 373ms/step - loss: 0.9792 - accuracy: 0.6588 - val_loss: 2.4888 - val_accuracy: 0.3093\n",
      "Epoch 16/25\n",
      "180/180 [==============================] - 68s 375ms/step - loss: 0.8878 - accuracy: 0.6939 - val_loss: 2.4866 - val_accuracy: 0.3103\n",
      "Epoch 17/25\n",
      "180/180 [==============================] - 67s 374ms/step - loss: 0.8229 - accuracy: 0.7177 - val_loss: 2.5624 - val_accuracy: 0.3103\n",
      "Epoch 18/25\n",
      "180/180 [==============================] - 68s 377ms/step - loss: 0.7552 - accuracy: 0.7392 - val_loss: 2.6523 - val_accuracy: 0.3183\n",
      "Epoch 19/25\n",
      "180/180 [==============================] - 68s 376ms/step - loss: 0.6914 - accuracy: 0.7606 - val_loss: 2.9111 - val_accuracy: 0.3083\n",
      "Epoch 20/25\n",
      "180/180 [==============================] - 67s 370ms/step - loss: 0.6496 - accuracy: 0.7822 - val_loss: 3.0509 - val_accuracy: 0.3023\n",
      "Epoch 21/25\n",
      "180/180 [==============================] - 68s 376ms/step - loss: 0.5746 - accuracy: 0.8046 - val_loss: 3.0700 - val_accuracy: 0.2953\n",
      "Epoch 22/25\n",
      "180/180 [==============================] - 67s 374ms/step - loss: 0.5389 - accuracy: 0.8126 - val_loss: 3.2806 - val_accuracy: 0.2983\n",
      "Epoch 23/25\n",
      "180/180 [==============================] - 67s 375ms/step - loss: 0.5053 - accuracy: 0.8283 - val_loss: 3.4567 - val_accuracy: 0.3043\n",
      "Epoch 24/25\n",
      "180/180 [==============================] - 68s 376ms/step - loss: 0.4743 - accuracy: 0.8370 - val_loss: 3.4451 - val_accuracy: 0.3073\n",
      "Epoch 25/25\n",
      "180/180 [==============================] - 68s 376ms/step - loss: 0.4291 - accuracy: 0.8550 - val_loss: 3.4733 - val_accuracy: 0.3063\n",
      "\n"
     ]
    },
    {
     "data": {
      "text/html": [
       "Waiting for W&B process to finish... <strong style=\"color:green\">(success).</strong>"
      ],
      "text/plain": [
       "<IPython.core.display.HTML object>"
      ]
     },
     "metadata": {},
     "output_type": "display_data"
    },
    {
     "data": {
      "text/html": [
       "<style>\n",
       "    table.wandb td:nth-child(1) { padding: 0 10px; text-align: right }\n",
       "    .wandb-row { display: flex; flex-direction: row; flex-wrap: wrap; width: 100% }\n",
       "    .wandb-col { display: flex; flex-direction: column; flex-basis: 100%; flex: 1; padding: 10px; }\n",
       "    </style>\n",
       "<div class=\"wandb-row\"><div class=\"wandb-col\"><h3>Run history:</h3><br/><table class=\"wandb\"><tr><td>accuracy</td><td>▁▂▂▃▃▃▃▄▄▄▅▅▅▆▆▆▇▇▇▇▇████</td></tr><tr><td>epoch</td><td>▁▁▂▂▂▂▃▃▃▄▄▄▅▅▅▅▆▆▆▇▇▇▇██</td></tr><tr><td>loss</td><td>█▇▇▇▆▆▆▅▅▅▄▄▄▃▃▃▂▂▂▂▂▁▁▁▁</td></tr><tr><td>val_accuracy</td><td>▁▁▃▇█▇▇▇▇▇▇▇▇█▇▇▇▇▇▇▇▇▇▇▇</td></tr><tr><td>val_loss</td><td>▃▄▃▁▁▁▁▁▁▁▂▂▃▃▃▃▄▄▅▆▆▇███</td></tr></table><br/></div><div class=\"wandb-col\"><h3>Run summary:</h3><br/><table class=\"wandb\"><tr><td>accuracy</td><td>0.855</td></tr><tr><td>best_epoch</td><td>7</td></tr><tr><td>best_val_loss</td><td>1.95919</td></tr><tr><td>epoch</td><td>24</td></tr><tr><td>loss</td><td>0.42907</td></tr><tr><td>val_accuracy</td><td>0.30631</td></tr><tr><td>val_loss</td><td>3.4733</td></tr></table><br/></div></div>"
      ],
      "text/plain": [
       "<IPython.core.display.HTML object>"
      ]
     },
     "metadata": {},
     "output_type": "display_data"
    },
    {
     "data": {
      "text/html": [
       "Synced <strong style=\"color:#cdcd00\">lyric-sweep-8</strong>: <a href=\"https://wandb.ai/cs21m029_keyur_raval/DL_CS6910_Assignment2/runs/vyanej75\" target=\"_blank\">https://wandb.ai/cs21m029_keyur_raval/DL_CS6910_Assignment2/runs/vyanej75</a><br/>Synced 6 W&B file(s), 1 media file(s), 0 artifact file(s) and 10 other file(s)"
      ],
      "text/plain": [
       "<IPython.core.display.HTML object>"
      ]
     },
     "metadata": {},
     "output_type": "display_data"
    },
    {
     "data": {
      "text/html": [
       "Find logs at: <code>.\\wandb\\run-20220408_075806-vyanej75\\logs</code>"
      ],
      "text/plain": [
       "<IPython.core.display.HTML object>"
      ]
     },
     "metadata": {},
     "output_type": "display_data"
    },
    {
     "name": "stderr",
     "output_type": "stream",
     "text": [
      "\u001b[34m\u001b[1mwandb\u001b[0m: Sweep Agent: Waiting for job.\n",
      "\u001b[34m\u001b[1mwandb\u001b[0m: Job received.\n",
      "\u001b[34m\u001b[1mwandb\u001b[0m: Agent Starting Run: 4dgwkziv with config:\n",
      "\u001b[34m\u001b[1mwandb\u001b[0m: \taugment_data: True\n",
      "\u001b[34m\u001b[1mwandb\u001b[0m: \tbatch_norm: True\n",
      "\u001b[34m\u001b[1mwandb\u001b[0m: \tdense_size: 64\n",
      "\u001b[34m\u001b[1mwandb\u001b[0m: \tdropout: 0\n",
      "\u001b[34m\u001b[1mwandb\u001b[0m: \tepochs: 25\n",
      "\u001b[34m\u001b[1mwandb\u001b[0m: \tlr: 0.001\n",
      "\u001b[34m\u001b[1mwandb\u001b[0m: \tno_of_filters_1: 8\n",
      "\u001b[34m\u001b[1mwandb\u001b[0m: \tno_of_filters_2: 8\n",
      "\u001b[34m\u001b[1mwandb\u001b[0m: \tno_of_filters_3: 24\n",
      "\u001b[34m\u001b[1mwandb\u001b[0m: \tno_of_filters_4: 32\n",
      "\u001b[34m\u001b[1mwandb\u001b[0m: \tno_of_filters_5: 64\n"
     ]
    },
    {
     "data": {
      "text/html": [
       "wandb version 0.12.13 is available!  To upgrade, please run:\n",
       " $ pip install wandb --upgrade"
      ],
      "text/plain": [
       "<IPython.core.display.HTML object>"
      ]
     },
     "metadata": {},
     "output_type": "display_data"
    },
    {
     "data": {
      "text/html": [
       "Tracking run with wandb version 0.12.12"
      ],
      "text/plain": [
       "<IPython.core.display.HTML object>"
      ]
     },
     "metadata": {},
     "output_type": "display_data"
    },
    {
     "data": {
      "text/html": [
       "Run data is saved locally in <code>C:\\Users\\Keyur\\Documents\\DL\\A2\\P1\\wandb\\run-20220408_082647-4dgwkziv</code>"
      ],
      "text/plain": [
       "<IPython.core.display.HTML object>"
      ]
     },
     "metadata": {},
     "output_type": "display_data"
    },
    {
     "data": {
      "text/html": [
       "Syncing run <strong><a href=\"https://wandb.ai/cs21m029_keyur_raval/DL_CS6910_Assignment2/runs/4dgwkziv\" target=\"_blank\">scarlet-sweep-9</a></strong> to <a href=\"https://wandb.ai/cs21m029_keyur_raval/DL_CS6910_Assignment2\" target=\"_blank\">Weights & Biases</a> (<a href=\"https://wandb.me/run\" target=\"_blank\">docs</a>)<br/>Sweep page:  <a href=\"https://wandb.ai/cs21m029_keyur_raval/DL_CS6910_Assignment2/sweeps/61cgxeqz\" target=\"_blank\">https://wandb.ai/cs21m029_keyur_raval/DL_CS6910_Assignment2/sweeps/61cgxeqz</a>"
      ],
      "text/plain": [
       "<IPython.core.display.HTML object>"
      ]
     },
     "metadata": {},
     "output_type": "display_data"
    },
    {
     "name": "stdout",
     "output_type": "stream",
     "text": [
      "Found 9000 images belonging to 10 classes.\n",
      "Found 999 images belonging to 10 classes.\n",
      "Found 2000 images belonging to 10 classes.\n",
      "Epoch 1/25\n",
      "180/180 [==============================] - 118s 652ms/step - loss: 2.2871 - accuracy: 0.2104 - val_loss: 2.4786 - val_accuracy: 0.1201\n",
      "Epoch 2/25\n",
      "180/180 [==============================] - 115s 639ms/step - loss: 2.0788 - accuracy: 0.2584 - val_loss: 2.5768 - val_accuracy: 0.1802\n",
      "Epoch 3/25\n",
      "180/180 [==============================] - 116s 642ms/step - loss: 2.0117 - accuracy: 0.2778 - val_loss: 2.1792 - val_accuracy: 0.2482\n",
      "Epoch 4/25\n",
      "180/180 [==============================] - 116s 643ms/step - loss: 1.9631 - accuracy: 0.3034 - val_loss: 2.0259 - val_accuracy: 0.3013\n",
      "Epoch 5/25\n",
      "180/180 [==============================] - 115s 636ms/step - loss: 1.9407 - accuracy: 0.3186 - val_loss: 1.9877 - val_accuracy: 0.3143\n",
      "Epoch 6/25\n",
      "180/180 [==============================] - 114s 636ms/step - loss: 1.9092 - accuracy: 0.3237 - val_loss: 2.0658 - val_accuracy: 0.3083\n",
      "Epoch 7/25\n",
      "180/180 [==============================] - 116s 642ms/step - loss: 1.8859 - accuracy: 0.3284 - val_loss: 1.9962 - val_accuracy: 0.3023\n",
      "Epoch 8/25\n",
      "180/180 [==============================] - 115s 638ms/step - loss: 1.8502 - accuracy: 0.3440 - val_loss: 2.0735 - val_accuracy: 0.3003\n",
      "Epoch 9/25\n",
      "180/180 [==============================] - 116s 642ms/step - loss: 1.8306 - accuracy: 0.3551 - val_loss: 2.0296 - val_accuracy: 0.3093\n",
      "Epoch 10/25\n",
      "180/180 [==============================] - 115s 637ms/step - loss: 1.8000 - accuracy: 0.3626 - val_loss: 1.9304 - val_accuracy: 0.3473\n",
      "Epoch 11/25\n",
      "180/180 [==============================] - 115s 637ms/step - loss: 1.7881 - accuracy: 0.3621 - val_loss: 1.8411 - val_accuracy: 0.3664\n",
      "Epoch 12/25\n",
      "180/180 [==============================] - 115s 639ms/step - loss: 1.7665 - accuracy: 0.3734 - val_loss: 2.0063 - val_accuracy: 0.3193\n",
      "Epoch 13/25\n",
      "180/180 [==============================] - 115s 638ms/step - loss: 1.7467 - accuracy: 0.3823 - val_loss: 1.8533 - val_accuracy: 0.3564\n",
      "Epoch 14/25\n",
      "180/180 [==============================] - 115s 641ms/step - loss: 1.7347 - accuracy: 0.3840 - val_loss: 1.8249 - val_accuracy: 0.3734\n",
      "Epoch 15/25\n",
      "180/180 [==============================] - 115s 640ms/step - loss: 1.7181 - accuracy: 0.3971 - val_loss: 1.8235 - val_accuracy: 0.3754\n",
      "Epoch 16/25\n",
      "180/180 [==============================] - 115s 637ms/step - loss: 1.6985 - accuracy: 0.3988 - val_loss: 1.8656 - val_accuracy: 0.3674\n",
      "Epoch 17/25\n",
      "180/180 [==============================] - 115s 640ms/step - loss: 1.6821 - accuracy: 0.4001 - val_loss: 1.8918 - val_accuracy: 0.3463\n",
      "Epoch 18/25\n",
      "180/180 [==============================] - 115s 639ms/step - loss: 1.6619 - accuracy: 0.4112 - val_loss: 1.8180 - val_accuracy: 0.3754\n",
      "Epoch 19/25\n",
      "180/180 [==============================] - 114s 636ms/step - loss: 1.6555 - accuracy: 0.4189 - val_loss: 1.9197 - val_accuracy: 0.3203\n",
      "Epoch 20/25\n",
      "180/180 [==============================] - 115s 637ms/step - loss: 1.6316 - accuracy: 0.4271 - val_loss: 1.8901 - val_accuracy: 0.3514\n",
      "Epoch 21/25\n",
      "180/180 [==============================] - 115s 639ms/step - loss: 1.6090 - accuracy: 0.4320 - val_loss: 1.8460 - val_accuracy: 0.3804\n",
      "Epoch 22/25\n",
      "180/180 [==============================] - 114s 635ms/step - loss: 1.6011 - accuracy: 0.4392 - val_loss: 1.8600 - val_accuracy: 0.3634\n",
      "Epoch 23/25\n",
      "180/180 [==============================] - 115s 637ms/step - loss: 1.5843 - accuracy: 0.4376 - val_loss: 1.8351 - val_accuracy: 0.3634\n",
      "Epoch 24/25\n",
      "180/180 [==============================] - 115s 641ms/step - loss: 1.5558 - accuracy: 0.4527 - val_loss: 1.9435 - val_accuracy: 0.3574\n",
      "Epoch 25/25\n",
      "180/180 [==============================] - 115s 640ms/step - loss: 1.5536 - accuracy: 0.4518 - val_loss: 1.7632 - val_accuracy: 0.3924\n",
      "\n"
     ]
    },
    {
     "data": {
      "text/html": [
       "Waiting for W&B process to finish... <strong style=\"color:green\">(success).</strong>"
      ],
      "text/plain": [
       "<IPython.core.display.HTML object>"
      ]
     },
     "metadata": {},
     "output_type": "display_data"
    },
    {
     "data": {
      "text/html": [
       "<style>\n",
       "    table.wandb td:nth-child(1) { padding: 0 10px; text-align: right }\n",
       "    .wandb-row { display: flex; flex-direction: row; flex-wrap: wrap; width: 100% }\n",
       "    .wandb-col { display: flex; flex-direction: column; flex-basis: 100%; flex: 1; padding: 10px; }\n",
       "    </style>\n",
       "<div class=\"wandb-row\"><div class=\"wandb-col\"><h3>Run history:</h3><br/><table class=\"wandb\"><tr><td>accuracy</td><td>▁▂▃▄▄▄▄▅▅▅▅▆▆▆▆▆▆▇▇▇▇████</td></tr><tr><td>epoch</td><td>▁▁▂▂▂▂▃▃▃▄▄▄▅▅▅▅▆▆▆▇▇▇▇██</td></tr><tr><td>loss</td><td>█▆▅▅▅▄▄▄▄▃▃▃▃▃▃▂▂▂▂▂▂▁▁▁▁</td></tr><tr><td>val_accuracy</td><td>▁▃▄▆▆▆▆▆▆▇▇▆▇██▇▇█▆▇█▇▇▇█</td></tr><tr><td>val_loss</td><td>▇█▅▃▃▄▃▄▃▂▂▃▂▂▂▂▂▁▂▂▂▂▂▃▁</td></tr></table><br/></div><div class=\"wandb-col\"><h3>Run summary:</h3><br/><table class=\"wandb\"><tr><td>accuracy</td><td>0.45178</td></tr><tr><td>best_epoch</td><td>24</td></tr><tr><td>best_val_loss</td><td>1.76322</td></tr><tr><td>epoch</td><td>24</td></tr><tr><td>loss</td><td>1.55357</td></tr><tr><td>val_accuracy</td><td>0.39239</td></tr><tr><td>val_loss</td><td>1.76322</td></tr></table><br/></div></div>"
      ],
      "text/plain": [
       "<IPython.core.display.HTML object>"
      ]
     },
     "metadata": {},
     "output_type": "display_data"
    },
    {
     "data": {
      "text/html": [
       "Synced <strong style=\"color:#cdcd00\">scarlet-sweep-9</strong>: <a href=\"https://wandb.ai/cs21m029_keyur_raval/DL_CS6910_Assignment2/runs/4dgwkziv\" target=\"_blank\">https://wandb.ai/cs21m029_keyur_raval/DL_CS6910_Assignment2/runs/4dgwkziv</a><br/>Synced 6 W&B file(s), 1 media file(s), 0 artifact file(s) and 10 other file(s)"
      ],
      "text/plain": [
       "<IPython.core.display.HTML object>"
      ]
     },
     "metadata": {},
     "output_type": "display_data"
    },
    {
     "data": {
      "text/html": [
       "Find logs at: <code>.\\wandb\\run-20220408_082647-4dgwkziv\\logs</code>"
      ],
      "text/plain": [
       "<IPython.core.display.HTML object>"
      ]
     },
     "metadata": {},
     "output_type": "display_data"
    },
    {
     "name": "stderr",
     "output_type": "stream",
     "text": [
      "\u001b[34m\u001b[1mwandb\u001b[0m: Agent Starting Run: co3s2l6k with config:\n",
      "\u001b[34m\u001b[1mwandb\u001b[0m: \taugment_data: False\n",
      "\u001b[34m\u001b[1mwandb\u001b[0m: \tbatch_norm: True\n",
      "\u001b[34m\u001b[1mwandb\u001b[0m: \tdense_size: 100\n",
      "\u001b[34m\u001b[1mwandb\u001b[0m: \tdropout: 0\n",
      "\u001b[34m\u001b[1mwandb\u001b[0m: \tepochs: 25\n",
      "\u001b[34m\u001b[1mwandb\u001b[0m: \tlr: 0.01\n",
      "\u001b[34m\u001b[1mwandb\u001b[0m: \tno_of_filters_1: 8\n",
      "\u001b[34m\u001b[1mwandb\u001b[0m: \tno_of_filters_2: 16\n",
      "\u001b[34m\u001b[1mwandb\u001b[0m: \tno_of_filters_3: 24\n",
      "\u001b[34m\u001b[1mwandb\u001b[0m: \tno_of_filters_4: 32\n",
      "\u001b[34m\u001b[1mwandb\u001b[0m: \tno_of_filters_5: 64\n"
     ]
    },
    {
     "data": {
      "text/html": [
       "wandb version 0.12.13 is available!  To upgrade, please run:\n",
       " $ pip install wandb --upgrade"
      ],
      "text/plain": [
       "<IPython.core.display.HTML object>"
      ]
     },
     "metadata": {},
     "output_type": "display_data"
    },
    {
     "data": {
      "text/html": [
       "Tracking run with wandb version 0.12.12"
      ],
      "text/plain": [
       "<IPython.core.display.HTML object>"
      ]
     },
     "metadata": {},
     "output_type": "display_data"
    },
    {
     "data": {
      "text/html": [
       "Run data is saved locally in <code>C:\\Users\\Keyur\\Documents\\DL\\A2\\P1\\wandb\\run-20220408_091501-co3s2l6k</code>"
      ],
      "text/plain": [
       "<IPython.core.display.HTML object>"
      ]
     },
     "metadata": {},
     "output_type": "display_data"
    },
    {
     "data": {
      "text/html": [
       "Syncing run <strong><a href=\"https://wandb.ai/cs21m029_keyur_raval/DL_CS6910_Assignment2/runs/co3s2l6k\" target=\"_blank\">comic-sweep-10</a></strong> to <a href=\"https://wandb.ai/cs21m029_keyur_raval/DL_CS6910_Assignment2\" target=\"_blank\">Weights & Biases</a> (<a href=\"https://wandb.me/run\" target=\"_blank\">docs</a>)<br/>Sweep page:  <a href=\"https://wandb.ai/cs21m029_keyur_raval/DL_CS6910_Assignment2/sweeps/61cgxeqz\" target=\"_blank\">https://wandb.ai/cs21m029_keyur_raval/DL_CS6910_Assignment2/sweeps/61cgxeqz</a>"
      ],
      "text/plain": [
       "<IPython.core.display.HTML object>"
      ]
     },
     "metadata": {},
     "output_type": "display_data"
    },
    {
     "name": "stdout",
     "output_type": "stream",
     "text": [
      "Found 9000 images belonging to 10 classes.\n",
      "Found 999 images belonging to 10 classes.\n",
      "Found 2000 images belonging to 10 classes.\n",
      "Epoch 1/25\n",
      "180/180 [==============================] - 71s 386ms/step - loss: 2.7407 - accuracy: 0.1544 - val_loss: 2.2441 - val_accuracy: 0.1552\n",
      "Epoch 2/25\n",
      "180/180 [==============================] - 68s 378ms/step - loss: 2.2065 - accuracy: 0.1772 - val_loss: 2.5654 - val_accuracy: 0.1101\n",
      "Epoch 3/25\n",
      "180/180 [==============================] - 68s 378ms/step - loss: 2.1977 - accuracy: 0.1762 - val_loss: 2.1789 - val_accuracy: 0.1782\n",
      "Epoch 4/25\n",
      "180/180 [==============================] - 68s 380ms/step - loss: 2.1819 - accuracy: 0.1746 - val_loss: 2.1813 - val_accuracy: 0.2012\n",
      "Epoch 5/25\n",
      "180/180 [==============================] - 67s 375ms/step - loss: 2.1622 - accuracy: 0.1940 - val_loss: 2.2626 - val_accuracy: 0.1642\n",
      "Epoch 6/25\n",
      "180/180 [==============================] - 68s 377ms/step - loss: 2.1470 - accuracy: 0.1963 - val_loss: 2.1280 - val_accuracy: 0.2032\n",
      "Epoch 7/25\n",
      "180/180 [==============================] - 68s 378ms/step - loss: 2.1344 - accuracy: 0.2068 - val_loss: 2.2411 - val_accuracy: 0.1572\n",
      "Epoch 8/25\n",
      "180/180 [==============================] - 68s 377ms/step - loss: 2.1181 - accuracy: 0.2110 - val_loss: 2.1778 - val_accuracy: 0.2132\n",
      "Epoch 9/25\n",
      "180/180 [==============================] - 68s 376ms/step - loss: 2.1000 - accuracy: 0.2258 - val_loss: 2.1366 - val_accuracy: 0.2332\n",
      "Epoch 10/25\n",
      "180/180 [==============================] - 67s 373ms/step - loss: 2.0720 - accuracy: 0.2331 - val_loss: 2.1383 - val_accuracy: 0.2182\n",
      "Epoch 11/25\n",
      "180/180 [==============================] - 68s 376ms/step - loss: 2.0448 - accuracy: 0.2561 - val_loss: 2.1181 - val_accuracy: 0.2402\n",
      "Epoch 12/25\n",
      "180/180 [==============================] - 68s 378ms/step - loss: 2.0402 - accuracy: 0.2539 - val_loss: 2.0775 - val_accuracy: 0.2663\n",
      "Epoch 13/25\n",
      "180/180 [==============================] - 68s 378ms/step - loss: 2.0025 - accuracy: 0.2753 - val_loss: 2.0958 - val_accuracy: 0.2553\n",
      "Epoch 14/25\n",
      "180/180 [==============================] - 68s 376ms/step - loss: 1.9951 - accuracy: 0.2779 - val_loss: 2.2151 - val_accuracy: 0.2452\n",
      "Epoch 15/25\n",
      "180/180 [==============================] - 68s 376ms/step - loss: 1.9674 - accuracy: 0.2849 - val_loss: 2.1219 - val_accuracy: 0.2462\n",
      "Epoch 16/25\n",
      "180/180 [==============================] - 68s 377ms/step - loss: 1.9408 - accuracy: 0.2992 - val_loss: 2.1774 - val_accuracy: 0.2513\n",
      "Epoch 17/25\n",
      "180/180 [==============================] - 68s 377ms/step - loss: 1.9109 - accuracy: 0.3154 - val_loss: 2.1500 - val_accuracy: 0.2402\n",
      "Epoch 18/25\n",
      "180/180 [==============================] - 68s 376ms/step - loss: 1.8773 - accuracy: 0.3243 - val_loss: 2.0683 - val_accuracy: 0.2743\n",
      "Epoch 19/25\n",
      "180/180 [==============================] - 68s 378ms/step - loss: 1.8474 - accuracy: 0.3431 - val_loss: 2.2707 - val_accuracy: 0.2723\n",
      "Epoch 20/25\n",
      "180/180 [==============================] - 68s 376ms/step - loss: 1.8071 - accuracy: 0.3612 - val_loss: 2.0503 - val_accuracy: 0.2513\n",
      "Epoch 21/25\n",
      "180/180 [==============================] - 68s 376ms/step - loss: 1.7603 - accuracy: 0.3688 - val_loss: 2.1688 - val_accuracy: 0.2903\n",
      "Epoch 22/25\n",
      "180/180 [==============================] - 68s 378ms/step - loss: 1.7194 - accuracy: 0.3931 - val_loss: 2.1297 - val_accuracy: 0.2703\n",
      "Epoch 23/25\n",
      "180/180 [==============================] - 68s 377ms/step - loss: 1.6503 - accuracy: 0.4210 - val_loss: 2.3143 - val_accuracy: 0.2933\n",
      "Epoch 24/25\n",
      "180/180 [==============================] - 68s 379ms/step - loss: 1.5929 - accuracy: 0.4387 - val_loss: 2.3347 - val_accuracy: 0.2673\n",
      "Epoch 25/25\n",
      "180/180 [==============================] - 68s 380ms/step - loss: 1.5461 - accuracy: 0.4563 - val_loss: 2.3505 - val_accuracy: 0.2883\n",
      "\n"
     ]
    },
    {
     "data": {
      "text/html": [
       "Waiting for W&B process to finish... <strong style=\"color:green\">(success).</strong>"
      ],
      "text/plain": [
       "<IPython.core.display.HTML object>"
      ]
     },
     "metadata": {},
     "output_type": "display_data"
    },
    {
     "data": {
      "text/html": [
       "<style>\n",
       "    table.wandb td:nth-child(1) { padding: 0 10px; text-align: right }\n",
       "    .wandb-row { display: flex; flex-direction: row; flex-wrap: wrap; width: 100% }\n",
       "    .wandb-col { display: flex; flex-direction: column; flex-basis: 100%; flex: 1; padding: 10px; }\n",
       "    </style>\n",
       "<div class=\"wandb-row\"><div class=\"wandb-col\"><h3>Run history:</h3><br/><table class=\"wandb\"><tr><td>accuracy</td><td>▁▂▂▁▂▂▂▂▃▃▃▃▄▄▄▄▅▅▅▆▆▇▇██</td></tr><tr><td>epoch</td><td>▁▁▂▂▂▂▃▃▃▄▄▄▅▅▅▅▆▆▆▇▇▇▇██</td></tr><tr><td>loss</td><td>█▅▅▅▅▅▄▄▄▄▄▄▄▄▃▃▃▃▃▃▂▂▂▁▁</td></tr><tr><td>val_accuracy</td><td>▃▁▄▄▃▅▃▅▆▅▆▇▇▆▆▆▆▇▇▆█▇█▇█</td></tr><tr><td>val_loss</td><td>▄█▃▃▄▂▄▃▂▂▂▁▂▃▂▃▂▁▄▁▃▂▅▅▅</td></tr></table><br/></div><div class=\"wandb-col\"><h3>Run summary:</h3><br/><table class=\"wandb\"><tr><td>accuracy</td><td>0.45633</td></tr><tr><td>best_epoch</td><td>19</td></tr><tr><td>best_val_loss</td><td>2.05028</td></tr><tr><td>epoch</td><td>24</td></tr><tr><td>loss</td><td>1.54606</td></tr><tr><td>val_accuracy</td><td>0.28829</td></tr><tr><td>val_loss</td><td>2.35053</td></tr></table><br/></div></div>"
      ],
      "text/plain": [
       "<IPython.core.display.HTML object>"
      ]
     },
     "metadata": {},
     "output_type": "display_data"
    },
    {
     "data": {
      "text/html": [
       "Synced <strong style=\"color:#cdcd00\">comic-sweep-10</strong>: <a href=\"https://wandb.ai/cs21m029_keyur_raval/DL_CS6910_Assignment2/runs/co3s2l6k\" target=\"_blank\">https://wandb.ai/cs21m029_keyur_raval/DL_CS6910_Assignment2/runs/co3s2l6k</a><br/>Synced 6 W&B file(s), 1 media file(s), 0 artifact file(s) and 10 other file(s)"
      ],
      "text/plain": [
       "<IPython.core.display.HTML object>"
      ]
     },
     "metadata": {},
     "output_type": "display_data"
    },
    {
     "data": {
      "text/html": [
       "Find logs at: <code>.\\wandb\\run-20220408_091501-co3s2l6k\\logs</code>"
      ],
      "text/plain": [
       "<IPython.core.display.HTML object>"
      ]
     },
     "metadata": {},
     "output_type": "display_data"
    },
    {
     "name": "stderr",
     "output_type": "stream",
     "text": [
      "\u001b[34m\u001b[1mwandb\u001b[0m: Agent Starting Run: ppx6r88f with config:\n",
      "\u001b[34m\u001b[1mwandb\u001b[0m: \taugment_data: False\n",
      "\u001b[34m\u001b[1mwandb\u001b[0m: \tbatch_norm: False\n",
      "\u001b[34m\u001b[1mwandb\u001b[0m: \tdense_size: 128\n",
      "\u001b[34m\u001b[1mwandb\u001b[0m: \tdropout: 0.2\n",
      "\u001b[34m\u001b[1mwandb\u001b[0m: \tepochs: 25\n",
      "\u001b[34m\u001b[1mwandb\u001b[0m: \tlr: 0.001\n",
      "\u001b[34m\u001b[1mwandb\u001b[0m: \tno_of_filters_1: 8\n",
      "\u001b[34m\u001b[1mwandb\u001b[0m: \tno_of_filters_2: 16\n",
      "\u001b[34m\u001b[1mwandb\u001b[0m: \tno_of_filters_3: 24\n",
      "\u001b[34m\u001b[1mwandb\u001b[0m: \tno_of_filters_4: 32\n",
      "\u001b[34m\u001b[1mwandb\u001b[0m: \tno_of_filters_5: 64\n"
     ]
    },
    {
     "data": {
      "text/html": [
       "wandb version 0.12.13 is available!  To upgrade, please run:\n",
       " $ pip install wandb --upgrade"
      ],
      "text/plain": [
       "<IPython.core.display.HTML object>"
      ]
     },
     "metadata": {},
     "output_type": "display_data"
    },
    {
     "data": {
      "text/html": [
       "Tracking run with wandb version 0.12.12"
      ],
      "text/plain": [
       "<IPython.core.display.HTML object>"
      ]
     },
     "metadata": {},
     "output_type": "display_data"
    },
    {
     "data": {
      "text/html": [
       "Run data is saved locally in <code>C:\\Users\\Keyur\\Documents\\DL\\A2\\P1\\wandb\\run-20220408_094339-ppx6r88f</code>"
      ],
      "text/plain": [
       "<IPython.core.display.HTML object>"
      ]
     },
     "metadata": {},
     "output_type": "display_data"
    },
    {
     "data": {
      "text/html": [
       "Syncing run <strong><a href=\"https://wandb.ai/cs21m029_keyur_raval/DL_CS6910_Assignment2/runs/ppx6r88f\" target=\"_blank\">sage-sweep-11</a></strong> to <a href=\"https://wandb.ai/cs21m029_keyur_raval/DL_CS6910_Assignment2\" target=\"_blank\">Weights & Biases</a> (<a href=\"https://wandb.me/run\" target=\"_blank\">docs</a>)<br/>Sweep page:  <a href=\"https://wandb.ai/cs21m029_keyur_raval/DL_CS6910_Assignment2/sweeps/61cgxeqz\" target=\"_blank\">https://wandb.ai/cs21m029_keyur_raval/DL_CS6910_Assignment2/sweeps/61cgxeqz</a>"
      ],
      "text/plain": [
       "<IPython.core.display.HTML object>"
      ]
     },
     "metadata": {},
     "output_type": "display_data"
    },
    {
     "name": "stdout",
     "output_type": "stream",
     "text": [
      "Found 9000 images belonging to 10 classes.\n",
      "Found 999 images belonging to 10 classes.\n",
      "Found 2000 images belonging to 10 classes.\n",
      "Epoch 1/25\n",
      "180/180 [==============================] - 69s 383ms/step - loss: 2.3011 - accuracy: 0.1002 - val_loss: 2.2881 - val_accuracy: 0.0971\n",
      "Epoch 2/25\n",
      "180/180 [==============================] - 68s 378ms/step - loss: 2.2775 - accuracy: 0.1407 - val_loss: 2.2174 - val_accuracy: 0.1762\n",
      "Epoch 3/25\n",
      "180/180 [==============================] - 68s 379ms/step - loss: 2.2129 - accuracy: 0.1784 - val_loss: 2.1909 - val_accuracy: 0.1862\n",
      "Epoch 4/25\n",
      "180/180 [==============================] - 68s 377ms/step - loss: 2.1636 - accuracy: 0.2040 - val_loss: 2.1632 - val_accuracy: 0.1962\n",
      "Epoch 5/25\n",
      "180/180 [==============================] - 69s 386ms/step - loss: 2.1236 - accuracy: 0.2260 - val_loss: 2.1316 - val_accuracy: 0.2262\n",
      "Epoch 6/25\n",
      "180/180 [==============================] - 66s 365ms/step - loss: 2.0946 - accuracy: 0.2391 - val_loss: 2.1160 - val_accuracy: 0.2282\n",
      "Epoch 7/25\n",
      "180/180 [==============================] - 74s 411ms/step - loss: 2.0516 - accuracy: 0.2570 - val_loss: 2.0857 - val_accuracy: 0.2593\n",
      "Epoch 8/25\n",
      "180/180 [==============================] - 70s 391ms/step - loss: 2.0069 - accuracy: 0.2786 - val_loss: 2.0646 - val_accuracy: 0.2533\n",
      "Epoch 9/25\n",
      "180/180 [==============================] - 69s 383ms/step - loss: 1.9517 - accuracy: 0.2972 - val_loss: 2.0380 - val_accuracy: 0.2743\n",
      "Epoch 10/25\n",
      "180/180 [==============================] - 69s 382ms/step - loss: 1.8993 - accuracy: 0.3174 - val_loss: 2.0154 - val_accuracy: 0.3033\n",
      "Epoch 11/25\n",
      "180/180 [==============================] - 69s 384ms/step - loss: 1.8428 - accuracy: 0.3420 - val_loss: 2.0301 - val_accuracy: 0.2823\n",
      "Epoch 12/25\n",
      "180/180 [==============================] - 69s 382ms/step - loss: 1.7987 - accuracy: 0.3606 - val_loss: 2.0383 - val_accuracy: 0.3053\n",
      "Epoch 13/25\n",
      "180/180 [==============================] - 69s 384ms/step - loss: 1.7353 - accuracy: 0.3787 - val_loss: 2.0687 - val_accuracy: 0.2943\n",
      "Epoch 14/25\n",
      "180/180 [==============================] - 70s 388ms/step - loss: 1.6795 - accuracy: 0.3986 - val_loss: 2.0953 - val_accuracy: 0.2893\n",
      "Epoch 15/25\n",
      "180/180 [==============================] - 90s 503ms/step - loss: 1.6111 - accuracy: 0.4277 - val_loss: 2.1640 - val_accuracy: 0.2933\n",
      "Epoch 16/25\n",
      "180/180 [==============================] - 95s 528ms/step - loss: 1.5530 - accuracy: 0.4461 - val_loss: 2.2004 - val_accuracy: 0.2903\n",
      "Epoch 17/25\n",
      "180/180 [==============================] - 94s 523ms/step - loss: 1.4637 - accuracy: 0.4790 - val_loss: 2.2575 - val_accuracy: 0.2823\n",
      "Epoch 18/25\n",
      "180/180 [==============================] - 99s 551ms/step - loss: 1.3799 - accuracy: 0.5086 - val_loss: 2.3982 - val_accuracy: 0.2963\n",
      "Epoch 19/25\n",
      "180/180 [==============================] - 97s 536ms/step - loss: 1.3269 - accuracy: 0.5232 - val_loss: 2.5198 - val_accuracy: 0.2843\n",
      "Epoch 20/25\n",
      "180/180 [==============================] - 96s 535ms/step - loss: 1.2172 - accuracy: 0.5583 - val_loss: 2.7400 - val_accuracy: 0.3033\n",
      "Epoch 21/25\n",
      "180/180 [==============================] - 97s 541ms/step - loss: 1.1623 - accuracy: 0.5841 - val_loss: 2.7810 - val_accuracy: 0.2983\n",
      "Epoch 22/25\n",
      "180/180 [==============================] - 96s 535ms/step - loss: 1.0974 - accuracy: 0.6071 - val_loss: 2.7601 - val_accuracy: 0.2863\n",
      "Epoch 23/25\n",
      "180/180 [==============================] - 95s 529ms/step - loss: 1.0060 - accuracy: 0.6386 - val_loss: 3.0956 - val_accuracy: 0.2883\n",
      "Epoch 24/25\n",
      "180/180 [==============================] - 95s 528ms/step - loss: 0.9447 - accuracy: 0.6649 - val_loss: 3.4244 - val_accuracy: 0.2733\n",
      "Epoch 25/25\n",
      "180/180 [==============================] - 97s 540ms/step - loss: 0.9002 - accuracy: 0.6776 - val_loss: 3.3750 - val_accuracy: 0.2783\n",
      "\n"
     ]
    },
    {
     "data": {
      "text/html": [
       "Waiting for W&B process to finish... <strong style=\"color:green\">(success).</strong>"
      ],
      "text/plain": [
       "<IPython.core.display.HTML object>"
      ]
     },
     "metadata": {},
     "output_type": "display_data"
    },
    {
     "data": {
      "text/html": [
       "<style>\n",
       "    table.wandb td:nth-child(1) { padding: 0 10px; text-align: right }\n",
       "    .wandb-row { display: flex; flex-direction: row; flex-wrap: wrap; width: 100% }\n",
       "    .wandb-col { display: flex; flex-direction: column; flex-basis: 100%; flex: 1; padding: 10px; }\n",
       "    </style>\n",
       "<div class=\"wandb-row\"><div class=\"wandb-col\"><h3>Run history:</h3><br/><table class=\"wandb\"><tr><td>accuracy</td><td>▁▁▂▂▃▃▃▃▃▄▄▄▄▅▅▅▆▆▆▇▇▇███</td></tr><tr><td>epoch</td><td>▁▁▂▂▂▂▃▃▃▄▄▄▅▅▅▅▆▆▆▇▇▇▇██</td></tr><tr><td>loss</td><td>███▇▇▇▇▇▆▆▆▅▅▅▅▄▄▃▃▃▂▂▂▁▁</td></tr><tr><td>val_accuracy</td><td>▁▄▄▄▅▅▆▆▇█▇██▇█▇▇█▇██▇▇▇▇</td></tr><tr><td>val_loss</td><td>▂▂▂▂▂▁▁▁▁▁▁▁▁▁▂▂▂▃▄▅▅▅▆██</td></tr></table><br/></div><div class=\"wandb-col\"><h3>Run summary:</h3><br/><table class=\"wandb\"><tr><td>accuracy</td><td>0.67756</td></tr><tr><td>best_epoch</td><td>9</td></tr><tr><td>best_val_loss</td><td>2.01542</td></tr><tr><td>epoch</td><td>24</td></tr><tr><td>loss</td><td>0.90023</td></tr><tr><td>val_accuracy</td><td>0.27828</td></tr><tr><td>val_loss</td><td>3.37495</td></tr></table><br/></div></div>"
      ],
      "text/plain": [
       "<IPython.core.display.HTML object>"
      ]
     },
     "metadata": {},
     "output_type": "display_data"
    },
    {
     "data": {
      "text/html": [
       "Synced <strong style=\"color:#cdcd00\">sage-sweep-11</strong>: <a href=\"https://wandb.ai/cs21m029_keyur_raval/DL_CS6910_Assignment2/runs/ppx6r88f\" target=\"_blank\">https://wandb.ai/cs21m029_keyur_raval/DL_CS6910_Assignment2/runs/ppx6r88f</a><br/>Synced 6 W&B file(s), 1 media file(s), 0 artifact file(s) and 10 other file(s)"
      ],
      "text/plain": [
       "<IPython.core.display.HTML object>"
      ]
     },
     "metadata": {},
     "output_type": "display_data"
    },
    {
     "data": {
      "text/html": [
       "Find logs at: <code>.\\wandb\\run-20220408_094339-ppx6r88f\\logs</code>"
      ],
      "text/plain": [
       "<IPython.core.display.HTML object>"
      ]
     },
     "metadata": {},
     "output_type": "display_data"
    },
    {
     "name": "stderr",
     "output_type": "stream",
     "text": [
      "\u001b[34m\u001b[1mwandb\u001b[0m: Agent Starting Run: ux98ez2r with config:\n",
      "\u001b[34m\u001b[1mwandb\u001b[0m: \taugment_data: True\n",
      "\u001b[34m\u001b[1mwandb\u001b[0m: \tbatch_norm: False\n",
      "\u001b[34m\u001b[1mwandb\u001b[0m: \tdense_size: 64\n",
      "\u001b[34m\u001b[1mwandb\u001b[0m: \tdropout: 0.1\n",
      "\u001b[34m\u001b[1mwandb\u001b[0m: \tepochs: 25\n",
      "\u001b[34m\u001b[1mwandb\u001b[0m: \tlr: 0.01\n",
      "\u001b[34m\u001b[1mwandb\u001b[0m: \tno_of_filters_1: 4\n",
      "\u001b[34m\u001b[1mwandb\u001b[0m: \tno_of_filters_2: 16\n",
      "\u001b[34m\u001b[1mwandb\u001b[0m: \tno_of_filters_3: 24\n",
      "\u001b[34m\u001b[1mwandb\u001b[0m: \tno_of_filters_4: 24\n",
      "\u001b[34m\u001b[1mwandb\u001b[0m: \tno_of_filters_5: 64\n"
     ]
    },
    {
     "data": {
      "text/html": [
       "wandb version 0.12.13 is available!  To upgrade, please run:\n",
       " $ pip install wandb --upgrade"
      ],
      "text/plain": [
       "<IPython.core.display.HTML object>"
      ]
     },
     "metadata": {},
     "output_type": "display_data"
    },
    {
     "data": {
      "text/html": [
       "Tracking run with wandb version 0.12.12"
      ],
      "text/plain": [
       "<IPython.core.display.HTML object>"
      ]
     },
     "metadata": {},
     "output_type": "display_data"
    },
    {
     "data": {
      "text/html": [
       "Run data is saved locally in <code>C:\\Users\\Keyur\\Documents\\DL\\A2\\P1\\wandb\\run-20220408_101737-ux98ez2r</code>"
      ],
      "text/plain": [
       "<IPython.core.display.HTML object>"
      ]
     },
     "metadata": {},
     "output_type": "display_data"
    },
    {
     "data": {
      "text/html": [
       "Syncing run <strong><a href=\"https://wandb.ai/cs21m029_keyur_raval/DL_CS6910_Assignment2/runs/ux98ez2r\" target=\"_blank\">dainty-sweep-12</a></strong> to <a href=\"https://wandb.ai/cs21m029_keyur_raval/DL_CS6910_Assignment2\" target=\"_blank\">Weights & Biases</a> (<a href=\"https://wandb.me/run\" target=\"_blank\">docs</a>)<br/>Sweep page:  <a href=\"https://wandb.ai/cs21m029_keyur_raval/DL_CS6910_Assignment2/sweeps/61cgxeqz\" target=\"_blank\">https://wandb.ai/cs21m029_keyur_raval/DL_CS6910_Assignment2/sweeps/61cgxeqz</a>"
      ],
      "text/plain": [
       "<IPython.core.display.HTML object>"
      ]
     },
     "metadata": {},
     "output_type": "display_data"
    },
    {
     "name": "stdout",
     "output_type": "stream",
     "text": [
      "Found 9000 images belonging to 10 classes.\n",
      "Found 999 images belonging to 10 classes.\n",
      "Found 2000 images belonging to 10 classes.\n",
      "Epoch 1/25\n",
      "180/180 [==============================] - 199s 1s/step - loss: 2.9414 - accuracy: 0.0980 - val_loss: 2.3030 - val_accuracy: 0.1001\n",
      "Epoch 2/25\n",
      "180/180 [==============================] - 173s 960ms/step - loss: 2.3039 - accuracy: 0.1013 - val_loss: 2.3032 - val_accuracy: 0.1001\n",
      "Epoch 3/25\n",
      "180/180 [==============================] - 166s 922ms/step - loss: 2.3039 - accuracy: 0.0967 - val_loss: 2.3033 - val_accuracy: 0.1001\n",
      "Epoch 4/25\n",
      "180/180 [==============================] - 161s 894ms/step - loss: 2.3043 - accuracy: 0.0930 - val_loss: 2.3028 - val_accuracy: 0.0991\n",
      "Epoch 5/25\n",
      "180/180 [==============================] - 163s 908ms/step - loss: 2.3041 - accuracy: 0.0979 - val_loss: 2.3030 - val_accuracy: 0.1001\n",
      "Epoch 6/25\n",
      "180/180 [==============================] - 167s 925ms/step - loss: 2.3044 - accuracy: 0.0984 - val_loss: 2.3031 - val_accuracy: 0.1001\n",
      "Epoch 7/25\n",
      "180/180 [==============================] - 165s 916ms/step - loss: 2.3037 - accuracy: 0.0992 - val_loss: 2.3032 - val_accuracy: 0.1001\n",
      "Epoch 8/25\n",
      "180/180 [==============================] - 167s 926ms/step - loss: 2.3038 - accuracy: 0.0938 - val_loss: 2.3031 - val_accuracy: 0.1001\n",
      "Epoch 9/25\n",
      "180/180 [==============================] - 166s 923ms/step - loss: 2.3034 - accuracy: 0.1018 - val_loss: 2.3038 - val_accuracy: 0.1001\n",
      "Epoch 10/25\n",
      "180/180 [==============================] - 165s 918ms/step - loss: 2.3040 - accuracy: 0.0954 - val_loss: 2.3032 - val_accuracy: 0.1001\n",
      "Epoch 11/25\n",
      "180/180 [==============================] - 166s 919ms/step - loss: 2.3043 - accuracy: 0.0948 - val_loss: 2.3033 - val_accuracy: 0.1001\n",
      "Epoch 12/25\n",
      "180/180 [==============================] - 166s 922ms/step - loss: 2.3039 - accuracy: 0.0977 - val_loss: 2.3033 - val_accuracy: 0.1001\n",
      "Epoch 13/25\n",
      "180/180 [==============================] - 170s 942ms/step - loss: 2.3037 - accuracy: 0.0973 - val_loss: 2.3029 - val_accuracy: 0.1001\n",
      "Epoch 14/25\n",
      "180/180 [==============================] - 167s 928ms/step - loss: 2.3040 - accuracy: 0.0983 - val_loss: 2.3029 - val_accuracy: 0.1001\n",
      "Epoch 15/25\n",
      "180/180 [==============================] - 163s 907ms/step - loss: 2.3043 - accuracy: 0.0967 - val_loss: 2.3034 - val_accuracy: 0.1001\n",
      "Epoch 16/25\n",
      "180/180 [==============================] - 163s 904ms/step - loss: 2.3038 - accuracy: 0.0961 - val_loss: 2.3032 - val_accuracy: 0.1001\n",
      "Epoch 17/25\n",
      "180/180 [==============================] - 178s 990ms/step - loss: 2.3040 - accuracy: 0.0984 - val_loss: 2.3028 - val_accuracy: 0.1001\n",
      "Epoch 18/25\n",
      "180/180 [==============================] - 164s 911ms/step - loss: 2.3042 - accuracy: 0.0959 - val_loss: 2.3030 - val_accuracy: 0.1001\n",
      "Epoch 19/25\n",
      "180/180 [==============================] - 162s 900ms/step - loss: 2.3039 - accuracy: 0.0952 - val_loss: 2.3031 - val_accuracy: 0.1001\n",
      "Epoch 20/25\n",
      "180/180 [==============================] - 162s 902ms/step - loss: 2.3040 - accuracy: 0.0976 - val_loss: 2.3032 - val_accuracy: 0.1001\n",
      "Epoch 21/25\n",
      "180/180 [==============================] - 162s 900ms/step - loss: 2.3042 - accuracy: 0.0956 - val_loss: 2.3032 - val_accuracy: 0.1001\n",
      "Epoch 22/25\n",
      "180/180 [==============================] - 162s 900ms/step - loss: 2.3038 - accuracy: 0.1012 - val_loss: 2.3034 - val_accuracy: 0.1001\n",
      "Epoch 23/25\n",
      "180/180 [==============================] - 133s 740ms/step - loss: 2.3039 - accuracy: 0.0943 - val_loss: 2.3029 - val_accuracy: 0.1001\n",
      "Epoch 24/25\n",
      "180/180 [==============================] - 117s 651ms/step - loss: 2.3043 - accuracy: 0.0978 - val_loss: 2.3030 - val_accuracy: 0.1001\n",
      "Epoch 25/25\n",
      "180/180 [==============================] - 117s 652ms/step - loss: 2.3039 - accuracy: 0.0901 - val_loss: 2.3029 - val_accuracy: 0.1001\n",
      "\n"
     ]
    },
    {
     "data": {
      "text/html": [
       "Waiting for W&B process to finish... <strong style=\"color:green\">(success).</strong>"
      ],
      "text/plain": [
       "<IPython.core.display.HTML object>"
      ]
     },
     "metadata": {},
     "output_type": "display_data"
    },
    {
     "data": {
      "text/html": [
       "<style>\n",
       "    table.wandb td:nth-child(1) { padding: 0 10px; text-align: right }\n",
       "    .wandb-row { display: flex; flex-direction: row; flex-wrap: wrap; width: 100% }\n",
       "    .wandb-col { display: flex; flex-direction: column; flex-basis: 100%; flex: 1; padding: 10px; }\n",
       "    </style>\n",
       "<div class=\"wandb-row\"><div class=\"wandb-col\"><h3>Run history:</h3><br/><table class=\"wandb\"><tr><td>accuracy</td><td>▆█▅▃▆▆▆▃█▄▄▆▅▆▅▅▆▄▄▅▄█▄▆▁</td></tr><tr><td>epoch</td><td>▁▁▂▂▂▂▃▃▃▄▄▄▅▅▅▅▆▆▆▇▇▇▇██</td></tr><tr><td>loss</td><td>█▁▁▁▁▁▁▁▁▁▁▁▁▁▁▁▁▁▁▁▁▁▁▁▁</td></tr><tr><td>val_accuracy</td><td>███▁█████████████████████</td></tr><tr><td>val_loss</td><td>▂▄▅▁▂▃▃▃█▄▄▄▂▂▅▄▁▂▃▄▄▆▂▂▂</td></tr></table><br/></div><div class=\"wandb-col\"><h3>Run summary:</h3><br/><table class=\"wandb\"><tr><td>accuracy</td><td>0.09011</td></tr><tr><td>best_epoch</td><td>16</td></tr><tr><td>best_val_loss</td><td>2.30278</td></tr><tr><td>epoch</td><td>24</td></tr><tr><td>loss</td><td>2.30392</td></tr><tr><td>val_accuracy</td><td>0.1001</td></tr><tr><td>val_loss</td><td>2.30289</td></tr></table><br/></div></div>"
      ],
      "text/plain": [
       "<IPython.core.display.HTML object>"
      ]
     },
     "metadata": {},
     "output_type": "display_data"
    },
    {
     "data": {
      "text/html": [
       "Synced <strong style=\"color:#cdcd00\">dainty-sweep-12</strong>: <a href=\"https://wandb.ai/cs21m029_keyur_raval/DL_CS6910_Assignment2/runs/ux98ez2r\" target=\"_blank\">https://wandb.ai/cs21m029_keyur_raval/DL_CS6910_Assignment2/runs/ux98ez2r</a><br/>Synced 6 W&B file(s), 1 media file(s), 0 artifact file(s) and 10 other file(s)"
      ],
      "text/plain": [
       "<IPython.core.display.HTML object>"
      ]
     },
     "metadata": {},
     "output_type": "display_data"
    },
    {
     "data": {
      "text/html": [
       "Find logs at: <code>.\\wandb\\run-20220408_101737-ux98ez2r\\logs</code>"
      ],
      "text/plain": [
       "<IPython.core.display.HTML object>"
      ]
     },
     "metadata": {},
     "output_type": "display_data"
    },
    {
     "name": "stderr",
     "output_type": "stream",
     "text": [
      "\u001b[34m\u001b[1mwandb\u001b[0m: Agent Starting Run: 20wm2gzb with config:\n",
      "\u001b[34m\u001b[1mwandb\u001b[0m: \taugment_data: True\n",
      "\u001b[34m\u001b[1mwandb\u001b[0m: \tbatch_norm: False\n",
      "\u001b[34m\u001b[1mwandb\u001b[0m: \tdense_size: 64\n",
      "\u001b[34m\u001b[1mwandb\u001b[0m: \tdropout: 0.3\n",
      "\u001b[34m\u001b[1mwandb\u001b[0m: \tepochs: 25\n",
      "\u001b[34m\u001b[1mwandb\u001b[0m: \tlr: 0.01\n",
      "\u001b[34m\u001b[1mwandb\u001b[0m: \tno_of_filters_1: 4\n",
      "\u001b[34m\u001b[1mwandb\u001b[0m: \tno_of_filters_2: 16\n",
      "\u001b[34m\u001b[1mwandb\u001b[0m: \tno_of_filters_3: 24\n",
      "\u001b[34m\u001b[1mwandb\u001b[0m: \tno_of_filters_4: 24\n",
      "\u001b[34m\u001b[1mwandb\u001b[0m: \tno_of_filters_5: 64\n"
     ]
    },
    {
     "data": {
      "text/html": [
       "wandb version 0.12.13 is available!  To upgrade, please run:\n",
       " $ pip install wandb --upgrade"
      ],
      "text/plain": [
       "<IPython.core.display.HTML object>"
      ]
     },
     "metadata": {},
     "output_type": "display_data"
    },
    {
     "data": {
      "text/html": [
       "Tracking run with wandb version 0.12.12"
      ],
      "text/plain": [
       "<IPython.core.display.HTML object>"
      ]
     },
     "metadata": {},
     "output_type": "display_data"
    },
    {
     "data": {
      "text/html": [
       "Run data is saved locally in <code>C:\\Users\\Keyur\\Documents\\DL\\A2\\P1\\wandb\\run-20220408_112724-20wm2gzb</code>"
      ],
      "text/plain": [
       "<IPython.core.display.HTML object>"
      ]
     },
     "metadata": {},
     "output_type": "display_data"
    },
    {
     "data": {
      "text/html": [
       "Syncing run <strong><a href=\"https://wandb.ai/cs21m029_keyur_raval/DL_CS6910_Assignment2/runs/20wm2gzb\" target=\"_blank\">chocolate-sweep-13</a></strong> to <a href=\"https://wandb.ai/cs21m029_keyur_raval/DL_CS6910_Assignment2\" target=\"_blank\">Weights & Biases</a> (<a href=\"https://wandb.me/run\" target=\"_blank\">docs</a>)<br/>Sweep page:  <a href=\"https://wandb.ai/cs21m029_keyur_raval/DL_CS6910_Assignment2/sweeps/61cgxeqz\" target=\"_blank\">https://wandb.ai/cs21m029_keyur_raval/DL_CS6910_Assignment2/sweeps/61cgxeqz</a>"
      ],
      "text/plain": [
       "<IPython.core.display.HTML object>"
      ]
     },
     "metadata": {},
     "output_type": "display_data"
    },
    {
     "name": "stdout",
     "output_type": "stream",
     "text": [
      "Found 9000 images belonging to 10 classes.\n",
      "Found 999 images belonging to 10 classes.\n",
      "Found 2000 images belonging to 10 classes.\n",
      "Epoch 1/25\n",
      "180/180 [==============================] - 123s 681ms/step - loss: 2.3623 - accuracy: 0.1026 - val_loss: 2.3037 - val_accuracy: 0.1001\n",
      "Epoch 2/25\n",
      "180/180 [==============================] - 117s 650ms/step - loss: 2.3042 - accuracy: 0.0924 - val_loss: 2.3030 - val_accuracy: 0.1001\n",
      "Epoch 3/25\n",
      "180/180 [==============================] - 117s 648ms/step - loss: 2.3040 - accuracy: 0.0961 - val_loss: 2.3029 - val_accuracy: 0.1001\n",
      "Epoch 4/25\n",
      "180/180 [==============================] - 117s 648ms/step - loss: 2.3036 - accuracy: 0.1022 - val_loss: 2.3034 - val_accuracy: 0.1001\n",
      "Epoch 5/25\n",
      "180/180 [==============================] - 117s 650ms/step - loss: 2.3037 - accuracy: 0.1033 - val_loss: 2.3032 - val_accuracy: 0.1001\n",
      "Epoch 6/25\n",
      "180/180 [==============================] - 117s 650ms/step - loss: 2.3041 - accuracy: 0.0928 - val_loss: 2.3028 - val_accuracy: 0.1001\n",
      "Epoch 7/25\n",
      "180/180 [==============================] - 117s 648ms/step - loss: 2.3043 - accuracy: 0.0903 - val_loss: 2.3029 - val_accuracy: 0.1001\n",
      "Epoch 8/25\n",
      "180/180 [==============================] - 117s 650ms/step - loss: 2.3038 - accuracy: 0.0934 - val_loss: 2.3034 - val_accuracy: 0.1001\n",
      "Epoch 9/25\n",
      "180/180 [==============================] - 117s 651ms/step - loss: 2.3040 - accuracy: 0.0964 - val_loss: 2.3032 - val_accuracy: 0.1001\n",
      "Epoch 10/25\n",
      "180/180 [==============================] - 123s 685ms/step - loss: 2.3041 - accuracy: 0.0963 - val_loss: 2.3031 - val_accuracy: 0.1001\n",
      "Epoch 11/25\n",
      "180/180 [==============================] - 121s 671ms/step - loss: 2.3043 - accuracy: 0.0924 - val_loss: 2.3034 - val_accuracy: 0.1001\n",
      "Epoch 12/25\n",
      "180/180 [==============================] - 121s 672ms/step - loss: 2.3041 - accuracy: 0.0949 - val_loss: 2.3031 - val_accuracy: 0.1001\n",
      "Epoch 13/25\n",
      "180/180 [==============================] - 118s 656ms/step - loss: 2.3041 - accuracy: 0.0969 - val_loss: 2.3029 - val_accuracy: 0.1001\n",
      "Epoch 14/25\n",
      "180/180 [==============================] - 118s 655ms/step - loss: 2.3041 - accuracy: 0.0930 - val_loss: 2.3029 - val_accuracy: 0.1001\n",
      "Epoch 15/25\n",
      "180/180 [==============================] - 121s 673ms/step - loss: 2.3041 - accuracy: 0.0977 - val_loss: 2.3030 - val_accuracy: 0.1001\n",
      "Epoch 16/25\n",
      "180/180 [==============================] - 122s 678ms/step - loss: 2.3039 - accuracy: 0.0933 - val_loss: 2.3029 - val_accuracy: 0.1001\n",
      "Epoch 17/25\n",
      "180/180 [==============================] - 121s 674ms/step - loss: 2.3037 - accuracy: 0.0974 - val_loss: 2.3036 - val_accuracy: 0.1001\n",
      "Epoch 18/25\n",
      "180/180 [==============================] - 121s 674ms/step - loss: 2.3041 - accuracy: 0.0992 - val_loss: 2.3030 - val_accuracy: 0.1001\n",
      "Epoch 19/25\n",
      "180/180 [==============================] - 119s 663ms/step - loss: 2.3039 - accuracy: 0.0962 - val_loss: 2.3037 - val_accuracy: 0.1001\n",
      "Epoch 20/25\n",
      "180/180 [==============================] - 124s 687ms/step - loss: 2.3038 - accuracy: 0.1001 - val_loss: 2.3036 - val_accuracy: 0.1001\n",
      "Epoch 21/25\n",
      "180/180 [==============================] - 123s 686ms/step - loss: 2.3040 - accuracy: 0.0984 - val_loss: 2.3035 - val_accuracy: 0.1001\n",
      "Epoch 22/25\n",
      "180/180 [==============================] - 128s 709ms/step - loss: 2.3043 - accuracy: 0.0940 - val_loss: 2.3027 - val_accuracy: 0.1001\n",
      "Epoch 23/25\n",
      "180/180 [==============================] - 150s 833ms/step - loss: 2.3037 - accuracy: 0.0994 - val_loss: 2.3029 - val_accuracy: 0.1001\n",
      "Epoch 24/25\n",
      "180/180 [==============================] - 150s 832ms/step - loss: 2.3040 - accuracy: 0.0963 - val_loss: 2.3028 - val_accuracy: 0.1001\n",
      "Epoch 25/25\n",
      "180/180 [==============================] - 150s 832ms/step - loss: 2.3042 - accuracy: 0.0959 - val_loss: 2.3030 - val_accuracy: 0.0991\n",
      "\n"
     ]
    },
    {
     "data": {
      "text/html": [
       "Waiting for W&B process to finish... <strong style=\"color:green\">(success).</strong>"
      ],
      "text/plain": [
       "<IPython.core.display.HTML object>"
      ]
     },
     "metadata": {},
     "output_type": "display_data"
    },
    {
     "data": {
      "text/html": [
       "<style>\n",
       "    table.wandb td:nth-child(1) { padding: 0 10px; text-align: right }\n",
       "    .wandb-row { display: flex; flex-direction: row; flex-wrap: wrap; width: 100% }\n",
       "    .wandb-col { display: flex; flex-direction: column; flex-basis: 100%; flex: 1; padding: 10px; }\n",
       "    </style>\n",
       "<div class=\"wandb-row\"><div class=\"wandb-col\"><h3>Run history:</h3><br/><table class=\"wandb\"><tr><td>accuracy</td><td>█▂▄▇█▂▁▃▄▄▂▃▅▂▅▃▅▆▄▆▅▃▆▄▄</td></tr><tr><td>epoch</td><td>▁▁▂▂▂▂▃▃▃▄▄▄▅▅▅▅▆▆▆▇▇▇▇██</td></tr><tr><td>loss</td><td>█▁▁▁▁▁▁▁▁▁▁▁▁▁▁▁▁▁▁▁▁▁▁▁▁</td></tr><tr><td>val_accuracy</td><td>████████████████████████▁</td></tr><tr><td>val_loss</td><td>█▃▂▆▅▂▂▆▄▄▆▄▂▂▃▂▇▃█▇▇▁▂▂▃</td></tr></table><br/></div><div class=\"wandb-col\"><h3>Run summary:</h3><br/><table class=\"wandb\"><tr><td>accuracy</td><td>0.09589</td></tr><tr><td>best_epoch</td><td>21</td></tr><tr><td>best_val_loss</td><td>2.30272</td></tr><tr><td>epoch</td><td>24</td></tr><tr><td>loss</td><td>2.30418</td></tr><tr><td>val_accuracy</td><td>0.0991</td></tr><tr><td>val_loss</td><td>2.30303</td></tr></table><br/></div></div>"
      ],
      "text/plain": [
       "<IPython.core.display.HTML object>"
      ]
     },
     "metadata": {},
     "output_type": "display_data"
    },
    {
     "data": {
      "text/html": [
       "Synced <strong style=\"color:#cdcd00\">chocolate-sweep-13</strong>: <a href=\"https://wandb.ai/cs21m029_keyur_raval/DL_CS6910_Assignment2/runs/20wm2gzb\" target=\"_blank\">https://wandb.ai/cs21m029_keyur_raval/DL_CS6910_Assignment2/runs/20wm2gzb</a><br/>Synced 6 W&B file(s), 1 media file(s), 0 artifact file(s) and 10 other file(s)"
      ],
      "text/plain": [
       "<IPython.core.display.HTML object>"
      ]
     },
     "metadata": {},
     "output_type": "display_data"
    },
    {
     "data": {
      "text/html": [
       "Find logs at: <code>.\\wandb\\run-20220408_112724-20wm2gzb\\logs</code>"
      ],
      "text/plain": [
       "<IPython.core.display.HTML object>"
      ]
     },
     "metadata": {},
     "output_type": "display_data"
    },
    {
     "name": "stderr",
     "output_type": "stream",
     "text": [
      "\u001b[34m\u001b[1mwandb\u001b[0m: Sweep Agent: Waiting for job.\n",
      "\u001b[34m\u001b[1mwandb\u001b[0m: Job received.\n",
      "\u001b[34m\u001b[1mwandb\u001b[0m: Agent Starting Run: xuo4nelk with config:\n",
      "\u001b[34m\u001b[1mwandb\u001b[0m: \taugment_data: False\n",
      "\u001b[34m\u001b[1mwandb\u001b[0m: \tbatch_norm: True\n",
      "\u001b[34m\u001b[1mwandb\u001b[0m: \tdense_size: 64\n",
      "\u001b[34m\u001b[1mwandb\u001b[0m: \tdropout: 0.1\n",
      "\u001b[34m\u001b[1mwandb\u001b[0m: \tepochs: 25\n",
      "\u001b[34m\u001b[1mwandb\u001b[0m: \tlr: 0.001\n",
      "\u001b[34m\u001b[1mwandb\u001b[0m: \tno_of_filters_1: 8\n",
      "\u001b[34m\u001b[1mwandb\u001b[0m: \tno_of_filters_2: 16\n",
      "\u001b[34m\u001b[1mwandb\u001b[0m: \tno_of_filters_3: 24\n",
      "\u001b[34m\u001b[1mwandb\u001b[0m: \tno_of_filters_4: 24\n",
      "\u001b[34m\u001b[1mwandb\u001b[0m: \tno_of_filters_5: 64\n"
     ]
    },
    {
     "data": {
      "text/html": [
       "wandb version 0.12.13 is available!  To upgrade, please run:\n",
       " $ pip install wandb --upgrade"
      ],
      "text/plain": [
       "<IPython.core.display.HTML object>"
      ]
     },
     "metadata": {},
     "output_type": "display_data"
    },
    {
     "data": {
      "text/html": [
       "Tracking run with wandb version 0.12.12"
      ],
      "text/plain": [
       "<IPython.core.display.HTML object>"
      ]
     },
     "metadata": {},
     "output_type": "display_data"
    },
    {
     "data": {
      "text/html": [
       "Run data is saved locally in <code>C:\\Users\\Keyur\\Documents\\DL\\A2\\P1\\wandb\\run-20220408_121917-xuo4nelk</code>"
      ],
      "text/plain": [
       "<IPython.core.display.HTML object>"
      ]
     },
     "metadata": {},
     "output_type": "display_data"
    },
    {
     "data": {
      "text/html": [
       "Syncing run <strong><a href=\"https://wandb.ai/cs21m029_keyur_raval/DL_CS6910_Assignment2/runs/xuo4nelk\" target=\"_blank\">firm-sweep-14</a></strong> to <a href=\"https://wandb.ai/cs21m029_keyur_raval/DL_CS6910_Assignment2\" target=\"_blank\">Weights & Biases</a> (<a href=\"https://wandb.me/run\" target=\"_blank\">docs</a>)<br/>Sweep page:  <a href=\"https://wandb.ai/cs21m029_keyur_raval/DL_CS6910_Assignment2/sweeps/61cgxeqz\" target=\"_blank\">https://wandb.ai/cs21m029_keyur_raval/DL_CS6910_Assignment2/sweeps/61cgxeqz</a>"
      ],
      "text/plain": [
       "<IPython.core.display.HTML object>"
      ]
     },
     "metadata": {},
     "output_type": "display_data"
    },
    {
     "name": "stdout",
     "output_type": "stream",
     "text": [
      "Found 9000 images belonging to 10 classes.\n",
      "Found 999 images belonging to 10 classes.\n",
      "Found 2000 images belonging to 10 classes.\n",
      "Epoch 1/25\n",
      "180/180 [==============================] - 102s 557ms/step - loss: 2.3260 - accuracy: 0.2046 - val_loss: 2.3946 - val_accuracy: 0.1331\n",
      "Epoch 2/25\n",
      "180/180 [==============================] - 101s 564ms/step - loss: 2.0530 - accuracy: 0.2700 - val_loss: 2.1783 - val_accuracy: 0.2102\n",
      "Epoch 3/25\n",
      "180/180 [==============================] - 99s 549ms/step - loss: 1.9598 - accuracy: 0.3022 - val_loss: 2.1086 - val_accuracy: 0.2613\n",
      "Epoch 4/25\n",
      "180/180 [==============================] - 99s 548ms/step - loss: 1.8649 - accuracy: 0.3391 - val_loss: 2.0428 - val_accuracy: 0.2933\n",
      "Epoch 5/25\n",
      "180/180 [==============================] - 107s 588ms/step - loss: 1.7618 - accuracy: 0.3711 - val_loss: 2.1317 - val_accuracy: 0.2743\n",
      "Epoch 6/25\n",
      "180/180 [==============================] - 96s 531ms/step - loss: 1.6561 - accuracy: 0.4148 - val_loss: 2.2957 - val_accuracy: 0.2883\n",
      "Epoch 7/25\n",
      "180/180 [==============================] - 110s 609ms/step - loss: 1.5248 - accuracy: 0.4622 - val_loss: 2.0295 - val_accuracy: 0.3263\n",
      "Epoch 8/25\n",
      "180/180 [==============================] - 112s 622ms/step - loss: 1.4050 - accuracy: 0.5104 - val_loss: 2.1791 - val_accuracy: 0.3133\n",
      "Epoch 9/25\n",
      "180/180 [==============================] - 112s 624ms/step - loss: 1.2689 - accuracy: 0.5557 - val_loss: 2.2015 - val_accuracy: 0.3183\n",
      "Epoch 10/25\n",
      "180/180 [==============================] - 108s 600ms/step - loss: 1.1351 - accuracy: 0.6057 - val_loss: 2.4267 - val_accuracy: 0.2873\n",
      "Epoch 11/25\n",
      "180/180 [==============================] - 106s 590ms/step - loss: 0.9973 - accuracy: 0.6574 - val_loss: 2.4508 - val_accuracy: 0.3173\n",
      "Epoch 12/25\n",
      "180/180 [==============================] - 100s 558ms/step - loss: 0.8414 - accuracy: 0.7087 - val_loss: 2.5662 - val_accuracy: 0.3303\n",
      "Epoch 13/25\n",
      "180/180 [==============================] - 132s 727ms/step - loss: 0.7030 - accuracy: 0.7610 - val_loss: 2.7676 - val_accuracy: 0.3233\n",
      "Epoch 14/25\n",
      "180/180 [==============================] - 141s 785ms/step - loss: 0.5892 - accuracy: 0.8064 - val_loss: 3.2505 - val_accuracy: 0.2603\n",
      "Epoch 15/25\n",
      "180/180 [==============================] - 132s 733ms/step - loss: 0.5007 - accuracy: 0.8348 - val_loss: 3.1287 - val_accuracy: 0.3133\n",
      "Epoch 16/25\n",
      "180/180 [==============================] - 132s 734ms/step - loss: 0.4241 - accuracy: 0.8626 - val_loss: 3.2859 - val_accuracy: 0.3153\n",
      "Epoch 17/25\n",
      "180/180 [==============================] - 125s 696ms/step - loss: 0.3519 - accuracy: 0.8854 - val_loss: 3.5564 - val_accuracy: 0.2943\n",
      "Epoch 18/25\n",
      "180/180 [==============================] - 127s 706ms/step - loss: 0.3223 - accuracy: 0.8970 - val_loss: 3.6893 - val_accuracy: 0.2803\n",
      "Epoch 19/25\n",
      "180/180 [==============================] - 127s 704ms/step - loss: 0.2900 - accuracy: 0.9083 - val_loss: 3.7457 - val_accuracy: 0.2943\n",
      "Epoch 20/25\n",
      "180/180 [==============================] - 125s 697ms/step - loss: 0.2289 - accuracy: 0.9286 - val_loss: 3.7855 - val_accuracy: 0.2993\n",
      "Epoch 21/25\n",
      "180/180 [==============================] - 127s 704ms/step - loss: 0.2374 - accuracy: 0.9214 - val_loss: 3.9202 - val_accuracy: 0.2943\n",
      "Epoch 22/25\n",
      "180/180 [==============================] - 121s 671ms/step - loss: 0.2103 - accuracy: 0.9333 - val_loss: 3.9690 - val_accuracy: 0.2933\n",
      "Epoch 23/25\n",
      "180/180 [==============================] - 133s 742ms/step - loss: 0.1953 - accuracy: 0.9380 - val_loss: 4.2608 - val_accuracy: 0.2833\n",
      "Epoch 24/25\n",
      "180/180 [==============================] - 133s 735ms/step - loss: 0.1906 - accuracy: 0.9397 - val_loss: 4.4269 - val_accuracy: 0.2823\n",
      "Epoch 25/25\n",
      "180/180 [==============================] - 133s 738ms/step - loss: 0.1988 - accuracy: 0.9317 - val_loss: 4.2551 - val_accuracy: 0.3073\n",
      "\n"
     ]
    },
    {
     "data": {
      "text/html": [
       "Waiting for W&B process to finish... <strong style=\"color:green\">(success).</strong>"
      ],
      "text/plain": [
       "<IPython.core.display.HTML object>"
      ]
     },
     "metadata": {},
     "output_type": "display_data"
    },
    {
     "data": {
      "text/html": [
       "<style>\n",
       "    table.wandb td:nth-child(1) { padding: 0 10px; text-align: right }\n",
       "    .wandb-row { display: flex; flex-direction: row; flex-wrap: wrap; width: 100% }\n",
       "    .wandb-col { display: flex; flex-direction: column; flex-basis: 100%; flex: 1; padding: 10px; }\n",
       "    </style>\n",
       "<div class=\"wandb-row\"><div class=\"wandb-col\"><h3>Run history:</h3><br/><table class=\"wandb\"><tr><td>accuracy</td><td>▁▂▂▂▃▃▃▄▄▅▅▆▆▇▇▇▇████████</td></tr><tr><td>epoch</td><td>▁▁▂▂▂▂▃▃▃▄▄▄▅▅▅▅▆▆▆▇▇▇▇██</td></tr><tr><td>loss</td><td>█▇▇▆▆▆▅▅▅▄▄▃▃▂▂▂▂▁▁▁▁▁▁▁▁</td></tr><tr><td>val_accuracy</td><td>▁▄▆▇▆▇█▇█▆███▆▇▇▇▆▇▇▇▇▆▆▇</td></tr><tr><td>val_loss</td><td>▂▁▁▁▁▂▁▁▂▂▂▃▃▅▄▅▅▆▆▆▇▇██▇</td></tr></table><br/></div><div class=\"wandb-col\"><h3>Run summary:</h3><br/><table class=\"wandb\"><tr><td>accuracy</td><td>0.93167</td></tr><tr><td>best_epoch</td><td>6</td></tr><tr><td>best_val_loss</td><td>2.02954</td></tr><tr><td>epoch</td><td>24</td></tr><tr><td>loss</td><td>0.19877</td></tr><tr><td>val_accuracy</td><td>0.30731</td></tr><tr><td>val_loss</td><td>4.2551</td></tr></table><br/></div></div>"
      ],
      "text/plain": [
       "<IPython.core.display.HTML object>"
      ]
     },
     "metadata": {},
     "output_type": "display_data"
    },
    {
     "data": {
      "text/html": [
       "Synced <strong style=\"color:#cdcd00\">firm-sweep-14</strong>: <a href=\"https://wandb.ai/cs21m029_keyur_raval/DL_CS6910_Assignment2/runs/xuo4nelk\" target=\"_blank\">https://wandb.ai/cs21m029_keyur_raval/DL_CS6910_Assignment2/runs/xuo4nelk</a><br/>Synced 6 W&B file(s), 1 media file(s), 0 artifact file(s) and 10 other file(s)"
      ],
      "text/plain": [
       "<IPython.core.display.HTML object>"
      ]
     },
     "metadata": {},
     "output_type": "display_data"
    },
    {
     "data": {
      "text/html": [
       "Find logs at: <code>.\\wandb\\run-20220408_121917-xuo4nelk\\logs</code>"
      ],
      "text/plain": [
       "<IPython.core.display.HTML object>"
      ]
     },
     "metadata": {},
     "output_type": "display_data"
    },
    {
     "name": "stderr",
     "output_type": "stream",
     "text": [
      "\u001b[34m\u001b[1mwandb\u001b[0m: Agent Starting Run: w3f6h7d9 with config:\n",
      "\u001b[34m\u001b[1mwandb\u001b[0m: \taugment_data: True\n",
      "\u001b[34m\u001b[1mwandb\u001b[0m: \tbatch_norm: True\n",
      "\u001b[34m\u001b[1mwandb\u001b[0m: \tdense_size: 100\n",
      "\u001b[34m\u001b[1mwandb\u001b[0m: \tdropout: 0\n",
      "\u001b[34m\u001b[1mwandb\u001b[0m: \tepochs: 25\n",
      "\u001b[34m\u001b[1mwandb\u001b[0m: \tlr: 0.005\n",
      "\u001b[34m\u001b[1mwandb\u001b[0m: \tno_of_filters_1: 4\n",
      "\u001b[34m\u001b[1mwandb\u001b[0m: \tno_of_filters_2: 16\n",
      "\u001b[34m\u001b[1mwandb\u001b[0m: \tno_of_filters_3: 16\n",
      "\u001b[34m\u001b[1mwandb\u001b[0m: \tno_of_filters_4: 24\n",
      "\u001b[34m\u001b[1mwandb\u001b[0m: \tno_of_filters_5: 64\n"
     ]
    },
    {
     "data": {
      "text/html": [
       "wandb version 0.12.13 is available!  To upgrade, please run:\n",
       " $ pip install wandb --upgrade"
      ],
      "text/plain": [
       "<IPython.core.display.HTML object>"
      ]
     },
     "metadata": {},
     "output_type": "display_data"
    },
    {
     "data": {
      "text/html": [
       "Tracking run with wandb version 0.12.12"
      ],
      "text/plain": [
       "<IPython.core.display.HTML object>"
      ]
     },
     "metadata": {},
     "output_type": "display_data"
    },
    {
     "data": {
      "text/html": [
       "Run data is saved locally in <code>C:\\Users\\Keyur\\Documents\\DL\\A2\\P1\\wandb\\run-20220408_130836-w3f6h7d9</code>"
      ],
      "text/plain": [
       "<IPython.core.display.HTML object>"
      ]
     },
     "metadata": {},
     "output_type": "display_data"
    },
    {
     "data": {
      "text/html": [
       "Syncing run <strong><a href=\"https://wandb.ai/cs21m029_keyur_raval/DL_CS6910_Assignment2/runs/w3f6h7d9\" target=\"_blank\">eager-sweep-15</a></strong> to <a href=\"https://wandb.ai/cs21m029_keyur_raval/DL_CS6910_Assignment2\" target=\"_blank\">Weights & Biases</a> (<a href=\"https://wandb.me/run\" target=\"_blank\">docs</a>)<br/>Sweep page:  <a href=\"https://wandb.ai/cs21m029_keyur_raval/DL_CS6910_Assignment2/sweeps/61cgxeqz\" target=\"_blank\">https://wandb.ai/cs21m029_keyur_raval/DL_CS6910_Assignment2/sweeps/61cgxeqz</a>"
      ],
      "text/plain": [
       "<IPython.core.display.HTML object>"
      ]
     },
     "metadata": {},
     "output_type": "display_data"
    },
    {
     "name": "stdout",
     "output_type": "stream",
     "text": [
      "Found 9000 images belonging to 10 classes.\n",
      "Found 999 images belonging to 10 classes.\n",
      "Found 2000 images belonging to 10 classes.\n",
      "Epoch 1/25\n",
      "180/180 [==============================] - 204s 1s/step - loss: 2.4426 - accuracy: 0.1711 - val_loss: 2.3465 - val_accuracy: 0.1722\n",
      "Epoch 2/25\n",
      "180/180 [==============================] - 198s 1s/step - loss: 2.1536 - accuracy: 0.2084 - val_loss: 2.2192 - val_accuracy: 0.2022\n",
      "Epoch 3/25\n",
      "180/180 [==============================] - 201s 1s/step - loss: 2.1402 - accuracy: 0.2132 - val_loss: 2.1609 - val_accuracy: 0.2072\n",
      "Epoch 4/25\n",
      "180/180 [==============================] - 199s 1s/step - loss: 2.1033 - accuracy: 0.2306 - val_loss: 2.1360 - val_accuracy: 0.2252\n",
      "Epoch 5/25\n",
      "180/180 [==============================] - 197s 1s/step - loss: 2.0884 - accuracy: 0.2366 - val_loss: 2.1988 - val_accuracy: 0.2122\n",
      "Epoch 6/25\n",
      "180/180 [==============================] - 199s 1s/step - loss: 2.0731 - accuracy: 0.2434 - val_loss: 2.3496 - val_accuracy: 0.1652\n",
      "Epoch 7/25\n",
      "180/180 [==============================] - 199s 1s/step - loss: 2.0643 - accuracy: 0.2473 - val_loss: 2.0905 - val_accuracy: 0.2162\n",
      "Epoch 8/25\n",
      "180/180 [==============================] - 203s 1s/step - loss: 2.0375 - accuracy: 0.2658 - val_loss: 2.2083 - val_accuracy: 0.2503\n",
      "Epoch 9/25\n",
      "180/180 [==============================] - 201s 1s/step - loss: 2.0147 - accuracy: 0.2720 - val_loss: 2.0751 - val_accuracy: 0.2713\n",
      "Epoch 10/25\n",
      "180/180 [==============================] - 206s 1s/step - loss: 1.9840 - accuracy: 0.2947 - val_loss: 2.0504 - val_accuracy: 0.2783\n",
      "Epoch 11/25\n",
      "180/180 [==============================] - 197s 1s/step - loss: 1.9633 - accuracy: 0.3038 - val_loss: 1.9856 - val_accuracy: 0.2843\n",
      "Epoch 12/25\n",
      "180/180 [==============================] - 193s 1s/step - loss: 1.9366 - accuracy: 0.3087 - val_loss: 2.1782 - val_accuracy: 0.2422\n",
      "Epoch 13/25\n",
      "180/180 [==============================] - 202s 1s/step - loss: 1.9437 - accuracy: 0.3096 - val_loss: 2.0215 - val_accuracy: 0.2883\n",
      "Epoch 14/25\n",
      "180/180 [==============================] - 200s 1s/step - loss: 1.9164 - accuracy: 0.3236 - val_loss: 1.9879 - val_accuracy: 0.2853\n",
      "Epoch 15/25\n",
      "180/180 [==============================] - 174s 957ms/step - loss: 1.8947 - accuracy: 0.3273 - val_loss: 2.0288 - val_accuracy: 0.2983\n",
      "Epoch 16/25\n",
      "180/180 [==============================] - 152s 845ms/step - loss: 1.8846 - accuracy: 0.3280 - val_loss: 1.9794 - val_accuracy: 0.3133\n",
      "Epoch 17/25\n",
      "180/180 [==============================] - 152s 844ms/step - loss: 1.8678 - accuracy: 0.3402 - val_loss: 2.1304 - val_accuracy: 0.2593\n",
      "Epoch 18/25\n",
      "180/180 [==============================] - 149s 828ms/step - loss: 1.8517 - accuracy: 0.3444 - val_loss: 1.9024 - val_accuracy: 0.3213\n",
      "Epoch 19/25\n",
      "180/180 [==============================] - 145s 805ms/step - loss: 1.8275 - accuracy: 0.3548 - val_loss: 1.9369 - val_accuracy: 0.3283\n",
      "Epoch 20/25\n",
      "180/180 [==============================] - 145s 803ms/step - loss: 1.8133 - accuracy: 0.3614 - val_loss: 1.8681 - val_accuracy: 0.3493\n",
      "Epoch 21/25\n",
      "180/180 [==============================] - 122s 676ms/step - loss: 1.8112 - accuracy: 0.3638 - val_loss: 1.9109 - val_accuracy: 0.3383\n",
      "Epoch 22/25\n",
      "180/180 [==============================] - 122s 677ms/step - loss: 1.8012 - accuracy: 0.3709 - val_loss: 1.9264 - val_accuracy: 0.3303\n",
      "Epoch 23/25\n",
      "180/180 [==============================] - 121s 672ms/step - loss: 1.7867 - accuracy: 0.3713 - val_loss: 1.8905 - val_accuracy: 0.3393\n",
      "Epoch 24/25\n",
      "180/180 [==============================] - 125s 696ms/step - loss: 1.7745 - accuracy: 0.3763 - val_loss: 1.8876 - val_accuracy: 0.3554\n",
      "Epoch 25/25\n",
      "180/180 [==============================] - 127s 703ms/step - loss: 1.7735 - accuracy: 0.3759 - val_loss: 1.9659 - val_accuracy: 0.3213\n",
      "\n"
     ]
    },
    {
     "data": {
      "text/html": [
       "Waiting for W&B process to finish... <strong style=\"color:green\">(success).</strong>"
      ],
      "text/plain": [
       "<IPython.core.display.HTML object>"
      ]
     },
     "metadata": {},
     "output_type": "display_data"
    },
    {
     "data": {
      "text/html": [
       "<style>\n",
       "    table.wandb td:nth-child(1) { padding: 0 10px; text-align: right }\n",
       "    .wandb-row { display: flex; flex-direction: row; flex-wrap: wrap; width: 100% }\n",
       "    .wandb-col { display: flex; flex-direction: column; flex-basis: 100%; flex: 1; padding: 10px; }\n",
       "    </style>\n",
       "<div class=\"wandb-row\"><div class=\"wandb-col\"><h3>Run history:</h3><br/><table class=\"wandb\"><tr><td>accuracy</td><td>▁▂▂▃▃▃▄▄▄▅▆▆▆▆▆▆▇▇▇▇█████</td></tr><tr><td>epoch</td><td>▁▁▂▂▂▂▃▃▃▄▄▄▅▅▅▅▆▆▆▇▇▇▇██</td></tr><tr><td>loss</td><td>█▅▅▄▄▄▄▄▄▃▃▃▃▂▂▂▂▂▂▁▁▁▁▁▁</td></tr><tr><td>val_accuracy</td><td>▁▂▃▃▃▁▃▄▅▅▅▄▆▅▆▆▄▇▇█▇▇▇█▇</td></tr><tr><td>val_loss</td><td>█▆▅▅▆█▄▆▄▄▃▆▃▃▃▃▅▁▂▁▂▂▁▁▂</td></tr></table><br/></div><div class=\"wandb-col\"><h3>Run summary:</h3><br/><table class=\"wandb\"><tr><td>accuracy</td><td>0.37589</td></tr><tr><td>best_epoch</td><td>19</td></tr><tr><td>best_val_loss</td><td>1.86806</td></tr><tr><td>epoch</td><td>24</td></tr><tr><td>loss</td><td>1.77354</td></tr><tr><td>val_accuracy</td><td>0.32132</td></tr><tr><td>val_loss</td><td>1.96585</td></tr></table><br/></div></div>"
      ],
      "text/plain": [
       "<IPython.core.display.HTML object>"
      ]
     },
     "metadata": {},
     "output_type": "display_data"
    },
    {
     "data": {
      "text/html": [
       "Synced <strong style=\"color:#cdcd00\">eager-sweep-15</strong>: <a href=\"https://wandb.ai/cs21m029_keyur_raval/DL_CS6910_Assignment2/runs/w3f6h7d9\" target=\"_blank\">https://wandb.ai/cs21m029_keyur_raval/DL_CS6910_Assignment2/runs/w3f6h7d9</a><br/>Synced 6 W&B file(s), 1 media file(s), 0 artifact file(s) and 10 other file(s)"
      ],
      "text/plain": [
       "<IPython.core.display.HTML object>"
      ]
     },
     "metadata": {},
     "output_type": "display_data"
    },
    {
     "data": {
      "text/html": [
       "Find logs at: <code>.\\wandb\\run-20220408_130836-w3f6h7d9\\logs</code>"
      ],
      "text/plain": [
       "<IPython.core.display.HTML object>"
      ]
     },
     "metadata": {},
     "output_type": "display_data"
    },
    {
     "name": "stderr",
     "output_type": "stream",
     "text": [
      "\u001b[34m\u001b[1mwandb\u001b[0m: Agent Starting Run: pd61ii91 with config:\n",
      "\u001b[34m\u001b[1mwandb\u001b[0m: \taugment_data: True\n",
      "\u001b[34m\u001b[1mwandb\u001b[0m: \tbatch_norm: True\n",
      "\u001b[34m\u001b[1mwandb\u001b[0m: \tdense_size: 128\n",
      "\u001b[34m\u001b[1mwandb\u001b[0m: \tdropout: 0\n",
      "\u001b[34m\u001b[1mwandb\u001b[0m: \tepochs: 25\n",
      "\u001b[34m\u001b[1mwandb\u001b[0m: \tlr: 0.001\n",
      "\u001b[34m\u001b[1mwandb\u001b[0m: \tno_of_filters_1: 8\n",
      "\u001b[34m\u001b[1mwandb\u001b[0m: \tno_of_filters_2: 16\n",
      "\u001b[34m\u001b[1mwandb\u001b[0m: \tno_of_filters_3: 16\n",
      "\u001b[34m\u001b[1mwandb\u001b[0m: \tno_of_filters_4: 32\n",
      "\u001b[34m\u001b[1mwandb\u001b[0m: \tno_of_filters_5: 32\n"
     ]
    },
    {
     "data": {
      "text/html": [
       "wandb version 0.12.13 is available!  To upgrade, please run:\n",
       " $ pip install wandb --upgrade"
      ],
      "text/plain": [
       "<IPython.core.display.HTML object>"
      ]
     },
     "metadata": {},
     "output_type": "display_data"
    },
    {
     "data": {
      "text/html": [
       "Tracking run with wandb version 0.12.12"
      ],
      "text/plain": [
       "<IPython.core.display.HTML object>"
      ]
     },
     "metadata": {},
     "output_type": "display_data"
    },
    {
     "data": {
      "text/html": [
       "Run data is saved locally in <code>C:\\Users\\Keyur\\Documents\\DL\\A2\\P1\\wandb\\run-20220408_142109-pd61ii91</code>"
      ],
      "text/plain": [
       "<IPython.core.display.HTML object>"
      ]
     },
     "metadata": {},
     "output_type": "display_data"
    },
    {
     "data": {
      "text/html": [
       "Syncing run <strong><a href=\"https://wandb.ai/cs21m029_keyur_raval/DL_CS6910_Assignment2/runs/pd61ii91\" target=\"_blank\">pious-sweep-16</a></strong> to <a href=\"https://wandb.ai/cs21m029_keyur_raval/DL_CS6910_Assignment2\" target=\"_blank\">Weights & Biases</a> (<a href=\"https://wandb.me/run\" target=\"_blank\">docs</a>)<br/>Sweep page:  <a href=\"https://wandb.ai/cs21m029_keyur_raval/DL_CS6910_Assignment2/sweeps/61cgxeqz\" target=\"_blank\">https://wandb.ai/cs21m029_keyur_raval/DL_CS6910_Assignment2/sweeps/61cgxeqz</a>"
      ],
      "text/plain": [
       "<IPython.core.display.HTML object>"
      ]
     },
     "metadata": {},
     "output_type": "display_data"
    },
    {
     "name": "stdout",
     "output_type": "stream",
     "text": [
      "Found 9000 images belonging to 10 classes.\n",
      "Found 999 images belonging to 10 classes.\n",
      "Found 2000 images belonging to 10 classes.\n",
      "Epoch 1/25\n",
      "180/180 [==============================] - 127s 698ms/step - loss: 2.2376 - accuracy: 0.2136 - val_loss: 2.5208 - val_accuracy: 0.1131\n",
      "Epoch 2/25\n",
      "180/180 [==============================] - 118s 655ms/step - loss: 2.0826 - accuracy: 0.2543 - val_loss: 2.5811 - val_accuracy: 0.1411\n",
      "Epoch 3/25\n",
      "180/180 [==============================] - 121s 671ms/step - loss: 2.0224 - accuracy: 0.2818 - val_loss: 2.1293 - val_accuracy: 0.2633\n",
      "Epoch 4/25\n",
      "180/180 [==============================] - 118s 656ms/step - loss: 1.9906 - accuracy: 0.2878 - val_loss: 2.0338 - val_accuracy: 0.2923\n",
      "Epoch 5/25\n",
      "180/180 [==============================] - 118s 656ms/step - loss: 1.9605 - accuracy: 0.2993 - val_loss: 1.9867 - val_accuracy: 0.2923\n",
      "Epoch 6/25\n",
      "180/180 [==============================] - 118s 657ms/step - loss: 1.9173 - accuracy: 0.3181 - val_loss: 1.9458 - val_accuracy: 0.3193\n",
      "Epoch 7/25\n",
      "180/180 [==============================] - 120s 669ms/step - loss: 1.8921 - accuracy: 0.3277 - val_loss: 1.9786 - val_accuracy: 0.3053\n",
      "Epoch 8/25\n",
      "180/180 [==============================] - 123s 682ms/step - loss: 1.8685 - accuracy: 0.3402 - val_loss: 1.9679 - val_accuracy: 0.3123\n",
      "Epoch 9/25\n",
      "180/180 [==============================] - 123s 681ms/step - loss: 1.8485 - accuracy: 0.3461 - val_loss: 1.9831 - val_accuracy: 0.3003\n",
      "Epoch 10/25\n",
      "180/180 [==============================] - 120s 669ms/step - loss: 1.8158 - accuracy: 0.3629 - val_loss: 1.9529 - val_accuracy: 0.3253\n",
      "Epoch 11/25\n",
      "180/180 [==============================] - 121s 672ms/step - loss: 1.8026 - accuracy: 0.3667 - val_loss: 1.9465 - val_accuracy: 0.3073\n",
      "Epoch 12/25\n",
      "180/180 [==============================] - 122s 679ms/step - loss: 1.7888 - accuracy: 0.3669 - val_loss: 1.8727 - val_accuracy: 0.3544\n",
      "Epoch 13/25\n",
      "180/180 [==============================] - 119s 663ms/step - loss: 1.7623 - accuracy: 0.3781 - val_loss: 1.9113 - val_accuracy: 0.3363\n",
      "Epoch 14/25\n",
      "180/180 [==============================] - 118s 657ms/step - loss: 1.7449 - accuracy: 0.3858 - val_loss: 2.0053 - val_accuracy: 0.3473\n",
      "Epoch 15/25\n",
      "180/180 [==============================] - 118s 657ms/step - loss: 1.7199 - accuracy: 0.3933 - val_loss: 1.8936 - val_accuracy: 0.3293\n",
      "Epoch 16/25\n",
      "180/180 [==============================] - 119s 661ms/step - loss: 1.7074 - accuracy: 0.3972 - val_loss: 1.9366 - val_accuracy: 0.3343\n",
      "Epoch 17/25\n",
      "180/180 [==============================] - 124s 687ms/step - loss: 1.6948 - accuracy: 0.4040 - val_loss: 1.9149 - val_accuracy: 0.3584\n",
      "Epoch 18/25\n",
      "180/180 [==============================] - 122s 676ms/step - loss: 1.6736 - accuracy: 0.4111 - val_loss: 1.8032 - val_accuracy: 0.3914\n",
      "Epoch 19/25\n",
      "180/180 [==============================] - 122s 679ms/step - loss: 1.6547 - accuracy: 0.4227 - val_loss: 1.8481 - val_accuracy: 0.3584\n",
      "Epoch 20/25\n",
      "180/180 [==============================] - 118s 655ms/step - loss: 1.6447 - accuracy: 0.4150 - val_loss: 1.7698 - val_accuracy: 0.3894\n",
      "Epoch 21/25\n",
      "180/180 [==============================] - 120s 664ms/step - loss: 1.6303 - accuracy: 0.4236 - val_loss: 1.8297 - val_accuracy: 0.3834\n",
      "Epoch 22/25\n",
      "180/180 [==============================] - 118s 655ms/step - loss: 1.6232 - accuracy: 0.4226 - val_loss: 1.7925 - val_accuracy: 0.3874\n",
      "Epoch 23/25\n",
      "180/180 [==============================] - 118s 658ms/step - loss: 1.6075 - accuracy: 0.4372 - val_loss: 1.7820 - val_accuracy: 0.3964\n",
      "Epoch 24/25\n",
      "180/180 [==============================] - 120s 666ms/step - loss: 1.5861 - accuracy: 0.4342 - val_loss: 1.8630 - val_accuracy: 0.3403\n",
      "Epoch 25/25\n",
      "180/180 [==============================] - 124s 686ms/step - loss: 1.5874 - accuracy: 0.4363 - val_loss: 1.9381 - val_accuracy: 0.3343\n",
      "\n"
     ]
    },
    {
     "data": {
      "text/html": [
       "Waiting for W&B process to finish... <strong style=\"color:green\">(success).</strong>"
      ],
      "text/plain": [
       "<IPython.core.display.HTML object>"
      ]
     },
     "metadata": {},
     "output_type": "display_data"
    },
    {
     "data": {
      "text/html": [
       "<style>\n",
       "    table.wandb td:nth-child(1) { padding: 0 10px; text-align: right }\n",
       "    .wandb-row { display: flex; flex-direction: row; flex-wrap: wrap; width: 100% }\n",
       "    .wandb-col { display: flex; flex-direction: column; flex-basis: 100%; flex: 1; padding: 10px; }\n",
       "    </style>\n",
       "<div class=\"wandb-row\"><div class=\"wandb-col\"><h3>Run history:</h3><br/><table class=\"wandb\"><tr><td>accuracy</td><td>▁▂▃▃▄▄▅▅▅▆▆▆▆▆▇▇▇▇█▇█████</td></tr><tr><td>epoch</td><td>▁▁▂▂▂▂▃▃▃▄▄▄▅▅▅▅▆▆▆▇▇▇▇██</td></tr><tr><td>loss</td><td>█▆▆▅▅▅▄▄▄▃▃▃▃▃▂▂▂▂▂▂▁▁▁▁▁</td></tr><tr><td>val_accuracy</td><td>▁▂▅▅▅▆▆▆▆▆▆▇▇▇▆▆▇█▇████▇▆</td></tr><tr><td>val_loss</td><td>▇█▄▃▃▃▃▃▃▃▃▂▂▃▂▂▂▁▂▁▂▁▁▂▂</td></tr></table><br/></div><div class=\"wandb-col\"><h3>Run summary:</h3><br/><table class=\"wandb\"><tr><td>accuracy</td><td>0.43633</td></tr><tr><td>best_epoch</td><td>19</td></tr><tr><td>best_val_loss</td><td>1.76984</td></tr><tr><td>epoch</td><td>24</td></tr><tr><td>loss</td><td>1.58737</td></tr><tr><td>val_accuracy</td><td>0.33433</td></tr><tr><td>val_loss</td><td>1.93812</td></tr></table><br/></div></div>"
      ],
      "text/plain": [
       "<IPython.core.display.HTML object>"
      ]
     },
     "metadata": {},
     "output_type": "display_data"
    },
    {
     "data": {
      "text/html": [
       "Synced <strong style=\"color:#cdcd00\">pious-sweep-16</strong>: <a href=\"https://wandb.ai/cs21m029_keyur_raval/DL_CS6910_Assignment2/runs/pd61ii91\" target=\"_blank\">https://wandb.ai/cs21m029_keyur_raval/DL_CS6910_Assignment2/runs/pd61ii91</a><br/>Synced 6 W&B file(s), 1 media file(s), 0 artifact file(s) and 10 other file(s)"
      ],
      "text/plain": [
       "<IPython.core.display.HTML object>"
      ]
     },
     "metadata": {},
     "output_type": "display_data"
    },
    {
     "data": {
      "text/html": [
       "Find logs at: <code>.\\wandb\\run-20220408_142109-pd61ii91\\logs</code>"
      ],
      "text/plain": [
       "<IPython.core.display.HTML object>"
      ]
     },
     "metadata": {},
     "output_type": "display_data"
    },
    {
     "name": "stderr",
     "output_type": "stream",
     "text": [
      "\u001b[34m\u001b[1mwandb\u001b[0m: Agent Starting Run: 1fpzg35q with config:\n",
      "\u001b[34m\u001b[1mwandb\u001b[0m: \taugment_data: False\n",
      "\u001b[34m\u001b[1mwandb\u001b[0m: \tbatch_norm: False\n",
      "\u001b[34m\u001b[1mwandb\u001b[0m: \tdense_size: 100\n",
      "\u001b[34m\u001b[1mwandb\u001b[0m: \tdropout: 0\n",
      "\u001b[34m\u001b[1mwandb\u001b[0m: \tepochs: 25\n",
      "\u001b[34m\u001b[1mwandb\u001b[0m: \tlr: 0.005\n",
      "\u001b[34m\u001b[1mwandb\u001b[0m: \tno_of_filters_1: 4\n",
      "\u001b[34m\u001b[1mwandb\u001b[0m: \tno_of_filters_2: 8\n",
      "\u001b[34m\u001b[1mwandb\u001b[0m: \tno_of_filters_3: 16\n",
      "\u001b[34m\u001b[1mwandb\u001b[0m: \tno_of_filters_4: 24\n",
      "\u001b[34m\u001b[1mwandb\u001b[0m: \tno_of_filters_5: 64\n"
     ]
    },
    {
     "data": {
      "text/html": [
       "wandb version 0.12.13 is available!  To upgrade, please run:\n",
       " $ pip install wandb --upgrade"
      ],
      "text/plain": [
       "<IPython.core.display.HTML object>"
      ]
     },
     "metadata": {},
     "output_type": "display_data"
    },
    {
     "data": {
      "text/html": [
       "Tracking run with wandb version 0.12.12"
      ],
      "text/plain": [
       "<IPython.core.display.HTML object>"
      ]
     },
     "metadata": {},
     "output_type": "display_data"
    },
    {
     "data": {
      "text/html": [
       "Run data is saved locally in <code>C:\\Users\\Keyur\\Documents\\DL\\A2\\P1\\wandb\\run-20220408_151134-1fpzg35q</code>"
      ],
      "text/plain": [
       "<IPython.core.display.HTML object>"
      ]
     },
     "metadata": {},
     "output_type": "display_data"
    },
    {
     "data": {
      "text/html": [
       "Syncing run <strong><a href=\"https://wandb.ai/cs21m029_keyur_raval/DL_CS6910_Assignment2/runs/1fpzg35q\" target=\"_blank\">woven-sweep-17</a></strong> to <a href=\"https://wandb.ai/cs21m029_keyur_raval/DL_CS6910_Assignment2\" target=\"_blank\">Weights & Biases</a> (<a href=\"https://wandb.me/run\" target=\"_blank\">docs</a>)<br/>Sweep page:  <a href=\"https://wandb.ai/cs21m029_keyur_raval/DL_CS6910_Assignment2/sweeps/61cgxeqz\" target=\"_blank\">https://wandb.ai/cs21m029_keyur_raval/DL_CS6910_Assignment2/sweeps/61cgxeqz</a>"
      ],
      "text/plain": [
       "<IPython.core.display.HTML object>"
      ]
     },
     "metadata": {},
     "output_type": "display_data"
    },
    {
     "name": "stdout",
     "output_type": "stream",
     "text": [
      "Found 9000 images belonging to 10 classes.\n",
      "Found 999 images belonging to 10 classes.\n",
      "Found 2000 images belonging to 10 classes.\n",
      "Epoch 1/25\n",
      "180/180 [==============================] - 74s 409ms/step - loss: 2.3039 - accuracy: 0.1014 - val_loss: 2.3028 - val_accuracy: 0.1001\n",
      "Epoch 2/25\n",
      "180/180 [==============================] - 70s 390ms/step - loss: 2.3035 - accuracy: 0.0941 - val_loss: 2.3026 - val_accuracy: 0.1001\n",
      "Epoch 3/25\n",
      "180/180 [==============================] - 70s 389ms/step - loss: 2.3033 - accuracy: 0.0964 - val_loss: 2.3028 - val_accuracy: 0.1001\n",
      "Epoch 4/25\n",
      "180/180 [==============================] - 72s 400ms/step - loss: 2.3031 - accuracy: 0.0967 - val_loss: 2.3028 - val_accuracy: 0.1001\n",
      "Epoch 5/25\n",
      "180/180 [==============================] - 71s 396ms/step - loss: 2.3035 - accuracy: 0.0954 - val_loss: 2.3028 - val_accuracy: 0.1001\n",
      "Epoch 6/25\n",
      "180/180 [==============================] - 73s 406ms/step - loss: 2.3034 - accuracy: 0.0956 - val_loss: 2.3028 - val_accuracy: 0.1001\n",
      "Epoch 7/25\n",
      "180/180 [==============================] - 73s 406ms/step - loss: 2.3035 - accuracy: 0.0942 - val_loss: 2.3026 - val_accuracy: 0.1001\n",
      "Epoch 8/25\n",
      "180/180 [==============================] - 73s 403ms/step - loss: 2.3033 - accuracy: 0.0926 - val_loss: 2.3027 - val_accuracy: 0.1001\n",
      "Epoch 9/25\n",
      "180/180 [==============================] - 80s 446ms/step - loss: 2.3033 - accuracy: 0.0960 - val_loss: 2.3027 - val_accuracy: 0.1001\n",
      "Epoch 10/25\n",
      "180/180 [==============================] - 70s 389ms/step - loss: 2.3035 - accuracy: 0.0959 - val_loss: 2.3026 - val_accuracy: 0.1001\n",
      "Epoch 11/25\n",
      "180/180 [==============================] - 72s 401ms/step - loss: 2.3034 - accuracy: 0.0959 - val_loss: 2.3027 - val_accuracy: 0.1001\n",
      "Epoch 12/25\n",
      "180/180 [==============================] - 71s 396ms/step - loss: 2.3034 - accuracy: 0.0926 - val_loss: 2.3027 - val_accuracy: 0.1001\n",
      "Epoch 13/25\n",
      "180/180 [==============================] - 73s 408ms/step - loss: 2.3033 - accuracy: 0.0986 - val_loss: 2.3027 - val_accuracy: 0.1001\n",
      "Epoch 14/25\n",
      "180/180 [==============================] - 72s 398ms/step - loss: 2.3032 - accuracy: 0.0936 - val_loss: 2.3026 - val_accuracy: 0.1001\n",
      "Epoch 15/25\n",
      "180/180 [==============================] - 73s 404ms/step - loss: 2.3033 - accuracy: 0.0948 - val_loss: 2.3027 - val_accuracy: 0.1001\n",
      "Epoch 16/25\n",
      "180/180 [==============================] - 71s 392ms/step - loss: 2.3034 - accuracy: 0.0952 - val_loss: 2.3027 - val_accuracy: 0.1001\n",
      "Epoch 17/25\n",
      "180/180 [==============================] - 71s 394ms/step - loss: 2.3034 - accuracy: 0.0964 - val_loss: 2.3027 - val_accuracy: 0.1001\n",
      "Epoch 18/25\n",
      "180/180 [==============================] - 74s 409ms/step - loss: 2.3034 - accuracy: 0.0927 - val_loss: 2.3026 - val_accuracy: 0.1001\n",
      "Epoch 19/25\n",
      "180/180 [==============================] - 72s 400ms/step - loss: 2.3033 - accuracy: 0.0963 - val_loss: 2.3027 - val_accuracy: 0.1001\n",
      "Epoch 20/25\n",
      "180/180 [==============================] - 71s 395ms/step - loss: 2.3034 - accuracy: 0.0914 - val_loss: 2.3027 - val_accuracy: 0.1001\n",
      "Epoch 21/25\n",
      "180/180 [==============================] - 73s 404ms/step - loss: 2.3033 - accuracy: 0.0966 - val_loss: 2.3027 - val_accuracy: 0.1001\n",
      "Epoch 22/25\n",
      "180/180 [==============================] - 70s 390ms/step - loss: 2.3035 - accuracy: 0.0944 - val_loss: 2.3026 - val_accuracy: 0.1001\n",
      "Epoch 23/25\n",
      "180/180 [==============================] - 72s 402ms/step - loss: 2.3033 - accuracy: 0.0950 - val_loss: 2.3027 - val_accuracy: 0.1001\n",
      "Epoch 24/25\n",
      "180/180 [==============================] - 75s 415ms/step - loss: 2.3032 - accuracy: 0.1020 - val_loss: 2.3027 - val_accuracy: 0.1001\n",
      "Epoch 25/25\n",
      "180/180 [==============================] - 70s 390ms/step - loss: 2.3034 - accuracy: 0.0939 - val_loss: 2.3027 - val_accuracy: 0.1001\n",
      "\n"
     ]
    },
    {
     "data": {
      "text/html": [
       "Waiting for W&B process to finish... <strong style=\"color:green\">(success).</strong>"
      ],
      "text/plain": [
       "<IPython.core.display.HTML object>"
      ]
     },
     "metadata": {},
     "output_type": "display_data"
    },
    {
     "data": {
      "text/html": [
       "<style>\n",
       "    table.wandb td:nth-child(1) { padding: 0 10px; text-align: right }\n",
       "    .wandb-row { display: flex; flex-direction: row; flex-wrap: wrap; width: 100% }\n",
       "    .wandb-col { display: flex; flex-direction: column; flex-basis: 100%; flex: 1; padding: 10px; }\n",
       "    </style>\n",
       "<div class=\"wandb-row\"><div class=\"wandb-col\"><h3>Run history:</h3><br/><table class=\"wandb\"><tr><td>accuracy</td><td>█▃▄▄▄▄▃▂▄▄▄▂▆▂▃▄▄▂▄▁▄▃▃█▃</td></tr><tr><td>epoch</td><td>▁▁▂▂▂▂▃▃▃▄▄▄▅▅▅▅▆▆▆▇▇▇▇██</td></tr><tr><td>loss</td><td>█▄▃▁▅▃▄▃▃▄▃▄▃▂▃▃▃▄▃▄▃▄▃▁▃</td></tr><tr><td>val_accuracy</td><td>▁▁▁▁▁▁▁▁▁▁▁▁▁▁▁▁▁▁▁▁▁▁▁▁▁</td></tr><tr><td>val_loss</td><td>█▁█▆▅█▂▄▄▂▃▃▂▂▂▃▃▁▃▃▂▁▅▄▂</td></tr></table><br/></div><div class=\"wandb-col\"><h3>Run summary:</h3><br/><table class=\"wandb\"><tr><td>accuracy</td><td>0.09389</td></tr><tr><td>best_epoch</td><td>21</td></tr><tr><td>best_val_loss</td><td>2.30262</td></tr><tr><td>epoch</td><td>24</td></tr><tr><td>loss</td><td>2.30339</td></tr><tr><td>val_accuracy</td><td>0.1001</td></tr><tr><td>val_loss</td><td>2.30266</td></tr></table><br/></div></div>"
      ],
      "text/plain": [
       "<IPython.core.display.HTML object>"
      ]
     },
     "metadata": {},
     "output_type": "display_data"
    },
    {
     "data": {
      "text/html": [
       "Synced <strong style=\"color:#cdcd00\">woven-sweep-17</strong>: <a href=\"https://wandb.ai/cs21m029_keyur_raval/DL_CS6910_Assignment2/runs/1fpzg35q\" target=\"_blank\">https://wandb.ai/cs21m029_keyur_raval/DL_CS6910_Assignment2/runs/1fpzg35q</a><br/>Synced 6 W&B file(s), 1 media file(s), 0 artifact file(s) and 10 other file(s)"
      ],
      "text/plain": [
       "<IPython.core.display.HTML object>"
      ]
     },
     "metadata": {},
     "output_type": "display_data"
    },
    {
     "data": {
      "text/html": [
       "Find logs at: <code>.\\wandb\\run-20220408_151134-1fpzg35q\\logs</code>"
      ],
      "text/plain": [
       "<IPython.core.display.HTML object>"
      ]
     },
     "metadata": {},
     "output_type": "display_data"
    },
    {
     "name": "stderr",
     "output_type": "stream",
     "text": [
      "\u001b[34m\u001b[1mwandb\u001b[0m: Agent Starting Run: o15pxp18 with config:\n",
      "\u001b[34m\u001b[1mwandb\u001b[0m: \taugment_data: True\n",
      "\u001b[34m\u001b[1mwandb\u001b[0m: \tbatch_norm: True\n",
      "\u001b[34m\u001b[1mwandb\u001b[0m: \tdense_size: 128\n",
      "\u001b[34m\u001b[1mwandb\u001b[0m: \tdropout: 0.2\n",
      "\u001b[34m\u001b[1mwandb\u001b[0m: \tepochs: 25\n",
      "\u001b[34m\u001b[1mwandb\u001b[0m: \tlr: 0.005\n",
      "\u001b[34m\u001b[1mwandb\u001b[0m: \tno_of_filters_1: 8\n",
      "\u001b[34m\u001b[1mwandb\u001b[0m: \tno_of_filters_2: 16\n",
      "\u001b[34m\u001b[1mwandb\u001b[0m: \tno_of_filters_3: 24\n",
      "\u001b[34m\u001b[1mwandb\u001b[0m: \tno_of_filters_4: 32\n",
      "\u001b[34m\u001b[1mwandb\u001b[0m: \tno_of_filters_5: 32\n"
     ]
    },
    {
     "data": {
      "text/html": [
       "wandb version 0.12.13 is available!  To upgrade, please run:\n",
       " $ pip install wandb --upgrade"
      ],
      "text/plain": [
       "<IPython.core.display.HTML object>"
      ]
     },
     "metadata": {},
     "output_type": "display_data"
    },
    {
     "data": {
      "text/html": [
       "Tracking run with wandb version 0.12.12"
      ],
      "text/plain": [
       "<IPython.core.display.HTML object>"
      ]
     },
     "metadata": {},
     "output_type": "display_data"
    },
    {
     "data": {
      "text/html": [
       "Run data is saved locally in <code>C:\\Users\\Keyur\\Documents\\DL\\A2\\P1\\wandb\\run-20220408_154202-o15pxp18</code>"
      ],
      "text/plain": [
       "<IPython.core.display.HTML object>"
      ]
     },
     "metadata": {},
     "output_type": "display_data"
    },
    {
     "data": {
      "text/html": [
       "Syncing run <strong><a href=\"https://wandb.ai/cs21m029_keyur_raval/DL_CS6910_Assignment2/runs/o15pxp18\" target=\"_blank\">wise-sweep-18</a></strong> to <a href=\"https://wandb.ai/cs21m029_keyur_raval/DL_CS6910_Assignment2\" target=\"_blank\">Weights & Biases</a> (<a href=\"https://wandb.me/run\" target=\"_blank\">docs</a>)<br/>Sweep page:  <a href=\"https://wandb.ai/cs21m029_keyur_raval/DL_CS6910_Assignment2/sweeps/61cgxeqz\" target=\"_blank\">https://wandb.ai/cs21m029_keyur_raval/DL_CS6910_Assignment2/sweeps/61cgxeqz</a>"
      ],
      "text/plain": [
       "<IPython.core.display.HTML object>"
      ]
     },
     "metadata": {},
     "output_type": "display_data"
    },
    {
     "name": "stdout",
     "output_type": "stream",
     "text": [
      "Found 9000 images belonging to 10 classes.\n",
      "Found 999 images belonging to 10 classes.\n",
      "Found 2000 images belonging to 10 classes.\n",
      "Epoch 1/25\n",
      "180/180 [==============================] - 121s 670ms/step - loss: 2.4397 - accuracy: 0.1624 - val_loss: 2.6932 - val_accuracy: 0.1141\n",
      "Epoch 2/25\n",
      "180/180 [==============================] - 120s 667ms/step - loss: 2.1938 - accuracy: 0.1969 - val_loss: 2.1658 - val_accuracy: 0.2182\n",
      "Epoch 3/25\n",
      "180/180 [==============================] - 124s 687ms/step - loss: 2.1722 - accuracy: 0.2099 - val_loss: 2.1350 - val_accuracy: 0.2382\n",
      "Epoch 4/25\n",
      "180/180 [==============================] - 124s 686ms/step - loss: 2.1474 - accuracy: 0.2138 - val_loss: 2.1190 - val_accuracy: 0.2232\n",
      "Epoch 5/25\n",
      "180/180 [==============================] - 126s 698ms/step - loss: 2.1335 - accuracy: 0.2201 - val_loss: 2.1557 - val_accuracy: 0.2342\n",
      "Epoch 6/25\n",
      "180/180 [==============================] - 125s 692ms/step - loss: 2.1159 - accuracy: 0.2256 - val_loss: 2.1752 - val_accuracy: 0.2172\n",
      "Epoch 7/25\n",
      "180/180 [==============================] - 123s 682ms/step - loss: 2.1066 - accuracy: 0.2330 - val_loss: 2.1104 - val_accuracy: 0.2462\n",
      "Epoch 8/25\n",
      "180/180 [==============================] - 123s 684ms/step - loss: 2.0886 - accuracy: 0.2407 - val_loss: 2.0668 - val_accuracy: 0.2503\n",
      "Epoch 9/25\n",
      "180/180 [==============================] - 121s 674ms/step - loss: 2.0767 - accuracy: 0.2447 - val_loss: 2.1063 - val_accuracy: 0.2513\n",
      "Epoch 10/25\n",
      "180/180 [==============================] - 121s 672ms/step - loss: 2.0607 - accuracy: 0.2561 - val_loss: 2.1711 - val_accuracy: 0.2122\n",
      "Epoch 11/25\n",
      "180/180 [==============================] - 123s 683ms/step - loss: 2.0475 - accuracy: 0.2552 - val_loss: 2.0321 - val_accuracy: 0.2913\n",
      "Epoch 12/25\n",
      "180/180 [==============================] - 124s 689ms/step - loss: 2.0399 - accuracy: 0.2601 - val_loss: 2.0406 - val_accuracy: 0.2703\n",
      "Epoch 13/25\n",
      "180/180 [==============================] - 122s 680ms/step - loss: 2.0235 - accuracy: 0.2651 - val_loss: 2.0846 - val_accuracy: 0.2693\n",
      "Epoch 14/25\n",
      "180/180 [==============================] - 122s 680ms/step - loss: 2.0101 - accuracy: 0.2716 - val_loss: 2.1786 - val_accuracy: 0.2763\n",
      "Epoch 15/25\n",
      "180/180 [==============================] - 124s 689ms/step - loss: 2.0065 - accuracy: 0.2794 - val_loss: 2.0369 - val_accuracy: 0.2663\n",
      "Epoch 16/25\n",
      "180/180 [==============================] - 122s 678ms/step - loss: 1.9862 - accuracy: 0.2829 - val_loss: 1.9593 - val_accuracy: 0.2943\n",
      "Epoch 17/25\n",
      "180/180 [==============================] - 120s 669ms/step - loss: 1.9711 - accuracy: 0.2941 - val_loss: 1.9923 - val_accuracy: 0.2943\n",
      "Epoch 18/25\n",
      "180/180 [==============================] - 121s 675ms/step - loss: 1.9695 - accuracy: 0.2941 - val_loss: 2.0262 - val_accuracy: 0.2553\n",
      "Epoch 19/25\n",
      "180/180 [==============================] - 135s 747ms/step - loss: 1.9568 - accuracy: 0.2967 - val_loss: 1.9766 - val_accuracy: 0.2823\n",
      "Epoch 20/25\n",
      "180/180 [==============================] - 120s 667ms/step - loss: 1.9580 - accuracy: 0.2976 - val_loss: 2.0331 - val_accuracy: 0.2823\n",
      "Epoch 21/25\n",
      "180/180 [==============================] - 119s 662ms/step - loss: 1.9398 - accuracy: 0.3043 - val_loss: 1.9580 - val_accuracy: 0.2893\n",
      "Epoch 22/25\n",
      "180/180 [==============================] - 125s 696ms/step - loss: 1.9446 - accuracy: 0.3044 - val_loss: 1.9182 - val_accuracy: 0.3223\n",
      "Epoch 23/25\n",
      "180/180 [==============================] - 120s 668ms/step - loss: 1.9258 - accuracy: 0.3101 - val_loss: 1.9415 - val_accuracy: 0.3113\n",
      "Epoch 24/25\n",
      "180/180 [==============================] - 122s 679ms/step - loss: 1.9217 - accuracy: 0.3197 - val_loss: 1.9811 - val_accuracy: 0.2923\n",
      "Epoch 25/25\n",
      "180/180 [==============================] - 119s 659ms/step - loss: 1.9102 - accuracy: 0.3141 - val_loss: 1.9186 - val_accuracy: 0.3353\n",
      "\n"
     ]
    },
    {
     "data": {
      "text/html": [
       "Waiting for W&B process to finish... <strong style=\"color:green\">(success).</strong>"
      ],
      "text/plain": [
       "<IPython.core.display.HTML object>"
      ]
     },
     "metadata": {},
     "output_type": "display_data"
    },
    {
     "data": {
      "text/html": [
       "<style>\n",
       "    table.wandb td:nth-child(1) { padding: 0 10px; text-align: right }\n",
       "    .wandb-row { display: flex; flex-direction: row; flex-wrap: wrap; width: 100% }\n",
       "    .wandb-col { display: flex; flex-direction: column; flex-basis: 100%; flex: 1; padding: 10px; }\n",
       "    </style>\n",
       "<div class=\"wandb-row\"><div class=\"wandb-col\"><h3>Run history:</h3><br/><table class=\"wandb\"><tr><td>accuracy</td><td>▁▃▃▃▄▄▄▄▅▅▅▅▆▆▆▆▇▇▇▇▇▇███</td></tr><tr><td>epoch</td><td>▁▁▂▂▂▂▃▃▃▄▄▄▅▅▅▅▆▆▆▇▇▇▇██</td></tr><tr><td>loss</td><td>█▅▄▄▄▄▄▃▃▃▃▃▂▂▂▂▂▂▂▂▁▁▁▁▁</td></tr><tr><td>val_accuracy</td><td>▁▄▅▄▅▄▅▅▅▄▇▆▆▆▆▇▇▅▆▆▇█▇▇█</td></tr><tr><td>val_loss</td><td>█▃▃▃▃▃▃▂▃▃▂▂▃▃▂▁▂▂▂▂▁▁▁▂▁</td></tr></table><br/></div><div class=\"wandb-col\"><h3>Run summary:</h3><br/><table class=\"wandb\"><tr><td>accuracy</td><td>0.31411</td></tr><tr><td>best_epoch</td><td>21</td></tr><tr><td>best_val_loss</td><td>1.91816</td></tr><tr><td>epoch</td><td>24</td></tr><tr><td>loss</td><td>1.91016</td></tr><tr><td>val_accuracy</td><td>0.33534</td></tr><tr><td>val_loss</td><td>1.91861</td></tr></table><br/></div></div>"
      ],
      "text/plain": [
       "<IPython.core.display.HTML object>"
      ]
     },
     "metadata": {},
     "output_type": "display_data"
    },
    {
     "data": {
      "text/html": [
       "Synced <strong style=\"color:#cdcd00\">wise-sweep-18</strong>: <a href=\"https://wandb.ai/cs21m029_keyur_raval/DL_CS6910_Assignment2/runs/o15pxp18\" target=\"_blank\">https://wandb.ai/cs21m029_keyur_raval/DL_CS6910_Assignment2/runs/o15pxp18</a><br/>Synced 6 W&B file(s), 1 media file(s), 0 artifact file(s) and 10 other file(s)"
      ],
      "text/plain": [
       "<IPython.core.display.HTML object>"
      ]
     },
     "metadata": {},
     "output_type": "display_data"
    },
    {
     "data": {
      "text/html": [
       "Find logs at: <code>.\\wandb\\run-20220408_154202-o15pxp18\\logs</code>"
      ],
      "text/plain": [
       "<IPython.core.display.HTML object>"
      ]
     },
     "metadata": {},
     "output_type": "display_data"
    },
    {
     "name": "stderr",
     "output_type": "stream",
     "text": [
      "\u001b[34m\u001b[1mwandb\u001b[0m: Agent Starting Run: 3cs7fkmj with config:\n",
      "\u001b[34m\u001b[1mwandb\u001b[0m: \taugment_data: False\n",
      "\u001b[34m\u001b[1mwandb\u001b[0m: \tbatch_norm: True\n",
      "\u001b[34m\u001b[1mwandb\u001b[0m: \tdense_size: 100\n",
      "\u001b[34m\u001b[1mwandb\u001b[0m: \tdropout: 0.3\n",
      "\u001b[34m\u001b[1mwandb\u001b[0m: \tepochs: 25\n",
      "\u001b[34m\u001b[1mwandb\u001b[0m: \tlr: 0.005\n",
      "\u001b[34m\u001b[1mwandb\u001b[0m: \tno_of_filters_1: 8\n",
      "\u001b[34m\u001b[1mwandb\u001b[0m: \tno_of_filters_2: 16\n",
      "\u001b[34m\u001b[1mwandb\u001b[0m: \tno_of_filters_3: 16\n",
      "\u001b[34m\u001b[1mwandb\u001b[0m: \tno_of_filters_4: 32\n",
      "\u001b[34m\u001b[1mwandb\u001b[0m: \tno_of_filters_5: 64\n"
     ]
    },
    {
     "data": {
      "text/html": [
       "wandb version 0.12.13 is available!  To upgrade, please run:\n",
       " $ pip install wandb --upgrade"
      ],
      "text/plain": [
       "<IPython.core.display.HTML object>"
      ]
     },
     "metadata": {},
     "output_type": "display_data"
    },
    {
     "data": {
      "text/html": [
       "Tracking run with wandb version 0.12.12"
      ],
      "text/plain": [
       "<IPython.core.display.HTML object>"
      ]
     },
     "metadata": {},
     "output_type": "display_data"
    },
    {
     "data": {
      "text/html": [
       "Run data is saved locally in <code>C:\\Users\\Keyur\\Documents\\DL\\A2\\P1\\wandb\\run-20220408_163326-3cs7fkmj</code>"
      ],
      "text/plain": [
       "<IPython.core.display.HTML object>"
      ]
     },
     "metadata": {},
     "output_type": "display_data"
    },
    {
     "data": {
      "text/html": [
       "Syncing run <strong><a href=\"https://wandb.ai/cs21m029_keyur_raval/DL_CS6910_Assignment2/runs/3cs7fkmj\" target=\"_blank\">leafy-sweep-19</a></strong> to <a href=\"https://wandb.ai/cs21m029_keyur_raval/DL_CS6910_Assignment2\" target=\"_blank\">Weights & Biases</a> (<a href=\"https://wandb.me/run\" target=\"_blank\">docs</a>)<br/>Sweep page:  <a href=\"https://wandb.ai/cs21m029_keyur_raval/DL_CS6910_Assignment2/sweeps/61cgxeqz\" target=\"_blank\">https://wandb.ai/cs21m029_keyur_raval/DL_CS6910_Assignment2/sweeps/61cgxeqz</a>"
      ],
      "text/plain": [
       "<IPython.core.display.HTML object>"
      ]
     },
     "metadata": {},
     "output_type": "display_data"
    },
    {
     "name": "stdout",
     "output_type": "stream",
     "text": [
      "Found 9000 images belonging to 10 classes.\n",
      "Found 999 images belonging to 10 classes.\n",
      "Found 2000 images belonging to 10 classes.\n",
      "Epoch 1/25\n",
      "180/180 [==============================] - 72s 394ms/step - loss: 2.4952 - accuracy: 0.1233 - val_loss: 2.2963 - val_accuracy: 0.1181\n",
      "Epoch 2/25\n",
      "180/180 [==============================] - 70s 388ms/step - loss: 2.2855 - accuracy: 0.1293 - val_loss: 2.2630 - val_accuracy: 0.1552\n",
      "Epoch 3/25\n",
      "180/180 [==============================] - 73s 403ms/step - loss: 2.2607 - accuracy: 0.1501 - val_loss: 2.2800 - val_accuracy: 0.1251\n",
      "Epoch 4/25\n",
      "180/180 [==============================] - 71s 393ms/step - loss: 2.2482 - accuracy: 0.1570 - val_loss: 2.3046 - val_accuracy: 0.1782\n",
      "Epoch 5/25\n",
      "180/180 [==============================] - 73s 404ms/step - loss: 2.2285 - accuracy: 0.1691 - val_loss: 2.1992 - val_accuracy: 0.1752\n",
      "Epoch 6/25\n",
      "180/180 [==============================] - 70s 387ms/step - loss: 2.2091 - accuracy: 0.1773 - val_loss: 2.1903 - val_accuracy: 0.1722\n",
      "Epoch 7/25\n",
      "180/180 [==============================] - 69s 385ms/step - loss: 2.2207 - accuracy: 0.1661 - val_loss: 2.1975 - val_accuracy: 0.1742\n",
      "Epoch 8/25\n",
      "180/180 [==============================] - 74s 413ms/step - loss: 2.2100 - accuracy: 0.1748 - val_loss: 2.2091 - val_accuracy: 0.2092\n",
      "Epoch 9/25\n",
      "180/180 [==============================] - 76s 420ms/step - loss: 2.1960 - accuracy: 0.1800 - val_loss: 2.3193 - val_accuracy: 0.1111\n",
      "Epoch 10/25\n",
      "180/180 [==============================] - 76s 420ms/step - loss: 2.1855 - accuracy: 0.1864 - val_loss: 2.3503 - val_accuracy: 0.1732\n",
      "Epoch 11/25\n",
      "180/180 [==============================] - 70s 387ms/step - loss: 2.1741 - accuracy: 0.1842 - val_loss: 2.1554 - val_accuracy: 0.1942\n",
      "Epoch 12/25\n",
      "180/180 [==============================] - 68s 379ms/step - loss: 2.1728 - accuracy: 0.1933 - val_loss: 2.3019 - val_accuracy: 0.1982\n",
      "Epoch 13/25\n",
      "180/180 [==============================] - 66s 366ms/step - loss: 2.1599 - accuracy: 0.1984 - val_loss: 2.1284 - val_accuracy: 0.2252\n",
      "Epoch 14/25\n",
      "180/180 [==============================] - 66s 367ms/step - loss: 2.1428 - accuracy: 0.2089 - val_loss: 2.1863 - val_accuracy: 0.2242\n",
      "Epoch 15/25\n",
      "180/180 [==============================] - 66s 367ms/step - loss: 2.1313 - accuracy: 0.2191 - val_loss: 2.1041 - val_accuracy: 0.2412\n",
      "Epoch 16/25\n",
      "180/180 [==============================] - 71s 392ms/step - loss: 2.1147 - accuracy: 0.2224 - val_loss: 2.1343 - val_accuracy: 0.2162\n",
      "Epoch 17/25\n",
      "180/180 [==============================] - 69s 385ms/step - loss: 2.0846 - accuracy: 0.2386 - val_loss: 2.0802 - val_accuracy: 0.2513\n",
      "Epoch 18/25\n",
      "180/180 [==============================] - 66s 368ms/step - loss: 2.0596 - accuracy: 0.2544 - val_loss: 2.1915 - val_accuracy: 0.2232\n",
      "Epoch 19/25\n",
      "180/180 [==============================] - 66s 368ms/step - loss: 2.0165 - accuracy: 0.2699 - val_loss: 2.1511 - val_accuracy: 0.2703\n",
      "Epoch 20/25\n",
      "180/180 [==============================] - 67s 370ms/step - loss: 1.9869 - accuracy: 0.2877 - val_loss: 2.1251 - val_accuracy: 0.2633\n",
      "Epoch 21/25\n",
      "148/180 [=======================>......] - ETA: 10s - loss: 1.9402 - accuracy: 0.3042"
     ]
    }
   ],
   "source": [
    "wandb.agent(sweep_id, function=train, count = 100)"
   ]
  },
  {
   "cell_type": "code",
   "execution_count": null,
   "id": "57cc5e72-c7f9-4e48-a6af-c7d060e33207",
   "metadata": {},
   "outputs": [],
   "source": []
  }
 ],
 "metadata": {
  "kernelspec": {
   "display_name": "Python 3 (ipykernel)",
   "language": "python",
   "name": "python3"
  },
  "language_info": {
   "codemirror_mode": {
    "name": "ipython",
    "version": 3
   },
   "file_extension": ".py",
   "mimetype": "text/x-python",
   "name": "python",
   "nbconvert_exporter": "python",
   "pygments_lexer": "ipython3",
   "version": "3.9.7"
  }
 },
 "nbformat": 4,
 "nbformat_minor": 5
}
